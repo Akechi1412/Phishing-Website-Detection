{
  "cells": [
    {
      "cell_type": "markdown",
      "metadata": {
        "id": "view-in-github",
        "colab_type": "text"
      },
      "source": [
        "<a href=\"https://colab.research.google.com/github/Akechi1412/Phishing-Website-Detection/blob/main/model_training/dataset_builder.ipynb\" target=\"_parent\"><img src=\"https://colab.research.google.com/assets/colab-badge.svg\" alt=\"Open In Colab\"/></a>"
      ]
    },
    {
      "cell_type": "markdown",
      "source": [
        "# **Build phishing dataset and legitimate dataset from raw data**"
      ],
      "metadata": {
        "id": "3ZygSflcUIMl"
      }
    },
    {
      "cell_type": "markdown",
      "source": [
        "## **Connect to Drive and Github responsitory**"
      ],
      "metadata": {
        "id": "UdYFINTbUwSt"
      }
    },
    {
      "cell_type": "code",
      "source": [
        "from google.colab import drive\n",
        "drive.mount('/content/drive')"
      ],
      "metadata": {
        "colab": {
          "base_uri": "https://localhost:8080/"
        },
        "id": "gx1fktAVMy1U",
        "outputId": "7ed9e658-c10e-4ee5-c3cb-530ad452cc78"
      },
      "execution_count": 7,
      "outputs": [
        {
          "output_type": "stream",
          "name": "stdout",
          "text": [
            "Drive already mounted at /content/drive; to attempt to forcibly remount, call drive.mount(\"/content/drive\", force_remount=True).\n"
          ]
        }
      ]
    },
    {
      "cell_type": "code",
      "source": [
        "%cd /content/drive/MyDrive/Github\n",
        "# !git config --global core.compression 0\n",
        "# !rm -rf Phishing-Website-Detection\n",
        "# !git clone --depth 1 https://github.com/Akechi1412/Phishing-Website-Detection.git\n",
        "%cd Phishing-Website-Detection/model_training\n",
        "!git pull origin main"
      ],
      "metadata": {
        "colab": {
          "base_uri": "https://localhost:8080/"
        },
        "id": "azxYX0VrM87H",
        "outputId": "6b8c799c-5db9-4c84-87f8-851547720062"
      },
      "execution_count": 8,
      "outputs": [
        {
          "output_type": "stream",
          "name": "stdout",
          "text": [
            "/content/drive/MyDrive/Github\n",
            "Cloning into 'Phishing-Website-Detection'...\n",
            "remote: Enumerating objects: 10, done.\u001b[K\n",
            "remote: Counting objects: 100% (10/10), done.\u001b[K\n",
            "remote: Compressing objects: 100% (9/9), done.\u001b[K\n",
            "remote: Total 10 (delta 0), reused 8 (delta 0), pack-reused 0 (from 0)\u001b[K\n",
            "Receiving objects: 100% (10/10), 12.15 MiB | 11.85 MiB/s, done.\n",
            "/content/drive/MyDrive/Github/Phishing-Website-Detection/model_training\n"
          ]
        }
      ]
    },
    {
      "cell_type": "markdown",
      "source": [
        "## **Import libraries**\n",
        "\n"
      ],
      "metadata": {
        "id": "j8gSfQUPT1lH"
      }
    },
    {
      "cell_type": "code",
      "source": [
        "import pandas as pd\n",
        "from utils import build_dataset\n",
        "import asyncio"
      ],
      "metadata": {
        "id": "IGsSfi--RPP2"
      },
      "execution_count": 9,
      "outputs": []
    },
    {
      "cell_type": "markdown",
      "source": [
        "## **Buid phishing dataset**"
      ],
      "metadata": {
        "id": "wAKP1j42VXFY"
      }
    },
    {
      "cell_type": "code",
      "source": [
        "df = pd.read_csv('data/verified_online.csv')\n",
        "phishing_urls = df['url'].values\n",
        "filename = 'data/phishing_data.parquet'\n",
        "\n",
        "loop = asyncio.get_running_loop()\n",
        "await loop.create_task(build_dataset(url_list=phishing_urls,\n",
        "                                     batch_size=1000,\n",
        "                                     size=50000,\n",
        "                                     filename=filename))"
      ],
      "metadata": {
        "colab": {
          "base_uri": "https://localhost:8080/"
        },
        "id": "Akh1EaOVVmtN",
        "outputId": "2006a753-57e8-4256-c029-fb669e21abd5"
      },
      "execution_count": 10,
      "outputs": [
        {
          "output_type": "stream",
          "name": "stdout",
          "text": [
            "Processed batch 1: Total processed: 1000, Accessible URLs: 274\n",
            "Processed batch 2: Total processed: 2000, Accessible URLs: 456\n",
            "Processed batch 3: Total processed: 3000, Accessible URLs: 573\n",
            "Processed batch 4: Total processed: 4000, Accessible URLs: 1086\n",
            "Processed batch 5: Total processed: 5000, Accessible URLs: 1824\n",
            "Processed batch 6: Total processed: 6000, Accessible URLs: 2672\n",
            "Processed batch 7: Total processed: 7000, Accessible URLs: 3407\n",
            "Processed batch 8: Total processed: 8000, Accessible URLs: 3516\n",
            "Processed batch 9: Total processed: 9000, Accessible URLs: 3718\n",
            "Processed batch 10: Total processed: 10000, Accessible URLs: 3915\n",
            "Processed batch 11: Total processed: 11000, Accessible URLs: 4456\n",
            "Processed batch 12: Total processed: 12000, Accessible URLs: 4803\n",
            "Processed batch 13: Total processed: 13000, Accessible URLs: 5442\n",
            "Processed batch 14: Total processed: 14000, Accessible URLs: 5998\n",
            "Processed batch 15: Total processed: 15000, Accessible URLs: 6527\n",
            "Processed batch 16: Total processed: 16000, Accessible URLs: 7195\n",
            "Processed batch 17: Total processed: 17000, Accessible URLs: 7837\n",
            "Processed batch 18: Total processed: 18000, Accessible URLs: 8301\n",
            "Processed batch 19: Total processed: 19000, Accessible URLs: 8751\n",
            "Processed batch 20: Total processed: 20000, Accessible URLs: 9202\n",
            "Processed batch 21: Total processed: 21000, Accessible URLs: 9866\n",
            "Processed batch 22: Total processed: 22000, Accessible URLs: 10215\n",
            "Processed batch 23: Total processed: 23000, Accessible URLs: 10545\n",
            "Processed batch 24: Total processed: 24000, Accessible URLs: 10952\n",
            "Processed batch 25: Total processed: 25000, Accessible URLs: 11256\n",
            "Processed batch 26: Total processed: 26000, Accessible URLs: 11669\n"
          ]
        },
        {
          "output_type": "stream",
          "name": "stderr",
          "text": [
            "WARNING:aiohttp.client:Can not load response cookies: Illegal key '/6e4n9n'\n"
          ]
        },
        {
          "output_type": "stream",
          "name": "stdout",
          "text": [
            "Processed batch 27: Total processed: 27000, Accessible URLs: 12041\n",
            "Processed batch 28: Total processed: 28000, Accessible URLs: 12286\n",
            "Processed batch 29: Total processed: 29000, Accessible URLs: 12514\n",
            "Processed batch 30: Total processed: 30000, Accessible URLs: 12694\n",
            "Processed batch 31: Total processed: 31000, Accessible URLs: 13030\n",
            "Processed batch 32: Total processed: 32000, Accessible URLs: 13407\n",
            "Processed batch 33: Total processed: 33000, Accessible URLs: 13717\n",
            "Processed batch 34: Total processed: 34000, Accessible URLs: 14137\n"
          ]
        },
        {
          "output_type": "stream",
          "name": "stderr",
          "text": [
            "WARNING:aiohttp.client:Can not load response cookies: Illegal key '/6c69vu'\n"
          ]
        },
        {
          "output_type": "stream",
          "name": "stdout",
          "text": [
            "Processed batch 35: Total processed: 35000, Accessible URLs: 14847\n",
            "Processed batch 36: Total processed: 36000, Accessible URLs: 15337\n",
            "Processed batch 37: Total processed: 37000, Accessible URLs: 15992\n",
            "Processed batch 38: Total processed: 38000, Accessible URLs: 16574\n",
            "Processed batch 39: Total processed: 39000, Accessible URLs: 17166\n",
            "Processed batch 40: Total processed: 40000, Accessible URLs: 17688\n",
            "Processed batch 41: Total processed: 41000, Accessible URLs: 18256\n",
            "Processed batch 42: Total processed: 42000, Accessible URLs: 18838\n",
            "Processed batch 43: Total processed: 43000, Accessible URLs: 19496\n",
            "Processed batch 44: Total processed: 44000, Accessible URLs: 20117\n",
            "Processed batch 45: Total processed: 45000, Accessible URLs: 20706\n",
            "Processed batch 46: Total processed: 46000, Accessible URLs: 21341\n",
            "Processed batch 47: Total processed: 47000, Accessible URLs: 22123\n",
            "Processed batch 48: Total processed: 48000, Accessible URLs: 22868\n",
            "Processed batch 49: Total processed: 49000, Accessible URLs: 23666\n",
            "Processed batch 50: Total processed: 50000, Accessible URLs: 24419\n",
            "Processed batch 51: Total processed: 51000, Accessible URLs: 25112\n",
            "Processed batch 52: Total processed: 52000, Accessible URLs: 25843\n",
            "Processed batch 53: Total processed: 53000, Accessible URLs: 26531\n",
            "Processed batch 54: Total processed: 54000, Accessible URLs: 26998\n",
            "Processed batch 55: Total processed: 55000, Accessible URLs: 27436\n",
            "Processed batch 56: Total processed: 56000, Accessible URLs: 27861\n",
            "Processed batch 57: Total processed: 57000, Accessible URLs: 28343\n",
            "Processed batch 58: Total processed: 58000, Accessible URLs: 28938\n",
            "Processed batch 59: Total processed: 59000, Accessible URLs: 29463\n",
            "Processed batch 60: Total processed: 60000, Accessible URLs: 29907\n",
            "Processed batch 61: Total processed: 61000, Accessible URLs: 30497\n",
            "Processed batch 62: Total processed: 62000, Accessible URLs: 31041\n",
            "Processed batch 63: Total processed: 63000, Accessible URLs: 31508\n",
            "Processed batch 64: Total processed: 64000, Accessible URLs: 31973\n",
            "Processed batch 65: Total processed: 65000, Accessible URLs: 32478\n",
            "Processed batch 66: Total processed: 66000, Accessible URLs: 32871\n",
            "Processed batch 67: Total processed: 67000, Accessible URLs: 33417\n",
            "Processed batch 68: Total processed: 68000, Accessible URLs: 33892\n",
            "Processed batch 69: Total processed: 69000, Accessible URLs: 34367\n",
            "Processed batch 70: Total processed: 70000, Accessible URLs: 34990\n",
            "Processed batch 71: Total processed: 71000, Accessible URLs: 35693\n",
            "Processed batch 72: Total processed: 72000, Accessible URLs: 36406\n",
            "Processed batch 73: Total processed: 73000, Accessible URLs: 37195\n",
            "Processed batch 74: Total processed: 74000, Accessible URLs: 38023\n",
            "Processed batch 75: Total processed: 75000, Accessible URLs: 38765\n",
            "Processed batch 76: Total processed: 76000, Accessible URLs: 39531\n",
            "Processed batch 77: Total processed: 77000, Accessible URLs: 40145\n",
            "Processed batch 78: Total processed: 78000, Accessible URLs: 40823\n",
            "Processed batch 79: Total processed: 79000, Accessible URLs: 41500\n",
            "Processed batch 80: Total processed: 80000, Accessible URLs: 42225\n"
          ]
        },
        {
          "output_type": "stream",
          "name": "stderr",
          "text": [
            "WARNING:aiohttp.client:Can not load response cookies: Illegal key '/58jcmb'\n"
          ]
        },
        {
          "output_type": "stream",
          "name": "stdout",
          "text": [
            "Processed batch 81: Total processed: 81000, Accessible URLs: 42600\n",
            "Processed batch 82: Total processed: 82000, Accessible URLs: 43146\n",
            "Processed batch 83: Total processed: 83000, Accessible URLs: 43830\n",
            "Processed batch 84: Total processed: 84000, Accessible URLs: 44516\n",
            "Processed batch 85: Total processed: 85000, Accessible URLs: 45201\n",
            "Processed batch 86: Total processed: 86000, Accessible URLs: 45905\n"
          ]
        },
        {
          "output_type": "stream",
          "name": "stderr",
          "text": [
            "WARNING:aiohttp.client:Can not load response cookies: Illegal key '/4yqhse'\n",
            "WARNING:aiohttp.client:Can not load response cookies: Illegal key '/4xfz5h'\n",
            "WARNING:aiohttp.client:Can not load response cookies: Illegal key '/4ym8w9'\n",
            "WARNING:aiohttp.client:Can not load response cookies: Illegal key '/4y8g7r'\n",
            "WARNING:aiohttp.client:Can not load response cookies: Illegal key '/4y8cbn'\n",
            "WARNING:aiohttp.client:Can not load response cookies: Illegal key '/4ycyfp'\n"
          ]
        },
        {
          "output_type": "stream",
          "name": "stdout",
          "text": [
            "Processed batch 87: Total processed: 87000, Accessible URLs: 46577\n",
            "Processed batch 88: Total processed: 88000, Accessible URLs: 47447\n",
            "Processed batch 89: Total processed: 89000, Accessible URLs: 48213\n",
            "Processed batch 90: Total processed: 90000, Accessible URLs: 49051\n",
            "Processed batch 91: Total processed: 91000, Accessible URLs: 49967\n",
            "Processed batch 92: Total processed: 92000, Accessible URLs: 50896\n",
            "Build completed. Total URLs processed: 92000, Accessible URLs: 50896\n"
          ]
        }
      ]
    },
    {
      "cell_type": "code",
      "source": [
        "df = pd.read_parquet(filename)\n",
        "print(df)"
      ],
      "metadata": {
        "id": "OoZY2HWs71-J",
        "outputId": "827c5a93-533c-4d09-8ab6-9bd19246645a",
        "colab": {
          "base_uri": "https://localhost:8080/"
        }
      },
      "execution_count": 11,
      "outputs": [
        {
          "output_type": "stream",
          "name": "stdout",
          "text": [
            "                                                     url  \\\n",
            "0      https://membership.garenaa.id.vn/css/tunnel.as...   \n",
            "1      https://fc-member-garena.vn/bzJbdJC8iINDZmkHSu...   \n",
            "2                              https://www.mediapart.fr/   \n",
            "3                              https://www.mediapart.fr/   \n",
            "4                            https://phlatv8.weebly.com/   \n",
            "...                                                  ...   \n",
            "50891     https://comusoportecam-produccion.appspot.com/   \n",
            "50892                        https://ovhh-19f4a.web.app/   \n",
            "50893                           https://juliegrteam.com/   \n",
            "50894  https://flyairprestige.com/cgi-sys/suspendedpa...   \n",
            "50895  http://flyairprestige.com/cgi-sys/suspendedpag...   \n",
            "\n",
            "                                                    html  \n",
            "0      <!DOCTYPE html>\\r\\n<html lang=\"\">\\r\\n<head>\\r\\...  \n",
            "1      <html lang=\"en\" style=\"font-size: 3.30769px;\">...  \n",
            "2      <!doctype html>\\n<html lang=\"fr\" class=\"no-js\"...  \n",
            "3      <!doctype html>\\n<html lang=\"fr\" class=\"no-js\"...  \n",
            "4      <!DOCTYPE html>\\n<html lang=\"en\">\\n\\t<head>\\n\\...  \n",
            "...                                                  ...  \n",
            "50891  <!doctype html>\\n<html lang=\"en\">\\n\\n<head>\\n ...  \n",
            "50892  <!DOCTYPE html>\\n<html>\\n  <head>\\n    <meta c...  \n",
            "50893  <!DOCTYPE html>\\n<html lang=\"en-US\">\\n<head>\\n...  \n",
            "50894  <!DOCTYPE html>\\n<html>\\n    <head>\\n    <meta...  \n",
            "50895  <!DOCTYPE html>\\n<html>\\n    <head>\\n    <meta...  \n",
            "\n",
            "[50896 rows x 2 columns]\n"
          ]
        }
      ]
    },
    {
      "cell_type": "markdown",
      "source": [
        "## **Buid legitimate dataset**"
      ],
      "metadata": {
        "id": "Pt7BCndL9_2z"
      }
    },
    {
      "cell_type": "code",
      "source": [
        "df = pd.read_csv('data/top-1m.csv', nrows=100000)\n",
        "legitimate_urls = df.iloc[:, 1]\n",
        "filename = 'data/legitimate_data.parquet'\n",
        "\n",
        "loop = asyncio.get_running_loop()\n",
        "await loop.create_task(build_dataset(url_list=legitimate_urls,\n",
        "                                     batch_size=1000,\n",
        "                                     size=50000,\n",
        "                                     filename=filename))"
      ],
      "metadata": {
        "colab": {
          "base_uri": "https://localhost:8080/"
        },
        "id": "PFG6J4OUdydj",
        "outputId": "09d2636f-e6f8-4366-b321-fa927273302d"
      },
      "execution_count": 12,
      "outputs": [
        {
          "output_type": "stream",
          "name": "stdout",
          "text": [
            "Processed batch 1: Total processed: 1000, Accessible URLs: 590\n",
            "Processed batch 2: Total processed: 2000, Accessible URLs: 1235\n",
            "Processed batch 3: Total processed: 3000, Accessible URLs: 1826\n"
          ]
        },
        {
          "output_type": "stream",
          "name": "stderr",
          "text": [
            "WARNING:aiohttp.client:Can not load response cookies: Illegal key 'BIGipServerCiL/TCodZGY0unyxXDEFVA'\n"
          ]
        },
        {
          "output_type": "stream",
          "name": "stdout",
          "text": [
            "Processed batch 4: Total processed: 4000, Accessible URLs: 2468\n",
            "Processed batch 5: Total processed: 5000, Accessible URLs: 3074\n",
            "Processed batch 6: Total processed: 6000, Accessible URLs: 3689\n",
            "Processed batch 7: Total processed: 7000, Accessible URLs: 4348\n",
            "Processed batch 8: Total processed: 8000, Accessible URLs: 4979\n",
            "Processed batch 9: Total processed: 9000, Accessible URLs: 5642\n"
          ]
        },
        {
          "output_type": "stream",
          "name": "stderr",
          "text": [
            "WARNING:aiohttp.client:Can not load response cookies: Illegal key '@s_page'\n",
            "WARNING:aiohttp.client:Can not load response cookies: Illegal key '@s_cond'\n",
            "WARNING:aiohttp.client:Can not load response cookies: Illegal key '@s_order'\n",
            "WARNING:aiohttp.client:Can not load response cookies: Illegal key '@pagescale'\n",
            "WARNING:aiohttp.client:Can not load response cookies: Illegal key '@s_code'\n"
          ]
        },
        {
          "output_type": "stream",
          "name": "stdout",
          "text": [
            "Processed batch 10: Total processed: 10000, Accessible URLs: 6312\n",
            "Processed batch 11: Total processed: 11000, Accessible URLs: 6890\n",
            "Processed batch 12: Total processed: 12000, Accessible URLs: 7491\n",
            "Processed batch 13: Total processed: 13000, Accessible URLs: 8071\n",
            "Processed batch 14: Total processed: 14000, Accessible URLs: 8659\n",
            "Processed batch 15: Total processed: 15000, Accessible URLs: 9225\n",
            "Processed batch 16: Total processed: 16000, Accessible URLs: 9834\n",
            "Processed batch 17: Total processed: 17000, Accessible URLs: 10474\n",
            "Processed batch 18: Total processed: 18000, Accessible URLs: 11080\n",
            "Processed batch 19: Total processed: 19000, Accessible URLs: 11725\n",
            "Processed batch 20: Total processed: 20000, Accessible URLs: 12367\n",
            "Processed batch 21: Total processed: 21000, Accessible URLs: 13019\n"
          ]
        },
        {
          "output_type": "stream",
          "name": "stderr",
          "text": [
            "WARNING:aiohttp.client:Can not load response cookies: Illegal key 'BIGipServer+HQGRUCztTW2+H+NBb/Uvw'\n"
          ]
        },
        {
          "output_type": "stream",
          "name": "stdout",
          "text": [
            "Processed batch 22: Total processed: 22000, Accessible URLs: 13681\n",
            "Processed batch 23: Total processed: 23000, Accessible URLs: 14313\n",
            "Processed batch 24: Total processed: 24000, Accessible URLs: 14940\n",
            "Processed batch 25: Total processed: 25000, Accessible URLs: 15562\n",
            "Processed batch 26: Total processed: 26000, Accessible URLs: 16161\n",
            "Processed batch 27: Total processed: 27000, Accessible URLs: 16797\n",
            "Processed batch 28: Total processed: 28000, Accessible URLs: 17388\n",
            "Processed batch 29: Total processed: 29000, Accessible URLs: 18022\n",
            "Processed batch 30: Total processed: 30000, Accessible URLs: 18630\n",
            "Processed batch 31: Total processed: 31000, Accessible URLs: 19220\n",
            "Processed batch 32: Total processed: 32000, Accessible URLs: 19845\n",
            "Processed batch 33: Total processed: 33000, Accessible URLs: 20471\n",
            "Processed batch 34: Total processed: 34000, Accessible URLs: 21091\n",
            "Processed batch 35: Total processed: 35000, Accessible URLs: 21719\n",
            "Processed batch 36: Total processed: 36000, Accessible URLs: 22345\n",
            "Processed batch 37: Total processed: 37000, Accessible URLs: 22969\n",
            "Processed batch 38: Total processed: 38000, Accessible URLs: 23629\n",
            "Processed batch 39: Total processed: 39000, Accessible URLs: 24263\n",
            "Processed batch 40: Total processed: 40000, Accessible URLs: 24922\n",
            "Processed batch 41: Total processed: 41000, Accessible URLs: 25556\n",
            "Processed batch 42: Total processed: 42000, Accessible URLs: 26165\n",
            "Processed batch 43: Total processed: 43000, Accessible URLs: 26801\n",
            "Processed batch 44: Total processed: 44000, Accessible URLs: 27449\n",
            "Processed batch 45: Total processed: 45000, Accessible URLs: 28106\n",
            "Processed batch 46: Total processed: 46000, Accessible URLs: 28766\n",
            "Processed batch 47: Total processed: 47000, Accessible URLs: 29417\n",
            "Processed batch 48: Total processed: 48000, Accessible URLs: 30088\n",
            "Processed batch 49: Total processed: 49000, Accessible URLs: 30741\n"
          ]
        },
        {
          "output_type": "stream",
          "name": "stderr",
          "text": [
            "WARNING:aiohttp.client:Can not load response cookies: Illegal key '@CU/TrackUuid'\n"
          ]
        },
        {
          "output_type": "stream",
          "name": "stdout",
          "text": [
            "Processed batch 50: Total processed: 50000, Accessible URLs: 31381\n",
            "Processed batch 51: Total processed: 51000, Accessible URLs: 32022\n",
            "Processed batch 52: Total processed: 52000, Accessible URLs: 32668\n",
            "Processed batch 53: Total processed: 53000, Accessible URLs: 33338\n",
            "Processed batch 54: Total processed: 54000, Accessible URLs: 34001\n",
            "Processed batch 55: Total processed: 55000, Accessible URLs: 34680\n"
          ]
        },
        {
          "output_type": "stream",
          "name": "stderr",
          "text": [
            "WARNING:aiohttp.client:Can not load response cookies: Illegal key 'BIGipServerw/i2e3Auxpdz+XjPr5u48w'\n"
          ]
        },
        {
          "output_type": "stream",
          "name": "stdout",
          "text": [
            "Processed batch 56: Total processed: 56000, Accessible URLs: 35345\n",
            "Processed batch 57: Total processed: 57000, Accessible URLs: 35994\n"
          ]
        },
        {
          "output_type": "stream",
          "name": "stderr",
          "text": [
            "WARNING:aiohttp.client:Can not load response cookies: Illegal key 'BIGipServer8lIEZSjlbXikW/dQiJM3jw'\n",
            "WARNING:aiohttp.client:Can not load response cookies: Illegal key 'BIGipServere0JrY/YfXAJWVthvbP9LZw'\n"
          ]
        },
        {
          "output_type": "stream",
          "name": "stdout",
          "text": [
            "Processed batch 58: Total processed: 58000, Accessible URLs: 36646\n",
            "Processed batch 59: Total processed: 59000, Accessible URLs: 37275\n",
            "Processed batch 60: Total processed: 60000, Accessible URLs: 37949\n"
          ]
        },
        {
          "output_type": "stream",
          "name": "stderr",
          "text": [
            "WARNING:aiohttp.client:Can not load response cookies: Illegal key '@@'\n",
            "WARNING:aiohttp.client:Can not load response cookies: Illegal key '@@'\n",
            "WARNING:aiohttp.client:Can not load response cookies: Illegal key '@@'\n",
            "WARNING:aiohttp.client:Can not load response cookies: Illegal key '@@'\n",
            "WARNING:aiohttp.client:Can not load response cookies: Illegal key '@@'\n",
            "WARNING:aiohttp.client:Can not load response cookies: Illegal key '@@'\n",
            "WARNING:aiohttp.client:Can not load response cookies: Illegal key '@@'\n",
            "WARNING:aiohttp.client:Can not load response cookies: Illegal key '@@'\n"
          ]
        },
        {
          "output_type": "stream",
          "name": "stdout",
          "text": [
            "Processed batch 61: Total processed: 61000, Accessible URLs: 38595\n",
            "Processed batch 62: Total processed: 62000, Accessible URLs: 39269\n",
            "Processed batch 63: Total processed: 63000, Accessible URLs: 39945\n"
          ]
        },
        {
          "output_type": "stream",
          "name": "stderr",
          "text": [
            "WARNING:aiohttp.client:Can not load response cookies: Illegal key '2024/10/10/0/uu_in'\n"
          ]
        },
        {
          "output_type": "stream",
          "name": "stdout",
          "text": [
            "Processed batch 64: Total processed: 64000, Accessible URLs: 40596\n"
          ]
        },
        {
          "output_type": "stream",
          "name": "stderr",
          "text": [
            "WARNING:aiohttp.client:Can not load response cookies: Illegal key 'BIGipServert3pRHh/fVTBRw3HouCinqw'\n"
          ]
        },
        {
          "output_type": "stream",
          "name": "stdout",
          "text": [
            "Processed batch 65: Total processed: 65000, Accessible URLs: 41237\n"
          ]
        },
        {
          "output_type": "stream",
          "name": "stderr",
          "text": [
            "WARNING:aiohttp.client:Can not load response cookies: Illegal key '@FC:Ecom:APIS_BASE_URL'\n"
          ]
        },
        {
          "output_type": "stream",
          "name": "stdout",
          "text": [
            "Processed batch 66: Total processed: 66000, Accessible URLs: 41900\n",
            "Processed batch 67: Total processed: 67000, Accessible URLs: 42538\n",
            "Processed batch 68: Total processed: 68000, Accessible URLs: 43222\n",
            "Processed batch 69: Total processed: 69000, Accessible URLs: 43894\n",
            "Processed batch 70: Total processed: 70000, Accessible URLs: 44565\n",
            "Processed batch 71: Total processed: 71000, Accessible URLs: 45207\n",
            "Processed batch 72: Total processed: 72000, Accessible URLs: 45868\n",
            "Processed batch 73: Total processed: 73000, Accessible URLs: 46526\n",
            "Processed batch 74: Total processed: 74000, Accessible URLs: 47204\n",
            "Processed batch 75: Total processed: 75000, Accessible URLs: 47877\n",
            "Processed batch 76: Total processed: 76000, Accessible URLs: 48572\n",
            "Processed batch 77: Total processed: 77000, Accessible URLs: 49250\n",
            "Processed batch 78: Total processed: 78000, Accessible URLs: 49958\n",
            "Processed batch 79: Total processed: 79000, Accessible URLs: 50611\n",
            "Build completed. Total URLs processed: 79000, Accessible URLs: 50611\n"
          ]
        }
      ]
    },
    {
      "cell_type": "code",
      "source": [
        "df = pd.read_parquet(filename)\n",
        "print(df)"
      ],
      "metadata": {
        "id": "_m7ySBO78QXr",
        "outputId": "00daf2ff-1d67-4a82-ac44-521d57ba8fc9",
        "colab": {
          "base_uri": "https://localhost:8080/"
        }
      },
      "execution_count": 13,
      "outputs": [
        {
          "output_type": "stream",
          "name": "stdout",
          "text": [
            "                                                     url  \\\n",
            "0                                https://aws.amazon.com/   \n",
            "1                       https://www.microsoft.com/en-us/   \n",
            "2      https://www.facebook.com/login/?next=https://w...   \n",
            "3                                 https://www.apple.com/   \n",
            "4                               https://www.youtube.com/   \n",
            "...                                                  ...   \n",
            "50606                                   http://meebo.com   \n",
            "50607                               https://www.csfd.sk/   \n",
            "50608                               https://fucolle.com/   \n",
            "50609                        https://horoscoponegro.com/   \n",
            "50610                       https://www.juegaenlinea.net   \n",
            "\n",
            "                                                    html  \n",
            "0      <!doctype html>\\n<html class=\"no-js aws-lng-en...  \n",
            "1      <!DOCTYPE HTML>\\n\\n<html lang=\"en-US\" dir=\"ltr...  \n",
            "2      <!DOCTYPE html>\\n<html lang=\"en\" id=\"facebook\"...  \n",
            "3      \\n\\n\\n\\t\\n\\n\\n\\t\\n\\n\\t\\n\\n\\n\\t\\n\\n\\n\\t\\n\\n\\t\\n...  \n",
            "4      <!DOCTYPE html><html style=\"font-size: 10px;fo...  \n",
            "...                                                  ...  \n",
            "50606  <!DOCTYPE html>\\n<html lang=\"en\">\\n  <head>\\n ...  \n",
            "50607  <!DOCTYPE html>\\n<html lang=\"sk-SK\">\\n\\t<head>...  \n",
            "50608  <!DOCTYPE html>\\n<html lang=\"ja\">\\n<head>\\n\\t<...  \n",
            "50609  <!DOCTYPE html>\\n<html lang=\"es\">\\n<head><meta...  \n",
            "50610  <!doctype html>\\n<html lang=\"es\" class=\"\">\\n\\n...  \n",
            "\n",
            "[50611 rows x 2 columns]\n"
          ]
        }
      ]
    }
  ],
  "metadata": {
    "language_info": {
      "name": "python"
    },
    "colab": {
      "provenance": [],
      "machine_shape": "hm",
      "include_colab_link": true
    },
    "kernelspec": {
      "name": "python3",
      "display_name": "Python 3"
    }
  },
  "nbformat": 4,
  "nbformat_minor": 0
}
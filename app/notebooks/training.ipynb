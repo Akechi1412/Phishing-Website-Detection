{
  "nbformat": 4,
  "nbformat_minor": 0,
  "metadata": {
    "colab": {
      "provenance": [],
      "machine_shape": "hm",
      "gpuType": "V28",
      "include_colab_link": true
    },
    "kernelspec": {
      "name": "python3",
      "display_name": "Python 3"
    },
    "language_info": {
      "name": "python"
    },
    "accelerator": "TPU"
  },
  "cells": [
    {
      "cell_type": "markdown",
      "metadata": {
        "id": "view-in-github",
        "colab_type": "text"
      },
      "source": [
        "<a href=\"https://colab.research.google.com/github/Akechi1412/Phishing-Website-Detection/blob/main/app/notebooks/training.ipynb\" target=\"_parent\"><img src=\"https://colab.research.google.com/assets/colab-badge.svg\" alt=\"Open In Colab\"/></a>"
      ]
    },
    {
      "cell_type": "markdown",
      "source": [
        "# **Train Phishing Webpage Detection Model**"
      ],
      "metadata": {
        "id": "Ie97YpRCETlO"
      }
    },
    {
      "cell_type": "markdown",
      "source": [
        "## **Connect to Drive and Github responsitory**"
      ],
      "metadata": {
        "id": "JWJeAJ4MEkBz"
      }
    },
    {
      "cell_type": "code",
      "execution_count": 1,
      "metadata": {
        "colab": {
          "base_uri": "https://localhost:8080/"
        },
        "id": "GFR4qI0yDyXW",
        "outputId": "5f60e058-3a98-4b9f-9506-30aef51a9b93"
      },
      "outputs": [
        {
          "output_type": "stream",
          "name": "stdout",
          "text": [
            "Mounted at /content/drive\n"
          ]
        }
      ],
      "source": [
        "from google.colab import drive\n",
        "drive.mount('/content/drive')"
      ]
    },
    {
      "cell_type": "code",
      "source": [
        "%cd /content/drive/MyDrive/Github\n",
        "%cd Phishing-Website-Detection/app\n",
        "!git config --global user.email \"nguyenphong10042002@gmail.com\"\n",
        "!git config --global user.name \"Akechi1412\"\n",
        "!git fetch origin\n",
        "!git reset --hard origin/main"
      ],
      "metadata": {
        "colab": {
          "base_uri": "https://localhost:8080/"
        },
        "id": "kRvWxHJVEqiV",
        "outputId": "ed3baa1d-eaed-4af7-f69a-99b332e7b7e3"
      },
      "execution_count": 2,
      "outputs": [
        {
          "output_type": "stream",
          "name": "stdout",
          "text": [
            "/content/drive/MyDrive/Github\n",
            "/content/drive/MyDrive/Github/Phishing-Website-Detection/app\n",
            "Updating files: 100% (15/15), done.\n",
            "HEAD is now at 54783f2 Created using Colab\n"
          ]
        }
      ]
    },
    {
      "cell_type": "markdown",
      "source": [
        "## **Load data**"
      ],
      "metadata": {
        "id": "ND63uFHUXK9M"
      }
    },
    {
      "cell_type": "code",
      "source": [
        "import h5py"
      ],
      "metadata": {
        "id": "xOnT0W5UMd4S"
      },
      "execution_count": 3,
      "outputs": []
    },
    {
      "cell_type": "code",
      "source": [
        "# Load train data\n",
        "with h5py.File('data/train.h5', 'r') as f:\n",
        "    url_train = f['url'][:]\n",
        "    adjacency_train = f['adjacency'][:]\n",
        "    feature_train = f['feature'][:]\n",
        "    label_train = f['label'][:]\n",
        "\n",
        "# Load val data\n",
        "with h5py.File('data/val.h5', 'r') as f:\n",
        "    url_val = f['url'][:]\n",
        "    adjacency_val = f['adjacency'][:]\n",
        "    feature_val = f['feature'][:]\n",
        "    label_val = f['label'][:]\n",
        "\n",
        "# Load test data\n",
        "with h5py.File('data/test.h5', 'r') as f:\n",
        "    url_test = f['url'][:]\n",
        "    adjacency_test = f['adjacency'][:]\n",
        "    feature_test = f['feature'][:]\n",
        "    label_test = f['label'][:]"
      ],
      "metadata": {
        "id": "bmEwXL7hMhRx"
      },
      "execution_count": 4,
      "outputs": []
    },
    {
      "cell_type": "code",
      "source": [
        "print(url_train.shape, adjacency_train.shape, feature_train.shape, label_train.shape)\n",
        "print(url_val.shape, adjacency_val.shape, feature_val.shape, label_val.shape)\n",
        "print(url_test.shape, adjacency_test.shape, feature_test.shape, label_test.shape)"
      ],
      "metadata": {
        "colab": {
          "base_uri": "https://localhost:8080/"
        },
        "id": "2tffeyXER08o",
        "outputId": "1107e372-83c1-4e25-edc7-bf0c01de9f15"
      },
      "execution_count": 5,
      "outputs": [
        {
          "output_type": "stream",
          "name": "stdout",
          "text": [
            "(80000, 50) (80000, 400, 400) (80000, 400, 3) (80000,)\n",
            "(10000, 50) (10000, 400, 400) (10000, 400, 3) (10000,)\n",
            "(10000, 50) (10000, 400, 400) (10000, 400, 3) (10000,)\n"
          ]
        }
      ]
    },
    {
      "cell_type": "markdown",
      "source": [
        "## **Create models functions**"
      ],
      "metadata": {
        "id": "PGlreT0lYxoA"
      }
    },
    {
      "cell_type": "markdown",
      "source": [
        "### **Create URL model using Transformer Neutral Network**"
      ],
      "metadata": {
        "id": "dqY3Fi0LZ8Sx"
      }
    },
    {
      "cell_type": "code",
      "source": [
        "!pip install spektral"
      ],
      "metadata": {
        "colab": {
          "base_uri": "https://localhost:8080/"
        },
        "id": "ITILC3TnVtqB",
        "outputId": "170aa788-b3b0-4079-f737-1b1c284afafc"
      },
      "execution_count": 6,
      "outputs": [
        {
          "output_type": "stream",
          "name": "stdout",
          "text": [
            "Collecting spektral\n",
            "  Downloading spektral-1.3.1-py3-none-any.whl.metadata (5.9 kB)\n",
            "Requirement already satisfied: joblib in /usr/local/lib/python3.10/dist-packages (from spektral) (1.4.2)\n",
            "Collecting lxml (from spektral)\n",
            "  Downloading lxml-5.3.0-cp310-cp310-manylinux_2_28_x86_64.whl.metadata (3.8 kB)\n",
            "Requirement already satisfied: networkx in /usr/local/lib/python3.10/dist-packages (from spektral) (3.4.2)\n",
            "Requirement already satisfied: numpy in /usr/local/lib/python3.10/dist-packages (from spektral) (1.26.4)\n",
            "Requirement already satisfied: pandas in /usr/local/lib/python3.10/dist-packages (from spektral) (2.2.2)\n",
            "Requirement already satisfied: requests in /usr/local/lib/python3.10/dist-packages (from spektral) (2.32.3)\n",
            "Requirement already satisfied: scikit-learn in /usr/local/lib/python3.10/dist-packages (from spektral) (1.5.2)\n",
            "Requirement already satisfied: scipy in /usr/local/lib/python3.10/dist-packages (from spektral) (1.13.1)\n",
            "Requirement already satisfied: tqdm in /usr/local/lib/python3.10/dist-packages (from spektral) (4.66.5)\n",
            "Requirement already satisfied: tensorflow>=2.2.0 in /usr/local/lib/python3.10/dist-packages (from spektral) (2.15.0)\n",
            "Requirement already satisfied: absl-py>=1.0.0 in /usr/local/lib/python3.10/dist-packages (from tensorflow>=2.2.0->spektral) (1.4.0)\n",
            "Requirement already satisfied: astunparse>=1.6.0 in /usr/local/lib/python3.10/dist-packages (from tensorflow>=2.2.0->spektral) (1.6.3)\n",
            "Requirement already satisfied: flatbuffers>=23.5.26 in /usr/local/lib/python3.10/dist-packages (from tensorflow>=2.2.0->spektral) (24.3.25)\n",
            "Requirement already satisfied: gast!=0.5.0,!=0.5.1,!=0.5.2,>=0.2.1 in /usr/local/lib/python3.10/dist-packages (from tensorflow>=2.2.0->spektral) (0.6.0)\n",
            "Requirement already satisfied: google-pasta>=0.1.1 in /usr/local/lib/python3.10/dist-packages (from tensorflow>=2.2.0->spektral) (0.2.0)\n",
            "Requirement already satisfied: h5py>=2.9.0 in /usr/local/lib/python3.10/dist-packages (from tensorflow>=2.2.0->spektral) (3.12.1)\n",
            "Requirement already satisfied: libclang>=13.0.0 in /usr/local/lib/python3.10/dist-packages (from tensorflow>=2.2.0->spektral) (18.1.1)\n",
            "Requirement already satisfied: ml-dtypes~=0.2.0 in /usr/local/lib/python3.10/dist-packages (from tensorflow>=2.2.0->spektral) (0.2.0)\n",
            "Requirement already satisfied: opt-einsum>=2.3.2 in /usr/local/lib/python3.10/dist-packages (from tensorflow>=2.2.0->spektral) (3.4.0)\n",
            "Requirement already satisfied: packaging in /usr/local/lib/python3.10/dist-packages (from tensorflow>=2.2.0->spektral) (24.1)\n",
            "Requirement already satisfied: protobuf!=4.21.0,!=4.21.1,!=4.21.2,!=4.21.3,!=4.21.4,!=4.21.5,<5.0.0dev,>=3.20.3 in /usr/local/lib/python3.10/dist-packages (from tensorflow>=2.2.0->spektral) (4.25.5)\n",
            "Requirement already satisfied: setuptools in /usr/local/lib/python3.10/dist-packages (from tensorflow>=2.2.0->spektral) (75.1.0)\n",
            "Requirement already satisfied: six>=1.12.0 in /usr/local/lib/python3.10/dist-packages (from tensorflow>=2.2.0->spektral) (1.16.0)\n",
            "Requirement already satisfied: termcolor>=1.1.0 in /usr/local/lib/python3.10/dist-packages (from tensorflow>=2.2.0->spektral) (2.5.0)\n",
            "Requirement already satisfied: typing-extensions>=3.6.6 in /usr/local/lib/python3.10/dist-packages (from tensorflow>=2.2.0->spektral) (4.12.2)\n",
            "Requirement already satisfied: wrapt<1.15,>=1.11.0 in /usr/local/lib/python3.10/dist-packages (from tensorflow>=2.2.0->spektral) (1.14.1)\n",
            "Requirement already satisfied: tensorflow-io-gcs-filesystem>=0.23.1 in /usr/local/lib/python3.10/dist-packages (from tensorflow>=2.2.0->spektral) (0.37.1)\n",
            "Requirement already satisfied: grpcio<2.0,>=1.24.3 in /usr/local/lib/python3.10/dist-packages (from tensorflow>=2.2.0->spektral) (1.67.0)\n",
            "Requirement already satisfied: tensorboard<2.16,>=2.15 in /usr/local/lib/python3.10/dist-packages (from tensorflow>=2.2.0->spektral) (2.15.2)\n",
            "Requirement already satisfied: tensorflow-estimator<2.16,>=2.15.0 in /usr/local/lib/python3.10/dist-packages (from tensorflow>=2.2.0->spektral) (2.15.0)\n",
            "Requirement already satisfied: keras<2.16,>=2.15.0 in /usr/local/lib/python3.10/dist-packages (from tensorflow>=2.2.0->spektral) (2.15.0)\n",
            "Requirement already satisfied: python-dateutil>=2.8.2 in /usr/local/lib/python3.10/dist-packages (from pandas->spektral) (2.9.0.post0)\n",
            "Requirement already satisfied: pytz>=2020.1 in /usr/local/lib/python3.10/dist-packages (from pandas->spektral) (2024.2)\n",
            "Requirement already satisfied: tzdata>=2022.7 in /usr/local/lib/python3.10/dist-packages (from pandas->spektral) (2024.2)\n",
            "Requirement already satisfied: charset-normalizer<4,>=2 in /usr/local/lib/python3.10/dist-packages (from requests->spektral) (3.4.0)\n",
            "Requirement already satisfied: idna<4,>=2.5 in /usr/local/lib/python3.10/dist-packages (from requests->spektral) (3.10)\n",
            "Requirement already satisfied: urllib3<3,>=1.21.1 in /usr/local/lib/python3.10/dist-packages (from requests->spektral) (2.2.3)\n",
            "Requirement already satisfied: certifi>=2017.4.17 in /usr/local/lib/python3.10/dist-packages (from requests->spektral) (2024.8.30)\n",
            "Requirement already satisfied: threadpoolctl>=3.1.0 in /usr/local/lib/python3.10/dist-packages (from scikit-learn->spektral) (3.5.0)\n",
            "Requirement already satisfied: wheel<1.0,>=0.23.0 in /usr/local/lib/python3.10/dist-packages (from astunparse>=1.6.0->tensorflow>=2.2.0->spektral) (0.44.0)\n",
            "Requirement already satisfied: google-auth<3,>=1.6.3 in /usr/local/lib/python3.10/dist-packages (from tensorboard<2.16,>=2.15->tensorflow>=2.2.0->spektral) (2.27.0)\n",
            "Requirement already satisfied: google-auth-oauthlib<2,>=0.5 in /usr/local/lib/python3.10/dist-packages (from tensorboard<2.16,>=2.15->tensorflow>=2.2.0->spektral) (1.2.1)\n",
            "Requirement already satisfied: markdown>=2.6.8 in /usr/local/lib/python3.10/dist-packages (from tensorboard<2.16,>=2.15->tensorflow>=2.2.0->spektral) (3.7)\n",
            "Requirement already satisfied: tensorboard-data-server<0.8.0,>=0.7.0 in /usr/local/lib/python3.10/dist-packages (from tensorboard<2.16,>=2.15->tensorflow>=2.2.0->spektral) (0.7.2)\n",
            "Requirement already satisfied: werkzeug>=1.0.1 in /usr/local/lib/python3.10/dist-packages (from tensorboard<2.16,>=2.15->tensorflow>=2.2.0->spektral) (3.0.4)\n",
            "Requirement already satisfied: cachetools<6.0,>=2.0.0 in /usr/local/lib/python3.10/dist-packages (from google-auth<3,>=1.6.3->tensorboard<2.16,>=2.15->tensorflow>=2.2.0->spektral) (5.5.0)\n",
            "Requirement already satisfied: pyasn1-modules>=0.2.1 in /usr/local/lib/python3.10/dist-packages (from google-auth<3,>=1.6.3->tensorboard<2.16,>=2.15->tensorflow>=2.2.0->spektral) (0.4.1)\n",
            "Requirement already satisfied: rsa<5,>=3.1.4 in /usr/local/lib/python3.10/dist-packages (from google-auth<3,>=1.6.3->tensorboard<2.16,>=2.15->tensorflow>=2.2.0->spektral) (4.9)\n",
            "Requirement already satisfied: requests-oauthlib>=0.7.0 in /usr/local/lib/python3.10/dist-packages (from google-auth-oauthlib<2,>=0.5->tensorboard<2.16,>=2.15->tensorflow>=2.2.0->spektral) (2.0.0)\n",
            "Requirement already satisfied: MarkupSafe>=2.1.1 in /usr/local/lib/python3.10/dist-packages (from werkzeug>=1.0.1->tensorboard<2.16,>=2.15->tensorflow>=2.2.0->spektral) (3.0.2)\n",
            "Requirement already satisfied: pyasn1<0.7.0,>=0.4.6 in /usr/local/lib/python3.10/dist-packages (from pyasn1-modules>=0.2.1->google-auth<3,>=1.6.3->tensorboard<2.16,>=2.15->tensorflow>=2.2.0->spektral) (0.6.1)\n",
            "Requirement already satisfied: oauthlib>=3.0.0 in /usr/local/lib/python3.10/dist-packages (from requests-oauthlib>=0.7.0->google-auth-oauthlib<2,>=0.5->tensorboard<2.16,>=2.15->tensorflow>=2.2.0->spektral) (3.2.2)\n",
            "Downloading spektral-1.3.1-py3-none-any.whl (140 kB)\n",
            "\u001b[2K   \u001b[90m━━━━━━━━━━━━━━━━━━━━━━━━━━━━━━━━━━━━━━━━\u001b[0m \u001b[32m140.1/140.1 kB\u001b[0m \u001b[31m2.8 MB/s\u001b[0m eta \u001b[36m0:00:00\u001b[0m\n",
            "\u001b[?25hDownloading lxml-5.3.0-cp310-cp310-manylinux_2_28_x86_64.whl (5.0 MB)\n",
            "\u001b[2K   \u001b[90m━━━━━━━━━━━━━━━━━━━━━━━━━━━━━━━━━━━━━━━━\u001b[0m \u001b[32m5.0/5.0 MB\u001b[0m \u001b[31m55.5 MB/s\u001b[0m eta \u001b[36m0:00:00\u001b[0m\n",
            "\u001b[?25hInstalling collected packages: lxml, spektral\n",
            "Successfully installed lxml-5.3.0 spektral-1.3.1\n"
          ]
        }
      ]
    },
    {
      "cell_type": "code",
      "source": [
        "import tensorflow as tf\n",
        "from tensorflow import keras\n",
        "from tensorflow.keras import layers, models, regularizers\n",
        "from utils.layers import PositionalEmbedding, TransformerEncoder"
      ],
      "metadata": {
        "id": "ihcA5_uhsAOP"
      },
      "execution_count": 7,
      "outputs": []
    },
    {
      "cell_type": "code",
      "source": [
        "def create_url_model(vocab_size, max_word, embed_dim,\n",
        "                     num_heads, intermediate_dim,\n",
        "                     dropout=0.1, num_transformer_layers=1):\n",
        "    inputs = keras.Input(shape=(max_word,), dtype=tf.int32)\n",
        "    x = PositionalEmbedding(max_word, vocab_size, embed_dim)(inputs)\n",
        "    for _ in range(num_transformer_layers):\n",
        "        x = TransformerEncoder(embed_dim, num_heads, intermediate_dim)(x)\n",
        "        x = layers.Dropout(dropout)(x)\n",
        "    x = layers.GlobalAveragePooling1D()(x)\n",
        "    url_model = keras.Model(inputs=inputs, outputs=x)\n",
        "\n",
        "    return url_model"
      ],
      "metadata": {
        "id": "tG7Ie9hb3p-4"
      },
      "execution_count": 8,
      "outputs": []
    },
    {
      "cell_type": "markdown",
      "source": [
        "### **Create HTML model using Graph Convolution Network**"
      ],
      "metadata": {
        "id": "x-vy88oyaJVX"
      }
    },
    {
      "cell_type": "code",
      "source": [
        "from spektral.layers import GCNConv, GlobalSumPool\n",
        "from utils.layers import GCN"
      ],
      "metadata": {
        "id": "C_1BZe-Ux7hE"
      },
      "execution_count": 9,
      "outputs": []
    },
    {
      "cell_type": "code",
      "source": [
        "def create_html_model(max_node, feature_dim, gcn_units,\n",
        "                      dropout=0.1, num_gcn_layers=1):\n",
        "    inputs_adj = keras.Input(shape=(max_node, max_node), dtype=tf.float64)\n",
        "    inputs_feat = keras.Input(shape=(max_node, feature_dim), dtype=tf.float64)\n",
        "\n",
        "    x = inputs_feat\n",
        "    for _ in range(num_gcn_layers):\n",
        "        x = GCN(gcn_units, activation='relu')([x, inputs_adj])\n",
        "        x = layers.Dropout(dropout)(x)\n",
        "    x = GlobalSumPool()(x)\n",
        "    html_model = keras.Model(inputs=[inputs_adj, inputs_feat], outputs=x)\n",
        "\n",
        "    return html_model"
      ],
      "metadata": {
        "id": "3t3YPPg6xq_J"
      },
      "execution_count": 10,
      "outputs": []
    },
    {
      "cell_type": "markdown",
      "source": [
        "### **Create full model**"
      ],
      "metadata": {
        "id": "BfJxAiOc4-W3"
      }
    },
    {
      "cell_type": "code",
      "source": [
        "def create_full_model(vocab_size, max_word, dropout, embed_dim,\n",
        "                      num_heads, intermediate_dim, num_transformer_layers,\n",
        "                      max_node, feature_dim, gcn_units,\n",
        "                      num_gcn_layers, dense_dim, l2_reg):\n",
        "    # URL Model\n",
        "    url_model = create_url_model(vocab_size, max_word, embed_dim, num_heads,\n",
        "                                 intermediate_dim, dropout, num_transformer_layers)\n",
        "\n",
        "    # HTML Model\n",
        "    html_model = create_html_model(max_node, feature_dim, gcn_units,\n",
        "                                   dropout, num_gcn_layers)\n",
        "\n",
        "    # Inputs\n",
        "    url_inputs = keras.Input(shape=(max_word,), dtype=tf.int32)\n",
        "    adj_inputs = keras.Input(shape=(max_node, max_node), dtype=tf.float64)\n",
        "    feat_inputs = keras.Input(shape=(max_node, feature_dim), dtype=tf.float64)\n",
        "\n",
        "    # Outputs from both models\n",
        "    url_output = url_model(url_inputs)  # (None, embed_dim)\n",
        "    html_output = html_model([adj_inputs, feat_inputs])  # (None, gcn_units)\n",
        "\n",
        "    # Concatenate the outputs (both are 2D now)\n",
        "    combined = layers.Concatenate()([url_output, html_output])  # (None, embed_dim + gcn_units)\n",
        "\n",
        "    # Final layers\n",
        "    x = layers.Dense(dense_dim,\n",
        "                     activation='relu',\n",
        "                     kernel_regularizer=regularizers.l2(l2_reg))(combined)\n",
        "    x = layers.Dropout(dropout)(x)\n",
        "    x = layers.Dense(dense_dim//2,\n",
        "                     activation='relu',\n",
        "                     kernel_regularizer=regularizers.l2(l2_reg))(x)\n",
        "    x = layers.Dropout(dropout)(x)\n",
        "\n",
        "    outputs = layers.Dense(1, activation='sigmoid')(x)\n",
        "\n",
        "    full_model = keras.Model(inputs=[url_inputs, adj_inputs, feat_inputs], outputs=outputs)\n",
        "    return full_model"
      ],
      "metadata": {
        "id": "i0R3UZVa5OEF"
      },
      "execution_count": 11,
      "outputs": []
    },
    {
      "cell_type": "markdown",
      "source": [
        "## **Train model**"
      ],
      "metadata": {
        "id": "GBMOCOvAae_w"
      }
    },
    {
      "cell_type": "code",
      "source": [
        "vocab_size = 6000\n",
        "max_word = url_train.shape[1]\n",
        "max_node = adjacency_train.shape[1]\n",
        "feature_dim = 3\n",
        "\n",
        "model = create_full_model(vocab_size=vocab_size,\n",
        "                          max_word=max_word,\n",
        "                          dropout=0.3,\n",
        "                          embed_dim=128,\n",
        "                          num_heads=8,\n",
        "                          intermediate_dim=128,\n",
        "                          num_transformer_layers=2,\n",
        "                          max_node=max_node,\n",
        "                          feature_dim=feature_dim,\n",
        "                          gcn_units=128,\n",
        "                          num_gcn_layers=2,\n",
        "                          dense_dim=128,\n",
        "                          l2_reg=5e-4)\n",
        "\n",
        "model.summary()\n",
        "\n",
        "optimizer = keras.optimizers.Adam(learning_rate=1e-3)\n",
        "focal_loss = keras.losses.BinaryFocalCrossentropy(gamma=2)\n",
        "metrics = ['accuracy', tf.keras.metrics.Precision(), tf.keras.metrics.Recall()]\n",
        "model.compile(optimizer=optimizer, loss=focal_loss, metrics=metrics)\n",
        "\n",
        "checkpoint_filepath = 'models/best_model.keras'\n",
        "\n",
        "checkpoint_callback = tf.keras.callbacks.ModelCheckpoint(\n",
        "    filepath=checkpoint_filepath,\n",
        "    save_weights_only=False,\n",
        "    monitor='val_loss',\n",
        "    mode='min',\n",
        "    save_best_only=True,\n",
        "    verbose=1\n",
        ")\n",
        "\n",
        "early_stopping = tf.keras.callbacks.EarlyStopping(\n",
        "    monitor='val_loss',\n",
        "    patience=5,\n",
        "    restore_best_weights=True,\n",
        "    verbose=1\n",
        ")\n",
        "\n",
        "history = model.fit([url_train, adjacency_train, feature_train], label_train,\n",
        "          validation_data=([url_val, adjacency_val, feature_val], label_val),\n",
        "          epochs=100, batch_size=128,\n",
        "          callbacks=[checkpoint_callback, early_stopping])"
      ],
      "metadata": {
        "id": "jT0yrsGh0RZU",
        "colab": {
          "base_uri": "https://localhost:8080/"
        },
        "outputId": "1fb111da-f40c-47d7-dbaf-887b3103c803"
      },
      "execution_count": 12,
      "outputs": [
        {
          "output_type": "stream",
          "name": "stdout",
          "text": [
            "Model: \"model_2\"\n",
            "__________________________________________________________________________________________________\n",
            " Layer (type)                Output Shape                 Param #   Connected to                  \n",
            "==================================================================================================\n",
            " input_4 (InputLayer)        [(None, 50)]                 0         []                            \n",
            "                                                                                                  \n",
            " input_5 (InputLayer)        [(None, 400, 400)]           0         []                            \n",
            "                                                                                                  \n",
            " input_6 (InputLayer)        [(None, 400, 3)]             0         []                            \n",
            "                                                                                                  \n",
            " model (Functional)          (None, 128)                  1896448   ['input_4[0][0]']             \n",
            "                                                                                                  \n",
            " model_1 (Functional)        (None, 128)                  17024     ['input_5[0][0]',             \n",
            "                                                                     'input_6[0][0]']             \n",
            "                                                                                                  \n",
            " concatenate (Concatenate)   (None, 256)                  0         ['model[0][0]',               \n",
            "                                                                     'model_1[0][0]']             \n",
            "                                                                                                  \n",
            " dense_4 (Dense)             (None, 128)                  32896     ['concatenate[0][0]']         \n",
            "                                                                                                  \n",
            " dropout_8 (Dropout)         (None, 128)                  0         ['dense_4[0][0]']             \n",
            "                                                                                                  \n",
            " dense_5 (Dense)             (None, 64)                   8256      ['dropout_8[0][0]']           \n",
            "                                                                                                  \n",
            " dropout_9 (Dropout)         (None, 64)                   0         ['dense_5[0][0]']             \n",
            "                                                                                                  \n",
            " dense_6 (Dense)             (None, 1)                    65        ['dropout_9[0][0]']           \n",
            "                                                                                                  \n",
            "==================================================================================================\n",
            "Total params: 1954689 (7.46 MB)\n",
            "Trainable params: 1954689 (7.46 MB)\n",
            "Non-trainable params: 0 (0.00 Byte)\n",
            "__________________________________________________________________________________________________\n",
            "Epoch 1/100\n",
            "625/625 [==============================] - ETA: 0s - loss: 0.1331 - accuracy: 0.9411 - precision: 0.9453 - recall: 0.9364\n",
            "Epoch 1: val_loss improved from inf to 0.07032, saving model to models/best_model.keras\n",
            "625/625 [==============================] - 256s 401ms/step - loss: 0.1331 - accuracy: 0.9411 - precision: 0.9453 - recall: 0.9364 - val_loss: 0.0703 - val_accuracy: 0.9761 - val_precision: 0.9877 - val_recall: 0.9642\n",
            "Epoch 2/100\n",
            "625/625 [==============================] - ETA: 0s - loss: 0.0554 - accuracy: 0.9777 - precision: 0.9899 - recall: 0.9653\n",
            "Epoch 2: val_loss improved from 0.07032 to 0.04344, saving model to models/best_model.keras\n",
            "625/625 [==============================] - 232s 372ms/step - loss: 0.0554 - accuracy: 0.9777 - precision: 0.9899 - recall: 0.9653 - val_loss: 0.0434 - val_accuracy: 0.9770 - val_precision: 0.9873 - val_recall: 0.9664\n",
            "Epoch 3/100\n",
            "625/625 [==============================] - ETA: 0s - loss: 0.0363 - accuracy: 0.9807 - precision: 0.9915 - recall: 0.9697\n",
            "Epoch 3: val_loss improved from 0.04344 to 0.03339, saving model to models/best_model.keras\n",
            "625/625 [==============================] - 231s 369ms/step - loss: 0.0363 - accuracy: 0.9807 - precision: 0.9915 - recall: 0.9697 - val_loss: 0.0334 - val_accuracy: 0.9742 - val_precision: 0.9763 - val_recall: 0.9720\n",
            "Epoch 4/100\n",
            "625/625 [==============================] - ETA: 0s - loss: 0.0284 - accuracy: 0.9807 - precision: 0.9917 - recall: 0.9696\n",
            "Epoch 4: val_loss improved from 0.03339 to 0.03309, saving model to models/best_model.keras\n",
            "625/625 [==============================] - 231s 370ms/step - loss: 0.0284 - accuracy: 0.9807 - precision: 0.9917 - recall: 0.9696 - val_loss: 0.0331 - val_accuracy: 0.9751 - val_precision: 0.9796 - val_recall: 0.9704\n",
            "Epoch 5/100\n",
            "625/625 [==============================] - ETA: 0s - loss: 0.0226 - accuracy: 0.9822 - precision: 0.9924 - recall: 0.9718\n",
            "Epoch 5: val_loss improved from 0.03309 to 0.02930, saving model to models/best_model.keras\n",
            "625/625 [==============================] - 230s 369ms/step - loss: 0.0226 - accuracy: 0.9822 - precision: 0.9924 - recall: 0.9718 - val_loss: 0.0293 - val_accuracy: 0.9753 - val_precision: 0.9794 - val_recall: 0.9710\n",
            "Epoch 6/100\n",
            "625/625 [==============================] - ETA: 0s - loss: 0.0196 - accuracy: 0.9831 - precision: 0.9928 - recall: 0.9733\n",
            "Epoch 6: val_loss improved from 0.02930 to 0.02324, saving model to models/best_model.keras\n",
            "625/625 [==============================] - 233s 373ms/step - loss: 0.0196 - accuracy: 0.9831 - precision: 0.9928 - recall: 0.9733 - val_loss: 0.0232 - val_accuracy: 0.9786 - val_precision: 0.9914 - val_recall: 0.9656\n",
            "Epoch 7/100\n",
            "625/625 [==============================] - ETA: 0s - loss: 0.0182 - accuracy: 0.9835 - precision: 0.9928 - recall: 0.9741\n",
            "Epoch 7: val_loss did not improve from 0.02324\n",
            "625/625 [==============================] - 232s 371ms/step - loss: 0.0182 - accuracy: 0.9835 - precision: 0.9928 - recall: 0.9741 - val_loss: 0.0252 - val_accuracy: 0.9767 - val_precision: 0.9804 - val_recall: 0.9728\n",
            "Epoch 8/100\n",
            "625/625 [==============================] - ETA: 0s - loss: 0.0183 - accuracy: 0.9830 - precision: 0.9920 - recall: 0.9738\n",
            "Epoch 8: val_loss did not improve from 0.02324\n",
            "625/625 [==============================] - 228s 365ms/step - loss: 0.0183 - accuracy: 0.9830 - precision: 0.9920 - recall: 0.9738 - val_loss: 0.0236 - val_accuracy: 0.9782 - val_precision: 0.9904 - val_recall: 0.9658\n",
            "Epoch 9/100\n",
            "625/625 [==============================] - ETA: 0s - loss: 0.0178 - accuracy: 0.9835 - precision: 0.9930 - recall: 0.9739\n",
            "Epoch 9: val_loss did not improve from 0.02324\n",
            "625/625 [==============================] - 230s 367ms/step - loss: 0.0178 - accuracy: 0.9835 - precision: 0.9930 - recall: 0.9739 - val_loss: 0.0246 - val_accuracy: 0.9738 - val_precision: 0.9744 - val_recall: 0.9732\n",
            "Epoch 10/100\n",
            "625/625 [==============================] - ETA: 0s - loss: 0.0170 - accuracy: 0.9840 - precision: 0.9928 - recall: 0.9750\n",
            "Epoch 10: val_loss improved from 0.02324 to 0.02228, saving model to models/best_model.keras\n",
            "625/625 [==============================] - 231s 369ms/step - loss: 0.0170 - accuracy: 0.9840 - precision: 0.9928 - recall: 0.9750 - val_loss: 0.0223 - val_accuracy: 0.9782 - val_precision: 0.9920 - val_recall: 0.9642\n",
            "Epoch 11/100\n",
            "625/625 [==============================] - ETA: 0s - loss: 0.0159 - accuracy: 0.9848 - precision: 0.9933 - recall: 0.9762\n",
            "Epoch 11: val_loss improved from 0.02228 to 0.02152, saving model to models/best_model.keras\n",
            "625/625 [==============================] - 231s 369ms/step - loss: 0.0159 - accuracy: 0.9848 - precision: 0.9933 - recall: 0.9762 - val_loss: 0.0215 - val_accuracy: 0.9783 - val_precision: 0.9886 - val_recall: 0.9678\n",
            "Epoch 12/100\n",
            "625/625 [==============================] - ETA: 0s - loss: 0.0153 - accuracy: 0.9851 - precision: 0.9937 - recall: 0.9762\n",
            "Epoch 12: val_loss did not improve from 0.02152\n",
            "625/625 [==============================] - 232s 370ms/step - loss: 0.0153 - accuracy: 0.9851 - precision: 0.9937 - recall: 0.9762 - val_loss: 0.0236 - val_accuracy: 0.9784 - val_precision: 0.9882 - val_recall: 0.9684\n",
            "Epoch 13/100\n",
            "625/625 [==============================] - ETA: 0s - loss: 0.0164 - accuracy: 0.9843 - precision: 0.9928 - recall: 0.9757\n",
            "Epoch 13: val_loss did not improve from 0.02152\n",
            "625/625 [==============================] - 231s 370ms/step - loss: 0.0164 - accuracy: 0.9843 - precision: 0.9928 - recall: 0.9757 - val_loss: 0.0248 - val_accuracy: 0.9774 - val_precision: 0.9828 - val_recall: 0.9718\n",
            "Epoch 14/100\n",
            "625/625 [==============================] - ETA: 0s - loss: 0.0157 - accuracy: 0.9853 - precision: 0.9935 - recall: 0.9769\n",
            "Epoch 14: val_loss did not improve from 0.02152\n",
            "625/625 [==============================] - 232s 370ms/step - loss: 0.0157 - accuracy: 0.9853 - precision: 0.9935 - recall: 0.9769 - val_loss: 0.0218 - val_accuracy: 0.9776 - val_precision: 0.9912 - val_recall: 0.9638\n",
            "Epoch 15/100\n",
            "625/625 [==============================] - ETA: 0s - loss: 0.0151 - accuracy: 0.9857 - precision: 0.9941 - recall: 0.9771\n",
            "Epoch 15: val_loss did not improve from 0.02152\n",
            "625/625 [==============================] - 231s 370ms/step - loss: 0.0151 - accuracy: 0.9857 - precision: 0.9941 - recall: 0.9771 - val_loss: 0.0235 - val_accuracy: 0.9769 - val_precision: 0.9867 - val_recall: 0.9668\n",
            "Epoch 16/100\n",
            "625/625 [==============================] - ETA: 0s - loss: 0.0150 - accuracy: 0.9858 - precision: 0.9942 - recall: 0.9774\n",
            "Epoch 16: val_loss improved from 0.02152 to 0.02130, saving model to models/best_model.keras\n",
            "625/625 [==============================] - 230s 368ms/step - loss: 0.0150 - accuracy: 0.9858 - precision: 0.9942 - recall: 0.9774 - val_loss: 0.0213 - val_accuracy: 0.9778 - val_precision: 0.9842 - val_recall: 0.9712\n",
            "Epoch 17/100\n",
            "625/625 [==============================] - ETA: 0s - loss: 0.0147 - accuracy: 0.9862 - precision: 0.9941 - recall: 0.9782\n",
            "Epoch 17: val_loss did not improve from 0.02130\n",
            "625/625 [==============================] - 231s 369ms/step - loss: 0.0147 - accuracy: 0.9862 - precision: 0.9941 - recall: 0.9782 - val_loss: 0.0218 - val_accuracy: 0.9777 - val_precision: 0.9842 - val_recall: 0.9710\n",
            "Epoch 18/100\n",
            "625/625 [==============================] - ETA: 0s - loss: 0.0147 - accuracy: 0.9859 - precision: 0.9944 - recall: 0.9773\n",
            "Epoch 18: val_loss did not improve from 0.02130\n",
            "625/625 [==============================] - 231s 370ms/step - loss: 0.0147 - accuracy: 0.9859 - precision: 0.9944 - recall: 0.9773 - val_loss: 0.0225 - val_accuracy: 0.9788 - val_precision: 0.9896 - val_recall: 0.9678\n",
            "Epoch 19/100\n",
            "625/625 [==============================] - ETA: 0s - loss: 0.0143 - accuracy: 0.9863 - precision: 0.9947 - recall: 0.9779\n",
            "Epoch 19: val_loss did not improve from 0.02130\n",
            "625/625 [==============================] - 231s 369ms/step - loss: 0.0143 - accuracy: 0.9863 - precision: 0.9947 - recall: 0.9779 - val_loss: 0.0228 - val_accuracy: 0.9770 - val_precision: 0.9836 - val_recall: 0.9702\n",
            "Epoch 20/100\n",
            "625/625 [==============================] - ETA: 0s - loss: 0.0144 - accuracy: 0.9859 - precision: 0.9945 - recall: 0.9772\n",
            "Epoch 20: val_loss did not improve from 0.02130\n",
            "625/625 [==============================] - 232s 371ms/step - loss: 0.0144 - accuracy: 0.9859 - precision: 0.9945 - recall: 0.9772 - val_loss: 0.0253 - val_accuracy: 0.9759 - val_precision: 0.9871 - val_recall: 0.9644\n",
            "Epoch 21/100\n",
            "625/625 [==============================] - ETA: 0s - loss: 0.0144 - accuracy: 0.9858 - precision: 0.9939 - recall: 0.9776\n",
            "Epoch 21: val_loss did not improve from 0.02130\n",
            "Restoring model weights from the end of the best epoch: 16.\n",
            "625/625 [==============================] - 231s 369ms/step - loss: 0.0144 - accuracy: 0.9858 - precision: 0.9939 - recall: 0.9776 - val_loss: 0.0228 - val_accuracy: 0.9769 - val_precision: 0.9842 - val_recall: 0.9694\n",
            "Epoch 21: early stopping\n"
          ]
        }
      ]
    },
    {
      "cell_type": "code",
      "source": [
        "import matplotlib.pyplot as plt\n",
        "import seaborn as sns"
      ],
      "metadata": {
        "id": "i56f9BqfUyu-"
      },
      "execution_count": 13,
      "outputs": []
    },
    {
      "cell_type": "code",
      "source": [
        "# Plot history loss\n",
        "plt.figure(figsize=(10, 6))\n",
        "plt.plot(history.history['loss'], label='train loss')\n",
        "plt.plot(history.history['val_loss'], label='val loss')\n",
        "plt.xlabel(\"epoch\")\n",
        "plt.ylabel(\"Cross-entropy loss\")\n",
        "plt.legend()\n",
        "plt.show()\n",
        "\n",
        "# Plot history accuracy\n",
        "plt.figure(figsize=(10, 6))\n",
        "plt.plot(history.history['accuracy'], label='train accuracy')\n",
        "plt.plot(history.history['val_accuracy'], label='val accuracy')\n",
        "plt.xlabel(\"epoch\")\n",
        "plt.ylabel(\"accuracy\")\n",
        "plt.legend()\n",
        "plt.show()"
      ],
      "metadata": {
        "id": "5WB8DRQcijms",
        "colab": {
          "base_uri": "https://localhost:8080/",
          "height": 1000
        },
        "outputId": "21dc7049-d4f0-4d98-c7d2-d0c11a3a6d31"
      },
      "execution_count": 14,
      "outputs": [
        {
          "output_type": "display_data",
          "data": {
            "text/plain": [
              "<Figure size 1000x600 with 1 Axes>"
            ],
            "image/png": "[encoded data removed]"
          },
          "metadata": {}
        },
        {
          "output_type": "display_data",
          "data": {
            "text/plain": [
              "<Figure size 1000x600 with 1 Axes>"
            ],
            "image/png": "[encoded data removed]"
          },
          "metadata": {}
        }
      ]
    },
    {
      "cell_type": "markdown",
      "source": [
        "## **Test and evaluate model**"
      ],
      "metadata": {
        "id": "pon8ohwipVJt"
      }
    },
    {
      "cell_type": "code",
      "source": [
        "best_model = keras.models.load_model(\n",
        "    'models/best_model.keras',\n",
        "    custom_objects={'TransformerEncoder': TransformerEncoder,\n",
        "                    'PositionalEmbedding': PositionalEmbedding,\n",
        "                    'GCNConv': GCNConv,\n",
        "                    'GlobalSumPool': GlobalSumPool,\n",
        "                    'GCN': GCN})"
      ],
      "metadata": {
        "id": "NzILqZmVpxLu"
      },
      "execution_count": 15,
      "outputs": []
    },
    {
      "cell_type": "code",
      "source": [
        "best_model.save('models/best_model.h5')"
      ],
      "metadata": {
        "colab": {
          "base_uri": "https://localhost:8080/"
        },
        "id": "83ccI1sutwUO",
        "outputId": "15c17a68-e07a-4992-feee-ddad2f4de19e"
      },
      "execution_count": 16,
      "outputs": [
        {
          "output_type": "stream",
          "name": "stderr",
          "text": [
            "/usr/local/lib/python3.10/dist-packages/keras/src/engine/training.py:3103: UserWarning: You are saving your model as an HDF5 file via `model.save()`. This file format is considered legacy. We recommend using instead the native Keras format, e.g. `model.save('my_model.keras')`.\n",
            "  saving_api.save_model(\n"
          ]
        }
      ]
    },
    {
      "cell_type": "code",
      "source": [
        "from sklearn.metrics import classification_report, confusion_matrix"
      ],
      "metadata": {
        "id": "UqUXbPqJf7Pv"
      },
      "execution_count": 17,
      "outputs": []
    },
    {
      "cell_type": "code",
      "source": [
        "y_pred_prob = model.predict([url_test, adjacency_test, feature_test])\n",
        "y_pred = (y_pred_prob > 0.5).astype(int)\n",
        "print(classification_report(label_test, y_pred))"
      ],
      "metadata": {
        "id": "tWQstEJ2gB6d",
        "colab": {
          "base_uri": "https://localhost:8080/"
        },
        "outputId": "8486a357-fc0e-4a8a-ee45-145ff66b676b"
      },
      "execution_count": 18,
      "outputs": [
        {
          "output_type": "stream",
          "name": "stdout",
          "text": [
            "313/313 [==============================] - 17s 52ms/step\n",
            "              precision    recall  f1-score   support\n",
            "\n",
            "           0       0.97      0.99      0.98      5000\n",
            "           1       0.99      0.97      0.98      5000\n",
            "\n",
            "    accuracy                           0.98     10000\n",
            "   macro avg       0.98      0.98      0.98     10000\n",
            "weighted avg       0.98      0.98      0.98     10000\n",
            "\n"
          ]
        }
      ]
    },
    {
      "cell_type": "code",
      "source": [
        "import numpy as np"
      ],
      "metadata": {
        "id": "cPiDk-XKs7Ly"
      },
      "execution_count": 19,
      "outputs": []
    },
    {
      "cell_type": "code",
      "source": [
        "cm = confusion_matrix(label_test, y_pred)\n",
        "cm_percentage = cm.astype('float') / cm.sum(axis=1)[:, np.newaxis]\n",
        "\n",
        "plt.figure(figsize=(8, 6))\n",
        "sns.heatmap(cm_percentage, annot=True, fmt=\".2%\", cmap=\"Blues\")\n",
        "plt.title(\"Confusion Matrix (Percentage)\")\n",
        "plt.ylabel('True label')\n",
        "plt.xlabel('Predicted label')\n",
        "plt.show()"
      ],
      "metadata": {
        "id": "SaIR_h96gg3O",
        "colab": {
          "base_uri": "https://localhost:8080/",
          "height": 564
        },
        "outputId": "fbf530b3-a9af-47bd-c709-f571cb9f37b8"
      },
      "execution_count": 20,
      "outputs": [
        {
          "output_type": "display_data",
          "data": {
            "text/plain": [
              "<Figure size 800x600 with 2 Axes>"
            ],
            "image/png": "[encoded data removed]"
          },
          "metadata": {}
        }
      ]
    }
  ]
}
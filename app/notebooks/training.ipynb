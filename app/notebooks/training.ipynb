{
  "cells": [
    {
      "cell_type": "markdown",
      "metadata": {
        "id": "view-in-github",
        "colab_type": "text"
      },
      "source": [
        "<a href=\"https://colab.research.google.com/github/Akechi1412/Phishing-Website-Detection/blob/main/app/notebooks/training.ipynb\" target=\"_parent\"><img src=\"https://colab.research.google.com/assets/colab-badge.svg\" alt=\"Open In Colab\"/></a>"
      ]
    },
    {
      "cell_type": "markdown",
      "metadata": {
        "id": "Ie97YpRCETlO"
      },
      "source": [
        "# **Train Phishing Webpage Detection Model**"
      ]
    },
    {
      "cell_type": "markdown",
      "metadata": {
        "id": "JWJeAJ4MEkBz"
      },
      "source": [
        "## **Connect to Drive and Github responsitory**"
      ]
    },
    {
      "cell_type": "code",
      "execution_count": 1,
      "metadata": {
        "colab": {
          "base_uri": "https://localhost:8080/"
        },
        "id": "GFR4qI0yDyXW",
        "outputId": "2a8dcd31-ecbd-437e-ac8f-734417623a20"
      },
      "outputs": [
        {
          "output_type": "stream",
          "name": "stdout",
          "text": [
            "Mounted at /content/drive\n"
          ]
        }
      ],
      "source": [
        "from google.colab import drive\n",
        "drive.mount('/content/drive')"
      ]
    },
    {
      "cell_type": "code",
      "execution_count": 2,
      "metadata": {
        "colab": {
          "base_uri": "https://localhost:8080/"
        },
        "id": "kRvWxHJVEqiV",
        "outputId": "a34a746b-474c-491f-e02f-62ea31e6e618"
      },
      "outputs": [
        {
          "output_type": "stream",
          "name": "stdout",
          "text": [
            "/content/drive/MyDrive/Github\n",
            "/content/drive/MyDrive/Github/Phishing-Website-Detection/app\n",
            "Updating files: 100% (73/73), done.\n",
            "HEAD is now at 648e4fd Merge branch 'main' of https://github.com/Akechi1412/Phishing-Website-Detection\n"
          ]
        }
      ],
      "source": [
        "%cd /content/drive/MyDrive/Github\n",
        "%cd Phishing-Website-Detection/app\n",
        "!git config --global user.email 'nguyenphong10042002@gmail.com'\n",
        "!git config --global user.name 'Akechi1412'\n",
        "!git fetch origin\n",
        "!git reset --hard origin/main"
      ]
    },
    {
      "cell_type": "markdown",
      "metadata": {
        "id": "ND63uFHUXK9M"
      },
      "source": [
        "## **Load dataset**"
      ]
    },
    {
      "cell_type": "code",
      "execution_count": 3,
      "metadata": {
        "id": "xOnT0W5UMd4S"
      },
      "outputs": [],
      "source": [
        "import h5py\n",
        "import tensorflow as tf"
      ]
    },
    {
      "cell_type": "code",
      "execution_count": 4,
      "metadata": {
        "id": "bmEwXL7hMhRx"
      },
      "outputs": [],
      "source": [
        "def load_dataset(file_path, batch_size=1024):\n",
        "    with h5py.File(file_path, 'r') as f:\n",
        "        url_data = f['url']\n",
        "        adjacency_data = f['adjacency']\n",
        "        feature_data = f['feature']\n",
        "        label_data = f['label']\n",
        "\n",
        "        num_samples = label_data.shape[0]\n",
        "\n",
        "        dataset = tf.data.Dataset.from_tensor_slices((\n",
        "            (\n",
        "                tf.convert_to_tensor(url_data, dtype=tf.int32),\n",
        "                tf.convert_to_tensor(adjacency_data, dtype=tf.float32),\n",
        "                tf.convert_to_tensor(feature_data, dtype=tf.float32)\n",
        "            ),\n",
        "            tf.convert_to_tensor(label_data, dtype=tf.int32)\n",
        "        ))\n",
        "\n",
        "    dataset = dataset.batch(batch_size).prefetch(tf.data.experimental.AUTOTUNE)\n",
        "\n",
        "    return dataset"
      ]
    },
    {
      "cell_type": "markdown",
      "metadata": {
        "id": "PGlreT0lYxoA"
      },
      "source": [
        "## **Create models functions**"
      ]
    },
    {
      "cell_type": "markdown",
      "metadata": {
        "id": "dqY3Fi0LZ8Sx"
      },
      "source": [
        "### **Create URL model using Transformer Neutral Network**"
      ]
    },
    {
      "cell_type": "code",
      "execution_count": 5,
      "metadata": {
        "colab": {
          "base_uri": "https://localhost:8080/"
        },
        "id": "ITILC3TnVtqB",
        "outputId": "23ed0238-7321-414b-9002-d97068b2a4bd"
      },
      "outputs": [
        {
          "output_type": "stream",
          "name": "stdout",
          "text": [
            "Collecting spektral\n",
            "  Downloading spektral-1.3.1-py3-none-any.whl.metadata (5.9 kB)\n",
            "Requirement already satisfied: joblib in /usr/local/lib/python3.10/dist-packages (from spektral) (1.4.2)\n",
            "Collecting lxml (from spektral)\n",
            "  Downloading lxml-5.3.0-cp310-cp310-manylinux_2_28_x86_64.whl.metadata (3.8 kB)\n",
            "Requirement already satisfied: networkx in /usr/local/lib/python3.10/dist-packages (from spektral) (3.4.2)\n",
            "Requirement already satisfied: numpy in /usr/local/lib/python3.10/dist-packages (from spektral) (1.26.4)\n",
            "Requirement already satisfied: pandas in /usr/local/lib/python3.10/dist-packages (from spektral) (2.2.2)\n",
            "Requirement already satisfied: requests in /usr/local/lib/python3.10/dist-packages (from spektral) (2.32.3)\n",
            "Requirement already satisfied: scikit-learn in /usr/local/lib/python3.10/dist-packages (from spektral) (1.5.2)\n",
            "Requirement already satisfied: scipy in /usr/local/lib/python3.10/dist-packages (from spektral) (1.13.1)\n",
            "Requirement already satisfied: tqdm in /usr/local/lib/python3.10/dist-packages (from spektral) (4.66.6)\n",
            "Requirement already satisfied: tensorflow>=2.2.0 in /usr/local/lib/python3.10/dist-packages (from spektral) (2.15.0)\n",
            "Requirement already satisfied: absl-py>=1.0.0 in /usr/local/lib/python3.10/dist-packages (from tensorflow>=2.2.0->spektral) (1.4.0)\n",
            "Requirement already satisfied: astunparse>=1.6.0 in /usr/local/lib/python3.10/dist-packages (from tensorflow>=2.2.0->spektral) (1.6.3)\n",
            "Requirement already satisfied: flatbuffers>=23.5.26 in /usr/local/lib/python3.10/dist-packages (from tensorflow>=2.2.0->spektral) (24.3.25)\n",
            "Requirement already satisfied: gast!=0.5.0,!=0.5.1,!=0.5.2,>=0.2.1 in /usr/local/lib/python3.10/dist-packages (from tensorflow>=2.2.0->spektral) (0.6.0)\n",
            "Requirement already satisfied: google-pasta>=0.1.1 in /usr/local/lib/python3.10/dist-packages (from tensorflow>=2.2.0->spektral) (0.2.0)\n",
            "Requirement already satisfied: h5py>=2.9.0 in /usr/local/lib/python3.10/dist-packages (from tensorflow>=2.2.0->spektral) (3.12.1)\n",
            "Requirement already satisfied: libclang>=13.0.0 in /usr/local/lib/python3.10/dist-packages (from tensorflow>=2.2.0->spektral) (18.1.1)\n",
            "Requirement already satisfied: ml-dtypes~=0.2.0 in /usr/local/lib/python3.10/dist-packages (from tensorflow>=2.2.0->spektral) (0.2.0)\n",
            "Requirement already satisfied: opt-einsum>=2.3.2 in /usr/local/lib/python3.10/dist-packages (from tensorflow>=2.2.0->spektral) (3.4.0)\n",
            "Requirement already satisfied: packaging in /usr/local/lib/python3.10/dist-packages (from tensorflow>=2.2.0->spektral) (24.2)\n",
            "Requirement already satisfied: protobuf!=4.21.0,!=4.21.1,!=4.21.2,!=4.21.3,!=4.21.4,!=4.21.5,<5.0.0dev,>=3.20.3 in /usr/local/lib/python3.10/dist-packages (from tensorflow>=2.2.0->spektral) (4.25.5)\n",
            "Requirement already satisfied: setuptools in /usr/local/lib/python3.10/dist-packages (from tensorflow>=2.2.0->spektral) (75.1.0)\n",
            "Requirement already satisfied: six>=1.12.0 in /usr/local/lib/python3.10/dist-packages (from tensorflow>=2.2.0->spektral) (1.16.0)\n",
            "Requirement already satisfied: termcolor>=1.1.0 in /usr/local/lib/python3.10/dist-packages (from tensorflow>=2.2.0->spektral) (2.5.0)\n",
            "Requirement already satisfied: typing-extensions>=3.6.6 in /usr/local/lib/python3.10/dist-packages (from tensorflow>=2.2.0->spektral) (4.12.2)\n",
            "Requirement already satisfied: wrapt<1.15,>=1.11.0 in /usr/local/lib/python3.10/dist-packages (from tensorflow>=2.2.0->spektral) (1.14.1)\n",
            "Requirement already satisfied: tensorflow-io-gcs-filesystem>=0.23.1 in /usr/local/lib/python3.10/dist-packages (from tensorflow>=2.2.0->spektral) (0.37.1)\n",
            "Requirement already satisfied: grpcio<2.0,>=1.24.3 in /usr/local/lib/python3.10/dist-packages (from tensorflow>=2.2.0->spektral) (1.67.1)\n",
            "Requirement already satisfied: tensorboard<2.16,>=2.15 in /usr/local/lib/python3.10/dist-packages (from tensorflow>=2.2.0->spektral) (2.15.2)\n",
            "Requirement already satisfied: tensorflow-estimator<2.16,>=2.15.0 in /usr/local/lib/python3.10/dist-packages (from tensorflow>=2.2.0->spektral) (2.15.0)\n",
            "Requirement already satisfied: keras<2.16,>=2.15.0 in /usr/local/lib/python3.10/dist-packages (from tensorflow>=2.2.0->spektral) (2.15.0)\n",
            "Requirement already satisfied: python-dateutil>=2.8.2 in /usr/local/lib/python3.10/dist-packages (from pandas->spektral) (2.9.0.post0)\n",
            "Requirement already satisfied: pytz>=2020.1 in /usr/local/lib/python3.10/dist-packages (from pandas->spektral) (2024.2)\n",
            "Requirement already satisfied: tzdata>=2022.7 in /usr/local/lib/python3.10/dist-packages (from pandas->spektral) (2024.2)\n",
            "Requirement already satisfied: charset-normalizer<4,>=2 in /usr/local/lib/python3.10/dist-packages (from requests->spektral) (3.4.0)\n",
            "Requirement already satisfied: idna<4,>=2.5 in /usr/local/lib/python3.10/dist-packages (from requests->spektral) (3.10)\n",
            "Requirement already satisfied: urllib3<3,>=1.21.1 in /usr/local/lib/python3.10/dist-packages (from requests->spektral) (2.2.3)\n",
            "Requirement already satisfied: certifi>=2017.4.17 in /usr/local/lib/python3.10/dist-packages (from requests->spektral) (2024.8.30)\n",
            "Requirement already satisfied: threadpoolctl>=3.1.0 in /usr/local/lib/python3.10/dist-packages (from scikit-learn->spektral) (3.5.0)\n",
            "Requirement already satisfied: wheel<1.0,>=0.23.0 in /usr/local/lib/python3.10/dist-packages (from astunparse>=1.6.0->tensorflow>=2.2.0->spektral) (0.45.0)\n",
            "Requirement already satisfied: google-auth<3,>=1.6.3 in /usr/local/lib/python3.10/dist-packages (from tensorboard<2.16,>=2.15->tensorflow>=2.2.0->spektral) (2.27.0)\n",
            "Requirement already satisfied: google-auth-oauthlib<2,>=0.5 in /usr/local/lib/python3.10/dist-packages (from tensorboard<2.16,>=2.15->tensorflow>=2.2.0->spektral) (1.2.1)\n",
            "Requirement already satisfied: markdown>=2.6.8 in /usr/local/lib/python3.10/dist-packages (from tensorboard<2.16,>=2.15->tensorflow>=2.2.0->spektral) (3.7)\n",
            "Requirement already satisfied: tensorboard-data-server<0.8.0,>=0.7.0 in /usr/local/lib/python3.10/dist-packages (from tensorboard<2.16,>=2.15->tensorflow>=2.2.0->spektral) (0.7.2)\n",
            "Requirement already satisfied: werkzeug>=1.0.1 in /usr/local/lib/python3.10/dist-packages (from tensorboard<2.16,>=2.15->tensorflow>=2.2.0->spektral) (3.1.3)\n",
            "Requirement already satisfied: cachetools<6.0,>=2.0.0 in /usr/local/lib/python3.10/dist-packages (from google-auth<3,>=1.6.3->tensorboard<2.16,>=2.15->tensorflow>=2.2.0->spektral) (5.5.0)\n",
            "Requirement already satisfied: pyasn1-modules>=0.2.1 in /usr/local/lib/python3.10/dist-packages (from google-auth<3,>=1.6.3->tensorboard<2.16,>=2.15->tensorflow>=2.2.0->spektral) (0.4.1)\n",
            "Requirement already satisfied: rsa<5,>=3.1.4 in /usr/local/lib/python3.10/dist-packages (from google-auth<3,>=1.6.3->tensorboard<2.16,>=2.15->tensorflow>=2.2.0->spektral) (4.9)\n",
            "Requirement already satisfied: requests-oauthlib>=0.7.0 in /usr/local/lib/python3.10/dist-packages (from google-auth-oauthlib<2,>=0.5->tensorboard<2.16,>=2.15->tensorflow>=2.2.0->spektral) (2.0.0)\n",
            "Requirement already satisfied: MarkupSafe>=2.1.1 in /usr/local/lib/python3.10/dist-packages (from werkzeug>=1.0.1->tensorboard<2.16,>=2.15->tensorflow>=2.2.0->spektral) (3.0.2)\n",
            "Requirement already satisfied: pyasn1<0.7.0,>=0.4.6 in /usr/local/lib/python3.10/dist-packages (from pyasn1-modules>=0.2.1->google-auth<3,>=1.6.3->tensorboard<2.16,>=2.15->tensorflow>=2.2.0->spektral) (0.6.1)\n",
            "Requirement already satisfied: oauthlib>=3.0.0 in /usr/local/lib/python3.10/dist-packages (from requests-oauthlib>=0.7.0->google-auth-oauthlib<2,>=0.5->tensorboard<2.16,>=2.15->tensorflow>=2.2.0->spektral) (3.2.2)\n",
            "Downloading spektral-1.3.1-py3-none-any.whl (140 kB)\n",
            "\u001b[2K   \u001b[90m━━━━━━━━━━━━━━━━━━━━━━━━━━━━━━━━━━━━━━━━\u001b[0m \u001b[32m140.1/140.1 kB\u001b[0m \u001b[31m3.2 MB/s\u001b[0m eta \u001b[36m0:00:00\u001b[0m\n",
            "\u001b[?25hDownloading lxml-5.3.0-cp310-cp310-manylinux_2_28_x86_64.whl (5.0 MB)\n",
            "\u001b[2K   \u001b[90m━━━━━━━━━━━━━━━━━━━━━━━━━━━━━━━━━━━━━━━━\u001b[0m \u001b[32m5.0/5.0 MB\u001b[0m \u001b[31m58.3 MB/s\u001b[0m eta \u001b[36m0:00:00\u001b[0m\n",
            "\u001b[?25hInstalling collected packages: lxml, spektral\n",
            "Successfully installed lxml-5.3.0 spektral-1.3.1\n"
          ]
        }
      ],
      "source": [
        "!pip install spektral"
      ]
    },
    {
      "cell_type": "code",
      "execution_count": 6,
      "metadata": {
        "id": "ihcA5_uhsAOP"
      },
      "outputs": [],
      "source": [
        "import tensorflow as tf\n",
        "from tensorflow import keras\n",
        "from tensorflow.keras import layers, models, regularizers\n",
        "from utils.layers import PositionalEmbedding, TransformerEncoder"
      ]
    },
    {
      "cell_type": "code",
      "execution_count": null,
      "metadata": {
        "id": "tG7Ie9hb3p-4"
      },
      "outputs": [],
      "source": [
        "def create_url_model(vocab_size, max_words, embed_dim,\n",
        "                     num_heads, intermediate_dim,\n",
        "                     dropout=0.1, num_transformer_layers=1):\n",
        "    inputs = keras.Input(shape=(max_words,), dtype=tf.int32)\n",
        "    x = PositionalEmbedding(max_words, vocab_size, embed_dim)(inputs)\n",
        "    for _ in range(num_transformer_layers):\n",
        "        x = TransformerEncoder(embed_dim, num_heads, intermediate_dim)(x)\n",
        "        x = layers.Dropout(dropout)(x)\n",
        "    x = layers.GlobalAveragePooling1D()(x)\n",
        "    url_model = keras.Model(inputs=inputs, outputs=x)\n",
        "\n",
        "    return url_model"
      ]
    },
    {
      "cell_type": "markdown",
      "metadata": {
        "id": "x-vy88oyaJVX"
      },
      "source": [
        "### **Create HTML model using Graph Convolution Network**"
      ]
    },
    {
      "cell_type": "code",
      "execution_count": 7,
      "metadata": {
        "id": "C_1BZe-Ux7hE"
      },
      "outputs": [],
      "source": [
        "from spektral.layers import GCNConv, GlobalSumPool\n",
        "from utils.layers import GCN"
      ]
    },
    {
      "cell_type": "code",
      "execution_count": null,
      "metadata": {
        "id": "3t3YPPg6xq_J"
      },
      "outputs": [],
      "source": [
        "def create_html_model(max_nodes, feature_dim, gcn_units,\n",
        "                      dropout=0.1, num_gcn_layers=1):\n",
        "    inputs_adj = keras.Input(shape=(max_nodes, max_nodes), dtype=tf.float32)\n",
        "    inputs_feat = keras.Input(shape=(max_nodes, feature_dim), dtype=tf.float32)\n",
        "\n",
        "    x = inputs_feat\n",
        "    for _ in range(num_gcn_layers):\n",
        "        x = GCN(gcn_units, activation='relu')([x, inputs_adj])\n",
        "        x = layers.Dropout(dropout)(x)\n",
        "    x = GlobalSumPool()(x)\n",
        "    html_model = keras.Model(inputs=[inputs_adj, inputs_feat], outputs=x)\n",
        "\n",
        "    return html_model"
      ]
    },
    {
      "cell_type": "markdown",
      "metadata": {
        "id": "BfJxAiOc4-W3"
      },
      "source": [
        "### **Create full model**"
      ]
    },
    {
      "cell_type": "code",
      "execution_count": null,
      "metadata": {
        "id": "i0R3UZVa5OEF"
      },
      "outputs": [],
      "source": [
        "def create_full_model(vocab_size, max_words, dropout, embed_dim,\n",
        "                      num_heads, intermediate_dim, num_transformer_layers,\n",
        "                      max_nodes, feature_dim, gcn_units,\n",
        "                      num_gcn_layers, dense_dim, l2_reg):\n",
        "    # URL Model\n",
        "    url_model = create_url_model(vocab_size, max_words, embed_dim, num_heads,\n",
        "                                 intermediate_dim, dropout, num_transformer_layers)\n",
        "\n",
        "    # HTML Model\n",
        "    html_model = create_html_model(max_nodes, feature_dim, gcn_units,\n",
        "                                   dropout, num_gcn_layers)\n",
        "\n",
        "    # Inputs\n",
        "    url_inputs = keras.Input(shape=(max_words,), dtype=tf.int32)\n",
        "    adj_inputs = keras.Input(shape=(max_nodes, max_nodes), dtype=tf.float64)\n",
        "    feat_inputs = keras.Input(shape=(max_nodes, feature_dim), dtype=tf.float64)\n",
        "\n",
        "    # Outputs from both models\n",
        "    url_output = url_model(url_inputs)  # (None, embed_dim)\n",
        "    html_output = html_model([adj_inputs, feat_inputs])  # (None, gcn_units)\n",
        "\n",
        "    # Concatenate the outputs (both are 2D now)\n",
        "    combined = layers.Concatenate()([url_output, html_output])  # (None, embed_dim + gcn_units)\n",
        "\n",
        "    # Final layers\n",
        "    x = layers.Dense(dense_dim,\n",
        "                     activation='relu',\n",
        "                     kernel_regularizer=regularizers.l2(l2_reg))(combined)\n",
        "    x = layers.Dropout(dropout)(x)\n",
        "    x = layers.Dense(dense_dim//2,\n",
        "                     activation='relu',\n",
        "                     kernel_regularizer=regularizers.l2(l2_reg))(x)\n",
        "    x = layers.Dropout(dropout)(x)\n",
        "\n",
        "    outputs = layers.Dense(1, activation='sigmoid')(x)\n",
        "\n",
        "    full_model = keras.Model(inputs=[url_inputs, adj_inputs, feat_inputs], outputs=outputs)\n",
        "    return full_model"
      ]
    },
    {
      "cell_type": "markdown",
      "metadata": {
        "id": "GBMOCOvAae_w"
      },
      "source": [
        "## **Train model**"
      ]
    },
    {
      "cell_type": "code",
      "execution_count": null,
      "metadata": {
        "colab": {
          "base_uri": "https://localhost:8080/"
        },
        "id": "jT0yrsGh0RZU",
        "outputId": "66307dcc-78a1-4c6b-8a7d-1fef09ba0eb1"
      },
      "outputs": [
        {
          "output_type": "stream",
          "name": "stdout",
          "text": [
            "Model: \"model_2\"\n",
            "__________________________________________________________________________________________________\n",
            " Layer (type)                Output Shape                 Param #   Connected to                  \n",
            "==================================================================================================\n",
            " input_4 (InputLayer)        [(None, 50)]                 0         []                            \n",
            "                                                                                                  \n",
            " input_5 (InputLayer)        [(None, 600, 600)]           0         []                            \n",
            "                                                                                                  \n",
            " input_6 (InputLayer)        [(None, 600, 3)]             0         []                            \n",
            "                                                                                                  \n",
            " model (Functional)          (None, 128)                  1896448   ['input_4[0][0]']             \n",
            "                                                                                                  \n",
            " model_1 (Functional)        (None, 128)                  17024     ['input_5[0][0]',             \n",
            "                                                                     'input_6[0][0]']             \n",
            "                                                                                                  \n",
            " concatenate (Concatenate)   (None, 256)                  0         ['model[0][0]',               \n",
            "                                                                     'model_1[0][0]']             \n",
            "                                                                                                  \n",
            " dense_4 (Dense)             (None, 128)                  32896     ['concatenate[0][0]']         \n",
            "                                                                                                  \n",
            " dropout_8 (Dropout)         (None, 128)                  0         ['dense_4[0][0]']             \n",
            "                                                                                                  \n",
            " dense_5 (Dense)             (None, 64)                   8256      ['dropout_8[0][0]']           \n",
            "                                                                                                  \n",
            " dropout_9 (Dropout)         (None, 64)                   0         ['dense_5[0][0]']             \n",
            "                                                                                                  \n",
            " dense_6 (Dense)             (None, 1)                    65        ['dropout_9[0][0]']           \n",
            "                                                                                                  \n",
            "==================================================================================================\n",
            "Total params: 1954689 (7.46 MB)\n",
            "Trainable params: 1954689 (7.46 MB)\n",
            "Non-trainable params: 0 (0.00 Byte)\n",
            "__________________________________________________________________________________________________\n",
            "Epoch 1/100\n",
            "80/80 [==============================] - ETA: 0s - loss: 0.4695 - accuracy: 0.7790 - precision: 0.7642 - recall: 0.8071\n",
            "Epoch 1: val_loss improved from inf to 0.20556, saving model to models/best_model.keras\n",
            "80/80 [==============================] - 478s 6s/step - loss: 0.4695 - accuracy: 0.7790 - precision: 0.7642 - recall: 0.8071 - val_loss: 0.2056 - val_accuracy: 0.8703 - val_precision: 0.8080 - val_recall: 0.9714\n",
            "Epoch 2/100\n",
            "80/80 [==============================] - ETA: 0s - loss: 0.2042 - accuracy: 0.8549 - precision: 0.8147 - recall: 0.9188\n",
            "Epoch 2: val_loss improved from 0.20556 to 0.18550, saving model to models/best_model.keras\n",
            "80/80 [==============================] - 463s 6s/step - loss: 0.2042 - accuracy: 0.8549 - precision: 0.8147 - recall: 0.9188 - val_loss: 0.1855 - val_accuracy: 0.8774 - val_precision: 0.8284 - val_recall: 0.9520\n",
            "Epoch 3/100\n",
            "80/80 [==============================] - ETA: 0s - loss: 0.1676 - accuracy: 0.8932 - precision: 0.8674 - recall: 0.9283\n",
            "Epoch 3: val_loss improved from 0.18550 to 0.11656, saving model to models/best_model.keras\n",
            "80/80 [==============================] - 462s 6s/step - loss: 0.1676 - accuracy: 0.8932 - precision: 0.8674 - recall: 0.9283 - val_loss: 0.1166 - val_accuracy: 0.9675 - val_precision: 0.9932 - val_recall: 0.9416\n",
            "Epoch 4/100\n",
            "80/80 [==============================] - ETA: 0s - loss: 0.1106 - accuracy: 0.9706 - precision: 0.9876 - recall: 0.9533\n",
            "Epoch 4: val_loss improved from 0.11656 to 0.09860, saving model to models/best_model.keras\n",
            "80/80 [==============================] - 463s 6s/step - loss: 0.1106 - accuracy: 0.9706 - precision: 0.9876 - recall: 0.9533 - val_loss: 0.0986 - val_accuracy: 0.9776 - val_precision: 0.9923 - val_recall: 0.9627\n",
            "Epoch 5/100\n",
            "80/80 [==============================] - ETA: 0s - loss: 0.0949 - accuracy: 0.9786 - precision: 0.9919 - recall: 0.9651\n",
            "Epoch 5: val_loss improved from 0.09860 to 0.08965, saving model to models/best_model.keras\n",
            "80/80 [==============================] - 463s 6s/step - loss: 0.0949 - accuracy: 0.9786 - precision: 0.9919 - recall: 0.9651 - val_loss: 0.0897 - val_accuracy: 0.9786 - val_precision: 0.9917 - val_recall: 0.9653\n",
            "Epoch 6/100\n",
            "80/80 [==============================] - ETA: 0s - loss: 0.0859 - accuracy: 0.9803 - precision: 0.9925 - recall: 0.9680\n",
            "Epoch 6: val_loss improved from 0.08965 to 0.08691, saving model to models/best_model.keras\n",
            "80/80 [==============================] - 464s 6s/step - loss: 0.0859 - accuracy: 0.9803 - precision: 0.9925 - recall: 0.9680 - val_loss: 0.0869 - val_accuracy: 0.9790 - val_precision: 0.9861 - val_recall: 0.9718\n",
            "Epoch 7/100\n",
            "80/80 [==============================] - ETA: 0s - loss: 0.0781 - accuracy: 0.9819 - precision: 0.9942 - recall: 0.9695\n",
            "Epoch 7: val_loss improved from 0.08691 to 0.07856, saving model to models/best_model.keras\n",
            "80/80 [==============================] - 465s 6s/step - loss: 0.0781 - accuracy: 0.9819 - precision: 0.9942 - recall: 0.9695 - val_loss: 0.0786 - val_accuracy: 0.9797 - val_precision: 0.9912 - val_recall: 0.9680\n",
            "Epoch 8/100\n",
            "80/80 [==============================] - ETA: 0s - loss: 0.0731 - accuracy: 0.9819 - precision: 0.9937 - recall: 0.9700\n",
            "Epoch 8: val_loss improved from 0.07856 to 0.07357, saving model to models/best_model.keras\n",
            "80/80 [==============================] - 466s 6s/step - loss: 0.0731 - accuracy: 0.9819 - precision: 0.9937 - recall: 0.9700 - val_loss: 0.0736 - val_accuracy: 0.9797 - val_precision: 0.9908 - val_recall: 0.9684\n",
            "Epoch 9/100\n",
            "80/80 [==============================] - ETA: 0s - loss: 0.0677 - accuracy: 0.9832 - precision: 0.9944 - recall: 0.9720\n",
            "Epoch 9: val_loss improved from 0.07357 to 0.06841, saving model to models/best_model.keras\n",
            "80/80 [==============================] - 464s 6s/step - loss: 0.0677 - accuracy: 0.9832 - precision: 0.9944 - recall: 0.9720 - val_loss: 0.0684 - val_accuracy: 0.9785 - val_precision: 0.9929 - val_recall: 0.9639\n",
            "Epoch 10/100\n",
            "80/80 [==============================] - ETA: 0s - loss: 0.0635 - accuracy: 0.9835 - precision: 0.9945 - recall: 0.9724\n",
            "Epoch 10: val_loss improved from 0.06841 to 0.06621, saving model to models/best_model.keras\n",
            "80/80 [==============================] - 464s 6s/step - loss: 0.0635 - accuracy: 0.9835 - precision: 0.9945 - recall: 0.9724 - val_loss: 0.0662 - val_accuracy: 0.9791 - val_precision: 0.9896 - val_recall: 0.9684\n",
            "Epoch 11/100\n",
            "80/80 [==============================] - ETA: 0s - loss: 0.0596 - accuracy: 0.9838 - precision: 0.9944 - recall: 0.9732\n",
            "Epoch 11: val_loss improved from 0.06621 to 0.06325, saving model to models/best_model.keras\n",
            "80/80 [==============================] - 464s 6s/step - loss: 0.0596 - accuracy: 0.9838 - precision: 0.9944 - recall: 0.9732 - val_loss: 0.0633 - val_accuracy: 0.9795 - val_precision: 0.9886 - val_recall: 0.9702\n",
            "Epoch 12/100\n",
            "80/80 [==============================] - ETA: 0s - loss: 0.0562 - accuracy: 0.9846 - precision: 0.9952 - recall: 0.9738\n",
            "Epoch 12: val_loss improved from 0.06325 to 0.06025, saving model to models/best_model.keras\n",
            "80/80 [==============================] - 464s 6s/step - loss: 0.0562 - accuracy: 0.9846 - precision: 0.9952 - recall: 0.9738 - val_loss: 0.0602 - val_accuracy: 0.9795 - val_precision: 0.9920 - val_recall: 0.9669\n",
            "Epoch 13/100\n",
            "80/80 [==============================] - ETA: 0s - loss: 0.0534 - accuracy: 0.9844 - precision: 0.9952 - recall: 0.9735\n",
            "Epoch 13: val_loss improved from 0.06025 to 0.05974, saving model to models/best_model.keras\n",
            "80/80 [==============================] - 464s 6s/step - loss: 0.0534 - accuracy: 0.9844 - precision: 0.9952 - recall: 0.9735 - val_loss: 0.0597 - val_accuracy: 0.9791 - val_precision: 0.9908 - val_recall: 0.9673\n",
            "Epoch 14/100\n",
            "80/80 [==============================] - ETA: 0s - loss: 0.0506 - accuracy: 0.9855 - precision: 0.9960 - recall: 0.9749\n",
            "Epoch 14: val_loss improved from 0.05974 to 0.05731, saving model to models/best_model.keras\n",
            "80/80 [==============================] - 465s 6s/step - loss: 0.0506 - accuracy: 0.9855 - precision: 0.9960 - recall: 0.9749 - val_loss: 0.0573 - val_accuracy: 0.9791 - val_precision: 0.9870 - val_recall: 0.9710\n",
            "Epoch 15/100\n",
            "80/80 [==============================] - ETA: 0s - loss: 0.0486 - accuracy: 0.9851 - precision: 0.9953 - recall: 0.9747\n",
            "Epoch 15: val_loss improved from 0.05731 to 0.05315, saving model to models/best_model.keras\n",
            "80/80 [==============================] - 466s 6s/step - loss: 0.0486 - accuracy: 0.9851 - precision: 0.9953 - recall: 0.9747 - val_loss: 0.0532 - val_accuracy: 0.9785 - val_precision: 0.9908 - val_recall: 0.9661\n",
            "Epoch 16/100\n",
            "80/80 [==============================] - ETA: 0s - loss: 0.0461 - accuracy: 0.9854 - precision: 0.9957 - recall: 0.9750\n",
            "Epoch 16: val_loss improved from 0.05315 to 0.05294, saving model to models/best_model.keras\n",
            "80/80 [==============================] - 465s 6s/step - loss: 0.0461 - accuracy: 0.9854 - precision: 0.9957 - recall: 0.9750 - val_loss: 0.0529 - val_accuracy: 0.9794 - val_precision: 0.9871 - val_recall: 0.9716\n",
            "Epoch 17/100\n",
            "80/80 [==============================] - ETA: 0s - loss: 0.0444 - accuracy: 0.9855 - precision: 0.9959 - recall: 0.9750\n",
            "Epoch 17: val_loss improved from 0.05294 to 0.05131, saving model to models/best_model.keras\n",
            "80/80 [==============================] - 466s 6s/step - loss: 0.0444 - accuracy: 0.9855 - precision: 0.9959 - recall: 0.9750 - val_loss: 0.0513 - val_accuracy: 0.9804 - val_precision: 0.9886 - val_recall: 0.9720\n",
            "Epoch 18/100\n",
            "80/80 [==============================] - ETA: 0s - loss: 0.0425 - accuracy: 0.9860 - precision: 0.9958 - recall: 0.9761\n",
            "Epoch 18: val_loss did not improve from 0.05131\n",
            "80/80 [==============================] - 477s 6s/step - loss: 0.0425 - accuracy: 0.9860 - precision: 0.9958 - recall: 0.9761 - val_loss: 0.0534 - val_accuracy: 0.9787 - val_precision: 0.9813 - val_recall: 0.9761\n",
            "Epoch 19/100\n",
            "80/80 [==============================] - ETA: 0s - loss: 0.0405 - accuracy: 0.9861 - precision: 0.9957 - recall: 0.9765\n",
            "Epoch 19: val_loss did not improve from 0.05131\n",
            "80/80 [==============================] - 465s 6s/step - loss: 0.0405 - accuracy: 0.9861 - precision: 0.9957 - recall: 0.9765 - val_loss: 0.0516 - val_accuracy: 0.9802 - val_precision: 0.9859 - val_recall: 0.9743\n",
            "Epoch 20/100\n",
            "80/80 [==============================] - ETA: 0s - loss: 0.0393 - accuracy: 0.9857 - precision: 0.9955 - recall: 0.9758\n",
            "Epoch 20: val_loss improved from 0.05131 to 0.04698, saving model to models/best_model.keras\n",
            "80/80 [==============================] - 467s 6s/step - loss: 0.0393 - accuracy: 0.9857 - precision: 0.9955 - recall: 0.9758 - val_loss: 0.0470 - val_accuracy: 0.9809 - val_precision: 0.9894 - val_recall: 0.9722\n",
            "Epoch 21/100\n",
            "80/80 [==============================] - ETA: 0s - loss: 0.0381 - accuracy: 0.9858 - precision: 0.9956 - recall: 0.9760\n",
            "Epoch 21: val_loss improved from 0.04698 to 0.04509, saving model to models/best_model.keras\n",
            "80/80 [==============================] - 468s 6s/step - loss: 0.0381 - accuracy: 0.9858 - precision: 0.9956 - recall: 0.9760 - val_loss: 0.0451 - val_accuracy: 0.9800 - val_precision: 0.9882 - val_recall: 0.9716\n",
            "Epoch 22/100\n",
            "80/80 [==============================] - ETA: 0s - loss: 0.0364 - accuracy: 0.9861 - precision: 0.9952 - recall: 0.9769\n",
            "Epoch 22: val_loss did not improve from 0.04509\n",
            "80/80 [==============================] - 466s 6s/step - loss: 0.0364 - accuracy: 0.9861 - precision: 0.9952 - recall: 0.9769 - val_loss: 0.0471 - val_accuracy: 0.9794 - val_precision: 0.9851 - val_recall: 0.9735\n",
            "Epoch 23/100\n",
            "80/80 [==============================] - ETA: 0s - loss: 0.0351 - accuracy: 0.9866 - precision: 0.9959 - recall: 0.9773\n",
            "Epoch 23: val_loss improved from 0.04509 to 0.04351, saving model to models/best_model.keras\n",
            "80/80 [==============================] - 467s 6s/step - loss: 0.0351 - accuracy: 0.9866 - precision: 0.9959 - recall: 0.9773 - val_loss: 0.0435 - val_accuracy: 0.9800 - val_precision: 0.9890 - val_recall: 0.9708\n",
            "Epoch 24/100\n",
            "80/80 [==============================] - ETA: 0s - loss: 0.0338 - accuracy: 0.9865 - precision: 0.9956 - recall: 0.9775\n",
            "Epoch 24: val_loss improved from 0.04351 to 0.04296, saving model to models/best_model.keras\n",
            "80/80 [==============================] - 466s 6s/step - loss: 0.0338 - accuracy: 0.9865 - precision: 0.9956 - recall: 0.9775 - val_loss: 0.0430 - val_accuracy: 0.9809 - val_precision: 0.9863 - val_recall: 0.9753\n",
            "Epoch 25/100\n",
            "80/80 [==============================] - ETA: 0s - loss: 0.0322 - accuracy: 0.9870 - precision: 0.9956 - recall: 0.9783\n",
            "Epoch 25: val_loss did not improve from 0.04296\n",
            "80/80 [==============================] - 466s 6s/step - loss: 0.0322 - accuracy: 0.9870 - precision: 0.9956 - recall: 0.9783 - val_loss: 0.0431 - val_accuracy: 0.9810 - val_precision: 0.9886 - val_recall: 0.9731\n",
            "Epoch 26/100\n",
            "80/80 [==============================] - ETA: 0s - loss: 0.0315 - accuracy: 0.9870 - precision: 0.9952 - recall: 0.9787\n",
            "Epoch 26: val_loss improved from 0.04296 to 0.04172, saving model to models/best_model.keras\n",
            "80/80 [==============================] - 468s 6s/step - loss: 0.0315 - accuracy: 0.9870 - precision: 0.9952 - recall: 0.9787 - val_loss: 0.0417 - val_accuracy: 0.9816 - val_precision: 0.9860 - val_recall: 0.9771\n",
            "Epoch 27/100\n",
            "80/80 [==============================] - ETA: 0s - loss: 0.0301 - accuracy: 0.9874 - precision: 0.9948 - recall: 0.9799\n",
            "Epoch 27: val_loss improved from 0.04172 to 0.03910, saving model to models/best_model.keras\n",
            "80/80 [==============================] - 467s 6s/step - loss: 0.0301 - accuracy: 0.9874 - precision: 0.9948 - recall: 0.9799 - val_loss: 0.0391 - val_accuracy: 0.9817 - val_precision: 0.9883 - val_recall: 0.9749\n",
            "Epoch 28/100\n",
            "80/80 [==============================] - ETA: 0s - loss: 0.0289 - accuracy: 0.9877 - precision: 0.9948 - recall: 0.9806\n",
            "Epoch 28: val_loss did not improve from 0.03910\n",
            "80/80 [==============================] - 467s 6s/step - loss: 0.0289 - accuracy: 0.9877 - precision: 0.9948 - recall: 0.9806 - val_loss: 0.0411 - val_accuracy: 0.9810 - val_precision: 0.9865 - val_recall: 0.9753\n",
            "Epoch 29/100\n",
            "80/80 [==============================] - ETA: 0s - loss: 0.0284 - accuracy: 0.9875 - precision: 0.9950 - recall: 0.9800\n",
            "Epoch 29: val_loss did not improve from 0.03910\n",
            "80/80 [==============================] - 468s 6s/step - loss: 0.0284 - accuracy: 0.9875 - precision: 0.9950 - recall: 0.9800 - val_loss: 0.0411 - val_accuracy: 0.9796 - val_precision: 0.9838 - val_recall: 0.9753\n",
            "Epoch 30/100\n",
            "80/80 [==============================] - ETA: 0s - loss: 0.0272 - accuracy: 0.9877 - precision: 0.9950 - recall: 0.9804\n",
            "Epoch 30: val_loss did not improve from 0.03910\n",
            "80/80 [==============================] - 468s 6s/step - loss: 0.0272 - accuracy: 0.9877 - precision: 0.9950 - recall: 0.9804 - val_loss: 0.0392 - val_accuracy: 0.9815 - val_precision: 0.9844 - val_recall: 0.9784\n",
            "Epoch 31/100\n",
            "80/80 [==============================] - ETA: 0s - loss: 0.0264 - accuracy: 0.9880 - precision: 0.9950 - recall: 0.9810\n",
            "Epoch 31: val_loss improved from 0.03910 to 0.03786, saving model to models/best_model.keras\n",
            "80/80 [==============================] - 467s 6s/step - loss: 0.0264 - accuracy: 0.9880 - precision: 0.9950 - recall: 0.9810 - val_loss: 0.0379 - val_accuracy: 0.9804 - val_precision: 0.9825 - val_recall: 0.9782\n",
            "Epoch 32/100\n",
            "80/80 [==============================] - ETA: 0s - loss: 0.0255 - accuracy: 0.9882 - precision: 0.9950 - recall: 0.9814\n",
            "Epoch 32: val_loss improved from 0.03786 to 0.03603, saving model to models/best_model.keras\n",
            "80/80 [==============================] - 469s 6s/step - loss: 0.0255 - accuracy: 0.9882 - precision: 0.9950 - recall: 0.9814 - val_loss: 0.0360 - val_accuracy: 0.9813 - val_precision: 0.9906 - val_recall: 0.9718\n",
            "Epoch 33/100\n",
            "80/80 [==============================] - ETA: 0s - loss: 0.0249 - accuracy: 0.9882 - precision: 0.9948 - recall: 0.9815\n",
            "Epoch 33: val_loss did not improve from 0.03603\n",
            "80/80 [==============================] - 468s 6s/step - loss: 0.0249 - accuracy: 0.9882 - precision: 0.9948 - recall: 0.9815 - val_loss: 0.0389 - val_accuracy: 0.9803 - val_precision: 0.9829 - val_recall: 0.9776\n",
            "Epoch 34/100\n",
            "80/80 [==============================] - ETA: 0s - loss: 0.0246 - accuracy: 0.9880 - precision: 0.9945 - recall: 0.9814\n",
            "Epoch 34: val_loss did not improve from 0.03603\n",
            "80/80 [==============================] - 468s 6s/step - loss: 0.0246 - accuracy: 0.9880 - precision: 0.9945 - recall: 0.9814 - val_loss: 0.0365 - val_accuracy: 0.9827 - val_precision: 0.9879 - val_recall: 0.9775\n",
            "Epoch 35/100\n",
            "80/80 [==============================] - ETA: 0s - loss: 0.0236 - accuracy: 0.9883 - precision: 0.9954 - recall: 0.9812\n",
            "Epoch 35: val_loss improved from 0.03603 to 0.03601, saving model to models/best_model.keras\n",
            "80/80 [==============================] - 468s 6s/step - loss: 0.0236 - accuracy: 0.9883 - precision: 0.9954 - recall: 0.9812 - val_loss: 0.0360 - val_accuracy: 0.9814 - val_precision: 0.9865 - val_recall: 0.9761\n",
            "Epoch 36/100\n",
            "80/80 [==============================] - ETA: 0s - loss: 0.0229 - accuracy: 0.9882 - precision: 0.9949 - recall: 0.9814\n",
            "Epoch 36: val_loss did not improve from 0.03601\n",
            "80/80 [==============================] - 469s 6s/step - loss: 0.0229 - accuracy: 0.9882 - precision: 0.9949 - recall: 0.9814 - val_loss: 0.0379 - val_accuracy: 0.9807 - val_precision: 0.9832 - val_recall: 0.9780\n",
            "Epoch 37/100\n",
            "80/80 [==============================] - ETA: 0s - loss: 0.0223 - accuracy: 0.9888 - precision: 0.9952 - recall: 0.9823\n",
            "Epoch 37: val_loss did not improve from 0.03601\n",
            "80/80 [==============================] - 474s 6s/step - loss: 0.0223 - accuracy: 0.9888 - precision: 0.9952 - recall: 0.9823 - val_loss: 0.0375 - val_accuracy: 0.9807 - val_precision: 0.9825 - val_recall: 0.9788\n",
            "Epoch 38/100\n",
            "80/80 [==============================] - ETA: 0s - loss: 0.0216 - accuracy: 0.9885 - precision: 0.9948 - recall: 0.9822\n",
            "Epoch 38: val_loss improved from 0.03601 to 0.03424, saving model to models/best_model.keras\n",
            "80/80 [==============================] - 470s 6s/step - loss: 0.0216 - accuracy: 0.9885 - precision: 0.9948 - recall: 0.9822 - val_loss: 0.0342 - val_accuracy: 0.9824 - val_precision: 0.9871 - val_recall: 0.9775\n",
            "Epoch 39/100\n",
            "80/80 [==============================] - ETA: 0s - loss: 0.0210 - accuracy: 0.9886 - precision: 0.9955 - recall: 0.9817\n",
            "Epoch 39: val_loss did not improve from 0.03424\n",
            "80/80 [==============================] - 470s 6s/step - loss: 0.0210 - accuracy: 0.9886 - precision: 0.9955 - recall: 0.9817 - val_loss: 0.0344 - val_accuracy: 0.9789 - val_precision: 0.9820 - val_recall: 0.9757\n",
            "Epoch 40/100\n",
            "80/80 [==============================] - ETA: 0s - loss: 0.0208 - accuracy: 0.9883 - precision: 0.9954 - recall: 0.9812\n",
            "Epoch 40: val_loss did not improve from 0.03424\n",
            "80/80 [==============================] - 471s 6s/step - loss: 0.0208 - accuracy: 0.9883 - precision: 0.9954 - recall: 0.9812 - val_loss: 0.0371 - val_accuracy: 0.9811 - val_precision: 0.9823 - val_recall: 0.9798\n",
            "Epoch 41/100\n",
            "80/80 [==============================] - ETA: 0s - loss: 0.0204 - accuracy: 0.9883 - precision: 0.9949 - recall: 0.9817\n",
            "Epoch 41: val_loss improved from 0.03424 to 0.03345, saving model to models/best_model.keras\n",
            "80/80 [==============================] - 470s 6s/step - loss: 0.0204 - accuracy: 0.9883 - precision: 0.9949 - recall: 0.9817 - val_loss: 0.0334 - val_accuracy: 0.9821 - val_precision: 0.9865 - val_recall: 0.9775\n",
            "Epoch 42/100\n",
            "80/80 [==============================] - ETA: 0s - loss: 0.0193 - accuracy: 0.9893 - precision: 0.9957 - recall: 0.9828\n",
            "Epoch 42: val_loss did not improve from 0.03345\n",
            "80/80 [==============================] - 470s 6s/step - loss: 0.0193 - accuracy: 0.9893 - precision: 0.9957 - recall: 0.9828 - val_loss: 0.0364 - val_accuracy: 0.9805 - val_precision: 0.9812 - val_recall: 0.9798\n",
            "Epoch 43/100\n",
            "80/80 [==============================] - ETA: 0s - loss: 0.0189 - accuracy: 0.9890 - precision: 0.9953 - recall: 0.9828\n",
            "Epoch 43: val_loss did not improve from 0.03345\n",
            "80/80 [==============================] - 470s 6s/step - loss: 0.0189 - accuracy: 0.9890 - precision: 0.9953 - recall: 0.9828 - val_loss: 0.0339 - val_accuracy: 0.9825 - val_precision: 0.9879 - val_recall: 0.9769\n",
            "Epoch 44/100\n",
            "80/80 [==============================] - ETA: 0s - loss: 0.0185 - accuracy: 0.9886 - precision: 0.9948 - recall: 0.9824\n",
            "Epoch 44: val_loss improved from 0.03345 to 0.03205, saving model to models/best_model.keras\n",
            "80/80 [==============================] - 469s 6s/step - loss: 0.0185 - accuracy: 0.9886 - precision: 0.9948 - recall: 0.9824 - val_loss: 0.0321 - val_accuracy: 0.9817 - val_precision: 0.9891 - val_recall: 0.9741\n",
            "Epoch 45/100\n",
            "80/80 [==============================] - ETA: 0s - loss: 0.0182 - accuracy: 0.9890 - precision: 0.9955 - recall: 0.9824\n",
            "Epoch 45: val_loss did not improve from 0.03205\n",
            "80/80 [==============================] - 469s 6s/step - loss: 0.0182 - accuracy: 0.9890 - precision: 0.9955 - recall: 0.9824 - val_loss: 0.0333 - val_accuracy: 0.9811 - val_precision: 0.9861 - val_recall: 0.9759\n",
            "Epoch 46/100\n",
            "80/80 [==============================] - ETA: 0s - loss: 0.0179 - accuracy: 0.9885 - precision: 0.9950 - recall: 0.9819\n",
            "Epoch 46: val_loss did not improve from 0.03205\n",
            "80/80 [==============================] - 470s 6s/step - loss: 0.0179 - accuracy: 0.9885 - precision: 0.9950 - recall: 0.9819 - val_loss: 0.0343 - val_accuracy: 0.9797 - val_precision: 0.9779 - val_recall: 0.9816\n",
            "Epoch 47/100\n",
            "80/80 [==============================] - ETA: 0s - loss: 0.0175 - accuracy: 0.9887 - precision: 0.9954 - recall: 0.9819\n",
            "Epoch 47: val_loss did not improve from 0.03205\n",
            "80/80 [==============================] - 472s 6s/step - loss: 0.0175 - accuracy: 0.9887 - precision: 0.9954 - recall: 0.9819 - val_loss: 0.0346 - val_accuracy: 0.9819 - val_precision: 0.9852 - val_recall: 0.9784\n",
            "Epoch 48/100\n",
            "80/80 [==============================] - ETA: 0s - loss: 0.0173 - accuracy: 0.9885 - precision: 0.9953 - recall: 0.9816\n",
            "Epoch 48: val_loss improved from 0.03205 to 0.03122, saving model to models/best_model.keras\n",
            "80/80 [==============================] - 469s 6s/step - loss: 0.0173 - accuracy: 0.9885 - precision: 0.9953 - recall: 0.9816 - val_loss: 0.0312 - val_accuracy: 0.9820 - val_precision: 0.9891 - val_recall: 0.9747\n",
            "Epoch 49/100\n",
            "80/80 [==============================] - ETA: 0s - loss: 0.0170 - accuracy: 0.9890 - precision: 0.9956 - recall: 0.9825\n",
            "Epoch 49: val_loss did not improve from 0.03122\n",
            "80/80 [==============================] - 471s 6s/step - loss: 0.0170 - accuracy: 0.9890 - precision: 0.9956 - recall: 0.9825 - val_loss: 0.0327 - val_accuracy: 0.9820 - val_precision: 0.9846 - val_recall: 0.9792\n",
            "Epoch 50/100\n",
            "80/80 [==============================] - ETA: 0s - loss: 0.0167 - accuracy: 0.9888 - precision: 0.9954 - recall: 0.9820\n",
            "Epoch 50: val_loss improved from 0.03122 to 0.02827, saving model to models/best_model.keras\n",
            "80/80 [==============================] - 469s 6s/step - loss: 0.0167 - accuracy: 0.9888 - precision: 0.9954 - recall: 0.9820 - val_loss: 0.0283 - val_accuracy: 0.9798 - val_precision: 0.9809 - val_recall: 0.9786\n",
            "Epoch 51/100\n",
            "80/80 [==============================] - ETA: 0s - loss: 0.0162 - accuracy: 0.9887 - precision: 0.9949 - recall: 0.9825\n",
            "Epoch 51: val_loss did not improve from 0.02827\n",
            "80/80 [==============================] - 472s 6s/step - loss: 0.0162 - accuracy: 0.9887 - precision: 0.9949 - recall: 0.9825 - val_loss: 0.0312 - val_accuracy: 0.9815 - val_precision: 0.9881 - val_recall: 0.9747\n",
            "Epoch 52/100\n",
            "80/80 [==============================] - ETA: 0s - loss: 0.0157 - accuracy: 0.9892 - precision: 0.9957 - recall: 0.9825\n",
            "Epoch 52: val_loss did not improve from 0.02827\n",
            "80/80 [==============================] - 470s 6s/step - loss: 0.0157 - accuracy: 0.9892 - precision: 0.9957 - recall: 0.9825 - val_loss: 0.0310 - val_accuracy: 0.9807 - val_precision: 0.9823 - val_recall: 0.9790\n",
            "Epoch 53/100\n",
            "80/80 [==============================] - ETA: 0s - loss: 0.0157 - accuracy: 0.9891 - precision: 0.9955 - recall: 0.9825\n",
            "Epoch 53: val_loss did not improve from 0.02827\n",
            "80/80 [==============================] - 470s 6s/step - loss: 0.0157 - accuracy: 0.9891 - precision: 0.9955 - recall: 0.9825 - val_loss: 0.0315 - val_accuracy: 0.9803 - val_precision: 0.9859 - val_recall: 0.9745\n",
            "Epoch 54/100\n",
            "80/80 [==============================] - ETA: 0s - loss: 0.0153 - accuracy: 0.9891 - precision: 0.9957 - recall: 0.9824\n",
            "Epoch 54: val_loss did not improve from 0.02827\n",
            "80/80 [==============================] - 469s 6s/step - loss: 0.0153 - accuracy: 0.9891 - precision: 0.9957 - recall: 0.9824 - val_loss: 0.0303 - val_accuracy: 0.9809 - val_precision: 0.9836 - val_recall: 0.9780\n",
            "Epoch 55/100\n",
            "80/80 [==============================] - ETA: 0s - loss: 0.0156 - accuracy: 0.9886 - precision: 0.9950 - recall: 0.9821\n",
            "Epoch 55: val_loss did not improve from 0.02827\n",
            "Restoring model weights from the end of the best epoch: 50.\n",
            "80/80 [==============================] - 471s 6s/step - loss: 0.0156 - accuracy: 0.9886 - precision: 0.9950 - recall: 0.9821 - val_loss: 0.0299 - val_accuracy: 0.9821 - val_precision: 0.9885 - val_recall: 0.9755\n",
            "Epoch 55: early stopping\n"
          ]
        }
      ],
      "source": [
        "vocab_size = 6000\n",
        "max_words = 50\n",
        "max_nodes = 600\n",
        "feature_dim = 3\n",
        "\n",
        "train_dataset = load_dataset('data/train.h5', batch_size=1020)\n",
        "val_dataset = load_dataset('data/val.h5', batch_size=1020)\n",
        "\n",
        "model = create_full_model(vocab_size=vocab_size,\n",
        "                          max_words=max_words,\n",
        "                          dropout=0.3,\n",
        "                          embed_dim=128,\n",
        "                          num_heads=8,\n",
        "                          intermediate_dim=128,\n",
        "                          num_transformer_layers=2,\n",
        "                          max_nodes=max_nodes,\n",
        "                          feature_dim=feature_dim,\n",
        "                          gcn_units=128,\n",
        "                          num_gcn_layers=2,\n",
        "                          dense_dim=128,\n",
        "                          l2_reg=5e-4)\n",
        "\n",
        "model.summary()\n",
        "\n",
        "optimizer = keras.optimizers.Adam(learning_rate=1e-3)\n",
        "focal_loss = keras.losses.BinaryFocalCrossentropy(gamma=2)\n",
        "metrics = ['accuracy', tf.keras.metrics.Precision(), tf.keras.metrics.Recall()]\n",
        "model.compile(optimizer=optimizer, loss=focal_loss, metrics=metrics)\n",
        "\n",
        "checkpoint_filepath = 'models/best_model.keras'\n",
        "\n",
        "checkpoint_callback = tf.keras.callbacks.ModelCheckpoint(\n",
        "    filepath=checkpoint_filepath,\n",
        "    save_weights_only=False,\n",
        "    monitor='val_loss',\n",
        "    mode='min',\n",
        "    save_best_only=True,\n",
        "    verbose=1\n",
        ")\n",
        "\n",
        "early_stopping = tf.keras.callbacks.EarlyStopping(\n",
        "    monitor='val_loss',\n",
        "    patience=5,\n",
        "    restore_best_weights=True,\n",
        "    verbose=1\n",
        ")\n",
        "\n",
        "history = model.fit(train_dataset,\n",
        "                    validation_data=val_dataset,\n",
        "                    epochs=100,\n",
        "                    callbacks=[checkpoint_callback, early_stopping])"
      ]
    },
    {
      "cell_type": "code",
      "execution_count": 14,
      "metadata": {
        "id": "i56f9BqfUyu-"
      },
      "outputs": [],
      "source": [
        "import matplotlib.pyplot as plt\n",
        "import seaborn as sns"
      ]
    },
    {
      "cell_type": "code",
      "execution_count": null,
      "metadata": {
        "id": "5WB8DRQcijms",
        "colab": {
          "base_uri": "https://localhost:8080/",
          "height": 1000
        },
        "outputId": "8912dde0-0d0a-4623-8d96-d444b2f2dbe8"
      },
      "outputs": [
        {
          "output_type": "display_data",
          "data": {
            "text/plain": [
              "<Figure size 1000x600 with 1 Axes>"
            ],
            "image/png": "[encoded data removed]"
          },
          "metadata": {}
        },
        {
          "output_type": "display_data",
          "data": {
            "text/plain": [
              "<Figure size 1000x600 with 1 Axes>"
            ],
            "image/png": "[encoded data removed]"
          },
          "metadata": {}
        }
      ],
      "source": [
        "# Plot history loss\n",
        "plt.figure(figsize=(10, 6))\n",
        "plt.plot(history.history['loss'], label='train loss')\n",
        "plt.plot(history.history['val_loss'], label='val loss')\n",
        "plt.xlabel('epoch')\n",
        "plt.ylabel('Cross-entropy loss')\n",
        "plt.legend()\n",
        "plt.show()\n",
        "\n",
        "# Plot history accuracy\n",
        "plt.figure(figsize=(10, 6))\n",
        "plt.plot(history.history['accuracy'], label='train accuracy')\n",
        "plt.plot(history.history['val_accuracy'], label='val accuracy')\n",
        "plt.xlabel('epoch')\n",
        "plt.ylabel('accuracy')\n",
        "plt.legend()\n",
        "plt.show()"
      ]
    },
    {
      "cell_type": "markdown",
      "metadata": {
        "id": "pon8ohwipVJt"
      },
      "source": [
        "## **Test and evaluate model**"
      ]
    },
    {
      "cell_type": "code",
      "execution_count": 8,
      "metadata": {
        "id": "NzILqZmVpxLu"
      },
      "outputs": [],
      "source": [
        "best_model = keras.models.load_model(\n",
        "    'models/best_model.keras',\n",
        "    custom_objects={'TransformerEncoder': TransformerEncoder,\n",
        "                    'PositionalEmbedding': PositionalEmbedding,\n",
        "                    'GCNConv': GCNConv,\n",
        "                    'GlobalSumPool': GlobalSumPool,\n",
        "                    'GCN': GCN})"
      ]
    },
    {
      "cell_type": "code",
      "execution_count": null,
      "metadata": {
        "id": "83ccI1sutwUO",
        "colab": {
          "base_uri": "https://localhost:8080/"
        },
        "outputId": "5861ba22-62cb-4025-be81-74d11d60d775"
      },
      "outputs": [
        {
          "output_type": "stream",
          "name": "stderr",
          "text": [
            "/usr/local/lib/python3.10/dist-packages/keras/src/engine/training.py:3103: UserWarning: You are saving your model as an HDF5 file via `model.save()`. This file format is considered legacy. We recommend using instead the native Keras format, e.g. `model.save('my_model.keras')`.\n",
            "  saving_api.save_model(\n"
          ]
        }
      ],
      "source": [
        "best_model.save('models/best_model.h5')"
      ]
    },
    {
      "cell_type": "code",
      "execution_count": 9,
      "metadata": {
        "id": "UqUXbPqJf7Pv"
      },
      "outputs": [],
      "source": [
        "from sklearn.metrics import classification_report, confusion_matrix"
      ]
    },
    {
      "cell_type": "code",
      "execution_count": 11,
      "metadata": {
        "id": "tWQstEJ2gB6d",
        "colab": {
          "base_uri": "https://localhost:8080/"
        },
        "outputId": "6601ec95-d821-4460-a486-7ffc2e52047b"
      },
      "outputs": [
        {
          "output_type": "stream",
          "name": "stdout",
          "text": [
            "10/10 [==============================] - 39s 3s/step\n",
            "              precision    recall  f1-score   support\n",
            "\n",
            "           0     0.9787    0.9810    0.9798      5100\n",
            "           1     0.9809    0.9786    0.9798      5100\n",
            "\n",
            "    accuracy                         0.9798     10200\n",
            "   macro avg     0.9798    0.9798    0.9798     10200\n",
            "weighted avg     0.9798    0.9798    0.9798     10200\n",
            "\n"
          ]
        }
      ],
      "source": [
        "test_dataset = load_dataset('data/val.h5', batch_size=1020)\n",
        "\n",
        "y_pred_prob = best_model.predict(test_dataset)\n",
        "y_pred = (y_pred_prob > 0.5).astype(int)\n",
        "\n",
        "label_test = tf.concat([y for x, y in test_dataset], axis=0).numpy()\n",
        "print(classification_report(label_test, y_pred, digits=4))"
      ]
    },
    {
      "cell_type": "code",
      "execution_count": 12,
      "metadata": {
        "id": "cPiDk-XKs7Ly"
      },
      "outputs": [],
      "source": [
        "import numpy as np"
      ]
    },
    {
      "cell_type": "code",
      "execution_count": 15,
      "metadata": {
        "id": "SaIR_h96gg3O",
        "colab": {
          "base_uri": "https://localhost:8080/",
          "height": 564
        },
        "outputId": "076c299d-3258-4c84-fb6a-37073bed43a3"
      },
      "outputs": [
        {
          "output_type": "display_data",
          "data": {
            "text/plain": [
              "<Figure size 800x600 with 1 Axes>"
            ],
            "image/png": "[encoded data removed]"
          },
          "metadata": {}
        }
      ],
      "source": [
        "cm = confusion_matrix(label_test, y_pred)\n",
        "cm_percentage = cm.astype('float') / cm.sum(axis=1)[:, np.newaxis]\n",
        "\n",
        "labels = [[f'{int(count)}\\n({percentage:.2%})'\n",
        "           for count, percentage in zip(row_count, row_percentage)]\n",
        "           for row_count, row_percentage in zip(cm, cm_percentage)]\n",
        "\n",
        "plt.figure(figsize=(8, 6))\n",
        "sns.heatmap(cm_percentage, annot=labels, fmt='', cmap='Blues', cbar=False)\n",
        "plt.title('Confusion Matrix (Count and Percentage)')\n",
        "plt.ylabel('True label')\n",
        "plt.xlabel('Predicted label')\n",
        "plt.show()"
      ]
    }
  ],
  "metadata": {
    "accelerator": "TPU",
    "colab": {
      "gpuType": "V28",
      "machine_shape": "hm",
      "provenance": [],
      "include_colab_link": true
    },
    "kernelspec": {
      "display_name": "Python 3",
      "name": "python3"
    },
    "language_info": {
      "name": "python"
    }
  },
  "nbformat": 4,
  "nbformat_minor": 0
}
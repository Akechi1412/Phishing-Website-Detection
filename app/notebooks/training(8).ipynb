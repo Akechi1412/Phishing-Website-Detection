{
  "cells": [
    {
      "cell_type": "markdown",
      "metadata": {
        "id": "view-in-github",
        "colab_type": "text"
      },
      "source": [
        "<a href=\"https://colab.research.google.com/github/Akechi1412/Phishing-Website-Detection/blob/main/app/notebooks/training(8).ipynb\" target=\"_parent\"><img src=\"https://colab.research.google.com/assets/colab-badge.svg\" alt=\"Open In Colab\"/></a>"
      ]
    },
    {
      "cell_type": "markdown",
      "metadata": {
        "id": "Ie97YpRCETlO"
      },
      "source": [
        "# **Train Phishing Webpage Detection Model**"
      ]
    },
    {
      "cell_type": "markdown",
      "metadata": {
        "id": "JWJeAJ4MEkBz"
      },
      "source": [
        "## **Connect to Drive and Github responsitory**"
      ]
    },
    {
      "cell_type": "code",
      "execution_count": null,
      "metadata": {
        "colab": {
          "base_uri": "https://localhost:8080/"
        },
        "id": "GFR4qI0yDyXW",
        "outputId": "24213b59-26d2-4124-c43a-04eb385ee793"
      },
      "outputs": [
        {
          "output_type": "stream",
          "name": "stdout",
          "text": [
            "Mounted at /content/drive\n"
          ]
        }
      ],
      "source": [
        "from google.colab import drive\n",
        "drive.mount('/content/drive')"
      ]
    },
    {
      "cell_type": "code",
      "execution_count": null,
      "metadata": {
        "colab": {
          "base_uri": "https://localhost:8080/"
        },
        "id": "kRvWxHJVEqiV",
        "outputId": "0b9d76db-ca44-4b06-8360-216cc01b0606"
      },
      "outputs": [
        {
          "output_type": "stream",
          "name": "stdout",
          "text": [
            "/content/drive/MyDrive/Github\n",
            "/content/drive/MyDrive/Github/Phishing-Website-Detection/app\n",
            "Updating files: 100% (75/75), done.\n",
            "HEAD is now at 8af2080 Fix something 20_11\n"
          ]
        }
      ],
      "source": [
        "%cd /content/drive/MyDrive/Github\n",
        "%cd Phishing-Website-Detection/app\n",
        "!git config --global user.email 'nguyenphong10042002@gmail.com'\n",
        "!git config --global user.name 'Akechi1412'\n",
        "!git fetch origin\n",
        "!git reset --hard origin/main"
      ]
    },
    {
      "cell_type": "markdown",
      "metadata": {
        "id": "ND63uFHUXK9M"
      },
      "source": [
        "## **Load dataset**"
      ]
    },
    {
      "cell_type": "code",
      "execution_count": null,
      "metadata": {
        "id": "xOnT0W5UMd4S"
      },
      "outputs": [],
      "source": [
        "import h5py\n",
        "import tensorflow as tf"
      ]
    },
    {
      "cell_type": "code",
      "execution_count": null,
      "metadata": {
        "id": "bmEwXL7hMhRx"
      },
      "outputs": [],
      "source": [
        "def load_dataset(file_path, batch_size=1024):\n",
        "    with h5py.File(file_path, 'r') as f:\n",
        "        url_data = f['url']\n",
        "        adjacency_data = f['adjacency']\n",
        "        feature_data = f['feature']\n",
        "        label_data = f['label']\n",
        "\n",
        "        num_samples = label_data.shape[0]\n",
        "\n",
        "        dataset = tf.data.Dataset.from_tensor_slices((\n",
        "            (\n",
        "                tf.convert_to_tensor(url_data, dtype=tf.int32),\n",
        "                tf.convert_to_tensor(adjacency_data, dtype=tf.float32),\n",
        "                tf.convert_to_tensor(feature_data, dtype=tf.float32)\n",
        "            ),\n",
        "            tf.convert_to_tensor(label_data, dtype=tf.int32)\n",
        "        ))\n",
        "\n",
        "    dataset = dataset.batch(batch_size).prefetch(tf.data.experimental.AUTOTUNE)\n",
        "\n",
        "    return dataset"
      ]
    },
    {
      "cell_type": "markdown",
      "metadata": {
        "id": "PGlreT0lYxoA"
      },
      "source": [
        "## **Create models functions**"
      ]
    },
    {
      "cell_type": "markdown",
      "metadata": {
        "id": "dqY3Fi0LZ8Sx"
      },
      "source": [
        "### **Create URL model using Transformer Neutral Network**"
      ]
    },
    {
      "cell_type": "code",
      "execution_count": null,
      "metadata": {
        "colab": {
          "base_uri": "https://localhost:8080/"
        },
        "id": "ITILC3TnVtqB",
        "outputId": "4be3d327-f8dd-4576-afc4-f64e83a2bb90"
      },
      "outputs": [
        {
          "output_type": "stream",
          "name": "stdout",
          "text": [
            "Collecting spektral\n",
            "  Downloading spektral-1.3.1-py3-none-any.whl.metadata (5.9 kB)\n",
            "Requirement already satisfied: joblib in /usr/local/lib/python3.10/dist-packages (from spektral) (1.4.2)\n",
            "Collecting lxml (from spektral)\n",
            "  Downloading lxml-5.3.0-cp310-cp310-manylinux_2_28_x86_64.whl.metadata (3.8 kB)\n",
            "Requirement already satisfied: networkx in /usr/local/lib/python3.10/dist-packages (from spektral) (3.4.2)\n",
            "Requirement already satisfied: numpy in /usr/local/lib/python3.10/dist-packages (from spektral) (1.26.4)\n",
            "Requirement already satisfied: pandas in /usr/local/lib/python3.10/dist-packages (from spektral) (2.2.2)\n",
            "Requirement already satisfied: requests in /usr/local/lib/python3.10/dist-packages (from spektral) (2.32.3)\n",
            "Requirement already satisfied: scikit-learn in /usr/local/lib/python3.10/dist-packages (from spektral) (1.5.2)\n",
            "Requirement already satisfied: scipy in /usr/local/lib/python3.10/dist-packages (from spektral) (1.13.1)\n",
            "Requirement already satisfied: tqdm in /usr/local/lib/python3.10/dist-packages (from spektral) (4.66.6)\n",
            "Requirement already satisfied: tensorflow>=2.2.0 in /usr/local/lib/python3.10/dist-packages (from spektral) (2.15.0)\n",
            "Requirement already satisfied: absl-py>=1.0.0 in /usr/local/lib/python3.10/dist-packages (from tensorflow>=2.2.0->spektral) (1.4.0)\n",
            "Requirement already satisfied: astunparse>=1.6.0 in /usr/local/lib/python3.10/dist-packages (from tensorflow>=2.2.0->spektral) (1.6.3)\n",
            "Requirement already satisfied: flatbuffers>=23.5.26 in /usr/local/lib/python3.10/dist-packages (from tensorflow>=2.2.0->spektral) (24.3.25)\n",
            "Requirement already satisfied: gast!=0.5.0,!=0.5.1,!=0.5.2,>=0.2.1 in /usr/local/lib/python3.10/dist-packages (from tensorflow>=2.2.0->spektral) (0.6.0)\n",
            "Requirement already satisfied: google-pasta>=0.1.1 in /usr/local/lib/python3.10/dist-packages (from tensorflow>=2.2.0->spektral) (0.2.0)\n",
            "Requirement already satisfied: h5py>=2.9.0 in /usr/local/lib/python3.10/dist-packages (from tensorflow>=2.2.0->spektral) (3.12.1)\n",
            "Requirement already satisfied: libclang>=13.0.0 in /usr/local/lib/python3.10/dist-packages (from tensorflow>=2.2.0->spektral) (18.1.1)\n",
            "Requirement already satisfied: ml-dtypes~=0.2.0 in /usr/local/lib/python3.10/dist-packages (from tensorflow>=2.2.0->spektral) (0.2.0)\n",
            "Requirement already satisfied: opt-einsum>=2.3.2 in /usr/local/lib/python3.10/dist-packages (from tensorflow>=2.2.0->spektral) (3.4.0)\n",
            "Requirement already satisfied: packaging in /usr/local/lib/python3.10/dist-packages (from tensorflow>=2.2.0->spektral) (24.2)\n",
            "Requirement already satisfied: protobuf!=4.21.0,!=4.21.1,!=4.21.2,!=4.21.3,!=4.21.4,!=4.21.5,<5.0.0dev,>=3.20.3 in /usr/local/lib/python3.10/dist-packages (from tensorflow>=2.2.0->spektral) (4.25.5)\n",
            "Requirement already satisfied: setuptools in /usr/local/lib/python3.10/dist-packages (from tensorflow>=2.2.0->spektral) (75.1.0)\n",
            "Requirement already satisfied: six>=1.12.0 in /usr/local/lib/python3.10/dist-packages (from tensorflow>=2.2.0->spektral) (1.16.0)\n",
            "Requirement already satisfied: termcolor>=1.1.0 in /usr/local/lib/python3.10/dist-packages (from tensorflow>=2.2.0->spektral) (2.5.0)\n",
            "Requirement already satisfied: typing-extensions>=3.6.6 in /usr/local/lib/python3.10/dist-packages (from tensorflow>=2.2.0->spektral) (4.12.2)\n",
            "Requirement already satisfied: wrapt<1.15,>=1.11.0 in /usr/local/lib/python3.10/dist-packages (from tensorflow>=2.2.0->spektral) (1.14.1)\n",
            "Requirement already satisfied: tensorflow-io-gcs-filesystem>=0.23.1 in /usr/local/lib/python3.10/dist-packages (from tensorflow>=2.2.0->spektral) (0.37.1)\n",
            "Requirement already satisfied: grpcio<2.0,>=1.24.3 in /usr/local/lib/python3.10/dist-packages (from tensorflow>=2.2.0->spektral) (1.68.0)\n",
            "Requirement already satisfied: tensorboard<2.16,>=2.15 in /usr/local/lib/python3.10/dist-packages (from tensorflow>=2.2.0->spektral) (2.15.2)\n",
            "Requirement already satisfied: tensorflow-estimator<2.16,>=2.15.0 in /usr/local/lib/python3.10/dist-packages (from tensorflow>=2.2.0->spektral) (2.15.0)\n",
            "Requirement already satisfied: keras<2.16,>=2.15.0 in /usr/local/lib/python3.10/dist-packages (from tensorflow>=2.2.0->spektral) (2.15.0)\n",
            "Requirement already satisfied: python-dateutil>=2.8.2 in /usr/local/lib/python3.10/dist-packages (from pandas->spektral) (2.9.0.post0)\n",
            "Requirement already satisfied: pytz>=2020.1 in /usr/local/lib/python3.10/dist-packages (from pandas->spektral) (2024.2)\n",
            "Requirement already satisfied: tzdata>=2022.7 in /usr/local/lib/python3.10/dist-packages (from pandas->spektral) (2024.2)\n",
            "Requirement already satisfied: charset-normalizer<4,>=2 in /usr/local/lib/python3.10/dist-packages (from requests->spektral) (3.4.0)\n",
            "Requirement already satisfied: idna<4,>=2.5 in /usr/local/lib/python3.10/dist-packages (from requests->spektral) (3.10)\n",
            "Requirement already satisfied: urllib3<3,>=1.21.1 in /usr/local/lib/python3.10/dist-packages (from requests->spektral) (2.2.3)\n",
            "Requirement already satisfied: certifi>=2017.4.17 in /usr/local/lib/python3.10/dist-packages (from requests->spektral) (2024.8.30)\n",
            "Requirement already satisfied: threadpoolctl>=3.1.0 in /usr/local/lib/python3.10/dist-packages (from scikit-learn->spektral) (3.5.0)\n",
            "Requirement already satisfied: wheel<1.0,>=0.23.0 in /usr/local/lib/python3.10/dist-packages (from astunparse>=1.6.0->tensorflow>=2.2.0->spektral) (0.45.0)\n",
            "Requirement already satisfied: google-auth<3,>=1.6.3 in /usr/local/lib/python3.10/dist-packages (from tensorboard<2.16,>=2.15->tensorflow>=2.2.0->spektral) (2.27.0)\n",
            "Requirement already satisfied: google-auth-oauthlib<2,>=0.5 in /usr/local/lib/python3.10/dist-packages (from tensorboard<2.16,>=2.15->tensorflow>=2.2.0->spektral) (1.2.1)\n",
            "Requirement already satisfied: markdown>=2.6.8 in /usr/local/lib/python3.10/dist-packages (from tensorboard<2.16,>=2.15->tensorflow>=2.2.0->spektral) (3.7)\n",
            "Requirement already satisfied: tensorboard-data-server<0.8.0,>=0.7.0 in /usr/local/lib/python3.10/dist-packages (from tensorboard<2.16,>=2.15->tensorflow>=2.2.0->spektral) (0.7.2)\n",
            "Requirement already satisfied: werkzeug>=1.0.1 in /usr/local/lib/python3.10/dist-packages (from tensorboard<2.16,>=2.15->tensorflow>=2.2.0->spektral) (3.1.3)\n",
            "Requirement already satisfied: cachetools<6.0,>=2.0.0 in /usr/local/lib/python3.10/dist-packages (from google-auth<3,>=1.6.3->tensorboard<2.16,>=2.15->tensorflow>=2.2.0->spektral) (5.5.0)\n",
            "Requirement already satisfied: pyasn1-modules>=0.2.1 in /usr/local/lib/python3.10/dist-packages (from google-auth<3,>=1.6.3->tensorboard<2.16,>=2.15->tensorflow>=2.2.0->spektral) (0.4.1)\n",
            "Requirement already satisfied: rsa<5,>=3.1.4 in /usr/local/lib/python3.10/dist-packages (from google-auth<3,>=1.6.3->tensorboard<2.16,>=2.15->tensorflow>=2.2.0->spektral) (4.9)\n",
            "Requirement already satisfied: requests-oauthlib>=0.7.0 in /usr/local/lib/python3.10/dist-packages (from google-auth-oauthlib<2,>=0.5->tensorboard<2.16,>=2.15->tensorflow>=2.2.0->spektral) (2.0.0)\n",
            "Requirement already satisfied: MarkupSafe>=2.1.1 in /usr/local/lib/python3.10/dist-packages (from werkzeug>=1.0.1->tensorboard<2.16,>=2.15->tensorflow>=2.2.0->spektral) (3.0.2)\n",
            "Requirement already satisfied: pyasn1<0.7.0,>=0.4.6 in /usr/local/lib/python3.10/dist-packages (from pyasn1-modules>=0.2.1->google-auth<3,>=1.6.3->tensorboard<2.16,>=2.15->tensorflow>=2.2.0->spektral) (0.6.1)\n",
            "Requirement already satisfied: oauthlib>=3.0.0 in /usr/local/lib/python3.10/dist-packages (from requests-oauthlib>=0.7.0->google-auth-oauthlib<2,>=0.5->tensorboard<2.16,>=2.15->tensorflow>=2.2.0->spektral) (3.2.2)\n",
            "Downloading spektral-1.3.1-py3-none-any.whl (140 kB)\n",
            "\u001b[2K   \u001b[90m━━━━━━━━━━━━━━━━━━━━━━━━━━━━━━━━━━━━━━━━\u001b[0m \u001b[32m140.1/140.1 kB\u001b[0m \u001b[31m2.5 MB/s\u001b[0m eta \u001b[36m0:00:00\u001b[0m\n",
            "\u001b[?25hDownloading lxml-5.3.0-cp310-cp310-manylinux_2_28_x86_64.whl (5.0 MB)\n",
            "\u001b[2K   \u001b[90m━━━━━━━━━━━━━━━━━━━━━━━━━━━━━━━━━━━━━━━━\u001b[0m \u001b[32m5.0/5.0 MB\u001b[0m \u001b[31m57.0 MB/s\u001b[0m eta \u001b[36m0:00:00\u001b[0m\n",
            "\u001b[?25hInstalling collected packages: lxml, spektral\n",
            "Successfully installed lxml-5.3.0 spektral-1.3.1\n"
          ]
        }
      ],
      "source": [
        "!pip install spektral"
      ]
    },
    {
      "cell_type": "code",
      "execution_count": null,
      "metadata": {
        "id": "ihcA5_uhsAOP"
      },
      "outputs": [],
      "source": [
        "import tensorflow as tf\n",
        "from tensorflow import keras\n",
        "from tensorflow.keras import layers, models, regularizers\n",
        "from utils.layers import PositionalEmbedding, TransformerEncoder"
      ]
    },
    {
      "cell_type": "code",
      "execution_count": null,
      "metadata": {
        "id": "tG7Ie9hb3p-4"
      },
      "outputs": [],
      "source": [
        "def create_url_model(vocab_size, max_words, embed_dim,\n",
        "                     num_heads, intermediate_dim,\n",
        "                     dropout=0.1, num_transformer_layers=1):\n",
        "    inputs = keras.Input(shape=(max_words,), dtype=tf.int32)\n",
        "    x = PositionalEmbedding(max_words, vocab_size, embed_dim)(inputs)\n",
        "    for _ in range(num_transformer_layers):\n",
        "        x = TransformerEncoder(embed_dim, num_heads, intermediate_dim)(x)\n",
        "        x = layers.Dropout(dropout)(x)\n",
        "    x = layers.GlobalAveragePooling1D()(x)\n",
        "    url_model = keras.Model(inputs=inputs, outputs=x)\n",
        "\n",
        "    return url_model"
      ]
    },
    {
      "cell_type": "markdown",
      "metadata": {
        "id": "x-vy88oyaJVX"
      },
      "source": [
        "### **Create HTML model using Graph Convolution Network**"
      ]
    },
    {
      "cell_type": "code",
      "execution_count": null,
      "metadata": {
        "id": "C_1BZe-Ux7hE"
      },
      "outputs": [],
      "source": [
        "from spektral.layers import GCNConv, GlobalSumPool\n",
        "from utils.layers import GCN"
      ]
    },
    {
      "cell_type": "code",
      "execution_count": null,
      "metadata": {
        "id": "3t3YPPg6xq_J"
      },
      "outputs": [],
      "source": [
        "def create_html_model(max_nodes, feature_dim, gcn_units,\n",
        "                      dropout=0.1, num_gcn_layers=1):\n",
        "    inputs_adj = keras.Input(shape=(max_nodes, max_nodes), dtype=tf.float32)\n",
        "    inputs_feat = keras.Input(shape=(max_nodes, feature_dim), dtype=tf.float32)\n",
        "\n",
        "    x = inputs_feat\n",
        "    for _ in range(num_gcn_layers):\n",
        "        x = GCN(gcn_units, activation='relu')([x, inputs_adj])\n",
        "        x = layers.Dropout(dropout)(x)\n",
        "    x = GlobalSumPool()(x)\n",
        "    html_model = keras.Model(inputs=[inputs_adj, inputs_feat], outputs=x)\n",
        "\n",
        "    return html_model"
      ]
    },
    {
      "cell_type": "markdown",
      "metadata": {
        "id": "BfJxAiOc4-W3"
      },
      "source": [
        "### **Create full model**"
      ]
    },
    {
      "cell_type": "code",
      "execution_count": null,
      "metadata": {
        "id": "i0R3UZVa5OEF"
      },
      "outputs": [],
      "source": [
        "def create_full_model(vocab_size, max_words, dropout, embed_dim,\n",
        "                      num_heads, intermediate_dim, num_transformer_layers,\n",
        "                      max_nodes, feature_dim, gcn_units,\n",
        "                      num_gcn_layers, dense_dim, l2_reg):\n",
        "    # URL Model\n",
        "    url_model = create_url_model(vocab_size, max_words, embed_dim, num_heads,\n",
        "                                 intermediate_dim, dropout, num_transformer_layers)\n",
        "\n",
        "    # HTML Model\n",
        "    html_model = create_html_model(max_nodes, feature_dim, gcn_units,\n",
        "                                   dropout, num_gcn_layers)\n",
        "\n",
        "    # Inputs\n",
        "    url_inputs = keras.Input(shape=(max_words,), dtype=tf.int32)\n",
        "    adj_inputs = keras.Input(shape=(max_nodes, max_nodes), dtype=tf.float64)\n",
        "    feat_inputs = keras.Input(shape=(max_nodes, feature_dim), dtype=tf.float64)\n",
        "\n",
        "    # Outputs from both models\n",
        "    url_output = url_model(url_inputs)  # (None, embed_dim)\n",
        "    html_output = html_model([adj_inputs, feat_inputs])  # (None, gcn_units)\n",
        "\n",
        "    # Concatenate the outputs (both are 2D now)\n",
        "    combined = layers.Concatenate()([url_output, html_output])  # (None, embed_dim + gcn_units)\n",
        "\n",
        "    # Final layers\n",
        "    x = layers.Dense(dense_dim,\n",
        "                     activation='relu',\n",
        "                     kernel_regularizer=regularizers.l2(l2_reg))(combined)\n",
        "    x = layers.Dropout(dropout)(x)\n",
        "    x = layers.Dense(dense_dim//2,\n",
        "                     activation='relu',\n",
        "                     kernel_regularizer=regularizers.l2(l2_reg))(x)\n",
        "    x = layers.Dropout(dropout)(x)\n",
        "\n",
        "    outputs = layers.Dense(1, activation='sigmoid')(x)\n",
        "\n",
        "    full_model = keras.Model(inputs=[url_inputs, adj_inputs, feat_inputs], outputs=outputs)\n",
        "    return full_model"
      ]
    },
    {
      "cell_type": "markdown",
      "metadata": {
        "id": "GBMOCOvAae_w"
      },
      "source": [
        "## **Train model**"
      ]
    },
    {
      "cell_type": "code",
      "execution_count": null,
      "metadata": {
        "colab": {
          "base_uri": "https://localhost:8080/"
        },
        "id": "jT0yrsGh0RZU",
        "outputId": "f80b707f-14e8-45e2-e997-7be2b5a518a4"
      },
      "outputs": [
        {
          "output_type": "stream",
          "name": "stdout",
          "text": [
            "Model: \"model_2\"\n",
            "__________________________________________________________________________________________________\n",
            " Layer (type)                Output Shape                 Param #   Connected to                  \n",
            "==================================================================================================\n",
            " input_4 (InputLayer)        [(None, 50)]                 0         []                            \n",
            "                                                                                                  \n",
            " input_5 (InputLayer)        [(None, 600, 600)]           0         []                            \n",
            "                                                                                                  \n",
            " input_6 (InputLayer)        [(None, 600, 3)]             0         []                            \n",
            "                                                                                                  \n",
            " model (Functional)          (None, 128)                  1896448   ['input_4[0][0]']             \n",
            "                                                                                                  \n",
            " model_1 (Functional)        (None, 128)                  17024     ['input_5[0][0]',             \n",
            "                                                                     'input_6[0][0]']             \n",
            "                                                                                                  \n",
            " concatenate (Concatenate)   (None, 256)                  0         ['model[0][0]',               \n",
            "                                                                     'model_1[0][0]']             \n",
            "                                                                                                  \n",
            " dense_4 (Dense)             (None, 128)                  32896     ['concatenate[0][0]']         \n",
            "                                                                                                  \n",
            " dropout_8 (Dropout)         (None, 128)                  0         ['dense_4[0][0]']             \n",
            "                                                                                                  \n",
            " dense_5 (Dense)             (None, 64)                   8256      ['dropout_8[0][0]']           \n",
            "                                                                                                  \n",
            " dropout_9 (Dropout)         (None, 64)                   0         ['dense_5[0][0]']             \n",
            "                                                                                                  \n",
            " dense_6 (Dense)             (None, 1)                    65        ['dropout_9[0][0]']           \n",
            "                                                                                                  \n",
            "==================================================================================================\n",
            "Total params: 1954689 (7.46 MB)\n",
            "Trainable params: 1954689 (7.46 MB)\n",
            "Non-trainable params: 0 (0.00 Byte)\n",
            "__________________________________________________________________________________________________\n",
            "Epoch 1/100\n",
            "638/638 [==============================] - ETA: 0s - loss: 0.3140 - accuracy: 0.9323 - precision: 0.9292 - recall: 0.9359\n",
            "Epoch 1: val_loss improved from inf to 0.16100, saving model to models/best_model.keras\n",
            "638/638 [==============================] - 390s 604ms/step - loss: 0.3140 - accuracy: 0.9323 - precision: 0.9292 - recall: 0.9359 - val_loss: 0.1610 - val_accuracy: 0.9744 - val_precision: 0.9736 - val_recall: 0.9753\n",
            "Epoch 2/100\n",
            "638/638 [==============================] - ETA: 0s - loss: 0.1347 - accuracy: 0.9782 - precision: 0.9902 - recall: 0.9660\n",
            "Epoch 2: val_loss improved from 0.16100 to 0.12828, saving model to models/best_model.keras\n",
            "638/638 [==============================] - 358s 562ms/step - loss: 0.1347 - accuracy: 0.9782 - precision: 0.9902 - recall: 0.9660 - val_loss: 0.1283 - val_accuracy: 0.9767 - val_precision: 0.9763 - val_recall: 0.9771\n",
            "Epoch 3/100\n",
            "638/638 [==============================] - ETA: 0s - loss: 0.1081 - accuracy: 0.9813 - precision: 0.9921 - recall: 0.9703\n",
            "Epoch 3: val_loss improved from 0.12828 to 0.12214, saving model to models/best_model.keras\n",
            "638/638 [==============================] - 355s 556ms/step - loss: 0.1081 - accuracy: 0.9813 - precision: 0.9921 - recall: 0.9703 - val_loss: 0.1221 - val_accuracy: 0.9730 - val_precision: 0.9676 - val_recall: 0.9788\n",
            "Epoch 4/100\n",
            "638/638 [==============================] - ETA: 0s - loss: 0.0935 - accuracy: 0.9823 - precision: 0.9929 - recall: 0.9715\n",
            "Epoch 4: val_loss improved from 0.12214 to 0.11644, saving model to models/best_model.keras\n",
            "638/638 [==============================] - 355s 556ms/step - loss: 0.0935 - accuracy: 0.9823 - precision: 0.9929 - recall: 0.9715 - val_loss: 0.1164 - val_accuracy: 0.9729 - val_precision: 0.9662 - val_recall: 0.9802\n",
            "Epoch 5/100\n",
            "638/638 [==============================] - ETA: 0s - loss: 0.0837 - accuracy: 0.9831 - precision: 0.9936 - recall: 0.9724\n",
            "Epoch 5: val_loss improved from 0.11644 to 0.10890, saving model to models/best_model.keras\n",
            "638/638 [==============================] - 355s 556ms/step - loss: 0.0837 - accuracy: 0.9831 - precision: 0.9936 - recall: 0.9724 - val_loss: 0.1089 - val_accuracy: 0.9727 - val_precision: 0.9665 - val_recall: 0.9794\n",
            "Epoch 6/100\n",
            "638/638 [==============================] - ETA: 0s - loss: 0.0803 - accuracy: 0.9820 - precision: 0.9928 - recall: 0.9711\n",
            "Epoch 6: val_loss improved from 0.10890 to 0.09831, saving model to models/best_model.keras\n",
            "638/638 [==============================] - 352s 552ms/step - loss: 0.0803 - accuracy: 0.9820 - precision: 0.9928 - recall: 0.9711 - val_loss: 0.0983 - val_accuracy: 0.9794 - val_precision: 0.9830 - val_recall: 0.9757\n",
            "Epoch 7/100\n",
            "638/638 [==============================] - ETA: 0s - loss: 0.0721 - accuracy: 0.9834 - precision: 0.9936 - recall: 0.9732\n",
            "Epoch 7: val_loss did not improve from 0.09831\n",
            "638/638 [==============================] - 352s 552ms/step - loss: 0.0721 - accuracy: 0.9834 - precision: 0.9936 - recall: 0.9732 - val_loss: 0.1004 - val_accuracy: 0.9731 - val_precision: 0.9655 - val_recall: 0.9814\n",
            "Epoch 8/100\n",
            "638/638 [==============================] - ETA: 0s - loss: 0.0658 - accuracy: 0.9840 - precision: 0.9938 - recall: 0.9741\n",
            "Epoch 8: val_loss improved from 0.09831 to 0.09703, saving model to models/best_model.keras\n",
            "638/638 [==============================] - 351s 550ms/step - loss: 0.0658 - accuracy: 0.9840 - precision: 0.9938 - recall: 0.9741 - val_loss: 0.0970 - val_accuracy: 0.9747 - val_precision: 0.9690 - val_recall: 0.9808\n",
            "Epoch 9/100\n",
            "638/638 [==============================] - ETA: 0s - loss: 0.0617 - accuracy: 0.9849 - precision: 0.9941 - recall: 0.9756\n",
            "Epoch 9: val_loss improved from 0.09703 to 0.08880, saving model to models/best_model.keras\n",
            "638/638 [==============================] - 353s 554ms/step - loss: 0.0617 - accuracy: 0.9849 - precision: 0.9941 - recall: 0.9756 - val_loss: 0.0888 - val_accuracy: 0.9777 - val_precision: 0.9771 - val_recall: 0.9784\n",
            "Epoch 10/100\n",
            "638/638 [==============================] - ETA: 0s - loss: 0.0639 - accuracy: 0.9834 - precision: 0.9932 - recall: 0.9735\n",
            "Epoch 10: val_loss did not improve from 0.08880\n",
            "638/638 [==============================] - 351s 551ms/step - loss: 0.0639 - accuracy: 0.9834 - precision: 0.9932 - recall: 0.9735 - val_loss: 0.0966 - val_accuracy: 0.9789 - val_precision: 0.9783 - val_recall: 0.9796\n",
            "Epoch 11/100\n",
            "638/638 [==============================] - ETA: 0s - loss: 0.0577 - accuracy: 0.9850 - precision: 0.9941 - recall: 0.9758\n",
            "Epoch 11: val_loss improved from 0.08880 to 0.08599, saving model to models/best_model.keras\n",
            "638/638 [==============================] - 353s 553ms/step - loss: 0.0577 - accuracy: 0.9850 - precision: 0.9941 - recall: 0.9758 - val_loss: 0.0860 - val_accuracy: 0.9764 - val_precision: 0.9742 - val_recall: 0.9786\n",
            "Epoch 12/100\n",
            "638/638 [==============================] - ETA: 0s - loss: 0.0560 - accuracy: 0.9853 - precision: 0.9938 - recall: 0.9767\n",
            "Epoch 12: val_loss improved from 0.08599 to 0.07751, saving model to models/best_model.keras\n",
            "638/638 [==============================] - 351s 550ms/step - loss: 0.0560 - accuracy: 0.9853 - precision: 0.9938 - recall: 0.9767 - val_loss: 0.0775 - val_accuracy: 0.9790 - val_precision: 0.9796 - val_recall: 0.9784\n",
            "Epoch 13/100\n",
            "638/638 [==============================] - ETA: 0s - loss: 0.0540 - accuracy: 0.9858 - precision: 0.9941 - recall: 0.9774\n",
            "Epoch 13: val_loss did not improve from 0.07751\n",
            "638/638 [==============================] - 352s 552ms/step - loss: 0.0540 - accuracy: 0.9858 - precision: 0.9941 - recall: 0.9774 - val_loss: 0.0970 - val_accuracy: 0.9754 - val_precision: 0.9731 - val_recall: 0.9778\n",
            "Epoch 14/100\n",
            "638/638 [==============================] - ETA: 0s - loss: 0.0545 - accuracy: 0.9854 - precision: 0.9931 - recall: 0.9775\n",
            "Epoch 14: val_loss did not improve from 0.07751\n",
            "638/638 [==============================] - 353s 553ms/step - loss: 0.0545 - accuracy: 0.9854 - precision: 0.9931 - recall: 0.9775 - val_loss: 0.0908 - val_accuracy: 0.9763 - val_precision: 0.9795 - val_recall: 0.9729\n",
            "Epoch 15/100\n",
            "638/638 [==============================] - ETA: 0s - loss: 0.0546 - accuracy: 0.9859 - precision: 0.9937 - recall: 0.9780\n",
            "Epoch 15: val_loss did not improve from 0.07751\n",
            "638/638 [==============================] - 350s 549ms/step - loss: 0.0546 - accuracy: 0.9859 - precision: 0.9937 - recall: 0.9780 - val_loss: 0.1066 - val_accuracy: 0.9768 - val_precision: 0.9746 - val_recall: 0.9790\n",
            "Epoch 16/100\n",
            "638/638 [==============================] - ETA: 0s - loss: 0.0546 - accuracy: 0.9854 - precision: 0.9936 - recall: 0.9771\n",
            "Epoch 16: val_loss did not improve from 0.07751\n",
            "638/638 [==============================] - 353s 553ms/step - loss: 0.0546 - accuracy: 0.9854 - precision: 0.9936 - recall: 0.9771 - val_loss: 0.0890 - val_accuracy: 0.9748 - val_precision: 0.9716 - val_recall: 0.9782\n",
            "Epoch 17/100\n",
            "638/638 [==============================] - ETA: 0s - loss: 0.0513 - accuracy: 0.9860 - precision: 0.9941 - recall: 0.9779\n",
            "Epoch 17: val_loss did not improve from 0.07751\n",
            "Restoring model weights from the end of the best epoch: 12.\n",
            "638/638 [==============================] - 352s 551ms/step - loss: 0.0513 - accuracy: 0.9860 - precision: 0.9941 - recall: 0.9779 - val_loss: 0.1014 - val_accuracy: 0.9751 - val_precision: 0.9701 - val_recall: 0.9804\n",
            "Epoch 17: early stopping\n"
          ]
        }
      ],
      "source": [
        "vocab_size = 6000\n",
        "max_words = 50\n",
        "max_nodes = 600\n",
        "feature_dim = 3\n",
        "\n",
        "train_dataset = load_dataset('data/train.h5', batch_size=128)\n",
        "val_dataset = load_dataset('data/val.h5', batch_size=128)\n",
        "\n",
        "model = create_full_model(vocab_size=vocab_size,\n",
        "                          max_words=max_words,\n",
        "                          dropout=0.3,\n",
        "                          embed_dim=128,\n",
        "                          num_heads=8,\n",
        "                          intermediate_dim=128,\n",
        "                          num_transformer_layers=2,\n",
        "                          max_nodes=max_nodes,\n",
        "                          feature_dim=feature_dim,\n",
        "                          gcn_units=128,\n",
        "                          num_gcn_layers=2,\n",
        "                          dense_dim=128,\n",
        "                          l2_reg=5e-4)\n",
        "\n",
        "model.summary()\n",
        "\n",
        "optimizer = keras.optimizers.Adam(learning_rate=1e-3)\n",
        "metrics = ['accuracy', tf.keras.metrics.Precision(), tf.keras.metrics.Recall()]\n",
        "model.compile(optimizer=optimizer, loss='binary_crossentropy', metrics=metrics)\n",
        "\n",
        "checkpoint_filepath = 'models/best_model.keras'\n",
        "\n",
        "checkpoint_callback = tf.keras.callbacks.ModelCheckpoint(\n",
        "    filepath=checkpoint_filepath,\n",
        "    save_weights_only=False,\n",
        "    monitor='val_loss',\n",
        "    mode='min',\n",
        "    save_best_only=True,\n",
        "    verbose=1\n",
        ")\n",
        "\n",
        "early_stopping = tf.keras.callbacks.EarlyStopping(\n",
        "    monitor='val_loss',\n",
        "    patience=5,\n",
        "    restore_best_weights=True,\n",
        "    verbose=1\n",
        ")\n",
        "\n",
        "history = model.fit(train_dataset,\n",
        "                    validation_data=val_dataset,\n",
        "                    epochs=100,\n",
        "                    callbacks=[checkpoint_callback, early_stopping])"
      ]
    },
    {
      "cell_type": "code",
      "execution_count": null,
      "metadata": {
        "id": "i56f9BqfUyu-"
      },
      "outputs": [],
      "source": [
        "import matplotlib.pyplot as plt\n",
        "import seaborn as sns"
      ]
    },
    {
      "cell_type": "code",
      "execution_count": null,
      "metadata": {
        "id": "5WB8DRQcijms",
        "colab": {
          "base_uri": "https://localhost:8080/",
          "height": 1000
        },
        "outputId": "4f21055e-e37d-4c95-a12c-bee8c068f915"
      },
      "outputs": [
        {
          "output_type": "display_data",
          "data": {
            "text/plain": [
              "<Figure size 1000x600 with 1 Axes>"
            ],
            "image/png": "[encoded data removed]"
          },
          "metadata": {}
        },
        {
          "output_type": "display_data",
          "data": {
            "text/plain": [
              "<Figure size 1000x600 with 1 Axes>"
            ],
            "image/png": "[encoded data removed]"
          },
          "metadata": {}
        }
      ],
      "source": [
        "# Plot history loss\n",
        "plt.figure(figsize=(10, 6))\n",
        "plt.plot(history.history['loss'], label='train loss')\n",
        "plt.plot(history.history['val_loss'], label='val loss')\n",
        "plt.xlabel('epoch')\n",
        "plt.ylabel('Cross-entropy loss')\n",
        "plt.legend()\n",
        "plt.show()\n",
        "\n",
        "# Plot history accuracy\n",
        "plt.figure(figsize=(10, 6))\n",
        "plt.plot(history.history['accuracy'], label='train accuracy')\n",
        "plt.plot(history.history['val_accuracy'], label='val accuracy')\n",
        "plt.xlabel('epoch')\n",
        "plt.ylabel('accuracy')\n",
        "plt.legend()\n",
        "plt.show()"
      ]
    },
    {
      "cell_type": "markdown",
      "metadata": {
        "id": "pon8ohwipVJt"
      },
      "source": [
        "## **Evaluate model**"
      ]
    },
    {
      "cell_type": "code",
      "execution_count": null,
      "metadata": {
        "id": "NzILqZmVpxLu"
      },
      "outputs": [],
      "source": [
        "best_model = keras.models.load_model(\n",
        "    'models/best_model.keras',\n",
        "    custom_objects={'TransformerEncoder': TransformerEncoder,\n",
        "                    'PositionalEmbedding': PositionalEmbedding,\n",
        "                    'GCNConv': GCNConv,\n",
        "                    'GlobalSumPool': GlobalSumPool,\n",
        "                    'GCN': GCN})"
      ]
    },
    {
      "cell_type": "code",
      "execution_count": null,
      "metadata": {
        "id": "83ccI1sutwUO",
        "colab": {
          "base_uri": "https://localhost:8080/"
        },
        "outputId": "548cac3e-663b-434e-c5a3-9d8295965ee1"
      },
      "outputs": [
        {
          "output_type": "stream",
          "name": "stderr",
          "text": [
            "/usr/local/lib/python3.10/dist-packages/keras/src/engine/training.py:3103: UserWarning: You are saving your model as an HDF5 file via `model.save()`. This file format is considered legacy. We recommend using instead the native Keras format, e.g. `model.save('my_model.keras')`.\n",
            "  saving_api.save_model(\n"
          ]
        }
      ],
      "source": [
        "best_model.save('models/best_model.h5')"
      ]
    },
    {
      "cell_type": "code",
      "execution_count": null,
      "metadata": {
        "id": "UqUXbPqJf7Pv"
      },
      "outputs": [],
      "source": [
        "import numpy as np\n",
        "from sklearn.metrics import confusion_matrix"
      ]
    },
    {
      "cell_type": "code",
      "execution_count": null,
      "metadata": {
        "id": "tWQstEJ2gB6d",
        "colab": {
          "base_uri": "https://localhost:8080/"
        },
        "outputId": "14d6dc13-5377-4a76-a457-9d1716af0fed"
      },
      "outputs": [
        {
          "output_type": "stream",
          "name": "stdout",
          "text": [
            "80/80 [==============================] - 33s 279ms/step - loss: 0.0891 - accuracy: 0.9762 - precision: 0.9791 - recall: 0.9731\n",
            "F1-Score: 0.9761\n"
          ]
        }
      ],
      "source": [
        "test_dataset = load_dataset('data/test.h5', batch_size=128)\n",
        "\n",
        "results = best_model.evaluate(test_dataset, verbose=1)\n",
        "precision = results[2]\n",
        "recall = results[3]\n",
        "f1_score = 2 * (precision * recall) / (precision + recall)\n",
        "print(f\"F1-Score: {f1_score:.4f}\")"
      ]
    },
    {
      "cell_type": "code",
      "execution_count": null,
      "metadata": {
        "id": "SaIR_h96gg3O",
        "colab": {
          "base_uri": "https://localhost:8080/",
          "height": 581
        },
        "outputId": "7847f0f8-10c3-4b7a-d543-b6c2ca1b9359"
      },
      "outputs": [
        {
          "output_type": "stream",
          "name": "stdout",
          "text": [
            "80/80 [==============================] - 23s 280ms/step\n"
          ]
        },
        {
          "output_type": "display_data",
          "data": {
            "text/plain": [
              "<Figure size 800x600 with 1 Axes>"
            ],
            "image/png": "[encoded data removed]"
          },
          "metadata": {}
        }
      ],
      "source": [
        "y_pred_prob = best_model.predict(test_dataset)\n",
        "\n",
        "y_pred = (y_pred_prob >= 0.5).astype(int)\n",
        "label_test = tf.concat([y for x, y in test_dataset], axis=0).numpy()\n",
        "\n",
        "cm = confusion_matrix(label_test, y_pred)\n",
        "cm_percentage = cm.astype('float') / cm.sum(axis=1)[:, np.newaxis]\n",
        "\n",
        "labels = [[f'{int(count)}\\n({percentage:.2%})'\n",
        "           for count, percentage in zip(row_count, row_percentage)]\n",
        "           for row_count, row_percentage in zip(cm, cm_percentage)]\n",
        "\n",
        "plt.figure(figsize=(8, 6))\n",
        "sns.heatmap(cm_percentage, annot=labels, fmt='', cmap='Blues', cbar=False)\n",
        "plt.title('Confusion Matrix (Count and Percentage)')\n",
        "plt.ylabel('True label')\n",
        "plt.xlabel('Predicted label')\n",
        "plt.show()"
      ]
    }
  ],
  "metadata": {
    "accelerator": "TPU",
    "colab": {
      "gpuType": "V28",
      "machine_shape": "hm",
      "provenance": [],
      "include_colab_link": true
    },
    "kernelspec": {
      "display_name": "Python 3",
      "name": "python3"
    },
    "language_info": {
      "name": "python"
    }
  },
  "nbformat": 4,
  "nbformat_minor": 0
}
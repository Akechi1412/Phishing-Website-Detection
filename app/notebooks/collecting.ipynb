{
  "cells": [
    {
      "cell_type": "markdown",
      "metadata": {
        "id": "view-in-github",
        "colab_type": "text"
      },
      "source": [
        "<a href=\"https://colab.research.google.com/github/Akechi1412/Phishing-Website-Detection/blob/main/app/notebooks/collecting.ipynb\" target=\"_parent\"><img src=\"https://colab.research.google.com/assets/colab-badge.svg\" alt=\"Open In Colab\"/></a>"
      ]
    },
    {
      "cell_type": "markdown",
      "source": [
        "# **Collect phishing and legitimate data**"
      ],
      "metadata": {
        "id": "3ZygSflcUIMl"
      }
    },
    {
      "cell_type": "markdown",
      "source": [
        "## **Connect to Drive and Github responsitory**"
      ],
      "metadata": {
        "id": "UdYFINTbUwSt"
      }
    },
    {
      "cell_type": "code",
      "source": [
        "from google.colab import drive\n",
        "drive.mount('/content/drive')"
      ],
      "metadata": {
        "colab": {
          "base_uri": "https://localhost:8080/"
        },
        "id": "gx1fktAVMy1U",
        "outputId": "b99ff0a3-02ab-4df7-833b-ff39f0154ebe"
      },
      "execution_count": null,
      "outputs": [
        {
          "output_type": "stream",
          "name": "stdout",
          "text": [
            "Mounted at /content/drive\n"
          ]
        }
      ]
    },
    {
      "cell_type": "code",
      "source": [
        "%cd /content/drive/MyDrive/Github\n",
        "# !git config --global core.compression 0\n",
        "# !rm -rf Phishing-Website-Detection\n",
        "# !git clone --depth 1 https://github.com/Akechi1412/Phishing-Website-Detection.git\n",
        "%cd Phishing-Website-Detection/app\n",
        "!git config --global user.email \"nguyenphong10042002@gmail.com\"\n",
        "!git config --global user.name \"Akechi1412\"\n",
        "!git fetch origin\n",
        "!git reset --hard origin/main"
      ],
      "metadata": {
        "colab": {
          "base_uri": "https://localhost:8080/"
        },
        "id": "azxYX0VrM87H",
        "outputId": "1ca604e2-2966-439d-b5e8-e7777ea8f8c3"
      },
      "execution_count": null,
      "outputs": [
        {
          "output_type": "stream",
          "name": "stdout",
          "text": [
            "/content/drive/MyDrive/Github\n",
            "/content/drive/MyDrive/Github/Phishing-Website-Detection/app\n",
            "Updating files: 100% (15/15), done.\n",
            "HEAD is now at 8fbcbbb Update something\n"
          ]
        }
      ]
    },
    {
      "cell_type": "markdown",
      "source": [
        "## **Import libraries**\n",
        "\n"
      ],
      "metadata": {
        "id": "j8gSfQUPT1lH"
      }
    },
    {
      "cell_type": "code",
      "source": [
        "!pip install aiohttp"
      ],
      "metadata": {
        "colab": {
          "base_uri": "https://localhost:8080/"
        },
        "id": "T9WCj27YcgmU",
        "outputId": "18f3b75b-c9ec-4638-ca2e-cb693c3d14aa"
      },
      "execution_count": null,
      "outputs": [
        {
          "output_type": "stream",
          "name": "stdout",
          "text": [
            "Collecting aiohttp\n",
            "  Downloading aiohttp-3.10.10-cp310-cp310-manylinux_2_17_x86_64.manylinux2014_x86_64.whl.metadata (7.6 kB)\n",
            "Collecting aiohappyeyeballs>=2.3.0 (from aiohttp)\n",
            "  Downloading aiohappyeyeballs-2.4.3-py3-none-any.whl.metadata (6.1 kB)\n",
            "Collecting aiosignal>=1.1.2 (from aiohttp)\n",
            "  Downloading aiosignal-1.3.1-py3-none-any.whl.metadata (4.0 kB)\n",
            "Requirement already satisfied: attrs>=17.3.0 in /usr/local/lib/python3.10/dist-packages (from aiohttp) (24.2.0)\n",
            "Collecting frozenlist>=1.1.1 (from aiohttp)\n",
            "  Downloading frozenlist-1.5.0-cp310-cp310-manylinux_2_5_x86_64.manylinux1_x86_64.manylinux_2_17_x86_64.manylinux2014_x86_64.whl.metadata (13 kB)\n",
            "Collecting multidict<7.0,>=4.5 (from aiohttp)\n",
            "  Downloading multidict-6.1.0-cp310-cp310-manylinux_2_17_x86_64.manylinux2014_x86_64.whl.metadata (5.0 kB)\n",
            "Collecting yarl<2.0,>=1.12.0 (from aiohttp)\n",
            "  Downloading yarl-1.17.1-cp310-cp310-manylinux_2_17_x86_64.manylinux2014_x86_64.whl.metadata (64 kB)\n",
            "\u001b[2K     \u001b[90m━━━━━━━━━━━━━━━━━━━━━━━━━━━━━━━━━━━━━━━━\u001b[0m \u001b[32m64.8/64.8 kB\u001b[0m \u001b[31m2.4 MB/s\u001b[0m eta \u001b[36m0:00:00\u001b[0m\n",
            "\u001b[?25hCollecting async-timeout<5.0,>=4.0 (from aiohttp)\n",
            "  Downloading async_timeout-4.0.3-py3-none-any.whl.metadata (4.2 kB)\n",
            "Requirement already satisfied: typing-extensions>=4.1.0 in /usr/local/lib/python3.10/dist-packages (from multidict<7.0,>=4.5->aiohttp) (4.12.2)\n",
            "Requirement already satisfied: idna>=2.0 in /usr/local/lib/python3.10/dist-packages (from yarl<2.0,>=1.12.0->aiohttp) (3.10)\n",
            "Collecting propcache>=0.2.0 (from yarl<2.0,>=1.12.0->aiohttp)\n",
            "  Downloading propcache-0.2.0-cp310-cp310-manylinux_2_17_x86_64.manylinux2014_x86_64.whl.metadata (7.7 kB)\n",
            "Downloading aiohttp-3.10.10-cp310-cp310-manylinux_2_17_x86_64.manylinux2014_x86_64.whl (1.2 MB)\n",
            "\u001b[2K   \u001b[90m━━━━━━━━━━━━━━━━━━━━━━━━━━━━━━━━━━━━━━━━\u001b[0m \u001b[32m1.2/1.2 MB\u001b[0m \u001b[31m22.3 MB/s\u001b[0m eta \u001b[36m0:00:00\u001b[0m\n",
            "\u001b[?25hDownloading aiohappyeyeballs-2.4.3-py3-none-any.whl (14 kB)\n",
            "Downloading aiosignal-1.3.1-py3-none-any.whl (7.6 kB)\n",
            "Downloading async_timeout-4.0.3-py3-none-any.whl (5.7 kB)\n",
            "Downloading frozenlist-1.5.0-cp310-cp310-manylinux_2_5_x86_64.manylinux1_x86_64.manylinux_2_17_x86_64.manylinux2014_x86_64.whl (241 kB)\n",
            "\u001b[2K   \u001b[90m━━━━━━━━━━━━━━━━━━━━━━━━━━━━━━━━━━━━━━━━\u001b[0m \u001b[32m241.9/241.9 kB\u001b[0m \u001b[31m13.2 MB/s\u001b[0m eta \u001b[36m0:00:00\u001b[0m\n",
            "\u001b[?25hDownloading multidict-6.1.0-cp310-cp310-manylinux_2_17_x86_64.manylinux2014_x86_64.whl (124 kB)\n",
            "\u001b[2K   \u001b[90m━━━━━━━━━━━━━━━━━━━━━━━━━━━━━━━━━━━━━━━━\u001b[0m \u001b[32m124.6/124.6 kB\u001b[0m \u001b[31m8.1 MB/s\u001b[0m eta \u001b[36m0:00:00\u001b[0m\n",
            "\u001b[?25hDownloading yarl-1.17.1-cp310-cp310-manylinux_2_17_x86_64.manylinux2014_x86_64.whl (318 kB)\n",
            "\u001b[2K   \u001b[90m━━━━━━━━━━━━━━━━━━━━━━━━━━━━━━━━━━━━━━━━\u001b[0m \u001b[32m318.7/318.7 kB\u001b[0m \u001b[31m18.0 MB/s\u001b[0m eta \u001b[36m0:00:00\u001b[0m\n",
            "\u001b[?25hDownloading propcache-0.2.0-cp310-cp310-manylinux_2_17_x86_64.manylinux2014_x86_64.whl (208 kB)\n",
            "\u001b[2K   \u001b[90m━━━━━━━━━━━━━━━━━━━━━━━━━━━━━━━━━━━━━━━━\u001b[0m \u001b[32m208.9/208.9 kB\u001b[0m \u001b[31m11.0 MB/s\u001b[0m eta \u001b[36m0:00:00\u001b[0m\n",
            "\u001b[?25hInstalling collected packages: propcache, multidict, frozenlist, async-timeout, aiohappyeyeballs, yarl, aiosignal, aiohttp\n",
            "Successfully installed aiohappyeyeballs-2.4.3 aiohttp-3.10.10 aiosignal-1.3.1 async-timeout-4.0.3 frozenlist-1.5.0 multidict-6.1.0 propcache-0.2.0 yarl-1.17.1\n"
          ]
        }
      ]
    },
    {
      "cell_type": "code",
      "source": [
        "import pandas as pd\n",
        "from utils.data_collecting import collect_data, is_valid_html\n",
        "import asyncio"
      ],
      "metadata": {
        "id": "IGsSfi--RPP2"
      },
      "execution_count": null,
      "outputs": []
    },
    {
      "cell_type": "markdown",
      "source": [
        "## **Collect phishing data**"
      ],
      "metadata": {
        "id": "wAKP1j42VXFY"
      }
    },
    {
      "cell_type": "code",
      "source": [
        "df = pd.read_csv('data/verified_online.csv')\n",
        "phishing_urls = df['url'].values\n",
        "filename = 'data/phishing_data.parquet'\n",
        "\n",
        "loop = asyncio.get_running_loop()\n",
        "await loop.create_task(collect_data(url_list=phishing_urls,\n",
        "                                     batch_size=1000,\n",
        "                                     size=55000,\n",
        "                                     filename=filename))"
      ],
      "metadata": {
        "colab": {
          "base_uri": "https://localhost:8080/"
        },
        "id": "Akh1EaOVVmtN",
        "outputId": "269f2f0f-d56e-4cfc-ed07-d1aeedbe80e1"
      },
      "execution_count": null,
      "outputs": [
        {
          "output_type": "stream",
          "name": "stdout",
          "text": [
            "Processed batch 1: Total processed: 1000, Accessible URLs: 329\n",
            "Processed batch 2: Total processed: 2000, Accessible URLs: 597\n",
            "Processed batch 3: Total processed: 3000, Accessible URLs: 894\n",
            "Processed batch 4: Total processed: 4000, Accessible URLs: 1147\n",
            "Processed batch 5: Total processed: 5000, Accessible URLs: 1559\n",
            "Processed batch 6: Total processed: 6000, Accessible URLs: 1977\n",
            "Processed batch 7: Total processed: 7000, Accessible URLs: 2336\n",
            "Processed batch 8: Total processed: 8000, Accessible URLs: 2690\n",
            "Processed batch 9: Total processed: 9000, Accessible URLs: 3009\n",
            "Processed batch 10: Total processed: 10000, Accessible URLs: 3495\n",
            "Processed batch 11: Total processed: 11000, Accessible URLs: 3876\n",
            "Processed batch 12: Total processed: 12000, Accessible URLs: 4312\n",
            "Processed batch 13: Total processed: 13000, Accessible URLs: 5123\n",
            "Processed batch 14: Total processed: 14000, Accessible URLs: 6013\n",
            "Processed batch 15: Total processed: 15000, Accessible URLs: 6656\n",
            "Processed batch 16: Total processed: 16000, Accessible URLs: 7026\n",
            "Processed batch 17: Total processed: 17000, Accessible URLs: 7683\n",
            "Processed batch 18: Total processed: 18000, Accessible URLs: 8330\n",
            "Processed batch 19: Total processed: 19000, Accessible URLs: 9062\n",
            "Processed batch 20: Total processed: 20000, Accessible URLs: 9663\n",
            "Processed batch 21: Total processed: 21000, Accessible URLs: 10488\n",
            "Processed batch 22: Total processed: 22000, Accessible URLs: 11086\n",
            "Processed batch 23: Total processed: 23000, Accessible URLs: 11774\n",
            "Processed batch 24: Total processed: 24000, Accessible URLs: 12347\n",
            "Processed batch 25: Total processed: 25000, Accessible URLs: 12873\n",
            "Processed batch 26: Total processed: 26000, Accessible URLs: 13436\n",
            "Processed batch 27: Total processed: 27000, Accessible URLs: 14047\n"
          ]
        },
        {
          "output_type": "stream",
          "name": "stderr",
          "text": [
            "WARNING:aiohttp.client:Can not load response cookies: Illegal key '/6e4n9n'\n"
          ]
        },
        {
          "output_type": "stream",
          "name": "stdout",
          "text": [
            "Processed batch 28: Total processed: 28000, Accessible URLs: 14503\n",
            "Processed batch 29: Total processed: 29000, Accessible URLs: 14736\n",
            "Processed batch 30: Total processed: 30000, Accessible URLs: 15227\n",
            "Processed batch 31: Total processed: 31000, Accessible URLs: 15794\n",
            "Processed batch 32: Total processed: 32000, Accessible URLs: 16326\n"
          ]
        },
        {
          "output_type": "stream",
          "name": "stderr",
          "text": [
            "WARNING:aiohttp.client:Can not load response cookies: Illegal key '/6c69vu'\n"
          ]
        },
        {
          "output_type": "stream",
          "name": "stdout",
          "text": [
            "Processed batch 33: Total processed: 33000, Accessible URLs: 17042\n",
            "Processed batch 34: Total processed: 34000, Accessible URLs: 17682\n",
            "Processed batch 35: Total processed: 35000, Accessible URLs: 18495\n",
            "Processed batch 36: Total processed: 36000, Accessible URLs: 19182\n",
            "Processed batch 37: Total processed: 37000, Accessible URLs: 19685\n",
            "Processed batch 38: Total processed: 38000, Accessible URLs: 20249\n",
            "Processed batch 39: Total processed: 39000, Accessible URLs: 20932\n",
            "Processed batch 40: Total processed: 40000, Accessible URLs: 21571\n",
            "Processed batch 41: Total processed: 41000, Accessible URLs: 22254\n",
            "Processed batch 42: Total processed: 42000, Accessible URLs: 22936\n",
            "Processed batch 43: Total processed: 43000, Accessible URLs: 23743\n",
            "Processed batch 44: Total processed: 44000, Accessible URLs: 24634\n",
            "Processed batch 45: Total processed: 45000, Accessible URLs: 25458\n",
            "Processed batch 46: Total processed: 46000, Accessible URLs: 26090\n",
            "Processed batch 47: Total processed: 47000, Accessible URLs: 26927\n",
            "Processed batch 48: Total processed: 48000, Accessible URLs: 27637\n",
            "Processed batch 49: Total processed: 49000, Accessible URLs: 28248\n",
            "Processed batch 50: Total processed: 50000, Accessible URLs: 28847\n",
            "Processed batch 51: Total processed: 51000, Accessible URLs: 29552\n",
            "Processed batch 52: Total processed: 52000, Accessible URLs: 30262\n",
            "Processed batch 53: Total processed: 53000, Accessible URLs: 30887\n",
            "Processed batch 54: Total processed: 54000, Accessible URLs: 31559\n",
            "Processed batch 55: Total processed: 55000, Accessible URLs: 32175\n",
            "Processed batch 56: Total processed: 56000, Accessible URLs: 32716\n",
            "Processed batch 57: Total processed: 57000, Accessible URLs: 33262\n",
            "Processed batch 58: Total processed: 58000, Accessible URLs: 33782\n",
            "Processed batch 59: Total processed: 59000, Accessible URLs: 34380\n",
            "Processed batch 60: Total processed: 60000, Accessible URLs: 34956\n",
            "Processed batch 61: Total processed: 61000, Accessible URLs: 35647\n",
            "Processed batch 62: Total processed: 62000, Accessible URLs: 36488\n",
            "Processed batch 63: Total processed: 63000, Accessible URLs: 37270\n",
            "Processed batch 64: Total processed: 64000, Accessible URLs: 38124\n",
            "Processed batch 65: Total processed: 65000, Accessible URLs: 38934\n",
            "Processed batch 66: Total processed: 66000, Accessible URLs: 39741\n",
            "Processed batch 67: Total processed: 67000, Accessible URLs: 40181\n",
            "Processed batch 68: Total processed: 68000, Accessible URLs: 40973\n",
            "Processed batch 69: Total processed: 69000, Accessible URLs: 41743\n",
            "Processed batch 70: Total processed: 70000, Accessible URLs: 42569\n"
          ]
        },
        {
          "output_type": "stream",
          "name": "stderr",
          "text": [
            "WARNING:aiohttp.client:Can not load response cookies: Illegal key '/58jcmb'\n"
          ]
        },
        {
          "output_type": "stream",
          "name": "stdout",
          "text": [
            "Processed batch 71: Total processed: 71000, Accessible URLs: 43026\n",
            "Processed batch 72: Total processed: 72000, Accessible URLs: 43812\n",
            "Processed batch 73: Total processed: 73000, Accessible URLs: 44605\n",
            "Processed batch 74: Total processed: 74000, Accessible URLs: 45391\n",
            "Processed batch 75: Total processed: 75000, Accessible URLs: 46182\n"
          ]
        },
        {
          "output_type": "stream",
          "name": "stderr",
          "text": [
            "WARNING:aiohttp.client:Can not load response cookies: Illegal key '/4y8g7r'\n",
            "WARNING:aiohttp.client:Can not load response cookies: Illegal key '/4ycyfp'\n",
            "WARNING:aiohttp.client:Can not load response cookies: Illegal key '/4y8cbn'\n",
            "WARNING:aiohttp.client:Can not load response cookies: Illegal key '/4ym8w9'\n",
            "WARNING:aiohttp.client:Can not load response cookies: Illegal key '/4xfz5h'\n",
            "WARNING:aiohttp.client:Can not load response cookies: Illegal key '/4yqhse'\n"
          ]
        },
        {
          "output_type": "stream",
          "name": "stdout",
          "text": [
            "Processed batch 76: Total processed: 76000, Accessible URLs: 46961\n",
            "Processed batch 77: Total processed: 77000, Accessible URLs: 47894\n",
            "Processed batch 78: Total processed: 78000, Accessible URLs: 48667\n",
            "Processed batch 79: Total processed: 79000, Accessible URLs: 49609\n",
            "Processed batch 80: Total processed: 80000, Accessible URLs: 50548\n",
            "Processed batch 81: Total processed: 81000, Accessible URLs: 51495\n"
          ]
        },
        {
          "output_type": "stream",
          "name": "stderr",
          "text": [
            "WARNING:aiohttp.client:Can not load response cookies: Illegal key '/3bx9tr?uaxi97dtneh142s40xq3x54he4jodvqs0vr7bvud8qghyps66w'\n"
          ]
        },
        {
          "output_type": "stream",
          "name": "stdout",
          "text": [
            "Processed batch 82: Total processed: 81179, Accessible URLs: 51660\n",
            "Build completed. Total URLs processed: 81179, Accessible URLs: 51660\n"
          ]
        }
      ]
    },
    {
      "cell_type": "code",
      "source": [
        "filename = 'data/phishing_data.parquet'\n",
        "df = pd.read_parquet(filename)\n",
        "\n",
        "# Filter valid html document\n",
        "df_valid_html = df[df['html'].apply(is_valid_html)]\n",
        "df_valid_html.to_parquet(filename, index=False)\n",
        "print(df_valid_html)"
      ],
      "metadata": {
        "id": "OoZY2HWs71-J",
        "outputId": "2fee9a51-b1a3-409e-fbe7-945777ccd0b6",
        "colab": {
          "base_uri": "https://localhost:8080/"
        }
      },
      "execution_count": null,
      "outputs": [
        {
          "output_type": "stream",
          "name": "stdout",
          "text": [
            "                                                     url  \\\n",
            "0      https://docs.google.com/presentation/d/e/2PACX...   \n",
            "1                    https://28239929901werb.weebly.com/   \n",
            "2                      https://currently8903.weebly.com/   \n",
            "3                    https://espace-orange25.weebly.com/   \n",
            "4      http://trezor-suite-support.tuncendustri.com/trz/   \n",
            "...                                                  ...   \n",
            "51153             https://webmailadmin0.myfreesites.net/   \n",
            "51154   http://www.ezblox.site/free/jennifer111/helpdesk   \n",
            "51155  http://www.formbuddy.com/cgi-bin/formdisp.pl?u...   \n",
            "51156           http://habbocreditosparati.blogspot.com/   \n",
            "51157  http://creditiperhabbogratissicuro100.blogspot...   \n",
            "\n",
            "                                                    html  \n",
            "0      <!DOCTYPE html><html data-cast-api-enabled=\"tr...  \n",
            "1      <!DOCTYPE html>\\n<html lang=\"en\">\\n\\t<head>\\n\\...  \n",
            "2      <!DOCTYPE html>\\n<html lang=\"en\">\\n\\t<head>\\n\\...  \n",
            "3      <!DOCTYPE html>\\n<html lang=\"en\">\\n\\t<head>\\n\\...  \n",
            "4      <!DOCTYPE html> <html class=js id=window lang=...  \n",
            "...                                                  ...  \n",
            "51153  <!DOCTYPE html PUBLIC \"-//W3C//DTD XHTML 1.0 T...  \n",
            "51154  <!DOCTYPE html>\\n<html xmlns=\"http://www.w3.or...  \n",
            "51155  <title>Global Online Security Team</title>\\r\\n...  \n",
            "51156  <!DOCTYPE html>\\n<html dir='ltr'>\\n<head>\\n<li...  \n",
            "51157  <!DOCTYPE html>\\n<html class='v2' dir='ltr' la...  \n",
            "\n",
            "[51157 rows x 2 columns]\n"
          ]
        }
      ]
    },
    {
      "cell_type": "markdown",
      "source": [
        "## **Collect legitimate data**"
      ],
      "metadata": {
        "id": "Pt7BCndL9_2z"
      }
    },
    {
      "cell_type": "code",
      "source": [
        "df = pd.read_csv('data/top-1m.csv', nrows=300000)\n",
        "legitimate_urls = df.iloc[:, 1]\n",
        "filename = 'data/legitimate_data.parquet'\n",
        "\n",
        "loop = asyncio.get_running_loop()\n",
        "await loop.create_task(collect_data(url_list=legitimate_urls,\n",
        "                                     batch_size=1000,\n",
        "                                     size=55000,\n",
        "                                     filename=filename))"
      ],
      "metadata": {
        "colab": {
          "base_uri": "https://localhost:8080/"
        },
        "id": "PFG6J4OUdydj",
        "outputId": "6a1cc9f5-914c-4c34-f1f1-0b57dc2e5b50"
      },
      "execution_count": null,
      "outputs": [
        {
          "output_type": "stream",
          "name": "stdout",
          "text": [
            "Processed batch 1: Total processed: 1000, Accessible URLs: 584\n"
          ]
        },
        {
          "output_type": "stream",
          "name": "stderr",
          "text": [
            "WARNING:aiohttp.client:Can not load response cookies: Illegal key '@porno-carioca-1_0_2:usrct_back'\n",
            "WARNING:aiohttp.client:Can not load response cookies: Illegal key '@porno-carioca-1_0_2:usrstt_back'\n",
            "WARNING:aiohttp.client:Can not load response cookies: Illegal key '@porno-carioca-1_0_2:usrct_back'\n",
            "WARNING:aiohttp.client:Can not load response cookies: Illegal key '@porno-carioca-1_0_2:usrstt_back'\n"
          ]
        },
        {
          "output_type": "stream",
          "name": "stdout",
          "text": [
            "Processed batch 2: Total processed: 2000, Accessible URLs: 1224\n"
          ]
        },
        {
          "output_type": "stream",
          "name": "stderr",
          "text": [
            "WARNING:aiohttp.client:Can not load response cookies: Illegal key 'Bluffs,zip'\n"
          ]
        },
        {
          "output_type": "stream",
          "name": "stdout",
          "text": [
            "Processed batch 3: Total processed: 3000, Accessible URLs: 1827\n",
            "Processed batch 4: Total processed: 4000, Accessible URLs: 2433\n",
            "Processed batch 5: Total processed: 5000, Accessible URLs: 3060\n",
            "Processed batch 6: Total processed: 6000, Accessible URLs: 3679\n",
            "Processed batch 7: Total processed: 7000, Accessible URLs: 4323\n",
            "Processed batch 8: Total processed: 8000, Accessible URLs: 4974\n"
          ]
        },
        {
          "output_type": "stream",
          "name": "stderr",
          "text": [
            "WARNING:aiohttp.client:Can not load response cookies: Illegal key '@s_page'\n",
            "WARNING:aiohttp.client:Can not load response cookies: Illegal key '@s_cond'\n",
            "WARNING:aiohttp.client:Can not load response cookies: Illegal key '@s_order'\n",
            "WARNING:aiohttp.client:Can not load response cookies: Illegal key '@pagescale'\n",
            "WARNING:aiohttp.client:Can not load response cookies: Illegal key '@s_code'\n"
          ]
        },
        {
          "output_type": "stream",
          "name": "stdout",
          "text": [
            "Processed batch 9: Total processed: 9000, Accessible URLs: 5618\n",
            "Processed batch 10: Total processed: 10000, Accessible URLs: 6299\n",
            "Processed batch 11: Total processed: 11000, Accessible URLs: 6860\n"
          ]
        },
        {
          "output_type": "stream",
          "name": "stderr",
          "text": [
            "WARNING:aiohttp.client:Can not load response cookies: Illegal key 'BIGipServerCiL/TCodZGY0unyxXDEFVA'\n"
          ]
        },
        {
          "output_type": "stream",
          "name": "stdout",
          "text": [
            "Processed batch 12: Total processed: 12000, Accessible URLs: 7429\n",
            "Processed batch 13: Total processed: 13000, Accessible URLs: 8025\n",
            "Processed batch 14: Total processed: 14000, Accessible URLs: 8642\n",
            "Processed batch 15: Total processed: 15000, Accessible URLs: 9210\n",
            "Processed batch 16: Total processed: 16000, Accessible URLs: 9796\n",
            "Processed batch 17: Total processed: 17000, Accessible URLs: 10427\n",
            "Processed batch 18: Total processed: 18000, Accessible URLs: 11037\n",
            "Processed batch 19: Total processed: 19000, Accessible URLs: 11701\n",
            "Processed batch 20: Total processed: 20000, Accessible URLs: 12341\n",
            "Processed batch 21: Total processed: 21000, Accessible URLs: 12973\n",
            "Processed batch 22: Total processed: 22000, Accessible URLs: 13616\n",
            "Processed batch 23: Total processed: 23000, Accessible URLs: 14242\n",
            "Processed batch 24: Total processed: 24000, Accessible URLs: 14885\n",
            "Processed batch 25: Total processed: 25000, Accessible URLs: 15500\n",
            "Processed batch 26: Total processed: 26000, Accessible URLs: 16114\n",
            "Processed batch 27: Total processed: 27000, Accessible URLs: 16719\n",
            "Processed batch 28: Total processed: 28000, Accessible URLs: 17303\n",
            "Processed batch 29: Total processed: 29000, Accessible URLs: 17956\n",
            "Processed batch 30: Total processed: 30000, Accessible URLs: 18578\n",
            "Processed batch 31: Total processed: 31000, Accessible URLs: 19162\n",
            "Processed batch 32: Total processed: 32000, Accessible URLs: 19810\n",
            "Processed batch 33: Total processed: 33000, Accessible URLs: 20471\n",
            "Processed batch 34: Total processed: 34000, Accessible URLs: 21123\n",
            "Processed batch 35: Total processed: 35000, Accessible URLs: 21771\n",
            "Processed batch 36: Total processed: 36000, Accessible URLs: 22375\n",
            "Processed batch 37: Total processed: 37000, Accessible URLs: 23010\n",
            "Processed batch 38: Total processed: 38000, Accessible URLs: 23648\n",
            "Processed batch 39: Total processed: 39000, Accessible URLs: 24276\n",
            "Processed batch 40: Total processed: 40000, Accessible URLs: 24941\n",
            "Processed batch 41: Total processed: 41000, Accessible URLs: 25582\n",
            "Processed batch 42: Total processed: 42000, Accessible URLs: 26196\n",
            "Processed batch 43: Total processed: 43000, Accessible URLs: 26839\n",
            "Processed batch 44: Total processed: 44000, Accessible URLs: 27473\n",
            "Processed batch 45: Total processed: 45000, Accessible URLs: 28102\n",
            "Processed batch 46: Total processed: 46000, Accessible URLs: 28750\n"
          ]
        },
        {
          "output_type": "stream",
          "name": "stderr",
          "text": [
            "WARNING:aiohttp.client:Can not load response cookies: Illegal key 'BIGipServer8lIEZSjlbXikW/dQiJM3jw'\n",
            "WARNING:aiohttp.client:Can not load response cookies: Illegal key 'BIGipServere0JrY/YfXAJWVthvbP9LZw'\n"
          ]
        },
        {
          "output_type": "stream",
          "name": "stdout",
          "text": [
            "Processed batch 47: Total processed: 47000, Accessible URLs: 29395\n",
            "Processed batch 48: Total processed: 48000, Accessible URLs: 30057\n",
            "Processed batch 49: Total processed: 49000, Accessible URLs: 30686\n",
            "Processed batch 50: Total processed: 50000, Accessible URLs: 31313\n"
          ]
        },
        {
          "output_type": "stream",
          "name": "stderr",
          "text": [
            "WARNING:aiohttp.client:Can not load response cookies: Illegal key '@CU/TrackUuid'\n"
          ]
        },
        {
          "output_type": "stream",
          "name": "stdout",
          "text": [
            "Processed batch 51: Total processed: 51000, Accessible URLs: 31957\n",
            "Processed batch 52: Total processed: 52000, Accessible URLs: 32608\n",
            "Processed batch 53: Total processed: 53000, Accessible URLs: 33242\n",
            "Processed batch 54: Total processed: 54000, Accessible URLs: 33903\n",
            "Processed batch 55: Total processed: 55000, Accessible URLs: 34532\n",
            "Processed batch 56: Total processed: 56000, Accessible URLs: 35183\n",
            "Processed batch 57: Total processed: 57000, Accessible URLs: 35868\n",
            "Processed batch 58: Total processed: 58000, Accessible URLs: 36540\n",
            "Processed batch 59: Total processed: 59000, Accessible URLs: 37183\n",
            "Processed batch 60: Total processed: 60000, Accessible URLs: 37847\n"
          ]
        },
        {
          "output_type": "stream",
          "name": "stderr",
          "text": [
            "WARNING:aiohttp.client:Can not load response cookies: Illegal key 'BIGipServerw/i2e3Auxpdz+XjPr5u48w'\n"
          ]
        },
        {
          "output_type": "stream",
          "name": "stdout",
          "text": [
            "Processed batch 61: Total processed: 61000, Accessible URLs: 38471\n",
            "Processed batch 62: Total processed: 62000, Accessible URLs: 39136\n",
            "Processed batch 63: Total processed: 63000, Accessible URLs: 39799\n",
            "Processed batch 64: Total processed: 64000, Accessible URLs: 40456\n"
          ]
        },
        {
          "output_type": "stream",
          "name": "stderr",
          "text": [
            "WARNING:aiohttp.client:Can not load response cookies: Illegal key '2024/10/23/0/uu_in'\n",
            "WARNING:aiohttp.client:Can not load response cookies: Illegal key '@FC:Ecom:APIS_BASE_URL'\n"
          ]
        },
        {
          "output_type": "stream",
          "name": "stdout",
          "text": [
            "Processed batch 65: Total processed: 65000, Accessible URLs: 41112\n",
            "Processed batch 66: Total processed: 66000, Accessible URLs: 41776\n"
          ]
        },
        {
          "output_type": "stream",
          "name": "stderr",
          "text": [
            "WARNING:aiohttp.client:Can not load response cookies: Illegal key 'BIGipServert3pRHh/fVTBRw3HouCinqw'\n"
          ]
        },
        {
          "output_type": "stream",
          "name": "stdout",
          "text": [
            "Processed batch 67: Total processed: 67000, Accessible URLs: 42436\n",
            "Processed batch 68: Total processed: 68000, Accessible URLs: 43077\n",
            "Processed batch 69: Total processed: 69000, Accessible URLs: 43759\n",
            "Processed batch 70: Total processed: 70000, Accessible URLs: 44441\n",
            "Processed batch 71: Total processed: 71000, Accessible URLs: 45128\n",
            "Processed batch 72: Total processed: 72000, Accessible URLs: 45794\n"
          ]
        },
        {
          "output_type": "stream",
          "name": "stderr",
          "text": [
            "WARNING:aiohttp.client:Can not load response cookies: Illegal key '@@'\n",
            "WARNING:aiohttp.client:Can not load response cookies: Illegal key '@@'\n",
            "WARNING:aiohttp.client:Can not load response cookies: Illegal key '@@'\n",
            "WARNING:aiohttp.client:Can not load response cookies: Illegal key '@@'\n",
            "WARNING:aiohttp.client:Can not load response cookies: Illegal key '@@'\n",
            "WARNING:aiohttp.client:Can not load response cookies: Illegal key '@@'\n",
            "WARNING:aiohttp.client:Can not load response cookies: Illegal key '@@'\n",
            "WARNING:aiohttp.client:Can not load response cookies: Illegal key '@@'\n"
          ]
        },
        {
          "output_type": "stream",
          "name": "stdout",
          "text": [
            "Processed batch 73: Total processed: 73000, Accessible URLs: 46440\n",
            "Processed batch 74: Total processed: 74000, Accessible URLs: 47112\n",
            "Processed batch 75: Total processed: 75000, Accessible URLs: 47791\n",
            "Processed batch 76: Total processed: 76000, Accessible URLs: 48484\n",
            "Processed batch 77: Total processed: 77000, Accessible URLs: 49175\n",
            "Processed batch 78: Total processed: 78000, Accessible URLs: 49867\n",
            "Processed batch 79: Total processed: 79000, Accessible URLs: 50549\n"
          ]
        },
        {
          "output_type": "stream",
          "name": "stderr",
          "text": [
            "WARNING:aiohttp.client:Can not load response cookies: Illegal key 'client_tracking/tracking'\n",
            "WARNING:aiohttp.client:Can not load response cookies: Illegal key 'shared/sharedCacheKey'\n",
            "WARNING:aiohttp.client:Can not load response cookies: Illegal key 'next21/jackroad'\n"
          ]
        },
        {
          "output_type": "stream",
          "name": "stdout",
          "text": [
            "Processed batch 80: Total processed: 80000, Accessible URLs: 51237\n",
            "Processed batch 81: Total processed: 81000, Accessible URLs: 51921\n",
            "Processed batch 82: Total processed: 82000, Accessible URLs: 52616\n",
            "Processed batch 83: Total processed: 83000, Accessible URLs: 53319\n",
            "Processed batch 84: Total processed: 84000, Accessible URLs: 54040\n",
            "Processed batch 85: Total processed: 85000, Accessible URLs: 54721\n",
            "Processed batch 86: Total processed: 86000, Accessible URLs: 55453\n",
            "Build completed. Total URLs processed: 86000, Accessible URLs: 55453\n"
          ]
        }
      ]
    },
    {
      "cell_type": "code",
      "source": [
        "filename = 'data/legitimate_data.parquet'\n",
        "df = pd.read_parquet(filename)\n",
        "\n",
        "# Filter valid html document\n",
        "df_valid_html = df[df['html'].apply(is_valid_html)]\n",
        "df_valid_html.to_parquet(filename, index=False)\n",
        "print(df_valid_html)"
      ],
      "metadata": {
        "id": "_m7ySBO78QXr",
        "outputId": "186aa231-bb1a-4163-9d8d-33e80f91542f",
        "colab": {
          "base_uri": "https://localhost:8080/"
        }
      },
      "execution_count": null,
      "outputs": [
        {
          "output_type": "stream",
          "name": "stdout",
          "text": [
            "                                            url  \\\n",
            "0                       https://aws.amazon.com/   \n",
            "1              https://www.microsoft.com/en-us/   \n",
            "2                     https://www.facebook.com/   \n",
            "3                        https://www.apple.com/   \n",
            "4                      https://www.youtube.com/   \n",
            "...                                         ...   \n",
            "55448      https://www.advanced-ip-scanner.com/   \n",
            "55449  https://cyberfolks.pl/?source=futurehost   \n",
            "55450                https://reclaimthenet.org/   \n",
            "55451                      https://www.caa.com/   \n",
            "55452                   https://www.vodpod.com/   \n",
            "\n",
            "                                                    html  \n",
            "0      <!doctype html>\\n<html class=\"no-js aws-lng-en...  \n",
            "1      <!DOCTYPE HTML>\\n\\n<html lang=\"en-US\" dir=\"ltr...  \n",
            "2      <!DOCTYPE html>\\n<html lang=\"en\" id=\"facebook\"...  \n",
            "3      \\n\\n\\n\\t\\n\\n\\n\\t\\n\\n\\t\\n\\n\\n\\t\\n\\n\\n\\t\\n\\n\\t\\n...  \n",
            "4      <!DOCTYPE html><html style=\"font-size: 10px;fo...  \n",
            "...                                                  ...  \n",
            "55448  <!DOCTYPE html> <html lang=\"en\"> <head> <link ...  \n",
            "55449  <!DOCTYPE html><html lang=\"pl-PL\"><head><meta ...  \n",
            "55450  <!doctype html>\\n<html lang=\"en-US\">\\n<head>\\n...  \n",
            "55451  <!DOCTYPE html>\\n<html lang=\"en\" dir=\"ltr\" pre...  \n",
            "55452  <!DOCTYPE html>\\r\\n<html lang=\"en-US\">\\r\\n<hea...  \n",
            "\n",
            "[54789 rows x 2 columns]\n"
          ]
        }
      ]
    }
  ],
  "metadata": {
    "language_info": {
      "name": "python"
    },
    "colab": {
      "provenance": [],
      "machine_shape": "hm",
      "gpuType": "V28",
      "include_colab_link": true
    },
    "kernelspec": {
      "name": "python3",
      "display_name": "Python 3"
    },
    "accelerator": "TPU"
  },
  "nbformat": 4,
  "nbformat_minor": 0
}
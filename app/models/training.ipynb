{
  "cells": [
    {
      "cell_type": "markdown",
      "metadata": {
        "id": "view-in-github",
        "colab_type": "text"
      },
      "source": [
        "<a href=\"https://colab.research.google.com/github/Akechi1412/Phishing-Website-Detection/blob/main/app/models/training.ipynb\" target=\"_parent\"><img src=\"https://colab.research.google.com/assets/colab-badge.svg\" alt=\"Open In Colab\"/></a>"
      ]
    },
    {
      "cell_type": "markdown",
      "metadata": {
        "id": "Ie97YpRCETlO"
      },
      "source": [
        "# **Train Phishing Webpage Detection Model**"
      ]
    },
    {
      "cell_type": "markdown",
      "metadata": {
        "id": "JWJeAJ4MEkBz"
      },
      "source": [
        "## **Connect to Drive and Github responsitory**"
      ]
    },
    {
      "cell_type": "code",
      "execution_count": null,
      "metadata": {
        "colab": {
          "base_uri": "https://localhost:8080/"
        },
        "id": "GFR4qI0yDyXW",
        "outputId": "f099fc8f-520c-4daf-8f11-7ed1bfcf7bee"
      },
      "outputs": [
        {
          "output_type": "stream",
          "name": "stdout",
          "text": [
            "Mounted at /content/drive\n"
          ]
        }
      ],
      "source": [
        "from google.colab import drive\n",
        "drive.mount('/content/drive')"
      ]
    },
    {
      "cell_type": "code",
      "execution_count": null,
      "metadata": {
        "colab": {
          "base_uri": "https://localhost:8080/"
        },
        "id": "kRvWxHJVEqiV",
        "outputId": "6beadf6f-70a6-42a8-8faf-12fd79f24522"
      },
      "outputs": [
        {
          "output_type": "stream",
          "name": "stdout",
          "text": [
            "/content/drive/MyDrive/Github\n",
            "/content/drive/MyDrive/Github/Phishing-Website-Detection/app\n",
            "Updating files: 100% (73/73), done.\n",
            "HEAD is now at 45a2880 Merge branch 'main' of https://github.com/Akechi1412/Phishing-Website-Detection\n"
          ]
        }
      ],
      "source": [
        "%cd /content/drive/MyDrive/Github\n",
        "%cd Phishing-Website-Detection/app\n",
        "!git config --global user.email 'nguyenphong10042002@gmail.com'\n",
        "!git config --global user.name 'Akechi1412'\n",
        "!git fetch origin\n",
        "!git reset --hard origin/main"
      ]
    },
    {
      "cell_type": "markdown",
      "metadata": {
        "id": "ND63uFHUXK9M"
      },
      "source": [
        "## **Load dataset**"
      ]
    },
    {
      "cell_type": "code",
      "execution_count": null,
      "metadata": {
        "id": "xOnT0W5UMd4S"
      },
      "outputs": [],
      "source": [
        "import h5py\n",
        "import tensorflow as tf"
      ]
    },
    {
      "cell_type": "code",
      "execution_count": null,
      "metadata": {
        "id": "bmEwXL7hMhRx"
      },
      "outputs": [],
      "source": [
        "def load_dataset(file_path, batch_size=1024):\n",
        "    with h5py.File(file_path, 'r') as f:\n",
        "        url_data = f['url']\n",
        "        adjacency_data = f['adjacency']\n",
        "        feature_data = f['feature']\n",
        "        label_data = f['label']\n",
        "\n",
        "        num_samples = label_data.shape[0]\n",
        "\n",
        "        dataset = tf.data.Dataset.from_tensor_slices((\n",
        "            (\n",
        "                tf.convert_to_tensor(url_data, dtype=tf.int32),\n",
        "                tf.convert_to_tensor(adjacency_data, dtype=tf.float32),\n",
        "                tf.convert_to_tensor(feature_data, dtype=tf.float32)\n",
        "            ),\n",
        "            tf.convert_to_tensor(label_data, dtype=tf.int32)\n",
        "        ))\n",
        "\n",
        "    dataset = dataset.batch(batch_size).prefetch(tf.data.experimental.AUTOTUNE)\n",
        "\n",
        "    return dataset"
      ]
    },
    {
      "cell_type": "markdown",
      "metadata": {
        "id": "PGlreT0lYxoA"
      },
      "source": [
        "## **Create models functions**"
      ]
    },
    {
      "cell_type": "markdown",
      "metadata": {
        "id": "dqY3Fi0LZ8Sx"
      },
      "source": [
        "### **Create URL model using Transformer Neutral Network**"
      ]
    },
    {
      "cell_type": "code",
      "execution_count": null,
      "metadata": {
        "colab": {
          "base_uri": "https://localhost:8080/"
        },
        "id": "ITILC3TnVtqB",
        "outputId": "4a8f4e1e-4b6c-4c28-8f12-41d2d79fd6cd"
      },
      "outputs": [
        {
          "output_type": "stream",
          "name": "stdout",
          "text": [
            "Collecting spektral\n",
            "  Downloading spektral-1.3.1-py3-none-any.whl.metadata (5.9 kB)\n",
            "Requirement already satisfied: joblib in /usr/local/lib/python3.10/dist-packages (from spektral) (1.4.2)\n",
            "Collecting lxml (from spektral)\n",
            "  Downloading lxml-5.3.0-cp310-cp310-manylinux_2_28_x86_64.whl.metadata (3.8 kB)\n",
            "Requirement already satisfied: networkx in /usr/local/lib/python3.10/dist-packages (from spektral) (3.4.2)\n",
            "Requirement already satisfied: numpy in /usr/local/lib/python3.10/dist-packages (from spektral) (1.26.4)\n",
            "Requirement already satisfied: pandas in /usr/local/lib/python3.10/dist-packages (from spektral) (2.2.2)\n",
            "Requirement already satisfied: requests in /usr/local/lib/python3.10/dist-packages (from spektral) (2.32.3)\n",
            "Requirement already satisfied: scikit-learn in /usr/local/lib/python3.10/dist-packages (from spektral) (1.5.2)\n",
            "Requirement already satisfied: scipy in /usr/local/lib/python3.10/dist-packages (from spektral) (1.13.1)\n",
            "Requirement already satisfied: tqdm in /usr/local/lib/python3.10/dist-packages (from spektral) (4.66.6)\n",
            "Requirement already satisfied: tensorflow>=2.2.0 in /usr/local/lib/python3.10/dist-packages (from spektral) (2.15.0)\n",
            "Requirement already satisfied: absl-py>=1.0.0 in /usr/local/lib/python3.10/dist-packages (from tensorflow>=2.2.0->spektral) (1.4.0)\n",
            "Requirement already satisfied: astunparse>=1.6.0 in /usr/local/lib/python3.10/dist-packages (from tensorflow>=2.2.0->spektral) (1.6.3)\n",
            "Requirement already satisfied: flatbuffers>=23.5.26 in /usr/local/lib/python3.10/dist-packages (from tensorflow>=2.2.0->spektral) (24.3.25)\n",
            "Requirement already satisfied: gast!=0.5.0,!=0.5.1,!=0.5.2,>=0.2.1 in /usr/local/lib/python3.10/dist-packages (from tensorflow>=2.2.0->spektral) (0.6.0)\n",
            "Requirement already satisfied: google-pasta>=0.1.1 in /usr/local/lib/python3.10/dist-packages (from tensorflow>=2.2.0->spektral) (0.2.0)\n",
            "Requirement already satisfied: h5py>=2.9.0 in /usr/local/lib/python3.10/dist-packages (from tensorflow>=2.2.0->spektral) (3.12.1)\n",
            "Requirement already satisfied: libclang>=13.0.0 in /usr/local/lib/python3.10/dist-packages (from tensorflow>=2.2.0->spektral) (18.1.1)\n",
            "Requirement already satisfied: ml-dtypes~=0.2.0 in /usr/local/lib/python3.10/dist-packages (from tensorflow>=2.2.0->spektral) (0.2.0)\n",
            "Requirement already satisfied: opt-einsum>=2.3.2 in /usr/local/lib/python3.10/dist-packages (from tensorflow>=2.2.0->spektral) (3.4.0)\n",
            "Requirement already satisfied: packaging in /usr/local/lib/python3.10/dist-packages (from tensorflow>=2.2.0->spektral) (24.2)\n",
            "Requirement already satisfied: protobuf!=4.21.0,!=4.21.1,!=4.21.2,!=4.21.3,!=4.21.4,!=4.21.5,<5.0.0dev,>=3.20.3 in /usr/local/lib/python3.10/dist-packages (from tensorflow>=2.2.0->spektral) (4.25.5)\n",
            "Requirement already satisfied: setuptools in /usr/local/lib/python3.10/dist-packages (from tensorflow>=2.2.0->spektral) (75.1.0)\n",
            "Requirement already satisfied: six>=1.12.0 in /usr/local/lib/python3.10/dist-packages (from tensorflow>=2.2.0->spektral) (1.16.0)\n",
            "Requirement already satisfied: termcolor>=1.1.0 in /usr/local/lib/python3.10/dist-packages (from tensorflow>=2.2.0->spektral) (2.5.0)\n",
            "Requirement already satisfied: typing-extensions>=3.6.6 in /usr/local/lib/python3.10/dist-packages (from tensorflow>=2.2.0->spektral) (4.12.2)\n",
            "Requirement already satisfied: wrapt<1.15,>=1.11.0 in /usr/local/lib/python3.10/dist-packages (from tensorflow>=2.2.0->spektral) (1.14.1)\n",
            "Requirement already satisfied: tensorflow-io-gcs-filesystem>=0.23.1 in /usr/local/lib/python3.10/dist-packages (from tensorflow>=2.2.0->spektral) (0.37.1)\n",
            "Requirement already satisfied: grpcio<2.0,>=1.24.3 in /usr/local/lib/python3.10/dist-packages (from tensorflow>=2.2.0->spektral) (1.67.1)\n",
            "Requirement already satisfied: tensorboard<2.16,>=2.15 in /usr/local/lib/python3.10/dist-packages (from tensorflow>=2.2.0->spektral) (2.15.2)\n",
            "Requirement already satisfied: tensorflow-estimator<2.16,>=2.15.0 in /usr/local/lib/python3.10/dist-packages (from tensorflow>=2.2.0->spektral) (2.15.0)\n",
            "Requirement already satisfied: keras<2.16,>=2.15.0 in /usr/local/lib/python3.10/dist-packages (from tensorflow>=2.2.0->spektral) (2.15.0)\n",
            "Requirement already satisfied: python-dateutil>=2.8.2 in /usr/local/lib/python3.10/dist-packages (from pandas->spektral) (2.9.0.post0)\n",
            "Requirement already satisfied: pytz>=2020.1 in /usr/local/lib/python3.10/dist-packages (from pandas->spektral) (2024.2)\n",
            "Requirement already satisfied: tzdata>=2022.7 in /usr/local/lib/python3.10/dist-packages (from pandas->spektral) (2024.2)\n",
            "Requirement already satisfied: charset-normalizer<4,>=2 in /usr/local/lib/python3.10/dist-packages (from requests->spektral) (3.4.0)\n",
            "Requirement already satisfied: idna<4,>=2.5 in /usr/local/lib/python3.10/dist-packages (from requests->spektral) (3.10)\n",
            "Requirement already satisfied: urllib3<3,>=1.21.1 in /usr/local/lib/python3.10/dist-packages (from requests->spektral) (2.2.3)\n",
            "Requirement already satisfied: certifi>=2017.4.17 in /usr/local/lib/python3.10/dist-packages (from requests->spektral) (2024.8.30)\n",
            "Requirement already satisfied: threadpoolctl>=3.1.0 in /usr/local/lib/python3.10/dist-packages (from scikit-learn->spektral) (3.5.0)\n",
            "Requirement already satisfied: wheel<1.0,>=0.23.0 in /usr/local/lib/python3.10/dist-packages (from astunparse>=1.6.0->tensorflow>=2.2.0->spektral) (0.44.0)\n",
            "Requirement already satisfied: google-auth<3,>=1.6.3 in /usr/local/lib/python3.10/dist-packages (from tensorboard<2.16,>=2.15->tensorflow>=2.2.0->spektral) (2.27.0)\n",
            "Requirement already satisfied: google-auth-oauthlib<2,>=0.5 in /usr/local/lib/python3.10/dist-packages (from tensorboard<2.16,>=2.15->tensorflow>=2.2.0->spektral) (1.2.1)\n",
            "Requirement already satisfied: markdown>=2.6.8 in /usr/local/lib/python3.10/dist-packages (from tensorboard<2.16,>=2.15->tensorflow>=2.2.0->spektral) (3.7)\n",
            "Requirement already satisfied: tensorboard-data-server<0.8.0,>=0.7.0 in /usr/local/lib/python3.10/dist-packages (from tensorboard<2.16,>=2.15->tensorflow>=2.2.0->spektral) (0.7.2)\n",
            "Requirement already satisfied: werkzeug>=1.0.1 in /usr/local/lib/python3.10/dist-packages (from tensorboard<2.16,>=2.15->tensorflow>=2.2.0->spektral) (3.1.3)\n",
            "Requirement already satisfied: cachetools<6.0,>=2.0.0 in /usr/local/lib/python3.10/dist-packages (from google-auth<3,>=1.6.3->tensorboard<2.16,>=2.15->tensorflow>=2.2.0->spektral) (5.5.0)\n",
            "Requirement already satisfied: pyasn1-modules>=0.2.1 in /usr/local/lib/python3.10/dist-packages (from google-auth<3,>=1.6.3->tensorboard<2.16,>=2.15->tensorflow>=2.2.0->spektral) (0.4.1)\n",
            "Requirement already satisfied: rsa<5,>=3.1.4 in /usr/local/lib/python3.10/dist-packages (from google-auth<3,>=1.6.3->tensorboard<2.16,>=2.15->tensorflow>=2.2.0->spektral) (4.9)\n",
            "Requirement already satisfied: requests-oauthlib>=0.7.0 in /usr/local/lib/python3.10/dist-packages (from google-auth-oauthlib<2,>=0.5->tensorboard<2.16,>=2.15->tensorflow>=2.2.0->spektral) (2.0.0)\n",
            "Requirement already satisfied: MarkupSafe>=2.1.1 in /usr/local/lib/python3.10/dist-packages (from werkzeug>=1.0.1->tensorboard<2.16,>=2.15->tensorflow>=2.2.0->spektral) (3.0.2)\n",
            "Requirement already satisfied: pyasn1<0.7.0,>=0.4.6 in /usr/local/lib/python3.10/dist-packages (from pyasn1-modules>=0.2.1->google-auth<3,>=1.6.3->tensorboard<2.16,>=2.15->tensorflow>=2.2.0->spektral) (0.6.1)\n",
            "Requirement already satisfied: oauthlib>=3.0.0 in /usr/local/lib/python3.10/dist-packages (from requests-oauthlib>=0.7.0->google-auth-oauthlib<2,>=0.5->tensorboard<2.16,>=2.15->tensorflow>=2.2.0->spektral) (3.2.2)\n",
            "Downloading spektral-1.3.1-py3-none-any.whl (140 kB)\n",
            "\u001b[2K   \u001b[90m━━━━━━━━━━━━━━━━━━━━━━━━━━━━━━━━━━━━━━━━\u001b[0m \u001b[32m140.1/140.1 kB\u001b[0m \u001b[31m3.5 MB/s\u001b[0m eta \u001b[36m0:00:00\u001b[0m\n",
            "\u001b[?25hDownloading lxml-5.3.0-cp310-cp310-manylinux_2_28_x86_64.whl (5.0 MB)\n",
            "\u001b[2K   \u001b[90m━━━━━━━━━━━━━━━━━━━━━━━━━━━━━━━━━━━━━━━━\u001b[0m \u001b[32m5.0/5.0 MB\u001b[0m \u001b[31m58.6 MB/s\u001b[0m eta \u001b[36m0:00:00\u001b[0m\n",
            "\u001b[?25hInstalling collected packages: lxml, spektral\n",
            "Successfully installed lxml-5.3.0 spektral-1.3.1\n"
          ]
        }
      ],
      "source": [
        "!pip install spektral"
      ]
    },
    {
      "cell_type": "code",
      "execution_count": null,
      "metadata": {
        "id": "ihcA5_uhsAOP"
      },
      "outputs": [],
      "source": [
        "import tensorflow as tf\n",
        "from tensorflow import keras\n",
        "from tensorflow.keras import layers, models, regularizers\n",
        "from utils.layers import PositionalEmbedding, TransformerEncoder"
      ]
    },
    {
      "cell_type": "code",
      "execution_count": null,
      "metadata": {
        "id": "tG7Ie9hb3p-4"
      },
      "outputs": [],
      "source": [
        "def create_url_model(vocab_size, max_words, embed_dim,\n",
        "                     num_heads, intermediate_dim,\n",
        "                     dropout=0.1, num_transformer_layers=1):\n",
        "    inputs = keras.Input(shape=(max_words,), dtype=tf.int32)\n",
        "    x = PositionalEmbedding(max_words, vocab_size, embed_dim)(inputs)\n",
        "    for _ in range(num_transformer_layers):\n",
        "        x = TransformerEncoder(embed_dim, num_heads, intermediate_dim)(x)\n",
        "        x = layers.Dropout(dropout)(x)\n",
        "    x = layers.GlobalAveragePooling1D()(x)\n",
        "    url_model = keras.Model(inputs=inputs, outputs=x)\n",
        "\n",
        "    return url_model"
      ]
    },
    {
      "cell_type": "markdown",
      "metadata": {
        "id": "x-vy88oyaJVX"
      },
      "source": [
        "### **Create HTML model using Graph Convolution Network**"
      ]
    },
    {
      "cell_type": "code",
      "execution_count": null,
      "metadata": {
        "id": "C_1BZe-Ux7hE"
      },
      "outputs": [],
      "source": [
        "from spektral.layers import GCNConv, GlobalSumPool\n",
        "from utils.layers import GCN"
      ]
    },
    {
      "cell_type": "code",
      "execution_count": null,
      "metadata": {
        "id": "3t3YPPg6xq_J"
      },
      "outputs": [],
      "source": [
        "def create_html_model(max_nodes, feature_dim, gcn_units,\n",
        "                      dropout=0.1, num_gcn_layers=1):\n",
        "    inputs_adj = keras.Input(shape=(max_nodes, max_nodes), dtype=tf.float32)\n",
        "    inputs_feat = keras.Input(shape=(max_nodes, feature_dim), dtype=tf.float32)\n",
        "\n",
        "    x = inputs_feat\n",
        "    for _ in range(num_gcn_layers):\n",
        "        x = GCN(gcn_units, activation='relu')([x, inputs_adj])\n",
        "        x = layers.Dropout(dropout)(x)\n",
        "    x = GlobalSumPool()(x)\n",
        "    html_model = keras.Model(inputs=[inputs_adj, inputs_feat], outputs=x)\n",
        "\n",
        "    return html_model"
      ]
    },
    {
      "cell_type": "markdown",
      "metadata": {
        "id": "BfJxAiOc4-W3"
      },
      "source": [
        "### **Create full model**"
      ]
    },
    {
      "cell_type": "code",
      "execution_count": null,
      "metadata": {
        "id": "i0R3UZVa5OEF"
      },
      "outputs": [],
      "source": [
        "def create_full_model(vocab_size, max_words, dropout, embed_dim,\n",
        "                      num_heads, intermediate_dim, num_transformer_layers,\n",
        "                      max_nodes, feature_dim, gcn_units,\n",
        "                      num_gcn_layers, dense_dim, l2_reg):\n",
        "    # URL Model\n",
        "    url_model = create_url_model(vocab_size, max_words, embed_dim, num_heads,\n",
        "                                 intermediate_dim, dropout, num_transformer_layers)\n",
        "\n",
        "    # HTML Model\n",
        "    html_model = create_html_model(max_nodes, feature_dim, gcn_units,\n",
        "                                   dropout, num_gcn_layers)\n",
        "\n",
        "    # Inputs\n",
        "    url_inputs = keras.Input(shape=(max_words,), dtype=tf.int32)\n",
        "    adj_inputs = keras.Input(shape=(max_nodes, max_nodes), dtype=tf.float64)\n",
        "    feat_inputs = keras.Input(shape=(max_nodes, feature_dim), dtype=tf.float64)\n",
        "\n",
        "    # Outputs from both models\n",
        "    url_output = url_model(url_inputs)  # (None, embed_dim)\n",
        "    html_output = html_model([adj_inputs, feat_inputs])  # (None, gcn_units)\n",
        "\n",
        "    # Concatenate the outputs (both are 2D now)\n",
        "    combined = layers.Concatenate()([url_output, html_output])  # (None, embed_dim + gcn_units)\n",
        "\n",
        "    # Final layers\n",
        "    x = layers.Dense(dense_dim,\n",
        "                     activation='relu',\n",
        "                     kernel_regularizer=regularizers.l2(l2_reg))(combined)\n",
        "    x = layers.Dropout(dropout)(x)\n",
        "    x = layers.Dense(dense_dim//2,\n",
        "                     activation='relu',\n",
        "                     kernel_regularizer=regularizers.l2(l2_reg))(x)\n",
        "    x = layers.Dropout(dropout)(x)\n",
        "\n",
        "    outputs = layers.Dense(1, activation='sigmoid')(x)\n",
        "\n",
        "    full_model = keras.Model(inputs=[url_inputs, adj_inputs, feat_inputs], outputs=outputs)\n",
        "    return full_model"
      ]
    },
    {
      "cell_type": "markdown",
      "metadata": {
        "id": "GBMOCOvAae_w"
      },
      "source": [
        "## **Train model**"
      ]
    },
    {
      "cell_type": "code",
      "execution_count": null,
      "metadata": {
        "colab": {
          "base_uri": "https://localhost:8080/"
        },
        "id": "jT0yrsGh0RZU",
        "outputId": "5e5685c1-ea49-4ff0-cb4a-a494827a501b"
      },
      "outputs": [
        {
          "output_type": "stream",
          "name": "stdout",
          "text": [
            "Model: \"model_2\"\n",
            "__________________________________________________________________________________________________\n",
            " Layer (type)                Output Shape                 Param #   Connected to                  \n",
            "==================================================================================================\n",
            " input_4 (InputLayer)        [(None, 50)]                 0         []                            \n",
            "                                                                                                  \n",
            " input_5 (InputLayer)        [(None, 600, 600)]           0         []                            \n",
            "                                                                                                  \n",
            " input_6 (InputLayer)        [(None, 600, 3)]             0         []                            \n",
            "                                                                                                  \n",
            " model (Functional)          (None, 128)                  1896448   ['input_4[0][0]']             \n",
            "                                                                                                  \n",
            " model_1 (Functional)        (None, 128)                  17024     ['input_5[0][0]',             \n",
            "                                                                     'input_6[0][0]']             \n",
            "                                                                                                  \n",
            " concatenate (Concatenate)   (None, 256)                  0         ['model[0][0]',               \n",
            "                                                                     'model_1[0][0]']             \n",
            "                                                                                                  \n",
            " dense_4 (Dense)             (None, 128)                  32896     ['concatenate[0][0]']         \n",
            "                                                                                                  \n",
            " dropout_8 (Dropout)         (None, 128)                  0         ['dense_4[0][0]']             \n",
            "                                                                                                  \n",
            " dense_5 (Dense)             (None, 64)                   8256      ['dropout_8[0][0]']           \n",
            "                                                                                                  \n",
            " dropout_9 (Dropout)         (None, 64)                   0         ['dense_5[0][0]']             \n",
            "                                                                                                  \n",
            " dense_6 (Dense)             (None, 1)                    65        ['dropout_9[0][0]']           \n",
            "                                                                                                  \n",
            "==================================================================================================\n",
            "Total params: 1954689 (7.46 MB)\n",
            "Trainable params: 1954689 (7.46 MB)\n",
            "Non-trainable params: 0 (0.00 Byte)\n",
            "__________________________________________________________________________________________________\n",
            "Epoch 1/100\n",
            "80/80 [==============================] - ETA: 0s - loss: 0.5788 - accuracy: 0.8394 - precision: 0.8116 - recall: 0.8839\n",
            "Epoch 1: val_loss improved from inf to 0.22431, saving model to models/best_model.keras\n",
            "80/80 [==============================] - 469s 6s/step - loss: 0.5788 - accuracy: 0.8394 - precision: 0.8116 - recall: 0.8839 - val_loss: 0.2243 - val_accuracy: 0.9607 - val_precision: 0.9922 - val_recall: 0.9286\n",
            "Epoch 2/100\n",
            "80/80 [==============================] - ETA: 0s - loss: 0.2014 - accuracy: 0.9695 - precision: 0.9820 - recall: 0.9565\n",
            "Epoch 2: val_loss improved from 0.22431 to 0.16446, saving model to models/best_model.keras\n",
            "80/80 [==============================] - 454s 6s/step - loss: 0.2014 - accuracy: 0.9695 - precision: 0.9820 - recall: 0.9565 - val_loss: 0.1645 - val_accuracy: 0.9781 - val_precision: 0.9855 - val_recall: 0.9706\n",
            "Epoch 3/100\n",
            "80/80 [==============================] - ETA: 0s - loss: 0.1555 - accuracy: 0.9791 - precision: 0.9909 - recall: 0.9670\n",
            "Epoch 3: val_loss improved from 0.16446 to 0.15887, saving model to models/best_model.keras\n",
            "80/80 [==============================] - 452s 6s/step - loss: 0.1555 - accuracy: 0.9791 - precision: 0.9909 - recall: 0.9670 - val_loss: 0.1589 - val_accuracy: 0.9790 - val_precision: 0.9820 - val_recall: 0.9759\n",
            "Epoch 4/100\n",
            "80/80 [==============================] - ETA: 0s - loss: 0.1374 - accuracy: 0.9815 - precision: 0.9929 - recall: 0.9700\n",
            "Epoch 4: val_loss improved from 0.15887 to 0.14118, saving model to models/best_model.keras\n",
            "80/80 [==============================] - 455s 6s/step - loss: 0.1374 - accuracy: 0.9815 - precision: 0.9929 - recall: 0.9700 - val_loss: 0.1412 - val_accuracy: 0.9805 - val_precision: 0.9920 - val_recall: 0.9688\n",
            "Epoch 5/100\n",
            "80/80 [==============================] - ETA: 0s - loss: 0.1248 - accuracy: 0.9832 - precision: 0.9943 - recall: 0.9721\n",
            "Epoch 5: val_loss improved from 0.14118 to 0.13135, saving model to models/best_model.keras\n",
            "80/80 [==============================] - 452s 6s/step - loss: 0.1248 - accuracy: 0.9832 - precision: 0.9943 - recall: 0.9721 - val_loss: 0.1313 - val_accuracy: 0.9799 - val_precision: 0.9853 - val_recall: 0.9743\n",
            "Epoch 6/100\n",
            "80/80 [==============================] - ETA: 0s - loss: 0.1152 - accuracy: 0.9840 - precision: 0.9945 - recall: 0.9734\n",
            "Epoch 6: val_loss improved from 0.13135 to 0.12543, saving model to models/best_model.keras\n",
            "80/80 [==============================] - 452s 6s/step - loss: 0.1152 - accuracy: 0.9840 - precision: 0.9945 - recall: 0.9734 - val_loss: 0.1254 - val_accuracy: 0.9801 - val_precision: 0.9873 - val_recall: 0.9727\n",
            "Epoch 7/100\n",
            "80/80 [==============================] - ETA: 0s - loss: 0.1087 - accuracy: 0.9841 - precision: 0.9942 - recall: 0.9738\n",
            "Epoch 7: val_loss improved from 0.12543 to 0.12493, saving model to models/best_model.keras\n",
            "80/80 [==============================] - 452s 6s/step - loss: 0.1087 - accuracy: 0.9841 - precision: 0.9942 - recall: 0.9738 - val_loss: 0.1249 - val_accuracy: 0.9795 - val_precision: 0.9836 - val_recall: 0.9753\n",
            "Epoch 8/100\n",
            "80/80 [==============================] - ETA: 0s - loss: 0.1023 - accuracy: 0.9843 - precision: 0.9943 - recall: 0.9741\n",
            "Epoch 8: val_loss improved from 0.12493 to 0.11902, saving model to models/best_model.keras\n",
            "80/80 [==============================] - 452s 6s/step - loss: 0.1023 - accuracy: 0.9843 - precision: 0.9943 - recall: 0.9741 - val_loss: 0.1190 - val_accuracy: 0.9802 - val_precision: 0.9848 - val_recall: 0.9755\n",
            "Epoch 9/100\n",
            "80/80 [==============================] - ETA: 0s - loss: 0.0967 - accuracy: 0.9844 - precision: 0.9941 - recall: 0.9744\n",
            "Epoch 9: val_loss improved from 0.11902 to 0.11069, saving model to models/best_model.keras\n",
            "80/80 [==============================] - 455s 6s/step - loss: 0.0967 - accuracy: 0.9844 - precision: 0.9941 - recall: 0.9744 - val_loss: 0.1107 - val_accuracy: 0.9799 - val_precision: 0.9920 - val_recall: 0.9676\n",
            "Epoch 10/100\n",
            "80/80 [==============================] - ETA: 0s - loss: 0.0945 - accuracy: 0.9844 - precision: 0.9942 - recall: 0.9743\n",
            "Epoch 10: val_loss improved from 0.11069 to 0.11065, saving model to models/best_model.keras\n",
            "80/80 [==============================] - 453s 6s/step - loss: 0.0945 - accuracy: 0.9844 - precision: 0.9942 - recall: 0.9743 - val_loss: 0.1106 - val_accuracy: 0.9800 - val_precision: 0.9892 - val_recall: 0.9706\n",
            "Epoch 11/100\n",
            "80/80 [==============================] - ETA: 0s - loss: 0.0872 - accuracy: 0.9853 - precision: 0.9945 - recall: 0.9761\n",
            "Epoch 11: val_loss improved from 0.11065 to 0.10590, saving model to models/best_model.keras\n",
            "80/80 [==============================] - 455s 6s/step - loss: 0.0872 - accuracy: 0.9853 - precision: 0.9945 - recall: 0.9761 - val_loss: 0.1059 - val_accuracy: 0.9795 - val_precision: 0.9886 - val_recall: 0.9702\n",
            "Epoch 12/100\n",
            "80/80 [==============================] - ETA: 0s - loss: 0.0831 - accuracy: 0.9854 - precision: 0.9943 - recall: 0.9765\n",
            "Epoch 12: val_loss improved from 0.10590 to 0.09972, saving model to models/best_model.keras\n",
            "80/80 [==============================] - 453s 6s/step - loss: 0.0831 - accuracy: 0.9854 - precision: 0.9943 - recall: 0.9765 - val_loss: 0.0997 - val_accuracy: 0.9798 - val_precision: 0.9894 - val_recall: 0.9700\n",
            "Epoch 13/100\n",
            "80/80 [==============================] - ETA: 0s - loss: 0.0786 - accuracy: 0.9860 - precision: 0.9940 - recall: 0.9778\n",
            "Epoch 13: val_loss did not improve from 0.09972\n",
            "80/80 [==============================] - 454s 6s/step - loss: 0.0786 - accuracy: 0.9860 - precision: 0.9940 - recall: 0.9778 - val_loss: 0.0997 - val_accuracy: 0.9818 - val_precision: 0.9871 - val_recall: 0.9763\n",
            "Epoch 14/100\n",
            "80/80 [==============================] - ETA: 0s - loss: 0.0753 - accuracy: 0.9867 - precision: 0.9944 - recall: 0.9789\n",
            "Epoch 14: val_loss did not improve from 0.09972\n",
            "80/80 [==============================] - 455s 6s/step - loss: 0.0753 - accuracy: 0.9867 - precision: 0.9944 - recall: 0.9789 - val_loss: 0.1011 - val_accuracy: 0.9798 - val_precision: 0.9878 - val_recall: 0.9716\n",
            "Epoch 15/100\n",
            "80/80 [==============================] - ETA: 0s - loss: 0.0728 - accuracy: 0.9864 - precision: 0.9939 - recall: 0.9788\n",
            "Epoch 15: val_loss improved from 0.09972 to 0.09813, saving model to models/best_model.keras\n",
            "80/80 [==============================] - 453s 6s/step - loss: 0.0728 - accuracy: 0.9864 - precision: 0.9939 - recall: 0.9788 - val_loss: 0.0981 - val_accuracy: 0.9809 - val_precision: 0.9865 - val_recall: 0.9751\n",
            "Epoch 16/100\n",
            "80/80 [==============================] - ETA: 0s - loss: 0.0691 - accuracy: 0.9874 - precision: 0.9947 - recall: 0.9801\n",
            "Epoch 16: val_loss improved from 0.09813 to 0.09799, saving model to models/best_model.keras\n",
            "80/80 [==============================] - 454s 6s/step - loss: 0.0691 - accuracy: 0.9874 - precision: 0.9947 - recall: 0.9801 - val_loss: 0.0980 - val_accuracy: 0.9803 - val_precision: 0.9842 - val_recall: 0.9763\n",
            "Epoch 17/100\n",
            "80/80 [==============================] - ETA: 0s - loss: 0.0672 - accuracy: 0.9875 - precision: 0.9947 - recall: 0.9802\n",
            "Epoch 17: val_loss did not improve from 0.09799\n",
            "80/80 [==============================] - 455s 6s/step - loss: 0.0672 - accuracy: 0.9875 - precision: 0.9947 - recall: 0.9802 - val_loss: 0.0981 - val_accuracy: 0.9809 - val_precision: 0.9842 - val_recall: 0.9775\n",
            "Epoch 18/100\n",
            "80/80 [==============================] - ETA: 0s - loss: 0.0650 - accuracy: 0.9876 - precision: 0.9947 - recall: 0.9804\n",
            "Epoch 18: val_loss did not improve from 0.09799\n",
            "80/80 [==============================] - 453s 6s/step - loss: 0.0650 - accuracy: 0.9876 - precision: 0.9947 - recall: 0.9804 - val_loss: 0.0981 - val_accuracy: 0.9814 - val_precision: 0.9850 - val_recall: 0.9776\n",
            "Epoch 19/100\n",
            "80/80 [==============================] - ETA: 0s - loss: 0.0636 - accuracy: 0.9879 - precision: 0.9949 - recall: 0.9808\n",
            "Epoch 19: val_loss did not improve from 0.09799\n",
            "80/80 [==============================] - 454s 6s/step - loss: 0.0636 - accuracy: 0.9879 - precision: 0.9949 - recall: 0.9808 - val_loss: 0.0981 - val_accuracy: 0.9806 - val_precision: 0.9836 - val_recall: 0.9775\n",
            "Epoch 20/100\n",
            "80/80 [==============================] - ETA: 0s - loss: 0.0622 - accuracy: 0.9877 - precision: 0.9947 - recall: 0.9808\n",
            "Epoch 20: val_loss improved from 0.09799 to 0.09280, saving model to models/best_model.keras\n",
            "80/80 [==============================] - 456s 6s/step - loss: 0.0622 - accuracy: 0.9877 - precision: 0.9947 - recall: 0.9808 - val_loss: 0.0928 - val_accuracy: 0.9806 - val_precision: 0.9855 - val_recall: 0.9755\n",
            "Epoch 21/100\n",
            "80/80 [==============================] - ETA: 0s - loss: 0.0597 - accuracy: 0.9882 - precision: 0.9949 - recall: 0.9814\n",
            "Epoch 21: val_loss did not improve from 0.09280\n",
            "80/80 [==============================] - 455s 6s/step - loss: 0.0597 - accuracy: 0.9882 - precision: 0.9949 - recall: 0.9814 - val_loss: 0.0962 - val_accuracy: 0.9815 - val_precision: 0.9850 - val_recall: 0.9778\n",
            "Epoch 22/100\n",
            "80/80 [==============================] - ETA: 0s - loss: 0.0589 - accuracy: 0.9881 - precision: 0.9949 - recall: 0.9813\n",
            "Epoch 22: val_loss did not improve from 0.09280\n",
            "80/80 [==============================] - 454s 6s/step - loss: 0.0589 - accuracy: 0.9881 - precision: 0.9949 - recall: 0.9813 - val_loss: 0.0993 - val_accuracy: 0.9802 - val_precision: 0.9806 - val_recall: 0.9798\n",
            "Epoch 23/100\n",
            "80/80 [==============================] - ETA: 0s - loss: 0.0573 - accuracy: 0.9882 - precision: 0.9946 - recall: 0.9817\n",
            "Epoch 23: val_loss improved from 0.09280 to 0.09012, saving model to models/best_model.keras\n",
            "80/80 [==============================] - 454s 6s/step - loss: 0.0573 - accuracy: 0.9882 - precision: 0.9946 - recall: 0.9817 - val_loss: 0.0901 - val_accuracy: 0.9803 - val_precision: 0.9832 - val_recall: 0.9773\n",
            "Epoch 24/100\n",
            "80/80 [==============================] - ETA: 0s - loss: 0.0554 - accuracy: 0.9887 - precision: 0.9954 - recall: 0.9819\n",
            "Epoch 24: val_loss did not improve from 0.09012\n",
            "80/80 [==============================] - 455s 6s/step - loss: 0.0554 - accuracy: 0.9887 - precision: 0.9954 - recall: 0.9819 - val_loss: 0.0942 - val_accuracy: 0.9801 - val_precision: 0.9809 - val_recall: 0.9792\n",
            "Epoch 25/100\n",
            "80/80 [==============================] - ETA: 0s - loss: 0.0542 - accuracy: 0.9886 - precision: 0.9947 - recall: 0.9825\n",
            "Epoch 25: val_loss improved from 0.09012 to 0.08985, saving model to models/best_model.keras\n",
            "80/80 [==============================] - 456s 6s/step - loss: 0.0542 - accuracy: 0.9886 - precision: 0.9947 - recall: 0.9825 - val_loss: 0.0898 - val_accuracy: 0.9818 - val_precision: 0.9858 - val_recall: 0.9776\n",
            "Epoch 26/100\n",
            "80/80 [==============================] - ETA: 0s - loss: 0.0546 - accuracy: 0.9885 - precision: 0.9953 - recall: 0.9816\n",
            "Epoch 26: val_loss did not improve from 0.08985\n",
            "80/80 [==============================] - 459s 6s/step - loss: 0.0546 - accuracy: 0.9885 - precision: 0.9953 - recall: 0.9816 - val_loss: 0.0968 - val_accuracy: 0.9813 - val_precision: 0.9840 - val_recall: 0.9784\n",
            "Epoch 27/100\n",
            "80/80 [==============================] - ETA: 0s - loss: 0.0533 - accuracy: 0.9886 - precision: 0.9954 - recall: 0.9817\n",
            "Epoch 27: val_loss did not improve from 0.08985\n",
            "80/80 [==============================] - 456s 6s/step - loss: 0.0533 - accuracy: 0.9886 - precision: 0.9954 - recall: 0.9817 - val_loss: 0.0922 - val_accuracy: 0.9809 - val_precision: 0.9842 - val_recall: 0.9775\n",
            "Epoch 28/100\n",
            "80/80 [==============================] - ETA: 0s - loss: 0.0505 - accuracy: 0.9892 - precision: 0.9954 - recall: 0.9829\n",
            "Epoch 28: val_loss did not improve from 0.08985\n",
            "80/80 [==============================] - 457s 6s/step - loss: 0.0505 - accuracy: 0.9892 - precision: 0.9954 - recall: 0.9829 - val_loss: 0.0919 - val_accuracy: 0.9819 - val_precision: 0.9858 - val_recall: 0.9778\n",
            "Epoch 29/100\n",
            "80/80 [==============================] - ETA: 0s - loss: 0.0518 - accuracy: 0.9886 - precision: 0.9950 - recall: 0.9821\n",
            "Epoch 29: val_loss did not improve from 0.08985\n",
            "80/80 [==============================] - 457s 6s/step - loss: 0.0518 - accuracy: 0.9886 - precision: 0.9950 - recall: 0.9821 - val_loss: 0.0903 - val_accuracy: 0.9813 - val_precision: 0.9881 - val_recall: 0.9743\n",
            "Epoch 30/100\n",
            "80/80 [==============================] - ETA: 0s - loss: 0.0515 - accuracy: 0.9885 - precision: 0.9951 - recall: 0.9819\n",
            "Epoch 30: val_loss did not improve from 0.08985\n",
            "Restoring model weights from the end of the best epoch: 25.\n",
            "80/80 [==============================] - 457s 6s/step - loss: 0.0515 - accuracy: 0.9885 - precision: 0.9951 - recall: 0.9819 - val_loss: 0.0941 - val_accuracy: 0.9808 - val_precision: 0.9836 - val_recall: 0.9778\n",
            "Epoch 30: early stopping\n"
          ]
        }
      ],
      "source": [
        "vocab_size = 6000\n",
        "max_words = 50\n",
        "max_nodes = 600\n",
        "feature_dim = 3\n",
        "\n",
        "train_dataset = load_dataset('data/train.h5', batch_size=1020)\n",
        "val_dataset = load_dataset('data/val.h5', batch_size=1020)\n",
        "\n",
        "model = create_full_model(vocab_size=vocab_size,\n",
        "                          max_words=max_words,\n",
        "                          dropout=0.3,\n",
        "                          embed_dim=128,\n",
        "                          num_heads=8,\n",
        "                          intermediate_dim=128,\n",
        "                          num_transformer_layers=2,\n",
        "                          max_nodes=max_nodes,\n",
        "                          feature_dim=feature_dim,\n",
        "                          gcn_units=128,\n",
        "                          num_gcn_layers=2,\n",
        "                          dense_dim=128,\n",
        "                          l2_reg=5e-4)\n",
        "\n",
        "model.summary()\n",
        "\n",
        "optimizer = keras.optimizers.Adam(learning_rate=1e-3)\n",
        "metrics = ['accuracy', tf.keras.metrics.Precision(), tf.keras.metrics.Recall()]\n",
        "model.compile(optimizer=optimizer, loss='binary_crossentropy', metrics=metrics)\n",
        "\n",
        "checkpoint_filepath = 'models/best_model.keras'\n",
        "\n",
        "checkpoint_callback = tf.keras.callbacks.ModelCheckpoint(\n",
        "    filepath=checkpoint_filepath,\n",
        "    save_weights_only=False,\n",
        "    monitor='val_loss',\n",
        "    mode='min',\n",
        "    save_best_only=True,\n",
        "    verbose=1\n",
        ")\n",
        "\n",
        "early_stopping = tf.keras.callbacks.EarlyStopping(\n",
        "    monitor='val_loss',\n",
        "    patience=5,\n",
        "    restore_best_weights=True,\n",
        "    verbose=1\n",
        ")\n",
        "\n",
        "history = model.fit(train_dataset,\n",
        "                    validation_data=val_dataset,\n",
        "                    epochs=100,\n",
        "                    callbacks=[checkpoint_callback, early_stopping])"
      ]
    },
    {
      "cell_type": "code",
      "execution_count": null,
      "metadata": {
        "id": "i56f9BqfUyu-"
      },
      "outputs": [],
      "source": [
        "import matplotlib.pyplot as plt\n",
        "import seaborn as sns"
      ]
    },
    {
      "cell_type": "code",
      "execution_count": null,
      "metadata": {
        "id": "5WB8DRQcijms",
        "colab": {
          "base_uri": "https://localhost:8080/",
          "height": 1000
        },
        "outputId": "2ec84bc7-6c66-4e6c-8d49-ab4536c182d8"
      },
      "outputs": [
        {
          "output_type": "display_data",
          "data": {
            "text/plain": [
              "<Figure size 1000x600 with 1 Axes>"
            ],
            "image/png": "[encoded data removed]"
          },
          "metadata": {}
        },
        {
          "output_type": "display_data",
          "data": {
            "text/plain": [
              "<Figure size 1000x600 with 1 Axes>"
            ],
            "image/png": "[encoded data removed]"
          },
          "metadata": {}
        }
      ],
      "source": [
        "# Plot history loss\n",
        "plt.figure(figsize=(10, 6))\n",
        "plt.plot(history.history['loss'], label='train loss')\n",
        "plt.plot(history.history['val_loss'], label='val loss')\n",
        "plt.xlabel('epoch')\n",
        "plt.ylabel('Cross-entropy loss')\n",
        "plt.legend()\n",
        "plt.show()\n",
        "\n",
        "# Plot history accuracy\n",
        "plt.figure(figsize=(10, 6))\n",
        "plt.plot(history.history['accuracy'], label='train accuracy')\n",
        "plt.plot(history.history['val_accuracy'], label='val accuracy')\n",
        "plt.xlabel('epoch')\n",
        "plt.ylabel('accuracy')\n",
        "plt.legend()\n",
        "plt.show()"
      ]
    },
    {
      "cell_type": "markdown",
      "metadata": {
        "id": "pon8ohwipVJt"
      },
      "source": [
        "## **Test and evaluate model**"
      ]
    },
    {
      "cell_type": "code",
      "execution_count": null,
      "metadata": {
        "id": "NzILqZmVpxLu"
      },
      "outputs": [],
      "source": [
        "best_model = keras.models.load_model(\n",
        "    'models/best_model.keras',\n",
        "    custom_objects={'TransformerEncoder': TransformerEncoder,\n",
        "                    'PositionalEmbedding': PositionalEmbedding,\n",
        "                    'GCNConv': GCNConv,\n",
        "                    'GlobalSumPool': GlobalSumPool,\n",
        "                    'GCN': GCN})"
      ]
    },
    {
      "cell_type": "code",
      "execution_count": null,
      "metadata": {
        "id": "83ccI1sutwUO",
        "colab": {
          "base_uri": "https://localhost:8080/"
        },
        "outputId": "f4466bfb-80ec-497e-90e1-6eae6178628e"
      },
      "outputs": [
        {
          "output_type": "stream",
          "name": "stderr",
          "text": [
            "/usr/local/lib/python3.10/dist-packages/keras/src/engine/training.py:3103: UserWarning: You are saving your model as an HDF5 file via `model.save()`. This file format is considered legacy. We recommend using instead the native Keras format, e.g. `model.save('my_model.keras')`.\n",
            "  saving_api.save_model(\n"
          ]
        }
      ],
      "source": [
        "best_model.save('models/best_model.h5')"
      ]
    },
    {
      "cell_type": "code",
      "execution_count": null,
      "metadata": {
        "id": "UqUXbPqJf7Pv"
      },
      "outputs": [],
      "source": [
        "from sklearn.metrics import classification_report, confusion_matrix"
      ]
    },
    {
      "cell_type": "code",
      "execution_count": null,
      "metadata": {
        "id": "tWQstEJ2gB6d",
        "colab": {
          "base_uri": "https://localhost:8080/"
        },
        "outputId": "b8c1ab25-7262-4969-cd4b-3f58d0879067"
      },
      "outputs": [
        {
          "output_type": "stream",
          "name": "stdout",
          "text": [
            "10/10 [==============================] - 38s 3s/step\n",
            "              precision    recall  f1-score   support\n",
            "\n",
            "           0       0.98      0.99      0.98      5100\n",
            "           1       0.99      0.98      0.98      5100\n",
            "\n",
            "    accuracy                           0.98     10200\n",
            "   macro avg       0.98      0.98      0.98     10200\n",
            "weighted avg       0.98      0.98      0.98     10200\n",
            "\n"
          ]
        }
      ],
      "source": [
        "test_dataset = load_dataset('data/val.h5', batch_size=1020)\n",
        "\n",
        "y_pred_prob = model.predict(test_dataset)\n",
        "y_pred = (y_pred_prob > 0.5).astype(int)\n",
        "\n",
        "label_test = tf.concat([y for x, y in test_dataset], axis=0).numpy()\n",
        "print(classification_report(label_test, y_pred))"
      ]
    },
    {
      "cell_type": "code",
      "execution_count": null,
      "metadata": {
        "id": "cPiDk-XKs7Ly"
      },
      "outputs": [],
      "source": [
        "import numpy as np"
      ]
    },
    {
      "cell_type": "code",
      "execution_count": null,
      "metadata": {
        "id": "SaIR_h96gg3O",
        "colab": {
          "base_uri": "https://localhost:8080/",
          "height": 564
        },
        "outputId": "4f77b151-1867-4458-9eb0-6fc2c0ca8e00"
      },
      "outputs": [
        {
          "output_type": "display_data",
          "data": {
            "text/plain": [
              "<Figure size 800x600 with 1 Axes>"
            ],
            "image/png": "[encoded data removed]"
          },
          "metadata": {}
        }
      ],
      "source": [
        "cm = confusion_matrix(label_test, y_pred)\n",
        "cm_percentage = cm.astype('float') / cm.sum(axis=1)[:, np.newaxis]\n",
        "\n",
        "labels = [[f'{int(count)}\\n({percentage:.2%})'\n",
        "           for count, percentage in zip(row_count, row_percentage)]\n",
        "           for row_count, row_percentage in zip(cm, cm_percentage)]\n",
        "\n",
        "plt.figure(figsize=(8, 6))\n",
        "sns.heatmap(cm_percentage, annot=labels, fmt='', cmap='Blues', cbar=False)\n",
        "plt.title('Confusion Matrix (Count and Percentage)')\n",
        "plt.ylabel('True label')\n",
        "plt.xlabel('Predicted label')\n",
        "plt.show()"
      ]
    }
  ],
  "metadata": {
    "accelerator": "TPU",
    "colab": {
      "gpuType": "V28",
      "machine_shape": "hm",
      "provenance": [],
      "include_colab_link": true
    },
    "kernelspec": {
      "display_name": "Python 3",
      "name": "python3"
    },
    "language_info": {
      "name": "python"
    }
  },
  "nbformat": 4,
  "nbformat_minor": 0
}
{
  "nbformat": 4,
  "nbformat_minor": 0,
  "metadata": {
    "colab": {
      "provenance": [],
      "machine_shape": "hm",
      "gpuType": "V28",
      "authorship_tag": "ABX9TyN1TX+FekZoemOIivHTV6li",
      "include_colab_link": true
    },
    "kernelspec": {
      "name": "python3",
      "display_name": "Python 3"
    },
    "language_info": {
      "name": "python"
    },
    "accelerator": "TPU"
  },
  "cells": [
    {
      "cell_type": "markdown",
      "metadata": {
        "id": "view-in-github",
        "colab_type": "text"
      },
      "source": [
        "<a href=\"https://colab.research.google.com/github/Akechi1412/Phishing-Website-Detection/blob/main/model_training/training.ipynb\" target=\"_parent\"><img src=\"https://colab.research.google.com/assets/colab-badge.svg\" alt=\"Open In Colab\"/></a>"
      ]
    },
    {
      "cell_type": "markdown",
      "source": [
        "# **Train Phishing Website Detection Model**"
      ],
      "metadata": {
        "id": "Ie97YpRCETlO"
      }
    },
    {
      "cell_type": "markdown",
      "source": [
        "## **Connect to Drive and Github responsitory**"
      ],
      "metadata": {
        "id": "JWJeAJ4MEkBz"
      }
    },
    {
      "cell_type": "code",
      "execution_count": 1,
      "metadata": {
        "colab": {
          "base_uri": "https://localhost:8080/"
        },
        "id": "GFR4qI0yDyXW",
        "outputId": "41242a1f-3ecb-48d2-dd4a-0d1e62f6ae22"
      },
      "outputs": [
        {
          "output_type": "stream",
          "name": "stdout",
          "text": [
            "Mounted at /content/drive\n"
          ]
        }
      ],
      "source": [
        "from google.colab import drive\n",
        "drive.mount('/content/drive')"
      ]
    },
    {
      "cell_type": "code",
      "source": [
        "%cd /content/drive/MyDrive/Github\n",
        "%cd Phishing-Website-Detection/model_training\n",
        "!git config --global user.email \"nguyenphong10042002@gmail.com\"\n",
        "!git config --global user.name \"Akechi1412\"\n",
        "!git fetch origin\n",
        "!git reset --hard origin/main"
      ],
      "metadata": {
        "colab": {
          "base_uri": "https://localhost:8080/"
        },
        "id": "kRvWxHJVEqiV",
        "outputId": "6589b6b0-fa26-4d8c-d2b3-3d90f8cd44f9"
      },
      "execution_count": 2,
      "outputs": [
        {
          "output_type": "stream",
          "name": "stdout",
          "text": [
            "/content/drive/MyDrive/Github\n",
            "/content/drive/MyDrive/Github/Phishing-Website-Detection/model_training\n",
            "Updating files: 100% (10/10), done.\n",
            "HEAD is now at 09c9608 Created using Colab\n"
          ]
        }
      ]
    },
    {
      "cell_type": "markdown",
      "source": [
        "## **Load data**"
      ],
      "metadata": {
        "id": "ND63uFHUXK9M"
      }
    },
    {
      "cell_type": "code",
      "source": [
        "import h5py"
      ],
      "metadata": {
        "id": "xOnT0W5UMd4S"
      },
      "execution_count": 3,
      "outputs": []
    },
    {
      "cell_type": "code",
      "source": [
        "# Load train data\n",
        "with h5py.File('data/train.h5', 'r') as f:\n",
        "    url_train = f['url'][:]\n",
        "    adjacency_train = f['adjacency'][:]\n",
        "    feature_train = f['feature'][:]\n",
        "    label_train = f['label'][:]\n",
        "\n",
        "# Load val data\n",
        "with h5py.File('data/val.h5', 'r') as f:\n",
        "    url_val = f['url'][:]\n",
        "    adjacency_val = f['adjacency'][:]\n",
        "    feature_val = f['feature'][:]\n",
        "    label_val = f['label'][:]\n",
        "\n",
        "# Load test data\n",
        "with h5py.File('data/test.h5', 'r') as f:\n",
        "    url_test = f['url'][:]\n",
        "    adjacency_test = f['adjacency'][:]\n",
        "    feature_test = f['feature'][:]\n",
        "    label_test = f['label'][:]"
      ],
      "metadata": {
        "id": "bmEwXL7hMhRx"
      },
      "execution_count": 4,
      "outputs": []
    },
    {
      "cell_type": "code",
      "source": [
        "print(label_train)"
      ],
      "metadata": {
        "colab": {
          "base_uri": "https://localhost:8080/"
        },
        "id": "2tffeyXER08o",
        "outputId": "61e7ebe6-157f-460a-b9e1-1ae681347a46"
      },
      "execution_count": 5,
      "outputs": [
        {
          "output_type": "stream",
          "name": "stdout",
          "text": [
            "[1 1 0 ... 0 1 0]\n"
          ]
        }
      ]
    },
    {
      "cell_type": "markdown",
      "source": [
        "## **Create models functions**"
      ],
      "metadata": {
        "id": "PGlreT0lYxoA"
      }
    },
    {
      "cell_type": "markdown",
      "source": [
        "### **Create URL model using Transformer Neutral Network**"
      ],
      "metadata": {
        "id": "dqY3Fi0LZ8Sx"
      }
    },
    {
      "cell_type": "code",
      "source": [
        "import tensorflow as tf\n",
        "from tensorflow import keras\n",
        "from tensorflow.keras import layers, models"
      ],
      "metadata": {
        "id": "ihcA5_uhsAOP"
      },
      "execution_count": 6,
      "outputs": []
    },
    {
      "cell_type": "code",
      "source": [
        "@keras.saving.register_keras_serializable()\n",
        "class TransformerEncoder(layers.Layer):\n",
        "    def __init__(self, embed_dim, num_heads, ff_dim, **kwargs):\n",
        "        super().__init__(**kwargs)\n",
        "        self.embed_dim = embed_dim\n",
        "        self.num_heads = num_heads\n",
        "        self.ff_dim = ff_dim\n",
        "        self.att = layers.MultiHeadAttention(num_heads=num_heads, key_dim=embed_dim)\n",
        "        self.ffn = keras.Sequential(\n",
        "            [layers.Dense(ff_dim, activation=\"relu\"), layers.Dense(embed_dim),]\n",
        "        )\n",
        "        self.layernorm1 = layers.LayerNormalization(epsilon=1e-6)\n",
        "        self.layernorm2 = layers.LayerNormalization(epsilon=1e-6)\n",
        "        self.dropout1 = layers.Dropout(0.1)\n",
        "        self.dropout2 = layers.Dropout(0.1)\n",
        "\n",
        "    def call(self, inputs):\n",
        "        attn_output = self.att(inputs, inputs)\n",
        "        attn_output = self.dropout1(attn_output)\n",
        "        out1 = self.layernorm1(inputs + attn_output)\n",
        "        ffn_output = self.ffn(out1)\n",
        "        ffn_output = self.dropout2(ffn_output)\n",
        "        return self.layernorm2(out1 + ffn_output)\n",
        "\n",
        "    def get_config(self):\n",
        "        config = super().get_config()\n",
        "        config.update({\n",
        "            \"embed_dim\": self.embed_dim,\n",
        "            \"num_heads\": self.num_heads,\n",
        "            \"ff_dim\": self.ff_dim,\n",
        "        })\n",
        "        return config\n",
        "\n",
        "@keras.saving.register_keras_serializable()\n",
        "class PositionalEmbedding(layers.Layer):\n",
        "    def __init__(self, maxlen, vocab_size, embed_dim, **kwargs):\n",
        "        super().__init__(**kwargs)\n",
        "        self.maxlen = maxlen\n",
        "        self.vocab_size = vocab_size\n",
        "        self.embed_dim = embed_dim\n",
        "        self.token_emb = layers.Embedding(input_dim=vocab_size, output_dim=embed_dim)\n",
        "        self.pos_emb = layers.Embedding(input_dim=maxlen, output_dim=embed_dim)\n",
        "\n",
        "    def call(self, x):\n",
        "        maxlen = tf.shape(x)[-1]\n",
        "        positions = tf.range(start=0, limit=maxlen, delta=1)\n",
        "        positions = self.pos_emb(positions)\n",
        "        x = self.token_emb(x)\n",
        "        return x + positions\n",
        "\n",
        "    def get_config(self):\n",
        "        config = super().get_config()\n",
        "        config.update({\n",
        "            \"maxlen\": self.maxlen,\n",
        "            \"vocab_size\": self.vocab_size,\n",
        "            \"embed_dim\": self.embed_dim,\n",
        "        })\n",
        "        return config"
      ],
      "metadata": {
        "id": "WOOgzz51r802"
      },
      "execution_count": 7,
      "outputs": []
    },
    {
      "cell_type": "code",
      "source": [
        "def create_url_model(vocab_size, max_word, embed_dim,\n",
        "                     num_heads, ff_dim, num_transformer_layers):\n",
        "    inputs = keras.Input(shape=(max_word,), dtype=tf.int32)\n",
        "    x = PositionalEmbedding(max_word, vocab_size, embed_dim)(inputs)\n",
        "\n",
        "    for _ in range(num_transformer_layers):\n",
        "        x = TransformerEncoder(embed_dim, num_heads, ff_dim)(x)\n",
        "\n",
        "    x = layers.GlobalAveragePooling1D()(x)\n",
        "    url_model = keras.Model(inputs=inputs, outputs=x)\n",
        "    return url_model"
      ],
      "metadata": {
        "id": "tG7Ie9hb3p-4"
      },
      "execution_count": 8,
      "outputs": []
    },
    {
      "cell_type": "markdown",
      "source": [
        "### **Create HTML model using Graph Convolution Network**"
      ],
      "metadata": {
        "id": "x-vy88oyaJVX"
      }
    },
    {
      "cell_type": "code",
      "source": [
        "!pip install spektral"
      ],
      "metadata": {
        "id": "jv5Yptq1yAJc",
        "colab": {
          "base_uri": "https://localhost:8080/"
        },
        "outputId": "86e9eff9-8656-4a79-c1b6-684932cdfe22"
      },
      "execution_count": 9,
      "outputs": [
        {
          "output_type": "stream",
          "name": "stdout",
          "text": [
            "Collecting spektral\n",
            "  Downloading spektral-1.3.1-py3-none-any.whl.metadata (5.9 kB)\n",
            "Requirement already satisfied: joblib in /usr/local/lib/python3.10/dist-packages (from spektral) (1.4.2)\n",
            "Collecting lxml (from spektral)\n",
            "  Downloading lxml-5.3.0-cp310-cp310-manylinux_2_28_x86_64.whl.metadata (3.8 kB)\n",
            "Requirement already satisfied: networkx in /usr/local/lib/python3.10/dist-packages (from spektral) (3.4)\n",
            "Requirement already satisfied: numpy in /usr/local/lib/python3.10/dist-packages (from spektral) (1.26.4)\n",
            "Requirement already satisfied: pandas in /usr/local/lib/python3.10/dist-packages (from spektral) (2.2.2)\n",
            "Requirement already satisfied: requests in /usr/local/lib/python3.10/dist-packages (from spektral) (2.32.3)\n",
            "Requirement already satisfied: scikit-learn in /usr/local/lib/python3.10/dist-packages (from spektral) (1.5.2)\n",
            "Requirement already satisfied: scipy in /usr/local/lib/python3.10/dist-packages (from spektral) (1.13.1)\n",
            "Requirement already satisfied: tqdm in /usr/local/lib/python3.10/dist-packages (from spektral) (4.66.5)\n",
            "Requirement already satisfied: tensorflow>=2.2.0 in /usr/local/lib/python3.10/dist-packages (from spektral) (2.15.0)\n",
            "Requirement already satisfied: absl-py>=1.0.0 in /usr/local/lib/python3.10/dist-packages (from tensorflow>=2.2.0->spektral) (1.4.0)\n",
            "Requirement already satisfied: astunparse>=1.6.0 in /usr/local/lib/python3.10/dist-packages (from tensorflow>=2.2.0->spektral) (1.6.3)\n",
            "Requirement already satisfied: flatbuffers>=23.5.26 in /usr/local/lib/python3.10/dist-packages (from tensorflow>=2.2.0->spektral) (24.3.25)\n",
            "Requirement already satisfied: gast!=0.5.0,!=0.5.1,!=0.5.2,>=0.2.1 in /usr/local/lib/python3.10/dist-packages (from tensorflow>=2.2.0->spektral) (0.6.0)\n",
            "Requirement already satisfied: google-pasta>=0.1.1 in /usr/local/lib/python3.10/dist-packages (from tensorflow>=2.2.0->spektral) (0.2.0)\n",
            "Requirement already satisfied: h5py>=2.9.0 in /usr/local/lib/python3.10/dist-packages (from tensorflow>=2.2.0->spektral) (3.12.1)\n",
            "Requirement already satisfied: libclang>=13.0.0 in /usr/local/lib/python3.10/dist-packages (from tensorflow>=2.2.0->spektral) (18.1.1)\n",
            "Requirement already satisfied: ml-dtypes~=0.2.0 in /usr/local/lib/python3.10/dist-packages (from tensorflow>=2.2.0->spektral) (0.2.0)\n",
            "Requirement already satisfied: opt-einsum>=2.3.2 in /usr/local/lib/python3.10/dist-packages (from tensorflow>=2.2.0->spektral) (3.4.0)\n",
            "Requirement already satisfied: packaging in /usr/local/lib/python3.10/dist-packages (from tensorflow>=2.2.0->spektral) (24.1)\n",
            "Requirement already satisfied: protobuf!=4.21.0,!=4.21.1,!=4.21.2,!=4.21.3,!=4.21.4,!=4.21.5,<5.0.0dev,>=3.20.3 in /usr/local/lib/python3.10/dist-packages (from tensorflow>=2.2.0->spektral) (3.20.3)\n",
            "Requirement already satisfied: setuptools in /usr/local/lib/python3.10/dist-packages (from tensorflow>=2.2.0->spektral) (71.0.4)\n",
            "Requirement already satisfied: six>=1.12.0 in /usr/local/lib/python3.10/dist-packages (from tensorflow>=2.2.0->spektral) (1.16.0)\n",
            "Requirement already satisfied: termcolor>=1.1.0 in /usr/local/lib/python3.10/dist-packages (from tensorflow>=2.2.0->spektral) (2.5.0)\n",
            "Requirement already satisfied: typing-extensions>=3.6.6 in /usr/local/lib/python3.10/dist-packages (from tensorflow>=2.2.0->spektral) (4.12.2)\n",
            "Requirement already satisfied: wrapt<1.15,>=1.11.0 in /usr/local/lib/python3.10/dist-packages (from tensorflow>=2.2.0->spektral) (1.14.1)\n",
            "Requirement already satisfied: tensorflow-io-gcs-filesystem>=0.23.1 in /usr/local/lib/python3.10/dist-packages (from tensorflow>=2.2.0->spektral) (0.37.1)\n",
            "Requirement already satisfied: grpcio<2.0,>=1.24.3 in /usr/local/lib/python3.10/dist-packages (from tensorflow>=2.2.0->spektral) (1.66.2)\n",
            "Requirement already satisfied: tensorboard<2.16,>=2.15 in /usr/local/lib/python3.10/dist-packages (from tensorflow>=2.2.0->spektral) (2.15.2)\n",
            "Requirement already satisfied: tensorflow-estimator<2.16,>=2.15.0 in /usr/local/lib/python3.10/dist-packages (from tensorflow>=2.2.0->spektral) (2.15.0)\n",
            "Requirement already satisfied: keras<2.16,>=2.15.0 in /usr/local/lib/python3.10/dist-packages (from tensorflow>=2.2.0->spektral) (2.15.0)\n",
            "Requirement already satisfied: python-dateutil>=2.8.2 in /usr/local/lib/python3.10/dist-packages (from pandas->spektral) (2.9.0.post0)\n",
            "Requirement already satisfied: pytz>=2020.1 in /usr/local/lib/python3.10/dist-packages (from pandas->spektral) (2024.2)\n",
            "Requirement already satisfied: tzdata>=2022.7 in /usr/local/lib/python3.10/dist-packages (from pandas->spektral) (2024.2)\n",
            "Requirement already satisfied: charset-normalizer<4,>=2 in /usr/local/lib/python3.10/dist-packages (from requests->spektral) (3.4.0)\n",
            "Requirement already satisfied: idna<4,>=2.5 in /usr/local/lib/python3.10/dist-packages (from requests->spektral) (3.10)\n",
            "Requirement already satisfied: urllib3<3,>=1.21.1 in /usr/local/lib/python3.10/dist-packages (from requests->spektral) (2.2.3)\n",
            "Requirement already satisfied: certifi>=2017.4.17 in /usr/local/lib/python3.10/dist-packages (from requests->spektral) (2024.8.30)\n",
            "Requirement already satisfied: threadpoolctl>=3.1.0 in /usr/local/lib/python3.10/dist-packages (from scikit-learn->spektral) (3.5.0)\n",
            "Requirement already satisfied: wheel<1.0,>=0.23.0 in /usr/local/lib/python3.10/dist-packages (from astunparse>=1.6.0->tensorflow>=2.2.0->spektral) (0.44.0)\n",
            "Requirement already satisfied: google-auth<3,>=1.6.3 in /usr/local/lib/python3.10/dist-packages (from tensorboard<2.16,>=2.15->tensorflow>=2.2.0->spektral) (2.27.0)\n",
            "Requirement already satisfied: google-auth-oauthlib<2,>=0.5 in /usr/local/lib/python3.10/dist-packages (from tensorboard<2.16,>=2.15->tensorflow>=2.2.0->spektral) (1.2.1)\n",
            "Requirement already satisfied: markdown>=2.6.8 in /usr/local/lib/python3.10/dist-packages (from tensorboard<2.16,>=2.15->tensorflow>=2.2.0->spektral) (3.7)\n",
            "Requirement already satisfied: tensorboard-data-server<0.8.0,>=0.7.0 in /usr/local/lib/python3.10/dist-packages (from tensorboard<2.16,>=2.15->tensorflow>=2.2.0->spektral) (0.7.2)\n",
            "Requirement already satisfied: werkzeug>=1.0.1 in /usr/local/lib/python3.10/dist-packages (from tensorboard<2.16,>=2.15->tensorflow>=2.2.0->spektral) (3.0.4)\n",
            "Requirement already satisfied: cachetools<6.0,>=2.0.0 in /usr/local/lib/python3.10/dist-packages (from google-auth<3,>=1.6.3->tensorboard<2.16,>=2.15->tensorflow>=2.2.0->spektral) (5.5.0)\n",
            "Requirement already satisfied: pyasn1-modules>=0.2.1 in /usr/local/lib/python3.10/dist-packages (from google-auth<3,>=1.6.3->tensorboard<2.16,>=2.15->tensorflow>=2.2.0->spektral) (0.4.1)\n",
            "Requirement already satisfied: rsa<5,>=3.1.4 in /usr/local/lib/python3.10/dist-packages (from google-auth<3,>=1.6.3->tensorboard<2.16,>=2.15->tensorflow>=2.2.0->spektral) (4.9)\n",
            "Requirement already satisfied: requests-oauthlib>=0.7.0 in /usr/local/lib/python3.10/dist-packages (from google-auth-oauthlib<2,>=0.5->tensorboard<2.16,>=2.15->tensorflow>=2.2.0->spektral) (2.0.0)\n",
            "Requirement already satisfied: MarkupSafe>=2.1.1 in /usr/local/lib/python3.10/dist-packages (from werkzeug>=1.0.1->tensorboard<2.16,>=2.15->tensorflow>=2.2.0->spektral) (3.0.1)\n",
            "Requirement already satisfied: pyasn1<0.7.0,>=0.4.6 in /usr/local/lib/python3.10/dist-packages (from pyasn1-modules>=0.2.1->google-auth<3,>=1.6.3->tensorboard<2.16,>=2.15->tensorflow>=2.2.0->spektral) (0.6.1)\n",
            "Requirement already satisfied: oauthlib>=3.0.0 in /usr/local/lib/python3.10/dist-packages (from requests-oauthlib>=0.7.0->google-auth-oauthlib<2,>=0.5->tensorboard<2.16,>=2.15->tensorflow>=2.2.0->spektral) (3.2.2)\n",
            "Downloading spektral-1.3.1-py3-none-any.whl (140 kB)\n",
            "\u001b[2K   \u001b[90m━━━━━━━━━━━━━━━━━━━━━━━━━━━━━━━━━━━━━━━━\u001b[0m \u001b[32m140.1/140.1 kB\u001b[0m \u001b[31m2.9 MB/s\u001b[0m eta \u001b[36m0:00:00\u001b[0m\n",
            "\u001b[?25hDownloading lxml-5.3.0-cp310-cp310-manylinux_2_28_x86_64.whl (5.0 MB)\n",
            "\u001b[2K   \u001b[90m━━━━━━━━━━━━━━━━━━━━━━━━━━━━━━━━━━━━━━━━\u001b[0m \u001b[32m5.0/5.0 MB\u001b[0m \u001b[31m58.1 MB/s\u001b[0m eta \u001b[36m0:00:00\u001b[0m\n",
            "\u001b[?25hInstalling collected packages: lxml, spektral\n",
            "Successfully installed lxml-5.3.0 spektral-1.3.1\n"
          ]
        }
      ]
    },
    {
      "cell_type": "code",
      "source": [
        "from spektral.layers import GCNConv, GlobalSumPool"
      ],
      "metadata": {
        "id": "C_1BZe-Ux7hE"
      },
      "execution_count": 10,
      "outputs": []
    },
    {
      "cell_type": "code",
      "source": [
        "def create_html_model(max_node, feature_dim, gcn_units):\n",
        "    inputs_adj = keras.Input(shape=(max_node, max_node), dtype=tf.float64)\n",
        "    inputs_feat = keras.Input(shape=(max_node, feature_dim), dtype=tf.float64)\n",
        "\n",
        "    gcn_layer = GCNConv(gcn_units, activation='relu')([inputs_feat, inputs_adj])\n",
        "    pooled_output = GlobalSumPool()(gcn_layer)\n",
        "\n",
        "    html_model = keras.Model(inputs=[inputs_adj, inputs_feat], outputs=pooled_output)\n",
        "\n",
        "    return html_model"
      ],
      "metadata": {
        "id": "3t3YPPg6xq_J"
      },
      "execution_count": 11,
      "outputs": []
    },
    {
      "cell_type": "markdown",
      "source": [
        "### **Create full model**"
      ],
      "metadata": {
        "id": "BfJxAiOc4-W3"
      }
    },
    {
      "cell_type": "code",
      "source": [
        "def create_full_model(vocab_size, max_word, embed_dim,\n",
        "                      num_heads, ff_dim, num_transformer_layers,\n",
        "                      max_node, feature_dim, gcn_units):\n",
        "    # URL Model\n",
        "    url_model = create_url_model(vocab_size, max_word, embed_dim, num_heads, ff_dim, num_transformer_layers)\n",
        "\n",
        "    # HTML Model\n",
        "    html_model = create_html_model(max_node, feature_dim, gcn_units)\n",
        "\n",
        "    # Inputs\n",
        "    url_inputs = keras.Input(shape=(max_word,), dtype=tf.int32)\n",
        "    adj_inputs = keras.Input(shape=(max_node, max_node), dtype=tf.float64)\n",
        "    feat_inputs = keras.Input(shape=(max_node, feature_dim), dtype=tf.float64)\n",
        "\n",
        "    # Outputs from both models\n",
        "    url_output = url_model(url_inputs)  # (None, embed_dim)\n",
        "    html_output = html_model([adj_inputs, feat_inputs])  # (None, gcn_units)\n",
        "\n",
        "    # Concatenate the outputs (both are 2D now)\n",
        "    combined = layers.Concatenate()([url_output, html_output])  # (None, embed_dim + gcn_units)\n",
        "\n",
        "    # Final layers\n",
        "    x = layers.Dense(128, activation='relu')(combined)\n",
        "    x = layers.Dropout(0.5)(x)\n",
        "    outputs = layers.Dense(1, activation='sigmoid')(x)\n",
        "\n",
        "    full_model = keras.Model(inputs=[url_inputs, adj_inputs, feat_inputs], outputs=outputs)\n",
        "    return full_model"
      ],
      "metadata": {
        "id": "i0R3UZVa5OEF"
      },
      "execution_count": 12,
      "outputs": []
    },
    {
      "cell_type": "markdown",
      "source": [
        "## **Train model**"
      ],
      "metadata": {
        "id": "GBMOCOvAae_w"
      }
    },
    {
      "cell_type": "code",
      "source": [
        "vocab_size = 10000\n",
        "max_word = url_train.shape[1]\n",
        "max_node = adjacency_train.shape[1]\n",
        "feature_dim = 3\n",
        "\n",
        "model = create_full_model(vocab_size=vocab_size,\n",
        "                          max_word=max_word,\n",
        "                          embed_dim=256,\n",
        "                          num_heads=8,\n",
        "                          ff_dim=512,\n",
        "                          num_transformer_layers=2,\n",
        "                          max_node=max_node,\n",
        "                          feature_dim=feature_dim,\n",
        "                          gcn_units=256)\n",
        "\n",
        "model.summary()\n",
        "\n",
        "model.compile(optimizer='adam', loss='binary_crossentropy', metrics=['accuracy'])\n",
        "\n",
        "checkpoint_filepath = 'models/best_model.keras'\n",
        "\n",
        "checkpoint_callback = tf.keras.callbacks.ModelCheckpoint(\n",
        "    filepath=checkpoint_filepath,\n",
        "    save_weights_only=False,\n",
        "    monitor='val_loss',\n",
        "    mode='min',\n",
        "    save_best_only=True,\n",
        "    verbose=1\n",
        ")\n",
        "\n",
        "history = model.fit([url_train, adjacency_train, feature_train], label_train,\n",
        "          validation_data=([url_val, adjacency_val, feature_val], label_val),\n",
        "          epochs=10, batch_size=128,\n",
        "          callbacks=[checkpoint_callback])"
      ],
      "metadata": {
        "id": "jT0yrsGh0RZU",
        "colab": {
          "base_uri": "https://localhost:8080/"
        },
        "outputId": "7cb8e4c0-d8ef-4137-b015-cefe2b949bcf"
      },
      "execution_count": 13,
      "outputs": [
        {
          "output_type": "stream",
          "name": "stdout",
          "text": [
            "Model: \"model_2\"\n",
            "__________________________________________________________________________________________________\n",
            " Layer (type)                Output Shape                 Param #   Connected to                  \n",
            "==================================================================================================\n",
            " input_4 (InputLayer)        [(None, 50)]                 0         []                            \n",
            "                                                                                                  \n",
            " input_5 (InputLayer)        [(None, 400, 400)]           0         []                            \n",
            "                                                                                                  \n",
            " input_6 (InputLayer)        [(None, 400, 3)]             0         []                            \n",
            "                                                                                                  \n",
            " model (Functional)          (None, 256)                  7307776   ['input_4[0][0]']             \n",
            "                                                                                                  \n",
            " model_1 (Functional)        (None, 256)                  1024      ['input_5[0][0]',             \n",
            "                                                                     'input_6[0][0]']             \n",
            "                                                                                                  \n",
            " concatenate (Concatenate)   (None, 512)                  0         ['model[0][0]',               \n",
            "                                                                     'model_1[0][0]']             \n",
            "                                                                                                  \n",
            " dense_4 (Dense)             (None, 128)                  65664     ['concatenate[0][0]']         \n",
            "                                                                                                  \n",
            " dropout_4 (Dropout)         (None, 128)                  0         ['dense_4[0][0]']             \n",
            "                                                                                                  \n",
            " dense_5 (Dense)             (None, 1)                    129       ['dropout_4[0][0]']           \n",
            "                                                                                                  \n",
            "==================================================================================================\n",
            "Total params: 7374593 (28.13 MB)\n",
            "Trainable params: 7374593 (28.13 MB)\n",
            "Non-trainable params: 0 (0.00 Byte)\n",
            "__________________________________________________________________________________________________\n",
            "Epoch 1/10\n",
            "625/625 [==============================] - ETA: 0s - loss: 0.3845 - accuracy: 0.8590\n",
            "Epoch 1: val_loss improved from inf to 0.31443, saving model to models/best_model.keras\n",
            "625/625 [==============================] - 630s 1s/step - loss: 0.3845 - accuracy: 0.8590 - val_loss: 0.3144 - val_accuracy: 0.8755\n",
            "Epoch 2/10\n",
            "625/625 [==============================] - ETA: 0s - loss: 0.3377 - accuracy: 0.8710\n",
            "Epoch 2: val_loss improved from 0.31443 to 0.31278, saving model to models/best_model.keras\n",
            "625/625 [==============================] - 613s 981ms/step - loss: 0.3377 - accuracy: 0.8710 - val_loss: 0.3128 - val_accuracy: 0.8750\n",
            "Epoch 3/10\n",
            "625/625 [==============================] - ETA: 0s - loss: 0.1726 - accuracy: 0.9470\n",
            "Epoch 3: val_loss improved from 0.31278 to 0.10989, saving model to models/best_model.keras\n",
            "625/625 [==============================] - 611s 978ms/step - loss: 0.1726 - accuracy: 0.9470 - val_loss: 0.1099 - val_accuracy: 0.9694\n",
            "Epoch 4/10\n",
            "625/625 [==============================] - ETA: 0s - loss: 0.0964 - accuracy: 0.9732\n",
            "Epoch 4: val_loss improved from 0.10989 to 0.08341, saving model to models/best_model.keras\n",
            "625/625 [==============================] - 612s 979ms/step - loss: 0.0964 - accuracy: 0.9732 - val_loss: 0.0834 - val_accuracy: 0.9753\n",
            "Epoch 5/10\n",
            "625/625 [==============================] - ETA: 0s - loss: 0.0798 - accuracy: 0.9776\n",
            "Epoch 5: val_loss improved from 0.08341 to 0.07934, saving model to models/best_model.keras\n",
            "625/625 [==============================] - 616s 985ms/step - loss: 0.0798 - accuracy: 0.9776 - val_loss: 0.0793 - val_accuracy: 0.9765\n",
            "Epoch 6/10\n",
            "625/625 [==============================] - ETA: 0s - loss: 0.0720 - accuracy: 0.9804\n",
            "Epoch 6: val_loss did not improve from 0.07934\n",
            "625/625 [==============================] - 615s 984ms/step - loss: 0.0720 - accuracy: 0.9804 - val_loss: 0.0832 - val_accuracy: 0.9774\n",
            "Epoch 7/10\n",
            "625/625 [==============================] - ETA: 0s - loss: 0.0666 - accuracy: 0.9823\n",
            "Epoch 7: val_loss did not improve from 0.07934\n",
            "625/625 [==============================] - 613s 981ms/step - loss: 0.0666 - accuracy: 0.9823 - val_loss: 0.0893 - val_accuracy: 0.9762\n",
            "Epoch 8/10\n",
            "625/625 [==============================] - ETA: 0s - loss: 0.0638 - accuracy: 0.9826\n",
            "Epoch 8: val_loss improved from 0.07934 to 0.07658, saving model to models/best_model.keras\n",
            "625/625 [==============================] - 616s 985ms/step - loss: 0.0638 - accuracy: 0.9826 - val_loss: 0.0766 - val_accuracy: 0.9787\n",
            "Epoch 9/10\n",
            "625/625 [==============================] - ETA: 0s - loss: 0.0586 - accuracy: 0.9841\n",
            "Epoch 9: val_loss improved from 0.07658 to 0.07452, saving model to models/best_model.keras\n",
            "625/625 [==============================] - 613s 981ms/step - loss: 0.0586 - accuracy: 0.9841 - val_loss: 0.0745 - val_accuracy: 0.9785\n",
            "Epoch 10/10\n",
            "625/625 [==============================] - ETA: 0s - loss: 0.0566 - accuracy: 0.9847\n",
            "Epoch 10: val_loss did not improve from 0.07452\n",
            "625/625 [==============================] - 616s 986ms/step - loss: 0.0566 - accuracy: 0.9847 - val_loss: 0.0901 - val_accuracy: 0.9777\n"
          ]
        }
      ]
    },
    {
      "cell_type": "code",
      "source": [
        "import matplotlib.pyplot as plt\n",
        "import seaborn as sns"
      ],
      "metadata": {
        "id": "i56f9BqfUyu-"
      },
      "execution_count": 15,
      "outputs": []
    },
    {
      "cell_type": "code",
      "source": [
        "# Plot history loss\n",
        "plt.figure(figsize=(10, 6))\n",
        "plt.plot(history.history['loss'], label='train loss')\n",
        "plt.plot(history.history['val_loss'], label='val loss')\n",
        "plt.xlabel(\"epoch\")\n",
        "plt.ylabel(\"Cross-entropy loss\")\n",
        "plt.legend()\n",
        "plt.show()\n",
        "\n",
        "# Plot history accuracy\n",
        "plt.figure(figsize=(10, 6))\n",
        "plt.plot(history.history['accuracy'], label='train accuracy')\n",
        "plt.plot(history.history['val_accuracy'], label='val accuracy')\n",
        "plt.xlabel(\"epoch\")\n",
        "plt.ylabel(\"accuracy\")\n",
        "plt.legend()\n",
        "plt.show()"
      ],
      "metadata": {
        "id": "5WB8DRQcijms",
        "colab": {
          "base_uri": "https://localhost:8080/",
          "height": 1000
        },
        "outputId": "cded286b-99df-4801-93cc-55d8016c02c1"
      },
      "execution_count": 16,
      "outputs": [
        {
          "output_type": "display_data",
          "data": {
            "text/plain": [
              "<Figure size 1000x600 with 1 Axes>"
            ],
            "image/png": "[encoded data removed]"
          },
          "metadata": {}
        },
        {
          "output_type": "display_data",
          "data": {
            "text/plain": [
              "<Figure size 1000x600 with 1 Axes>"
            ],
            "image/png": "[encoded data removed]"
          },
          "metadata": {}
        }
      ]
    },
    {
      "cell_type": "markdown",
      "source": [
        "## **Test and evaluate model**"
      ],
      "metadata": {
        "id": "pon8ohwipVJt"
      }
    },
    {
      "cell_type": "code",
      "source": [
        "best_model = keras.models.load_model(\n",
        "    'models/best_model.keras',\n",
        "    custom_objects={'TransformerEncoder': TransformerEncoder,\n",
        "                    'PositionalEmbedding': PositionalEmbedding,\n",
        "                    'GCNConv': GCNConv,\n",
        "                    'GlobalSumPool': GlobalSumPool})\n",
        "\n",
        "best_model.summary()"
      ],
      "metadata": {
        "colab": {
          "base_uri": "https://localhost:8080/"
        },
        "id": "NzILqZmVpxLu",
        "outputId": "4a1df52c-7ebf-43a5-8994-b340f75906ac"
      },
      "execution_count": 17,
      "outputs": [
        {
          "output_type": "stream",
          "name": "stdout",
          "text": [
            "Model: \"model_2\"\n",
            "__________________________________________________________________________________________________\n",
            " Layer (type)                Output Shape                 Param #   Connected to                  \n",
            "==================================================================================================\n",
            " input_4 (InputLayer)        [(None, 50)]                 0         []                            \n",
            "                                                                                                  \n",
            " input_5 (InputLayer)        [(None, 400, 400)]           0         []                            \n",
            "                                                                                                  \n",
            " input_6 (InputLayer)        [(None, 400, 3)]             0         []                            \n",
            "                                                                                                  \n",
            " model (Functional)          (None, 256)                  7307776   ['input_4[0][0]']             \n",
            "                                                                                                  \n",
            " model_1 (Functional)        (None, 256)                  1024      ['input_5[0][0]',             \n",
            "                                                                     'input_6[0][0]']             \n",
            "                                                                                                  \n",
            " concatenate (Concatenate)   (None, 512)                  0         ['model[0][0]',               \n",
            "                                                                     'model_1[0][0]']             \n",
            "                                                                                                  \n",
            " dense_4 (Dense)             (None, 128)                  65664     ['concatenate[0][0]']         \n",
            "                                                                                                  \n",
            " dropout_4 (Dropout)         (None, 128)                  0         ['dense_4[0][0]']             \n",
            "                                                                                                  \n",
            " dense_5 (Dense)             (None, 1)                    129       ['dropout_4[0][0]']           \n",
            "                                                                                                  \n",
            "==================================================================================================\n",
            "Total params: 7374593 (28.13 MB)\n",
            "Trainable params: 7374593 (28.13 MB)\n",
            "Non-trainable params: 0 (0.00 Byte)\n",
            "__________________________________________________________________________________________________\n"
          ]
        }
      ]
    },
    {
      "cell_type": "code",
      "source": [
        "from sklearn.metrics import classification_report, confusion_matrix"
      ],
      "metadata": {
        "id": "UqUXbPqJf7Pv"
      },
      "execution_count": 18,
      "outputs": []
    },
    {
      "cell_type": "code",
      "source": [
        "y_pred_prob = model.predict([url_test, adjacency_test, feature_test])\n",
        "y_pred = (y_pred_prob > 0.5).astype(int)\n",
        "print(classification_report(label_test, y_pred))"
      ],
      "metadata": {
        "colab": {
          "base_uri": "https://localhost:8080/"
        },
        "id": "tWQstEJ2gB6d",
        "outputId": "631165c0-5644-4c7f-bcbf-6d527c410e3f"
      },
      "execution_count": 19,
      "outputs": [
        {
          "output_type": "stream",
          "name": "stdout",
          "text": [
            "313/313 [==============================] - 29s 92ms/step\n",
            "              precision    recall  f1-score   support\n",
            "\n",
            "           0       0.97      0.98      0.98      5000\n",
            "           1       0.98      0.97      0.98      5000\n",
            "\n",
            "    accuracy                           0.98     10000\n",
            "   macro avg       0.98      0.98      0.98     10000\n",
            "weighted avg       0.98      0.98      0.98     10000\n",
            "\n"
          ]
        }
      ]
    },
    {
      "cell_type": "code",
      "source": [
        "import numpy as np"
      ],
      "metadata": {
        "id": "cPiDk-XKs7Ly"
      },
      "execution_count": 21,
      "outputs": []
    },
    {
      "cell_type": "code",
      "source": [
        "cm = confusion_matrix(label_test, y_pred)\n",
        "cm_percentage = cm.astype('float') / cm.sum(axis=1)[:, np.newaxis]\n",
        "\n",
        "plt.figure(figsize=(8, 6))\n",
        "sns.heatmap(cm_percentage, annot=True, fmt=\".2%\", cmap=\"Blues\")\n",
        "plt.title(\"Confusion Matrix (Percentage)\")\n",
        "plt.ylabel('True label')\n",
        "plt.xlabel('Predicted label')\n",
        "plt.show()"
      ],
      "metadata": {
        "colab": {
          "base_uri": "https://localhost:8080/",
          "height": 564
        },
        "id": "SaIR_h96gg3O",
        "outputId": "01850d30-d635-4723-8028-7e4ec8c737f2"
      },
      "execution_count": 22,
      "outputs": [
        {
          "output_type": "display_data",
          "data": {
            "text/plain": [
              "<Figure size 800x600 with 2 Axes>"
            ],
            "image/png": "[encoded data removed]"
          },
          "metadata": {}
        }
      ]
    }
  ]
}
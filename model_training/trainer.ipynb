{
  "nbformat": 4,
  "nbformat_minor": 0,
  "metadata": {
    "colab": {
      "provenance": [],
      "machine_shape": "hm",
      "gpuType": "V28",
      "authorship_tag": "ABX9TyML0rHQUY3fwevAG5WqyUp+",
      "include_colab_link": true
    },
    "kernelspec": {
      "name": "python3",
      "display_name": "Python 3"
    },
    "language_info": {
      "name": "python"
    },
    "accelerator": "TPU"
  },
  "cells": [
    {
      "cell_type": "markdown",
      "metadata": {
        "id": "view-in-github",
        "colab_type": "text"
      },
      "source": [
        "<a href=\"https://colab.research.google.com/github/Akechi1412/Phishing-Website-Detection/blob/main/model_training/trainer.ipynb\" target=\"_parent\"><img src=\"https://colab.research.google.com/assets/colab-badge.svg\" alt=\"Open In Colab\"/></a>"
      ]
    },
    {
      "cell_type": "markdown",
      "source": [
        "# **Train Phishing Website Detection Model**"
      ],
      "metadata": {
        "id": "Ie97YpRCETlO"
      }
    },
    {
      "cell_type": "markdown",
      "source": [
        "## **Connect to Drive and Github responsitory**"
      ],
      "metadata": {
        "id": "JWJeAJ4MEkBz"
      }
    },
    {
      "cell_type": "code",
      "execution_count": 1,
      "metadata": {
        "colab": {
          "base_uri": "https://localhost:8080/"
        },
        "id": "GFR4qI0yDyXW",
        "outputId": "adfdc6f7-ca3c-4dc0-99b8-3c7f94f72e86"
      },
      "outputs": [
        {
          "output_type": "stream",
          "name": "stdout",
          "text": [
            "Drive already mounted at /content/drive; to attempt to forcibly remount, call drive.mount(\"/content/drive\", force_remount=True).\n"
          ]
        }
      ],
      "source": [
        "from google.colab import drive\n",
        "drive.mount('/content/drive')"
      ]
    },
    {
      "cell_type": "code",
      "source": [
        "%cd /content/drive/MyDrive/Github\n",
        "%cd Phishing-Website-Detection/model_training\n",
        "!git config --global user.email \"nguyenphong10042002@gmail.com\"\n",
        "!git config --global user.name \"Akechi1412\"\n",
        "!git fetch origin\n",
        "!git reset --hard origin/main"
      ],
      "metadata": {
        "colab": {
          "base_uri": "https://localhost:8080/"
        },
        "id": "kRvWxHJVEqiV",
        "outputId": "6fd42401-065d-4375-fbea-bdc5fbad4380"
      },
      "execution_count": 2,
      "outputs": [
        {
          "output_type": "stream",
          "name": "stdout",
          "text": [
            "/content/drive/MyDrive/Github\n",
            "/content/drive/MyDrive/Github/Phishing-Website-Detection/model_training\n",
            "HEAD is now at 2f5af1b Merge branch 'main' of https://github.com/Akechi1412/Phishing-Website-Detection\n"
          ]
        }
      ]
    },
    {
      "cell_type": "markdown",
      "source": [
        "## **Load data**"
      ],
      "metadata": {
        "id": "ND63uFHUXK9M"
      }
    },
    {
      "cell_type": "code",
      "source": [
        "!pip install aiohttp"
      ],
      "metadata": {
        "colab": {
          "base_uri": "https://localhost:8080/"
        },
        "id": "CiI-se0yhn4z",
        "outputId": "58b17840-df89-4bd4-af62-47041785a0be"
      },
      "execution_count": 3,
      "outputs": [
        {
          "output_type": "stream",
          "name": "stdout",
          "text": [
            "Requirement already satisfied: aiohttp in /usr/local/lib/python3.10/dist-packages (3.10.10)\n",
            "Requirement already satisfied: aiohappyeyeballs>=2.3.0 in /usr/local/lib/python3.10/dist-packages (from aiohttp) (2.4.3)\n",
            "Requirement already satisfied: aiosignal>=1.1.2 in /usr/local/lib/python3.10/dist-packages (from aiohttp) (1.3.1)\n",
            "Requirement already satisfied: attrs>=17.3.0 in /usr/local/lib/python3.10/dist-packages (from aiohttp) (24.2.0)\n",
            "Requirement already satisfied: frozenlist>=1.1.1 in /usr/local/lib/python3.10/dist-packages (from aiohttp) (1.4.1)\n",
            "Requirement already satisfied: multidict<7.0,>=4.5 in /usr/local/lib/python3.10/dist-packages (from aiohttp) (6.1.0)\n",
            "Requirement already satisfied: yarl<2.0,>=1.12.0 in /usr/local/lib/python3.10/dist-packages (from aiohttp) (1.15.2)\n",
            "Requirement already satisfied: async-timeout<5.0,>=4.0 in /usr/local/lib/python3.10/dist-packages (from aiohttp) (4.0.3)\n",
            "Requirement already satisfied: typing-extensions>=4.1.0 in /usr/local/lib/python3.10/dist-packages (from multidict<7.0,>=4.5->aiohttp) (4.12.2)\n",
            "Requirement already satisfied: idna>=2.0 in /usr/local/lib/python3.10/dist-packages (from yarl<2.0,>=1.12.0->aiohttp) (3.10)\n",
            "Requirement already satisfied: propcache>=0.2.0 in /usr/local/lib/python3.10/dist-packages (from yarl<2.0,>=1.12.0->aiohttp) (0.2.0)\n"
          ]
        }
      ]
    },
    {
      "cell_type": "code",
      "source": [
        "from utils import load_data"
      ],
      "metadata": {
        "id": "2z7kCJjbGk0N"
      },
      "execution_count": 4,
      "outputs": []
    },
    {
      "cell_type": "code",
      "source": [
        "data_size=50000\n",
        "data_train, data_val, data_test = load_data(data_size=data_size)"
      ],
      "metadata": {
        "id": "Vx1sQFKgGaqX"
      },
      "execution_count": 5,
      "outputs": []
    },
    {
      "cell_type": "code",
      "source": [
        "print(len(data_train), len(data_val), len(data_test))\n",
        "print(data_train[0])"
      ],
      "metadata": {
        "colab": {
          "base_uri": "https://localhost:8080/"
        },
        "id": "qf6hcj6DIVms",
        "outputId": "c6df0694-735d-4168-ec36-62d4c3714202"
      },
      "execution_count": 6,
      "outputs": [
        {
          "output_type": "stream",
          "name": "stdout",
          "text": [
            "80000 10000 10000\n",
            "{'url': 'https://adminserver356.weebly.com/', 'html': '<!DOCTYPE html>\\n<html lang=\"en\">\\n\\t<head>\\n\\t\\t<title>server admin</title><meta property=\"og:site_name\" content=\"\" />\\n<meta property=\"og:title\" content=\"My Site\" />\\n<meta property=\"og:description\" content=\"\" />\\n<meta property=\"og:image\" content=\"https://cdn2.editmysite.com/images/site/footer/og-image-placeholder-blank.png\" />\\n<meta property=\"og:url\" content=\"https://adminserver356.weebly.com/\" />\\n\\n\\n\\n<meta http-equiv=\"Content-Type\" content=\"text/html; charset=utf-8\"/>\\n\\t<meta name=\"viewport\" content=\"width=device-width, initial-scale=1.0\">\\n\\n\\t\\t\\n\\t\\t<link id=\"wsite-base-style\" rel=\"stylesheet\" type=\"text/css\" href=\"//cdn2.editmysite.com/css/sites.css?buildTime=1709139612\" />\\n<link rel=\"stylesheet\" type=\"text/css\" href=\"//cdn2.editmysite.com/css/old/fancybox.css?1709139612\" />\\n<link rel=\"stylesheet\" type=\"text/css\" href=\"//cdn2.editmysite.com/css/social-icons.css?buildtime=1709139612\" media=\"screen,projection\" />\\n<link rel=\"stylesheet\" type=\"text/css\" href=\"/files/main_style.css?1709179900\" title=\"wsite-theme-css\" />\\n<link href=\\'//cdn2.editmysite.com/fonts/Oxygen/font.css?2\\' rel=\\'stylesheet\\' type=\\'text/css\\' />\\n<link href=\\'//cdn2.editmysite.com/fonts/Pacifico/font.css?2\\' rel=\\'stylesheet\\' type=\\'text/css\\' />\\n\\n<style type=\\'text/css\\'>\\n.wsite-elements.wsite-not-footer:not(.wsite-header-elements) div.paragraph, .wsite-elements.wsite-not-footer:not(.wsite-header-elements) p, .wsite-elements.wsite-not-footer:not(.wsite-header-elements) .product-block .product-title, .wsite-elements.wsite-not-footer:not(.wsite-header-elements) .product-description, .wsite-elements.wsite-not-footer:not(.wsite-header-elements) .wsite-form-field label, .wsite-elements.wsite-not-footer:not(.wsite-header-elements) .wsite-form-field label, #wsite-content div.paragraph, #wsite-content p, #wsite-content .product-block .product-title, #wsite-content .product-description, #wsite-content .wsite-form-field label, #wsite-content .wsite-form-field label, .blog-sidebar div.paragraph, .blog-sidebar p, .blog-sidebar .wsite-form-field label, .blog-sidebar .wsite-form-field label {}\\n#wsite-content div.paragraph, #wsite-content p, #wsite-content .product-block .product-title, #wsite-content .product-description, #wsite-content .wsite-form-field label, #wsite-content .wsite-form-field label, .blog-sidebar div.paragraph, .blog-sidebar p, .blog-sidebar .wsite-form-field label, .blog-sidebar .wsite-form-field label {}\\n.wsite-elements.wsite-footer div.paragraph, .wsite-elements.wsite-footer p, .wsite-elements.wsite-footer .product-block .product-title, .wsite-elements.wsite-footer .product-description, .wsite-elements.wsite-footer .wsite-form-field label, .wsite-elements.wsite-footer .wsite-form-field label{}\\n.wsite-elements.wsite-not-footer:not(.wsite-header-elements) h2, .wsite-elements.wsite-not-footer:not(.wsite-header-elements) .product-long .product-title, .wsite-elements.wsite-not-footer:not(.wsite-header-elements) .product-large .product-title, .wsite-elements.wsite-not-footer:not(.wsite-header-elements) .product-small .product-title, #wsite-content h2, #wsite-content .product-long .product-title, #wsite-content .product-large .product-title, #wsite-content .product-small .product-title, .blog-sidebar h2 {}\\n#wsite-content h2, #wsite-content .product-long .product-title, #wsite-content .product-large .product-title, #wsite-content .product-small .product-title, .blog-sidebar h2 {}\\n.wsite-elements.wsite-footer h2, .wsite-elements.wsite-footer .product-long .product-title, .wsite-elements.wsite-footer .product-large .product-title, .wsite-elements.wsite-footer .product-small .product-title{}\\n#wsite-title {}\\n.wsite-menu-default a {}\\n.wsite-menu a {}\\n.wsite-image div, .wsite-caption {}\\n.galleryCaptionInnerText {}\\n.fancybox-title {}\\n.wslide-caption-text {}\\n.wsite-phone {}\\n.wsite-headline,.wsite-header-section .wsite-content-title {}\\n.wsite-headline-paragraph,.wsite-header-section .paragraph {}\\n.wsite-button-inner {}\\n.wsite-not-footer blockquote {}\\n.wsite-footer blockquote {}\\n.blog-header h2 a {}\\n#wsite-content h2.wsite-product-title {}\\n.wsite-product .wsite-product-price a {}\\n@media screen and (min-width: 767px) {.wsite-elements.wsite-not-footer:not(.wsite-header-elements) div.paragraph, .wsite-elements.wsite-not-footer:not(.wsite-header-elements) p, .wsite-elements.wsite-not-footer:not(.wsite-header-elements) .product-block .product-title, .wsite-elements.wsite-not-footer:not(.wsite-header-elements) .product-description, .wsite-elements.wsite-not-footer:not(.wsite-header-elements) .wsite-form-field label, .wsite-elements.wsite-not-footer:not(.wsite-header-elements) .wsite-form-field label, #wsite-content div.paragraph, #wsite-content p, #wsite-content .product-block .product-title, #wsite-content .product-description, #wsite-content .wsite-form-field label, #wsite-content .wsite-form-field label, .blog-sidebar div.paragraph, .blog-sidebar p, .blog-sidebar .wsite-form-field label, .blog-sidebar .wsite-form-field label {}\\n#wsite-content div.paragraph, #wsite-content p, #wsite-content .product-block .product-title, #wsite-content .product-description, #wsite-content .wsite-form-field label, #wsite-content .wsite-form-field label, .blog-sidebar div.paragraph, .blog-sidebar p, .blog-sidebar .wsite-form-field label, .blog-sidebar .wsite-form-field label {}\\n.wsite-elements.wsite-footer div.paragraph, .wsite-elements.wsite-footer p, .wsite-elements.wsite-footer .product-block .product-title, .wsite-elements.wsite-footer .product-description, .wsite-elements.wsite-footer .wsite-form-field label, .wsite-elements.wsite-footer .wsite-form-field label{}\\n.wsite-elements.wsite-not-footer:not(.wsite-header-elements) h2, .wsite-elements.wsite-not-footer:not(.wsite-header-elements) .product-long .product-title, .wsite-elements.wsite-not-footer:not(.wsite-header-elements) .product-large .product-title, .wsite-elements.wsite-not-footer:not(.wsite-header-elements) .product-small .product-title, #wsite-content h2, #wsite-content .product-long .product-title, #wsite-content .product-large .product-title, #wsite-content .product-small .product-title, .blog-sidebar h2 {}\\n#wsite-content h2, #wsite-content .product-long .product-title, #wsite-content .product-large .product-title, #wsite-content .product-small .product-title, .blog-sidebar h2 {}\\n.wsite-elements.wsite-footer h2, .wsite-elements.wsite-footer .product-long .product-title, .wsite-elements.wsite-footer .product-large .product-title, .wsite-elements.wsite-footer .product-small .product-title{}\\n#wsite-title {}\\n.wsite-menu-default a {}\\n.wsite-menu a {}\\n.wsite-image div, .wsite-caption {}\\n.galleryCaptionInnerText {}\\n.fancybox-title {}\\n.wslide-caption-text {}\\n.wsite-phone {}\\n.wsite-headline,.wsite-header-section .wsite-content-title {}\\n.wsite-headline-paragraph,.wsite-header-section .paragraph {}\\n.wsite-button-inner {}\\n.wsite-not-footer blockquote {}\\n.wsite-footer blockquote {}\\n.blog-header h2 a {}\\n#wsite-content h2.wsite-product-title {}\\n.wsite-product .wsite-product-price a {}\\n}</style>\\n<style>\\n.wsite-background {background-image: url(\"/uploads/1/4/8/8/148838392/background-images/994722335.png\") !important;background-repeat: no-repeat !important;background-position: 50% 50% !important;background-size: 100% !important;background-color: transparent !important;background: inherit;}\\nbody.wsite-background {background-attachment: fixed !important;}.wsite-background.wsite-custom-background{ background-size: cover !important}\\n</style>\\n\\t\\t<script src=\\'/files/templateArtifacts.js?1709179900\\'></script>\\n<script>\\nvar STATIC_BASE = \\'//cdn1.editmysite.com/\\';\\nvar ASSETS_BASE = \\'//cdn2.editmysite.com/\\';\\nvar STYLE_PREFIX = \\'wsite\\';\\n</script>\\n<script src=\\'https://cdn2.editmysite.com/js/jquery-1.8.3.min.js\\'></script>\\n\\n<script type=\"text/javascript\" src=\"//cdn2.editmysite.com/js/lang/en/stl.js?buildTime=1709139612&\"></script>\\n<script src=\"//cdn2.editmysite.com/js/site/main.js?buildTime=1709139612\"></script><script type=\"text/javascript\">\\n\\t\\tfunction initCustomerAccountsModels() {\\n\\t\\t\\t\\t\\t(function(){_W.setup_rpc({\"url\":\"\\\\/ajax\\\\/api\\\\/JsonRPC\\\\/CustomerAccounts\\\\/\",\"actions\":{\"CustomerAccounts\":[{\"name\":\"login\",\"len\":2,\"multiple\":false,\"standalone\":false},{\"name\":\"logout\",\"len\":0,\"multiple\":false,\"standalone\":false},{\"name\":\"getSessionDetails\",\"len\":0,\"multiple\":false,\"standalone\":false},{\"name\":\"getAccountDetails\",\"len\":0,\"multiple\":false,\"standalone\":false},{\"name\":\"getOrders\",\"len\":0,\"multiple\":false,\"standalone\":false},{\"name\":\"register\",\"len\":4,\"multiple\":false,\"standalone\":false},{\"name\":\"emailExists\",\"len\":1,\"multiple\":false,\"standalone\":false},{\"name\":\"passwordReset\",\"len\":1,\"multiple\":false,\"standalone\":false},{\"name\":\"passwordUpdate\",\"len\":3,\"multiple\":false,\"standalone\":false},{\"name\":\"validateSession\",\"len\":1,\"multiple\":false,\"standalone\":false}]},\"namespace\":\"_W.CustomerAccounts.RPC\"});\\n_W.setup_model_rpc({\"rpc_namespace\":\"_W.CustomerAccounts.RPC\",\"model_namespace\":\"_W.CustomerAccounts.BackboneModelData\",\"collection_namespace\":\"_W.CustomerAccounts.BackboneCollectionData\",\"bootstrap_namespace\":\"_W.CustomerAccounts.BackboneBootstrap\",\"models\":{\"CustomerAccounts\":{\"_class\":\"CustomerAccounts.Model.CustomerAccounts\",\"defaults\":null,\"validation\":null,\"types\":null,\"idAttribute\":null,\"keydefs\":null}},\"collections\":{\"CustomerAccounts\":{\"_class\":\"CustomerAccounts.Collection.CustomerAccounts\"}},\"bootstrap\":[]});\\n})();\\n\\t\\t}\\n\\t\\tif(document.createEvent && document.addEventListener) {\\n\\t\\t\\tvar initEvt = document.createEvent(\\'Event\\');\\n\\t\\t\\tinitEvt.initEvent(\\'customerAccountsModelsInitialized\\', true, false);\\n\\t\\t\\tdocument.dispatchEvent(initEvt);\\n\\t\\t} else if(document.documentElement.initCustomerAccountsModels === 0){\\n\\t\\t\\tdocument.documentElement.initCustomerAccountsModels++\\n\\t\\t}\\n\\t\\t</script>\\n\\t\\t<script type=\"text/javascript\"> _W = _W || {}; _W.securePrefix=\\'adminserver356.weebly.com\\'; </script><script>_W = _W || {};\\n\\t\\t\\t_W.customerLocale = \"en_US\";\\n\\t\\t\\t_W.storeName = null;\\n\\t\\t\\t_W.isCheckoutReskin = false;\\n\\t\\t\\t_W.storeCountry = \"KR\";\\n\\t\\t\\t_W.storeCurrency = \"USD\";\\n\\t\\t\\t_W.storeEuPrivacyPolicyUrl = \"\";\\n\\t\\t\\tcom_currentSite = \"237695669968775536\";\\n\\t\\t\\tcom_userID = \"148838392\";</script><script type=\"text/javascript\">_W.configDomain = \"www.weebly.com\";</script><script>_W.relinquish && _W.relinquish()</script>\\n<script type=\"text/javascript\" src=\"//cdn2.editmysite.com/js/lang/en/stl.js?buildTime=1709139612&\"></script><script> _W.themePlugins = {\"navpane\":{\"condense\":1024,\"forced\":1}};</script><script src=\\'//cdn2.editmysite.com/js/site/theme-plugins.js?buildTime=1709139612\\'></script><script type=\"text/javascript\"> _W.recaptchaUrl = \"https://www.google.com/recaptcha/api.js\"; </script>\\n\\t\\t\\n\\t\\t\\n\\t</head>\\n\\t<body class=\"no-header-page wsite-theme-light  wsite-page-index\"><div class=\"wrapper\">\\n\\n\\t\\t<div class=\"page-content w-navpane-slide\">\\n\\t\\t\\t<div class=\"wsite-background wsite-custom-background\">\\n\\t\\t\\t\\t<div id=\"gradient\">\\n\\t\\t\\t\\t\\t<div id=\"header\">\\n\\t\\t\\t\\t\\t\\t<div class=\"container\">\\n\\t\\t\\t\\t\\t\\t\\t<div id=\"logo\"><span class=\"wsite-logo\">\\n\\n\\t<a href=\"/\">\\n\\t\\n\\t<span id=\"wsite-title\">&nbsp;</span>\\n\\t\\n\\t</a>\\n\\n</span></div>\\n\\t\\t\\t\\t\\t\\t\\t<div id=\"nav-handle\">\\n\\t\\t\\t\\t\\t\\t\\t\\t<div class=\"w-navpane-trigger hamburger\">\\n\\t\\t\\t\\t\\t\\t\\t\\t\\t<span class=\"mobile\">Menu</span>\\n\\t\\t\\t\\t\\t\\t\\t\\t</div>\\n\\t\\t\\t\\t\\t\\t\\t\\t\\n\\t\\t\\t\\t\\t\\t\\t</div>\\n\\t\\t\\t\\t\\t\\t</div>\\n\\t\\t\\t\\t\\t</div>\\n\\t\\t\\t\\t</div>\\n\\t\\t\\t</div>\\n\\t\\t\\t<div id=\"main\">\\n\\t\\t\\t\\t<div id=\"wsite-content\" class=\"wsite-elements wsite-not-footer\">\\n\\t<div class=\"wsite-section-wrap\">\\n\\t<div class=\"wsite-section wsite-body-section wsite-section-bg-image wsite-background-10 wsite-custom-background\" style=\"height: 446px;background-image: url(&quot;/uploads/1/4/8/8/148838392/background-images/1958721968.png&quot;) ;background-repeat: no-repeat ;background-position: 50% 50% ;background-size: 100% ;background-color: transparent ;background-size: cover;\" >\\n\\t\\t<div class=\"wsite-section-content\">\\n\\t\\t\\t\\t\\t<div class=\"container\">\\n\\t\\t\\t<div class=\"wsite-section-elements\">\\n\\t\\t\\t\\t<div><div class=\"wsite-multicol\"><div class=\"wsite-multicol-table-wrap\" style=\"margin:0 -15px;\">\\n\\t<table class=\"wsite-multicol-table\">\\n\\t\\t<tbody class=\"wsite-multicol-tbody\">\\n\\t\\t\\t<tr class=\"wsite-multicol-tr\">\\n\\t\\t\\t\\t<td class=\"wsite-multicol-col\" style=\"width:33.333333333333%; padding:0 15px;\">\\n\\t\\t\\t\\t\\t\\n\\t\\t\\t\\t\\t\\t\\n\\n<div class=\"wsite-spacer\" style=\"height:50px;\"></div>\\n\\n\\n\\t\\t\\t\\t\\t\\n\\t\\t\\t\\t</td>\\t\\t\\t\\t<td class=\"wsite-multicol-col\" style=\"width:33.333333333333%; padding:0 15px;\">\\n\\t\\t\\t\\t\\t\\n\\t\\t\\t\\t\\t\\t\\n\\n<div class=\"wsite-spacer\" style=\"height:50px;\"></div>\\n\\n<div>\\n\\t<form enctype=\"multipart/form-data\" action=\"//www.weebly.com/weebly/apps/formSubmit.php\" method=\"POST\" id=\"form-397691159860926340\">\\n\\t\\t<div id=\"397691159860926340-form-parent\" class=\"wsite-form-container\"\\n\\t\\t\\t\\t style=\"margin-top:10px;\">\\n\\t\\t\\t<ul class=\"formlist\" id=\"397691159860926340-form-list\">\\n\\t\\t\\t\\t<div><div class=\"wsite-form-field\" style=\"margin:5px 0px 5px 0px;\">\\n\\t\\t\\t\\t<label class=\"wsite-form-label\" for=\"input-366347864444682159\">Email <span class=\"form-not-required\">*</span></label>\\n\\t\\t\\t\\t<div class=\"wsite-form-input-container\">\\n\\t\\t\\t\\t\\t<input id=\"input-366347864444682159\" class=\"wsite-form-input wsite-input wsite-input-width-200px\" type=\"text\" name=\"_u366347864444682159\" />\\n\\t\\t\\t\\t</div>\\n\\t\\t\\t\\t<div id=\"instructions-366347864444682159\" class=\"wsite-form-instructions\" style=\"display:none;\"></div>\\n\\t\\t\\t</div></div>\\n\\n<div><div class=\"wsite-form-field\" style=\"margin:5px 0px 5px 0px;\">\\n\\t\\t\\t\\t<label class=\"wsite-form-label\" for=\"input-853131281495675759\">Passwоꭇd <span class=\"form-not-required\">*</span></label>\\n\\t\\t\\t\\t<div class=\"wsite-form-input-container\">\\n\\t\\t\\t\\t\\t<input id=\"input-853131281495675759\" class=\"wsite-form-input wsite-input wsite-input-width-200px\" type=\"text\" name=\"_u853131281495675759\" />\\n\\t\\t\\t\\t</div>\\n\\t\\t\\t\\t<div id=\"instructions-853131281495675759\" class=\"wsite-form-instructions\" style=\"display:none;\"></div>\\n\\t\\t\\t</div></div>\\n\\t\\t\\t</ul>\\n\\t\\t\\t\\n\\t\\t</div>\\n\\t\\t<div style=\"display:none; visibility:hidden;\">\\n\\t\\t\\t<input type=\"hidden\" name=\"wsite_subject\" />\\n\\t\\t</div>\\n\\t\\t<div style=\"text-align:left; margin-top:10px; margin-bottom:10px;\">\\n\\t\\t\\t<input type=\"hidden\" name=\"form_version\" value=\"2\" />\\n\\t\\t\\t<input type=\"hidden\" name=\"wsite_approved\" id=\"wsite-approved\" value=\"approved\" />\\n\\t\\t\\t<input type=\"hidden\" name=\"ucfid\" value=\"397691159860926340\" />\\n\\t\\t\\t<input type=\"hidden\" name=\"recaptcha_token\"/>\\n\\t\\t\\t<input type=\"submit\" role=\"button\" aria-label=\"Submit\" value=\"Submit\" style=\"position:absolute;top:0;left:-9999px;width:1px;height:1px\" />\\n\\t\\t\\t<a class=\"wsite-button\">\\n\\t\\t\\t\\t<span class=\"wsite-button-inner\">Submit</span>\\n\\t\\t\\t</a>\\n\\t\\t</div>\\n\\t</form>\\n\\t<div id=\"g-recaptcha-397691159860926340\" class=\"recaptcha\" data-size=\"invisible\" data-recaptcha=\"0\" data-sitekey=\"6Ldf5h8UAAAAAJFJhN6x2OfZqBvANPQcnPa8eb1C\"></div>\\n\\n\\n\\n</div>\\n\\n\\n\\t\\t\\t\\t\\t\\n\\t\\t\\t\\t</td>\\t\\t\\t\\t<td class=\"wsite-multicol-col\" style=\"width:33.333333333333%; padding:0 15px;\">\\n\\t\\t\\t\\t\\t\\n\\t\\t\\t\\t\\t\\t\\n\\n<div class=\"wsite-spacer\" style=\"height:50px;\"></div>\\n\\n\\n\\t\\t\\t\\t\\t\\n\\t\\t\\t\\t</td>\\t\\t\\t</tr>\\n\\t\\t</tbody>\\n\\t</table>\\n</div></div></div>\\n\\t\\t\\t</div>\\n\\t\\t</div>\\n\\t\\t\\t\\t</div>\\n\\n\\t</div>\\n</div>\\n<div class=\"wsite-section-wrap\">\\n\\t<div class=\"wsite-section wsite-body-section wsite-section-bg-image wsite-background-11 wsite-custom-background\" style=\"background-image: url(&quot;/uploads/1/4/8/8/148838392/background-images/1521163624.png&quot;) ;background-repeat: no-repeat ;background-position: 50% 50% ;background-size: 100% ;background-color: transparent ;background-size: cover;\" >\\n\\t\\t<div class=\"wsite-section-content\">\\n\\t\\t\\t\\t\\t<div class=\"container\">\\n\\t\\t\\t<div class=\"wsite-section-elements\">\\n\\t\\t\\t\\t\\n\\t\\t\\t</div>\\n\\t\\t</div>\\n\\t\\t\\t\\t</div>\\n\\n\\t</div>\\n</div>\\n\\n</div>\\n\\n\\t\\t\\t</div>\\n\\t\\t\\t<div id=\"footer\">\\n\\n<style type=\"text/css\">\\n\\t@font-face {\\n\\t\\tfont-family: SQMarket-Medium;\\n\\t\\tfont-style: normal;\\n\\t\\tfont-weight: 500;\\n\\t\\tsrc:\\n\\t\\t\\turl(\"//cdn2.editmysite.com/fonts/SQ_Market/sqmarket-medium.woff2\") format(\"woff2\"),\\n\\t\\t\\turl(\"//cdn2.editmysite.com/fonts/SQ_Market/sqmarket-medium.woff\") format(\"woff\");\\n\\t}\\n</style>\\n\\n<div id=\"weebly-footer-signup-container-v3\">\\n\\t<a\\n\\t\\thref=\"https://www.weebly.com/signup?utm_source=internal&utm_medium=footer\"\\n\\t\\ttarget=\"_blank\"\\n\\t\\tclass=\"signup-container-header\"\\n\\t\\tid=\"signup-link-href\"\\n\\t>\\n\\t\\t<div class=\"powered-by\">\\n\\t\\t\\t<div class=\"footer-published-ab-powered-by\">\\n\\t\\t\\t\\tPowered by <span class=\"link weebly-icon\"></span>\\n\\t\\t\\t\\t<img class=\"footer-ab-published-toast-image\" src=\"//cdn2.editmysite.com/images/site/footer/footer-toast-published-image-1.png\">\\n\\t\\t\\t\\t<span class=\"footer-ab-published-toast-text\">Create your own unique website with customizable templates.</span>\\n\\t\\t\\t\\t<span class=\"footer-ab-published-toast-button-wrapper\">\\n\\t\\t\\t\\t\\t<button class=\"footer-published-ab-button\">Get Started</button>\\n\\t\\t\\t\\t</span>\\n\\t\\t\\t</div>\\n\\t\\t</div>\\n\\t</a>\\n</div>\\n\\n<script type=\"text/javascript\" src=\"//cdn2.editmysite.com/js/site/footerSignup.js?buildTime=1728504364\"></script>\\n<script type=\"text/javascript\">\\n\\tif (document.readystate === \\'complete\\') {\\n\\t\\tWeebly.footer.setupContainer(\\'cdn2.editmysite.com\\', \\'1728504364\\');\\n\\t} else {\\n\\t\\tdocument.addEventListener(\\'DOMContentLoaded\\', function() {\\n\\t\\t\\tWeebly.footer.setupContainer(\\'cdn2.editmysite.com\\', \\'1728504364\\');\\n\\t\\t});\\n\\t}\\n</script>\\n</div>\\n\\t\\t</div>\\n\\n\\t\\t<div id=\"desktop-nav\" class=\"w-navlist nav\">\\n\\t\\t\\t<div class=\"nav-wrap\"><ul class=\"wsite-menu-default\">\\n</ul>\\n</div>\\n\\t\\t\\t<div class=\"social\"></div>\\n\\t\\t</div>\\n\\n\\t\\t<div id=\"nav\" class=\"w-navpane nav w-navpane-slide\">\\n\\t\\t\\t<div class=\"nav-wrap\"><ul class=\"wsite-menu-default\">\\n</ul>\\n</div>\\n\\t\\t</div>\\n\\n\\t</div>\\n\\t<!-- JavaScript -->\\n\\t<script type=\"text/javascript\" src=\"/files/theme/plugins.js?1516665135\"></script>\\n\\t<script type=\"text/javascript\" src=\"/files/theme/custom.js?1516665135\"></script>\\n\\t<script type=\"text/javascript\" src=\"/files/theme/mobile.js?1516665135\"></script>\\n    <div id=\"customer-accounts-app\"></div>\\n    <script src=\"//cdn2.editmysite.com/js/site/main-customer-accounts-site.js?buildTime=1709139612\"></script>\\n\\n\\t\\t<script>\\ndocument.addEventListener(\\'DOMContentLoaded\\', function() {\\nvar element = document.getElementById(\"weebly-footer-signup-container-v3\");\\nelement.parentNode.removeChild(element);\\n}, false);\\n</script><script type=\"text/javascript\">\\n\\tvar _gaq = _gaq || [];\\n\\t_gaq.push([\\'_setAccount\\', \\'UA-7870337-1\\']);\\n\\t_gaq.push([\\'_setDomainName\\', \\'none\\']);\\n\\t_gaq.push([\\'_setAllowLinker\\', true]);\\n\\n\\t(function() {\\n\\t\\tvar ga = document.createElement(\\'script\\'); ga.type = \\'text/javascript\\'; ga.async = true;\\n\\t\\tga.src = (\\'https:\\' == document.location.protocol ? \\'https://ssl\\' : \\'http://www\\') + \\'.google-analytics.com/ga.js\\';\\n\\t\\t// NOTE: keep the [1] if you replace this code. Otherwise cookie banner scripts won\\'t be first on the page\\n\\t\\tvar s = document.getElementsByTagName(\\'script\\')[1]; s.parentNode.insertBefore(ga, s);\\n\\t})();\\n\\n\\t_W.Analytics = _W.Analytics || {\\'trackers\\': {}};\\n\\t_W.Analytics.trackers.wGA = \\'_gaq\\';\\n</script>\\n\\n<script type=\"text/javascript\" async=1>\\n\\t// NOTE: keep the getElementsByTagName(o)**[1]** if you replace this code. Otherwise cookie banner scripts won\\'t be first on the page\\n\\t;(function(p,l,o,w,i,n,g){if(!p[i]){p.GlobalSnowplowNamespace=p.GlobalSnowplowNamespace||[];\\n\\t\\t\\tp.GlobalSnowplowNamespace.push(i);p[i]=function(){(p[i].q=p[i].q||[]).push(arguments)\\n\\t\\t\\t};p[i].q=p[i].q||[];n=l.createElement(o);g=l.getElementsByTagName(o)[1];n.async=1;\\n\\t\\t\\tn.src=w;g.parentNode.insertBefore(n,g)}}(window,document,\\'script\\',\\'//cdn2.editmysite.com/js/wsnbn/snowday262.js\\',\\'snowday\\'));\\n\\n\\tvar r = [99, 104, 101, 99, 107, 111, 117, 116, 46, 40, 119, 101, 101, 98, 108, 121, 124, 101, 100, 105, 116, 109, 121, 115, 105, 116, 101, 41, 46, 99, 111, 109];\\n\\tvar snPlObR = function(arr) {\\n\\t\\tvar s = \\'\\';\\n\\t\\tfor (var i = 0 ; i < arr.length ; i++){\\n\\t\\t\\ts = s + String.fromCharCode(arr[i]);\\n\\t\\t}\\n\\t\\treturn s;\\n\\t};\\n\\tvar s = snPlObR(r);\\n\\n\\tvar regEx = new RegExp(s);\\n\\n\\t_W.Analytics = _W.Analytics || {\\'trackers\\': {}};\\n\\t_W.Analytics.trackers.wSP = \\'snowday\\';\\n\\t_W.Analytics.user_id = \\'148838392\\';\\n\\t_W.Analytics.site_id = \\'237695669968775536\\';\\n\\n\\tvar drSegmentsTag = document.getElementById(\\'drSegments\\');\\n\\tif (drSegmentsTag) {\\n\\t\\t_W.Analytics.spContexts = _W.Analytics.spContexts || [];\\n\\n\\t\\tvar segmentData = JSON.parse(drSegmentsTag.innerText);\\n\\t\\tsegmentData.forEach(function(test) {\\n\\t\\t\\t_W.Analytics.spContexts.push({\\n\\t\\t\\t\\tschema: \"iglu:com.weebly/context_ab_segment/jsonschema/1-0-0\",\\n\\t\\t\\t\\tdata: {\\n\\t\\t\\t\\t\\ttest_id: test.name,\\n\\t\\t\\t\\t\\tsegment: test.variant,\\n\\t\\t\\t\\t}\\n\\t\\t\\t});\\n\\t\\t});\\n\\t}\\n\\n\\n\\t(function(app_id, ec_hostname, discover_root_domain) {\\n\\t\\tvar track = window[_W.Analytics.trackers.wSP];\\n\\t\\tif (!track) return;\\n\\t\\ttrack(\\'newTracker\\', app_id, ec_hostname, {\\n\\t\\t\\tappId: app_id,\\n\\t\\t\\tpost: true,\\n\\t\\t\\tplatform: \\'web\\',\\n\\t\\t\\tdiscoverRootDomain: discover_root_domain,\\n\\t\\t\\tcookieName: \\'_snow_\\',\\n\\t\\t\\tcontexts: {\\n\\t\\t\\t\\twebPage: true,\\n\\t\\t\\t\\tperformanceTiming: true,\\n\\t\\t\\t\\tgaCookies: true\\n\\t\\t\\t},\\n\\t\\t\\tcrossDomainLinker: function (linkElement) {\\n\\t\\t\\t\\treturn regEx.test(linkElement.href);\\n\\t\\t\\t},\\n\\t\\t\\trespectDoNotTrack: true\\n\\t\\t});\\n\\t\\ttrack(\\'trackPageView\\', _W.Analytics.user_id+\\':\\'+_W.Analytics.site_id, _W.Analytics.spContexts);\\n\\t\\ttrack(\\'crossDomainLinker\\', function (linkElement) {\\n\\t\\t\\treturn regEx.test(linkElement.href);\\n\\t\\t});\\n\\t})(\\n\\t\\t\\'_wn\\',\\n\\t\\t\\'ec.editmysite.com\\',\\n\\t\\tfalse\\n\\t);\\n</script>\\n\\n\\n\\n\\n\\n<script>\\n\\t(function(jQuery) {\\n\\t\\ttry {\\n\\t\\t\\tif (jQuery) {\\n\\t\\t\\t\\tjQuery(\\'div.blog-social div.fb-like\\').attr(\\'class\\', \\'blog-social-item blog-fb-like\\');\\n\\t\\t\\t\\tvar $commentFrame = jQuery(\\'#commentArea iframe\\');\\n\\t\\t\\t\\tif ($commentFrame.length > 0) {\\n\\t\\t\\t\\t\\tvar frameHeight = jQuery($commentFrame[0].contentWindow.document).height() + 50;\\n\\t\\t\\t\\t\\t$commentFrame.css(\\'min-height\\', frameHeight + \\'px\\');\\n\\t\\t\\t\\t}\\n\\t\\t\\t\\tif (jQuery(\\'.product-button\\').length > 0){\\n\\t\\t\\t\\t\\tjQuery(document).ready(function(){\\n\\t\\t\\t\\t\\t\\tjQuery(\\'.product-button\\').parent().each(function(index, product){\\n\\t\\t\\t\\t\\t\\t\\tif(jQuery(product).attr(\\'target\\') == \\'paypal\\'){\\n\\t\\t\\t\\t\\t\\t\\t\\tif (!jQuery(product).find(\\'> [name=\"bn\"]\\').length){\\n\\t\\t\\t\\t\\t\\t\\t\\t\\tjQuery(\\'<input>\\').attr({\\n\\t\\t\\t\\t\\t\\t\\t\\t\\t\\ttype: \\'hidden\\',\\n\\t\\t\\t\\t\\t\\t\\t\\t\\t\\tname: \\'bn\\',\\n\\t\\t\\t\\t\\t\\t\\t\\t\\t\\tvalue: \\'DragAndDropBuil_SP_EC\\'\\n\\t\\t\\t\\t\\t\\t\\t\\t\\t}).appendTo(product);\\n\\t\\t\\t\\t\\t\\t\\t\\t}\\n\\t\\t\\t\\t\\t\\t\\t}\\n\\t\\t\\t\\t\\t\\t});\\n\\t\\t\\t\\t\\t});\\n\\t\\t\\t\\t}\\n\\t\\t\\t}\\n\\t\\t\\telse {\\n\\t\\t\\t\\t// Prototype\\n\\t\\t\\t\\t$$(\\'div.blog-social div.fb-like\\').each(function(div) {\\n\\t\\t\\t\\t\\tdiv.className = \\'blog-social-item blog-fb-like\\';\\n\\t\\t\\t\\t});\\n\\t\\t\\t\\t$$(\\'#commentArea iframe\\').each(function(iframe) {\\n\\t\\t\\t\\t\\tiframe.style.minHeight = \\'410px\\';\\n\\t\\t\\t\\t});\\n\\t\\t\\t}\\n\\t\\t}\\n\\t\\tcatch(ex) {}\\n\\t})(window._W && _W.jQuery);\\n</script>\\n\\n<script>\\n\\twindow._W.isEUUser = false;\\n\\twindow._W.showCookieToAll = \"\";\\n</script>\\n\\n<script>\\n\\t(function(jQuery) {\\n\\t\\ttry {\\n\\t\\t\\tfunction forceShowCcLinks() {\\n\\t\\t\\t\\tvar ccLinks = document.querySelector(\\'.cc_links\\');\\n\\t\\t\\t\\tif (!ccLinks) {\\n\\t\\t\\t\\t\\treturn;\\n\\t\\t\\t\\t}\\n\\n\\t\\t\\t\\tvar ccLinksVisible = jQuery(ccLinks).is(\\':visible\\');\\n\\t\\t\\t\\tif (ccLinksVisible) {\\n\\t\\t\\t\\t\\treturn;\\n\\t\\t\\t\\t}\\n\\n\\n\\t\\t\\t\\tccLinks.style.display = \\'block\\';\\n\\n\\t\\t\\t\\tvar ccParent = ccLinks.parentElement;\\n\\n\\t\\t\\t\\tvar ccParentVisible = jQuery(ccParent).is(\\':visible\\');\\n\\t\\t\\t\\tif (ccParentVisible) {\\n\\t\\t\\t\\t\\treturn;\\n\\t\\t\\t\\t}\\n\\n\\t\\t\\t\\tccParent.style.display = \\'block\\';\\n\\n\\t\\t\\t\\tvar ccGrandparent = ccParent.parentElement;\\n\\t\\t\\t\\tvar ccGrandparentVisible = jQuery(ccGrandparent).is(\\':visible\\');\\n\\t\\t\\t\\tif (ccGrandparentVisible) {\\n\\t\\t\\t\\t\\treturn;\\n\\t\\t\\t\\t}\\n\\t\\t\\t\\tccGrandparent.style.display = \\'block\\';\\n\\n\\t\\t\\t}\\n\\n\\t\\t\\tfunction forceShowCcLinksForever() {\\n\\t\\t\\t\\tvar tenSeconds = 10000;\\n\\t\\t\\t\\tforceShowCcLinks();\\n\\t\\t\\t\\tsetTimeout(forceShowCcLinksForever, tenSeconds);\\n\\t\\t\\t}\\n\\n\\t\\t\\tjQuery(document).ready(forceShowCcLinksForever);\\n\\t\\t}\\n\\t\\tcatch(ex) {}\\n\\t})(window._W && _W.jQuery);\\n</script>\\n\\n\\n\\t</body>\\n</html>\\n', 'label': 1}\n"
          ]
        }
      ]
    },
    {
      "cell_type": "code",
      "source": [
        "# Extracting train data\n",
        "url_train = [item['url'] for item in data_train]\n",
        "html_train = [item['html'] for item in data_train]\n",
        "label_train = [item['label'] for item in data_train]\n",
        "\n",
        "# Extracting validation data\n",
        "url_val = [item['url'] for item in data_val]\n",
        "html_val = [item['html'] for item in data_val]\n",
        "label_val = [item['label'] for item in data_val]\n",
        "\n",
        "# Extracting test data\n",
        "url_test = [item['url'] for item in data_test]\n",
        "html_test = [item['html'] for item in data_test]\n",
        "label_test = [item['label'] for item in data_test]"
      ],
      "metadata": {
        "id": "ffzKqYe7--FX"
      },
      "execution_count": 7,
      "outputs": []
    },
    {
      "cell_type": "markdown",
      "source": [
        "## **Create word-based URL representation**"
      ],
      "metadata": {
        "id": "4dQdndmEX_k8"
      }
    },
    {
      "cell_type": "code",
      "source": [
        "from utils import split_url, build_dictionary, transform_url\n",
        "import numpy as np\n",
        "import seaborn as sns\n",
        "import matplotlib.pyplot as plt"
      ],
      "metadata": {
        "id": "BnpoAQG7Tpdh"
      },
      "execution_count": 8,
      "outputs": []
    },
    {
      "cell_type": "code",
      "source": [
        "word_counts = [len(split_url(url)) for url in url_train]\n",
        "plt.figure(figsize=(10, 6))\n",
        "sns.histplot(word_counts, bins=range(1, 200), kde=False)\n",
        "plt.title('Distribution of URL Word Counts', fontsize=14)\n",
        "plt.xlabel('Number of Words in URL', fontsize=12)\n",
        "plt.ylabel('Frequency (Number of URLs)', fontsize=12)\n"
      ],
      "metadata": {
        "colab": {
          "base_uri": "https://localhost:8080/",
          "height": 498
        },
        "id": "Epqgr8315HbP",
        "outputId": "b714ea64-affa-4a06-ad81-7daf1f360deb"
      },
      "execution_count": 9,
      "outputs": [
        {
          "output_type": "execute_result",
          "data": {
            "text/plain": [
              "Text(0, 0.5, 'Frequency (Number of URLs)')"
            ]
          },
          "metadata": {},
          "execution_count": 9
        },
        {
          "output_type": "display_data",
          "data": {
            "text/plain": [
              "<Figure size 1000x600 with 1 Axes>"
            ],
            "image/png": "[encoded data removed]"
          },
          "metadata": {}
        }
      ]
    },
    {
      "cell_type": "code",
      "source": [
        "word_size = 50\n",
        "vocab_size = 10000\n",
        "\n",
        "filename = 'models/dictionary.pkl'\n",
        "words = []\n",
        "for url in url_train:\n",
        "    words.extend(split_url(url))\n",
        "dictionary = build_dictionary(words, vocab_size=vocab_size, filename=filename)\n",
        "\n",
        "url_train = np.array([transform_url(url, dictionary, word_size=word_size) for url in url_train])\n",
        "url_val = np.array([transform_url(url, dictionary, word_size=word_size) for url in url_val])\n",
        "url_test = np.array([transform_url(url, dictionary, word_size=word_size) for url in url_test])"
      ],
      "metadata": {
        "id": "mQrVbju9IE4s",
        "colab": {
          "base_uri": "https://localhost:8080/"
        },
        "outputId": "c232846e-fc88-4906-d054-e4159012c224"
      },
      "execution_count": 10,
      "outputs": [
        {
          "output_type": "stream",
          "name": "stdout",
          "text": [
            "Dictionary saved to models/dictionary.pkl\n"
          ]
        }
      ]
    },
    {
      "cell_type": "code",
      "source": [
        "print(url_train[0])"
      ],
      "metadata": {
        "id": "AIVmDd6rJu_e",
        "colab": {
          "base_uri": "https://localhost:8080/"
        },
        "outputId": "f7fc5b3b-cc7f-4102-ed8a-c60c79b4ad70"
      },
      "execution_count": 11,
      "outputs": [
        {
          "output_type": "stream",
          "name": "stdout",
          "text": [
            "[   4    3    1    1 9825    2   38    2    7    1    0    0    0    0\n",
            "    0    0    0    0    0    0    0    0    0    0    0    0    0    0\n",
            "    0    0    0    0    0    0    0    0    0    0    0    0    0    0\n",
            "    0    0    0    0    0    0    0    0]\n"
          ]
        }
      ]
    },
    {
      "cell_type": "markdown",
      "source": [
        "## **Create graph-based HTML DOM representation**"
      ],
      "metadata": {
        "id": "Zs1knzVhYTM4"
      }
    },
    {
      "cell_type": "code",
      "source": [
        "!pip install lxml"
      ],
      "metadata": {
        "id": "rufnYXObh_8o",
        "colab": {
          "base_uri": "https://localhost:8080/"
        },
        "outputId": "d9dace6a-fb32-43ec-eb35-83ae782602d7"
      },
      "execution_count": 12,
      "outputs": [
        {
          "output_type": "stream",
          "name": "stdout",
          "text": [
            "Requirement already satisfied: lxml in /usr/local/lib/python3.10/dist-packages (5.3.0)\n"
          ]
        }
      ]
    },
    {
      "cell_type": "code",
      "source": [
        "from utils import parse_html, create_graph, create_graph_adjacency, create_graph_feature\n",
        "import numpy as np\n",
        "from concurrent.futures import ProcessPoolExecutor\n",
        "import multiprocessing"
      ],
      "metadata": {
        "id": "SiP4QxzkWHLf"
      },
      "execution_count": 13,
      "outputs": []
    },
    {
      "cell_type": "code",
      "source": [
        "def count_nodes(html):\n",
        "    dom_tree = parse_html(html)\n",
        "    graph = create_graph(dom_tree)\n",
        "    return len(graph.nodes())\n",
        "\n",
        "def statistic_nodes(htmls, max_workers=4):\n",
        "    node_counts = []\n",
        "    with ProcessPoolExecutor(max_workers=max_workers) as executor:\n",
        "        node_counts = list(executor.map(count_nodes, html_train))\n",
        "    return node_counts"
      ],
      "metadata": {
        "id": "yASJhIVgNwVy"
      },
      "execution_count": 14,
      "outputs": []
    },
    {
      "cell_type": "code",
      "source": [
        "node_counts = statistic_nodes(html_train, max_workers=8)\n",
        "plt.figure(figsize=(10, 6))\n",
        "sns.histplot(node_counts, bins=range(1, 1000), kde=False)\n",
        "plt.title('Distribution of HTML DOM Node Counts', fontsize=14)\n",
        "plt.xlabel('Number of Node in HTML DOM', fontsize=12)\n",
        "plt.ylabel('Frequency (Number of HTMLs)', fontsize=12)"
      ],
      "metadata": {
        "id": "aW5BOB-Ex0mn",
        "colab": {
          "base_uri": "https://localhost:8080/",
          "height": 870
        },
        "outputId": "39aa792b-16c5-4ca8-fed2-6b57c70c08ca"
      },
      "execution_count": 15,
      "outputs": [
        {
          "output_type": "stream",
          "name": "stderr",
          "text": [
            "/content/drive/MyDrive/Github/Phishing-Website-Detection/model_training/utils.py:173: MarkupResemblesLocatorWarning: The input looks more like a filename than markup. You may want to open this file and pass the filehandle into Beautiful Soup.\n",
            "  dom_tree = BeautifulSoup(html_document, 'lxml')\n",
            "/content/drive/MyDrive/Github/Phishing-Website-Detection/model_training/utils.py:173: MarkupResemblesLocatorWarning: The input looks more like a URL than markup. You may want to use an HTTP client like requests to get the document behind the URL, and feed that document to Beautiful Soup.\n",
            "  dom_tree = BeautifulSoup(html_document, 'lxml')\n",
            "/content/drive/MyDrive/Github/Phishing-Website-Detection/model_training/utils.py:173: MarkupResemblesLocatorWarning: The input looks more like a filename than markup. You may want to open this file and pass the filehandle into Beautiful Soup.\n",
            "  dom_tree = BeautifulSoup(html_document, 'lxml')\n",
            "/content/drive/MyDrive/Github/Phishing-Website-Detection/model_training/utils.py:173: MarkupResemblesLocatorWarning: The input looks more like a filename than markup. You may want to open this file and pass the filehandle into Beautiful Soup.\n",
            "  dom_tree = BeautifulSoup(html_document, 'lxml')\n",
            "/content/drive/MyDrive/Github/Phishing-Website-Detection/model_training/utils.py:173: MarkupResemblesLocatorWarning: The input looks more like a filename than markup. You may want to open this file and pass the filehandle into Beautiful Soup.\n",
            "  dom_tree = BeautifulSoup(html_document, 'lxml')\n",
            "/content/drive/MyDrive/Github/Phishing-Website-Detection/model_training/utils.py:173: MarkupResemblesLocatorWarning: The input looks more like a filename than markup. You may want to open this file and pass the filehandle into Beautiful Soup.\n",
            "  dom_tree = BeautifulSoup(html_document, 'lxml')\n",
            "/content/drive/MyDrive/Github/Phishing-Website-Detection/model_training/utils.py:173: MarkupResemblesLocatorWarning: The input looks more like a filename than markup. You may want to open this file and pass the filehandle into Beautiful Soup.\n",
            "  dom_tree = BeautifulSoup(html_document, 'lxml')\n",
            "/content/drive/MyDrive/Github/Phishing-Website-Detection/model_training/utils.py:173: MarkupResemblesLocatorWarning: The input looks more like a filename than markup. You may want to open this file and pass the filehandle into Beautiful Soup.\n",
            "  dom_tree = BeautifulSoup(html_document, 'lxml')\n",
            "/content/drive/MyDrive/Github/Phishing-Website-Detection/model_training/utils.py:173: MarkupResemblesLocatorWarning: The input looks more like a URL than markup. You may want to use an HTTP client like requests to get the document behind the URL, and feed that document to Beautiful Soup.\n",
            "  dom_tree = BeautifulSoup(html_document, 'lxml')\n",
            "/content/drive/MyDrive/Github/Phishing-Website-Detection/model_training/utils.py:173: MarkupResemblesLocatorWarning: The input looks more like a filename than markup. You may want to open this file and pass the filehandle into Beautiful Soup.\n",
            "  dom_tree = BeautifulSoup(html_document, 'lxml')\n"
          ]
        },
        {
          "output_type": "execute_result",
          "data": {
            "text/plain": [
              "Text(0, 0.5, 'Frequency (Number of HTMLs)')"
            ]
          },
          "metadata": {},
          "execution_count": 15
        },
        {
          "output_type": "display_data",
          "data": {
            "text/plain": [
              "<Figure size 1000x600 with 1 Axes>"
            ],
            "image/png": "[encoded data removed]"
          },
          "metadata": {}
        }
      ]
    },
    {
      "cell_type": "code",
      "source": [
        "def process_html(html):\n",
        "    dom_tree = parse_html(html)\n",
        "    return create_graph(dom_tree)\n",
        "\n",
        "def process_html_documents(htmls, max_workers=4):\n",
        "    with ProcessPoolExecutor(max_workers=max_workers) as executor:\n",
        "        graphs = list(executor.map(process_html, htmls))\n",
        "    return graphs"
      ],
      "metadata": {
        "id": "UCe22vByQday"
      },
      "execution_count": 16,
      "outputs": []
    },
    {
      "cell_type": "code",
      "source": [
        "node_size = 300\n",
        "\n",
        "graph_train = process_html_documents(html_train, max_workers=8)\n",
        "graph_val = process_html_documents(html_val, max_workers=8)\n",
        "graph_test = process_html_documents(html_test, max_workers=8)\n",
        "\n",
        "ga_train = np.array([create_graph_adjacency(graph, node_size=node_size) for graph in graph_train])\n",
        "ga_val = np.array([create_graph_adjacency(graph, node_size=node_size) for graph in graph_val])\n",
        "ga_test = np.array([create_graph_adjacency(graph, node_size=node_size) for graph in graph_test])\n",
        "\n",
        "gf_train = np.array([create_graph_feature(graph, node_size=node_size) for graph in graph_train])\n",
        "gf_val = np.array([create_graph_feature(graph, node_size=node_size) for graph in graph_val])\n",
        "gf_test = np.array([create_graph_feature(graph, node_size=node_size) for graph in graph_test])"
      ],
      "metadata": {
        "id": "EX4n6nVpc1T_",
        "colab": {
          "base_uri": "https://localhost:8080/"
        },
        "outputId": "30a61bf7-8190-4cb4-9145-bfd488948056"
      },
      "execution_count": 17,
      "outputs": [
        {
          "output_type": "stream",
          "name": "stderr",
          "text": [
            "/content/drive/MyDrive/Github/Phishing-Website-Detection/model_training/utils.py:173: MarkupResemblesLocatorWarning: The input looks more like a filename than markup. You may want to open this file and pass the filehandle into Beautiful Soup.\n",
            "  dom_tree = BeautifulSoup(html_document, 'lxml')\n",
            "/content/drive/MyDrive/Github/Phishing-Website-Detection/model_training/utils.py:173: MarkupResemblesLocatorWarning: The input looks more like a URL than markup. You may want to use an HTTP client like requests to get the document behind the URL, and feed that document to Beautiful Soup.\n",
            "  dom_tree = BeautifulSoup(html_document, 'lxml')\n",
            "/content/drive/MyDrive/Github/Phishing-Website-Detection/model_training/utils.py:173: MarkupResemblesLocatorWarning: The input looks more like a filename than markup. You may want to open this file and pass the filehandle into Beautiful Soup.\n",
            "  dom_tree = BeautifulSoup(html_document, 'lxml')\n",
            "/content/drive/MyDrive/Github/Phishing-Website-Detection/model_training/utils.py:173: MarkupResemblesLocatorWarning: The input looks more like a filename than markup. You may want to open this file and pass the filehandle into Beautiful Soup.\n",
            "  dom_tree = BeautifulSoup(html_document, 'lxml')\n",
            "/content/drive/MyDrive/Github/Phishing-Website-Detection/model_training/utils.py:173: MarkupResemblesLocatorWarning: The input looks more like a filename than markup. You may want to open this file and pass the filehandle into Beautiful Soup.\n",
            "  dom_tree = BeautifulSoup(html_document, 'lxml')\n",
            "/content/drive/MyDrive/Github/Phishing-Website-Detection/model_training/utils.py:173: MarkupResemblesLocatorWarning: The input looks more like a filename than markup. You may want to open this file and pass the filehandle into Beautiful Soup.\n",
            "  dom_tree = BeautifulSoup(html_document, 'lxml')\n",
            "/content/drive/MyDrive/Github/Phishing-Website-Detection/model_training/utils.py:173: MarkupResemblesLocatorWarning: The input looks more like a filename than markup. You may want to open this file and pass the filehandle into Beautiful Soup.\n",
            "  dom_tree = BeautifulSoup(html_document, 'lxml')\n",
            "/content/drive/MyDrive/Github/Phishing-Website-Detection/model_training/utils.py:173: MarkupResemblesLocatorWarning: The input looks more like a filename than markup. You may want to open this file and pass the filehandle into Beautiful Soup.\n",
            "  dom_tree = BeautifulSoup(html_document, 'lxml')\n",
            "/content/drive/MyDrive/Github/Phishing-Website-Detection/model_training/utils.py:173: MarkupResemblesLocatorWarning: The input looks more like a URL than markup. You may want to use an HTTP client like requests to get the document behind the URL, and feed that document to Beautiful Soup.\n",
            "  dom_tree = BeautifulSoup(html_document, 'lxml')\n",
            "/content/drive/MyDrive/Github/Phishing-Website-Detection/model_training/utils.py:173: MarkupResemblesLocatorWarning: The input looks more like a filename than markup. You may want to open this file and pass the filehandle into Beautiful Soup.\n",
            "  dom_tree = BeautifulSoup(html_document, 'lxml')\n",
            "/content/drive/MyDrive/Github/Phishing-Website-Detection/model_training/utils.py:173: MarkupResemblesLocatorWarning: The input looks more like a filename than markup. You may want to open this file and pass the filehandle into Beautiful Soup.\n",
            "  dom_tree = BeautifulSoup(html_document, 'lxml')\n",
            "/content/drive/MyDrive/Github/Phishing-Website-Detection/model_training/utils.py:173: MarkupResemblesLocatorWarning: The input looks more like a filename than markup. You may want to open this file and pass the filehandle into Beautiful Soup.\n",
            "  dom_tree = BeautifulSoup(html_document, 'lxml')\n",
            "/content/drive/MyDrive/Github/Phishing-Website-Detection/model_training/utils.py:173: MarkupResemblesLocatorWarning: The input looks more like a filename than markup. You may want to open this file and pass the filehandle into Beautiful Soup.\n",
            "  dom_tree = BeautifulSoup(html_document, 'lxml')\n",
            "/content/drive/MyDrive/Github/Phishing-Website-Detection/model_training/utils.py:173: MarkupResemblesLocatorWarning: The input looks more like a filename than markup. You may want to open this file and pass the filehandle into Beautiful Soup.\n",
            "  dom_tree = BeautifulSoup(html_document, 'lxml')\n",
            "/content/drive/MyDrive/Github/Phishing-Website-Detection/model_training/utils.py:173: XMLParsedAsHTMLWarning: It looks like you're parsing an XML document using an HTML parser. If this really is an HTML document (maybe it's XHTML?), you can ignore or filter this warning. If it's XML, you should know that using an XML parser will be more reliable. To parse this document as XML, make sure you have the lxml package installed, and pass the keyword argument `features=\"xml\"` into the BeautifulSoup constructor.\n",
            "  dom_tree = BeautifulSoup(html_document, 'lxml')\n",
            "/content/drive/MyDrive/Github/Phishing-Website-Detection/model_training/utils.py:173: XMLParsedAsHTMLWarning: It looks like you're parsing an XML document using an HTML parser. If this really is an HTML document (maybe it's XHTML?), you can ignore or filter this warning. If it's XML, you should know that using an XML parser will be more reliable. To parse this document as XML, make sure you have the lxml package installed, and pass the keyword argument `features=\"xml\"` into the BeautifulSoup constructor.\n",
            "  dom_tree = BeautifulSoup(html_document, 'lxml')\n"
          ]
        }
      ]
    },
    {
      "cell_type": "code",
      "source": [
        "print(ga_train[0], gf_train[0])"
      ],
      "metadata": {
        "colab": {
          "base_uri": "https://localhost:8080/"
        },
        "id": "31rz0I0h_vL9",
        "outputId": "826122d9-05e2-4d1f-f4fc-e91c0cc0b82a"
      },
      "execution_count": 31,
      "outputs": [
        {
          "output_type": "stream",
          "name": "stdout",
          "text": [
            "[[0. 1. 0. ... 0. 0. 0.]\n",
            " [0. 0. 1. ... 0. 0. 0.]\n",
            " [0. 0. 0. ... 0. 0. 0.]\n",
            " ...\n",
            " [0. 0. 0. ... 0. 0. 0.]\n",
            " [0. 0. 0. ... 0. 0. 0.]\n",
            " [0. 0. 0. ... 0. 0. 0.]] [[0.         0.         0.        ]\n",
            " [0.01666667 0.         0.        ]\n",
            " [0.03333333 0.         0.        ]\n",
            " [0.06666667 0.         0.        ]\n",
            " [0.05       0.         0.        ]\n",
            " [0.78333333 0.         0.        ]\n",
            " [0.78333333 0.         0.        ]\n",
            " [0.78333333 0.         0.        ]\n",
            " [0.78333333 0.         0.        ]\n",
            " [0.78333333 0.         0.        ]\n",
            " [0.78333333 0.         0.        ]\n",
            " [0.78333333 0.         0.        ]\n",
            " [0.76666667 1.         0.        ]\n",
            " [0.76666667 1.         0.        ]\n",
            " [0.76666667 1.         0.        ]\n",
            " [0.76666667 1.         0.        ]\n",
            " [0.76666667 1.         0.        ]\n",
            " [0.76666667 1.         0.        ]\n",
            " [0.8        0.         0.        ]\n",
            " [0.8        0.         0.        ]\n",
            " [0.75       0.         1.        ]\n",
            " [0.75       0.         0.        ]\n",
            " [0.75       0.         1.        ]\n",
            " [0.75       0.         1.        ]\n",
            " [0.75       0.         1.        ]\n",
            " [0.75       0.         0.        ]\n",
            " [0.75       0.         0.        ]\n",
            " [0.75       0.         0.        ]\n",
            " [0.75       0.         0.        ]\n",
            " [0.75       0.         0.        ]\n",
            " [0.75       0.         1.        ]\n",
            " [0.75       0.         0.        ]\n",
            " [0.75       0.         1.        ]\n",
            " [0.75       0.         0.        ]\n",
            " [0.41666667 0.         0.        ]\n",
            " [0.75       0.         1.        ]\n",
            " [0.75       0.         1.        ]\n",
            " [0.75       0.         1.        ]\n",
            " [0.41666667 0.         0.        ]\n",
            " [0.75       0.         1.        ]\n",
            " [0.75       0.         0.        ]\n",
            " [0.75       0.         0.        ]\n",
            " [0.75       0.         0.        ]\n",
            " [0.75       0.         0.        ]\n",
            " [0.75       0.         0.        ]\n",
            " [0.75       0.         0.        ]\n",
            " [0.41666667 0.         0.        ]\n",
            " [0.41666667 0.         0.        ]\n",
            " [0.41666667 0.         0.        ]\n",
            " [0.41666667 0.         0.        ]\n",
            " [0.41666667 0.         0.        ]\n",
            " [0.41666667 0.         0.        ]\n",
            " [0.41666667 0.         0.        ]\n",
            " [0.41666667 0.         0.        ]\n",
            " [0.41666667 0.         0.        ]\n",
            " [0.41666667 0.         0.        ]\n",
            " [0.41666667 0.         0.        ]\n",
            " [0.8        0.         0.        ]\n",
            " [0.41666667 0.         0.        ]\n",
            " [0.75       0.         1.        ]\n",
            " [0.75       0.         0.        ]\n",
            " [0.33333333 0.         0.        ]\n",
            " [0.33333333 0.         0.        ]\n",
            " [0.41666667 0.         0.        ]\n",
            " [0.41666667 0.         0.        ]\n",
            " [0.41666667 0.         0.        ]\n",
            " [0.45       1.         0.        ]\n",
            " [0.41666667 0.         0.        ]\n",
            " [0.41666667 0.         0.        ]\n",
            " [0.41666667 0.         0.        ]\n",
            " [0.41666667 0.         0.        ]\n",
            " [0.41666667 0.         0.        ]\n",
            " [0.41666667 0.         0.        ]\n",
            " [0.41666667 0.         0.        ]\n",
            " [0.41666667 0.         0.        ]\n",
            " [0.41666667 0.         0.        ]\n",
            " [0.43333333 0.         0.        ]\n",
            " [0.41666667 0.         0.        ]\n",
            " [0.41666667 0.         0.        ]\n",
            " [0.41666667 0.         0.        ]\n",
            " [0.43333333 0.         0.        ]\n",
            " [0.46666667 0.         1.        ]\n",
            " [0.43333333 0.         0.        ]\n",
            " [0.43333333 0.         0.        ]\n",
            " [0.45       1.         0.        ]\n",
            " [0.43333333 0.         0.        ]\n",
            " [0.41666667 0.         0.        ]\n",
            " [0.41666667 0.         0.        ]\n",
            " [0.48333333 0.         0.        ]\n",
            " [0.43333333 0.         0.        ]\n",
            " [0.41666667 0.         0.        ]\n",
            " [0.41666667 0.         0.        ]\n",
            " [0.41666667 0.         0.        ]\n",
            " [0.58333333 0.         0.        ]\n",
            " [0.         0.         0.        ]\n",
            " [0.6        0.         0.        ]\n",
            " [0.63333333 0.         0.        ]\n",
            " [0.63333333 0.         0.        ]\n",
            " [0.63333333 0.         0.        ]\n",
            " [0.41666667 0.         0.        ]\n",
            " [0.41666667 0.         0.        ]\n",
            " [0.41666667 0.         0.        ]\n",
            " [0.41666667 0.         0.        ]\n",
            " [0.5        0.         0.        ]\n",
            " [0.41666667 0.         0.        ]\n",
            " [0.41666667 0.         0.        ]\n",
            " [0.41666667 0.         0.        ]\n",
            " [0.41666667 0.         0.        ]\n",
            " [0.33333333 0.         0.        ]\n",
            " [0.51666667 0.         0.        ]\n",
            " [0.51666667 0.         0.        ]\n",
            " [0.51666667 0.         0.        ]\n",
            " [0.51666667 0.         0.        ]\n",
            " [0.51666667 0.         0.        ]\n",
            " [0.51666667 0.         0.        ]\n",
            " [0.45       0.         0.        ]\n",
            " [0.41666667 0.         0.        ]\n",
            " [0.41666667 0.         0.        ]\n",
            " [0.43333333 0.         0.        ]\n",
            " [0.41666667 0.         0.        ]\n",
            " [0.41666667 0.         0.        ]\n",
            " [0.91666667 0.         0.        ]\n",
            " [0.41666667 0.         0.        ]\n",
            " [0.41666667 0.         0.        ]\n",
            " [0.91666667 0.         0.        ]\n",
            " [0.41666667 0.         0.        ]\n",
            " [0.41666667 0.         0.        ]\n",
            " [0.43333333 0.         0.        ]\n",
            " [0.51666667 0.         0.        ]\n",
            " [0.43333333 0.         0.        ]\n",
            " [0.51666667 0.         0.        ]\n",
            " [0.         0.         0.        ]\n",
            " [0.         0.         0.        ]\n",
            " [0.         0.         0.        ]\n",
            " [0.         0.         0.        ]\n",
            " [0.         0.         0.        ]\n",
            " [0.         0.         0.        ]\n",
            " [0.         0.         0.        ]\n",
            " [0.         0.         0.        ]\n",
            " [0.         0.         0.        ]\n",
            " [0.         0.         0.        ]\n",
            " [0.         0.         0.        ]\n",
            " [0.         0.         0.        ]\n",
            " [0.         0.         0.        ]\n",
            " [0.         0.         0.        ]\n",
            " [0.         0.         0.        ]\n",
            " [0.         0.         0.        ]\n",
            " [0.         0.         0.        ]\n",
            " [0.         0.         0.        ]\n",
            " [0.         0.         0.        ]\n",
            " [0.         0.         0.        ]\n",
            " [0.         0.         0.        ]\n",
            " [0.         0.         0.        ]\n",
            " [0.         0.         0.        ]\n",
            " [0.         0.         0.        ]\n",
            " [0.         0.         0.        ]\n",
            " [0.         0.         0.        ]\n",
            " [0.         0.         0.        ]\n",
            " [0.         0.         0.        ]\n",
            " [0.         0.         0.        ]\n",
            " [0.         0.         0.        ]\n",
            " [0.         0.         0.        ]\n",
            " [0.         0.         0.        ]\n",
            " [0.         0.         0.        ]\n",
            " [0.         0.         0.        ]\n",
            " [0.         0.         0.        ]\n",
            " [0.         0.         0.        ]\n",
            " [0.         0.         0.        ]\n",
            " [0.         0.         0.        ]\n",
            " [0.         0.         0.        ]\n",
            " [0.         0.         0.        ]\n",
            " [0.         0.         0.        ]\n",
            " [0.         0.         0.        ]\n",
            " [0.         0.         0.        ]\n",
            " [0.         0.         0.        ]\n",
            " [0.         0.         0.        ]\n",
            " [0.         0.         0.        ]\n",
            " [0.         0.         0.        ]\n",
            " [0.         0.         0.        ]\n",
            " [0.         0.         0.        ]\n",
            " [0.         0.         0.        ]\n",
            " [0.         0.         0.        ]\n",
            " [0.         0.         0.        ]\n",
            " [0.         0.         0.        ]\n",
            " [0.         0.         0.        ]\n",
            " [0.         0.         0.        ]\n",
            " [0.         0.         0.        ]\n",
            " [0.         0.         0.        ]\n",
            " [0.         0.         0.        ]\n",
            " [0.         0.         0.        ]\n",
            " [0.         0.         0.        ]\n",
            " [0.         0.         0.        ]\n",
            " [0.         0.         0.        ]\n",
            " [0.         0.         0.        ]\n",
            " [0.         0.         0.        ]\n",
            " [0.         0.         0.        ]\n",
            " [0.         0.         0.        ]\n",
            " [0.         0.         0.        ]\n",
            " [0.         0.         0.        ]\n",
            " [0.         0.         0.        ]\n",
            " [0.         0.         0.        ]\n",
            " [0.         0.         0.        ]\n",
            " [0.         0.         0.        ]\n",
            " [0.         0.         0.        ]\n",
            " [0.         0.         0.        ]\n",
            " [0.         0.         0.        ]\n",
            " [0.         0.         0.        ]\n",
            " [0.         0.         0.        ]\n",
            " [0.         0.         0.        ]\n",
            " [0.         0.         0.        ]\n",
            " [0.         0.         0.        ]\n",
            " [0.         0.         0.        ]\n",
            " [0.         0.         0.        ]\n",
            " [0.         0.         0.        ]\n",
            " [0.         0.         0.        ]\n",
            " [0.         0.         0.        ]\n",
            " [0.         0.         0.        ]\n",
            " [0.         0.         0.        ]\n",
            " [0.         0.         0.        ]\n",
            " [0.         0.         0.        ]\n",
            " [0.         0.         0.        ]\n",
            " [0.         0.         0.        ]\n",
            " [0.         0.         0.        ]\n",
            " [0.         0.         0.        ]\n",
            " [0.         0.         0.        ]\n",
            " [0.         0.         0.        ]\n",
            " [0.         0.         0.        ]\n",
            " [0.         0.         0.        ]\n",
            " [0.         0.         0.        ]\n",
            " [0.         0.         0.        ]\n",
            " [0.         0.         0.        ]\n",
            " [0.         0.         0.        ]\n",
            " [0.         0.         0.        ]\n",
            " [0.         0.         0.        ]\n",
            " [0.         0.         0.        ]\n",
            " [0.         0.         0.        ]\n",
            " [0.         0.         0.        ]\n",
            " [0.         0.         0.        ]\n",
            " [0.         0.         0.        ]\n",
            " [0.         0.         0.        ]\n",
            " [0.         0.         0.        ]\n",
            " [0.         0.         0.        ]\n",
            " [0.         0.         0.        ]\n",
            " [0.         0.         0.        ]\n",
            " [0.         0.         0.        ]\n",
            " [0.         0.         0.        ]\n",
            " [0.         0.         0.        ]\n",
            " [0.         0.         0.        ]\n",
            " [0.         0.         0.        ]\n",
            " [0.         0.         0.        ]\n",
            " [0.         0.         0.        ]\n",
            " [0.         0.         0.        ]\n",
            " [0.         0.         0.        ]\n",
            " [0.         0.         0.        ]\n",
            " [0.         0.         0.        ]\n",
            " [0.         0.         0.        ]\n",
            " [0.         0.         0.        ]\n",
            " [0.         0.         0.        ]\n",
            " [0.         0.         0.        ]\n",
            " [0.         0.         0.        ]\n",
            " [0.         0.         0.        ]\n",
            " [0.         0.         0.        ]\n",
            " [0.         0.         0.        ]\n",
            " [0.         0.         0.        ]\n",
            " [0.         0.         0.        ]\n",
            " [0.         0.         0.        ]\n",
            " [0.         0.         0.        ]\n",
            " [0.         0.         0.        ]\n",
            " [0.         0.         0.        ]\n",
            " [0.         0.         0.        ]\n",
            " [0.         0.         0.        ]\n",
            " [0.         0.         0.        ]\n",
            " [0.         0.         0.        ]\n",
            " [0.         0.         0.        ]\n",
            " [0.         0.         0.        ]\n",
            " [0.         0.         0.        ]\n",
            " [0.         0.         0.        ]\n",
            " [0.         0.         0.        ]\n",
            " [0.         0.         0.        ]\n",
            " [0.         0.         0.        ]\n",
            " [0.         0.         0.        ]\n",
            " [0.         0.         0.        ]\n",
            " [0.         0.         0.        ]\n",
            " [0.         0.         0.        ]\n",
            " [0.         0.         0.        ]\n",
            " [0.         0.         0.        ]\n",
            " [0.         0.         0.        ]\n",
            " [0.         0.         0.        ]\n",
            " [0.         0.         0.        ]\n",
            " [0.         0.         0.        ]\n",
            " [0.         0.         0.        ]\n",
            " [0.         0.         0.        ]\n",
            " [0.         0.         0.        ]\n",
            " [0.         0.         0.        ]\n",
            " [0.         0.         0.        ]\n",
            " [0.         0.         0.        ]\n",
            " [0.         0.         0.        ]\n",
            " [0.         0.         0.        ]\n",
            " [0.         0.         0.        ]\n",
            " [0.         0.         0.        ]]\n"
          ]
        }
      ]
    },
    {
      "cell_type": "code",
      "source": [
        "print(ga_train.shape, gf_train.shape)"
      ],
      "metadata": {
        "id": "RirQlRCklpQU",
        "colab": {
          "base_uri": "https://localhost:8080/"
        },
        "outputId": "d011c051-b0aa-4101-d5f2-36057508a2cc"
      },
      "execution_count": 18,
      "outputs": [
        {
          "output_type": "stream",
          "name": "stdout",
          "text": [
            "(80000, 300, 300) (80000, 300, 3)\n"
          ]
        }
      ]
    },
    {
      "cell_type": "markdown",
      "source": [
        "## **Create models functions**"
      ],
      "metadata": {
        "id": "PGlreT0lYxoA"
      }
    },
    {
      "cell_type": "markdown",
      "source": [
        "### **Create URL model using Transformer Neutral Network**"
      ],
      "metadata": {
        "id": "dqY3Fi0LZ8Sx"
      }
    },
    {
      "cell_type": "code",
      "source": [
        "import tensorflow as tf\n",
        "from tensorflow import keras\n",
        "from tensorflow.keras import layers, models"
      ],
      "metadata": {
        "id": "ihcA5_uhsAOP"
      },
      "execution_count": 19,
      "outputs": []
    },
    {
      "cell_type": "code",
      "source": [
        "class TransformerEncoder(layers.Layer):\n",
        "    def __init__(self, embed_dim, num_heads, ff_dim, rate=0.1):\n",
        "        super().__init__()\n",
        "        self.att = layers.MultiHeadAttention(num_heads=num_heads, key_dim=embed_dim)\n",
        "        self.ffn = keras.Sequential(\n",
        "            [layers.Dense(ff_dim, activation=\"relu\"), layers.Dense(embed_dim),]\n",
        "        )\n",
        "        self.layernorm1 = layers.LayerNormalization(epsilon=1e-6)\n",
        "        self.layernorm2 = layers.LayerNormalization(epsilon=1e-6)\n",
        "        self.dropout1 = layers.Dropout(rate)\n",
        "        self.dropout2 = layers.Dropout(rate)\n",
        "\n",
        "    def call(self, inputs):\n",
        "        attn_output = self.att(inputs, inputs)\n",
        "        attn_output = self.dropout1(attn_output)\n",
        "        out1 = self.layernorm1(inputs + attn_output)\n",
        "        ffn_output = self.ffn(out1)\n",
        "        ffn_output = self.dropout2(ffn_output)\n",
        "        return self.layernorm2(out1 + ffn_output)\n",
        "\n",
        "class PositionalEmbedding(layers.Layer):\n",
        "    def __init__(self, maxlen, vocab_size, embed_dim):\n",
        "        super().__init__()\n",
        "        self.token_emb = layers.Embedding(input_dim=vocab_size, output_dim=embed_dim)\n",
        "        self.pos_emb = layers.Embedding(input_dim=maxlen, output_dim=embed_dim)\n",
        "\n",
        "    def call(self, x):\n",
        "        maxlen = tf.shape(x)[-1]\n",
        "        positions = tf.range(start=0, limit=maxlen, delta=1)\n",
        "        positions = self.pos_emb(positions)\n",
        "        x = self.token_emb(x)\n",
        "        return x + positions"
      ],
      "metadata": {
        "id": "WOOgzz51r802"
      },
      "execution_count": 20,
      "outputs": []
    },
    {
      "cell_type": "code",
      "source": [
        "def create_url_model(vocab_size, word_size, embed_dim,\n",
        "                     num_heads, ff_dim, num_transformer_layers):\n",
        "    inputs = keras.Input(shape=(word_size,), dtype=tf.int32)\n",
        "    x = PositionalEmbedding(word_size, vocab_size, embed_dim)(inputs)\n",
        "\n",
        "    for _ in range(num_transformer_layers):\n",
        "        x = TransformerEncoder(embed_dim, num_heads, ff_dim)(x)\n",
        "\n",
        "    x = layers.GlobalAveragePooling1D()(x)\n",
        "    url_model = keras.Model(inputs=inputs, outputs=x)\n",
        "    return url_model"
      ],
      "metadata": {
        "id": "tG7Ie9hb3p-4"
      },
      "execution_count": 21,
      "outputs": []
    },
    {
      "cell_type": "markdown",
      "source": [
        "### **Create HTML model using Graph Convolution Network**"
      ],
      "metadata": {
        "id": "x-vy88oyaJVX"
      }
    },
    {
      "cell_type": "code",
      "source": [
        "!pip install spektral"
      ],
      "metadata": {
        "id": "jv5Yptq1yAJc",
        "colab": {
          "base_uri": "https://localhost:8080/"
        },
        "outputId": "88057094-a298-477a-cad8-0db3be99ecfc"
      },
      "execution_count": 22,
      "outputs": [
        {
          "output_type": "stream",
          "name": "stdout",
          "text": [
            "Collecting spektral\n",
            "  Downloading spektral-1.3.1-py3-none-any.whl.metadata (5.9 kB)\n",
            "Requirement already satisfied: joblib in /usr/local/lib/python3.10/dist-packages (from spektral) (1.4.2)\n",
            "Requirement already satisfied: lxml in /usr/local/lib/python3.10/dist-packages (from spektral) (5.3.0)\n",
            "Requirement already satisfied: networkx in /usr/local/lib/python3.10/dist-packages (from spektral) (3.4)\n",
            "Requirement already satisfied: numpy in /usr/local/lib/python3.10/dist-packages (from spektral) (1.26.4)\n",
            "Requirement already satisfied: pandas in /usr/local/lib/python3.10/dist-packages (from spektral) (2.2.2)\n",
            "Requirement already satisfied: requests in /usr/local/lib/python3.10/dist-packages (from spektral) (2.32.3)\n",
            "Requirement already satisfied: scikit-learn in /usr/local/lib/python3.10/dist-packages (from spektral) (1.5.2)\n",
            "Requirement already satisfied: scipy in /usr/local/lib/python3.10/dist-packages (from spektral) (1.13.1)\n",
            "Requirement already satisfied: tqdm in /usr/local/lib/python3.10/dist-packages (from spektral) (4.66.5)\n",
            "Requirement already satisfied: tensorflow>=2.2.0 in /usr/local/lib/python3.10/dist-packages (from spektral) (2.15.0)\n",
            "Requirement already satisfied: absl-py>=1.0.0 in /usr/local/lib/python3.10/dist-packages (from tensorflow>=2.2.0->spektral) (1.4.0)\n",
            "Requirement already satisfied: astunparse>=1.6.0 in /usr/local/lib/python3.10/dist-packages (from tensorflow>=2.2.0->spektral) (1.6.3)\n",
            "Requirement already satisfied: flatbuffers>=23.5.26 in /usr/local/lib/python3.10/dist-packages (from tensorflow>=2.2.0->spektral) (24.3.25)\n",
            "Requirement already satisfied: gast!=0.5.0,!=0.5.1,!=0.5.2,>=0.2.1 in /usr/local/lib/python3.10/dist-packages (from tensorflow>=2.2.0->spektral) (0.6.0)\n",
            "Requirement already satisfied: google-pasta>=0.1.1 in /usr/local/lib/python3.10/dist-packages (from tensorflow>=2.2.0->spektral) (0.2.0)\n",
            "Requirement already satisfied: h5py>=2.9.0 in /usr/local/lib/python3.10/dist-packages (from tensorflow>=2.2.0->spektral) (3.12.1)\n",
            "Requirement already satisfied: libclang>=13.0.0 in /usr/local/lib/python3.10/dist-packages (from tensorflow>=2.2.0->spektral) (18.1.1)\n",
            "Requirement already satisfied: ml-dtypes~=0.2.0 in /usr/local/lib/python3.10/dist-packages (from tensorflow>=2.2.0->spektral) (0.2.0)\n",
            "Requirement already satisfied: opt-einsum>=2.3.2 in /usr/local/lib/python3.10/dist-packages (from tensorflow>=2.2.0->spektral) (3.4.0)\n",
            "Requirement already satisfied: packaging in /usr/local/lib/python3.10/dist-packages (from tensorflow>=2.2.0->spektral) (24.1)\n",
            "Requirement already satisfied: protobuf!=4.21.0,!=4.21.1,!=4.21.2,!=4.21.3,!=4.21.4,!=4.21.5,<5.0.0dev,>=3.20.3 in /usr/local/lib/python3.10/dist-packages (from tensorflow>=2.2.0->spektral) (3.20.3)\n",
            "Requirement already satisfied: setuptools in /usr/local/lib/python3.10/dist-packages (from tensorflow>=2.2.0->spektral) (71.0.4)\n",
            "Requirement already satisfied: six>=1.12.0 in /usr/local/lib/python3.10/dist-packages (from tensorflow>=2.2.0->spektral) (1.16.0)\n",
            "Requirement already satisfied: termcolor>=1.1.0 in /usr/local/lib/python3.10/dist-packages (from tensorflow>=2.2.0->spektral) (2.5.0)\n",
            "Requirement already satisfied: typing-extensions>=3.6.6 in /usr/local/lib/python3.10/dist-packages (from tensorflow>=2.2.0->spektral) (4.12.2)\n",
            "Requirement already satisfied: wrapt<1.15,>=1.11.0 in /usr/local/lib/python3.10/dist-packages (from tensorflow>=2.2.0->spektral) (1.14.1)\n",
            "Requirement already satisfied: tensorflow-io-gcs-filesystem>=0.23.1 in /usr/local/lib/python3.10/dist-packages (from tensorflow>=2.2.0->spektral) (0.37.1)\n",
            "Requirement already satisfied: grpcio<2.0,>=1.24.3 in /usr/local/lib/python3.10/dist-packages (from tensorflow>=2.2.0->spektral) (1.66.2)\n",
            "Requirement already satisfied: tensorboard<2.16,>=2.15 in /usr/local/lib/python3.10/dist-packages (from tensorflow>=2.2.0->spektral) (2.15.2)\n",
            "Requirement already satisfied: tensorflow-estimator<2.16,>=2.15.0 in /usr/local/lib/python3.10/dist-packages (from tensorflow>=2.2.0->spektral) (2.15.0)\n",
            "Requirement already satisfied: keras<2.16,>=2.15.0 in /usr/local/lib/python3.10/dist-packages (from tensorflow>=2.2.0->spektral) (2.15.0)\n",
            "Requirement already satisfied: python-dateutil>=2.8.2 in /usr/local/lib/python3.10/dist-packages (from pandas->spektral) (2.9.0.post0)\n",
            "Requirement already satisfied: pytz>=2020.1 in /usr/local/lib/python3.10/dist-packages (from pandas->spektral) (2024.2)\n",
            "Requirement already satisfied: tzdata>=2022.7 in /usr/local/lib/python3.10/dist-packages (from pandas->spektral) (2024.2)\n",
            "Requirement already satisfied: charset-normalizer<4,>=2 in /usr/local/lib/python3.10/dist-packages (from requests->spektral) (3.4.0)\n",
            "Requirement already satisfied: idna<4,>=2.5 in /usr/local/lib/python3.10/dist-packages (from requests->spektral) (3.10)\n",
            "Requirement already satisfied: urllib3<3,>=1.21.1 in /usr/local/lib/python3.10/dist-packages (from requests->spektral) (2.2.3)\n",
            "Requirement already satisfied: certifi>=2017.4.17 in /usr/local/lib/python3.10/dist-packages (from requests->spektral) (2024.8.30)\n",
            "Requirement already satisfied: threadpoolctl>=3.1.0 in /usr/local/lib/python3.10/dist-packages (from scikit-learn->spektral) (3.5.0)\n",
            "Requirement already satisfied: wheel<1.0,>=0.23.0 in /usr/local/lib/python3.10/dist-packages (from astunparse>=1.6.0->tensorflow>=2.2.0->spektral) (0.44.0)\n",
            "Requirement already satisfied: google-auth<3,>=1.6.3 in /usr/local/lib/python3.10/dist-packages (from tensorboard<2.16,>=2.15->tensorflow>=2.2.0->spektral) (2.27.0)\n",
            "Requirement already satisfied: google-auth-oauthlib<2,>=0.5 in /usr/local/lib/python3.10/dist-packages (from tensorboard<2.16,>=2.15->tensorflow>=2.2.0->spektral) (1.2.1)\n",
            "Requirement already satisfied: markdown>=2.6.8 in /usr/local/lib/python3.10/dist-packages (from tensorboard<2.16,>=2.15->tensorflow>=2.2.0->spektral) (3.7)\n",
            "Requirement already satisfied: tensorboard-data-server<0.8.0,>=0.7.0 in /usr/local/lib/python3.10/dist-packages (from tensorboard<2.16,>=2.15->tensorflow>=2.2.0->spektral) (0.7.2)\n",
            "Requirement already satisfied: werkzeug>=1.0.1 in /usr/local/lib/python3.10/dist-packages (from tensorboard<2.16,>=2.15->tensorflow>=2.2.0->spektral) (3.0.4)\n",
            "Requirement already satisfied: cachetools<6.0,>=2.0.0 in /usr/local/lib/python3.10/dist-packages (from google-auth<3,>=1.6.3->tensorboard<2.16,>=2.15->tensorflow>=2.2.0->spektral) (5.5.0)\n",
            "Requirement already satisfied: pyasn1-modules>=0.2.1 in /usr/local/lib/python3.10/dist-packages (from google-auth<3,>=1.6.3->tensorboard<2.16,>=2.15->tensorflow>=2.2.0->spektral) (0.4.1)\n",
            "Requirement already satisfied: rsa<5,>=3.1.4 in /usr/local/lib/python3.10/dist-packages (from google-auth<3,>=1.6.3->tensorboard<2.16,>=2.15->tensorflow>=2.2.0->spektral) (4.9)\n",
            "Requirement already satisfied: requests-oauthlib>=0.7.0 in /usr/local/lib/python3.10/dist-packages (from google-auth-oauthlib<2,>=0.5->tensorboard<2.16,>=2.15->tensorflow>=2.2.0->spektral) (2.0.0)\n",
            "Requirement already satisfied: MarkupSafe>=2.1.1 in /usr/local/lib/python3.10/dist-packages (from werkzeug>=1.0.1->tensorboard<2.16,>=2.15->tensorflow>=2.2.0->spektral) (3.0.1)\n",
            "Requirement already satisfied: pyasn1<0.7.0,>=0.4.6 in /usr/local/lib/python3.10/dist-packages (from pyasn1-modules>=0.2.1->google-auth<3,>=1.6.3->tensorboard<2.16,>=2.15->tensorflow>=2.2.0->spektral) (0.6.1)\n",
            "Requirement already satisfied: oauthlib>=3.0.0 in /usr/local/lib/python3.10/dist-packages (from requests-oauthlib>=0.7.0->google-auth-oauthlib<2,>=0.5->tensorboard<2.16,>=2.15->tensorflow>=2.2.0->spektral) (3.2.2)\n",
            "Downloading spektral-1.3.1-py3-none-any.whl (140 kB)\n",
            "\u001b[2K   \u001b[90m━━━━━━━━━━━━━━━━━━━━━━━━━━━━━━━━━━━━━━━━\u001b[0m \u001b[32m140.1/140.1 kB\u001b[0m \u001b[31m2.9 MB/s\u001b[0m eta \u001b[36m0:00:00\u001b[0m\n",
            "\u001b[?25hInstalling collected packages: spektral\n",
            "Successfully installed spektral-1.3.1\n"
          ]
        }
      ]
    },
    {
      "cell_type": "code",
      "source": [
        "from spektral.layers import GCNConv, GlobalSumPool"
      ],
      "metadata": {
        "id": "C_1BZe-Ux7hE"
      },
      "execution_count": 23,
      "outputs": []
    },
    {
      "cell_type": "code",
      "source": [
        "def create_html_model(node_size, feature_dim, gcn_units):\n",
        "    inputs_adj = keras.Input(shape=(node_size, node_size), dtype=tf.float32)\n",
        "    inputs_feat = keras.Input(shape=(node_size, feature_dim), dtype=tf.float32)\n",
        "\n",
        "    gcn_layer = GCNConv(gcn_units, activation='relu')([inputs_feat, inputs_adj])\n",
        "    pooled_output = GlobalSumPool()(gcn_layer)\n",
        "\n",
        "    html_model = keras.Model(inputs=[inputs_adj, inputs_feat], outputs=pooled_output)\n",
        "    return html_model"
      ],
      "metadata": {
        "id": "3t3YPPg6xq_J"
      },
      "execution_count": 24,
      "outputs": []
    },
    {
      "cell_type": "markdown",
      "source": [
        "### **Create full model**"
      ],
      "metadata": {
        "id": "BfJxAiOc4-W3"
      }
    },
    {
      "cell_type": "code",
      "source": [
        "def create_full_model(vocab_size, word_size, embed_dim, num_heads, ff_dim, num_transformer_layers, node_size, feature_dim, gcn_units, mha_units):\n",
        "    # URL Model\n",
        "    url_model = create_url_model(vocab_size, word_size, embed_dim, num_heads, ff_dim, num_transformer_layers)\n",
        "\n",
        "    # HTML Model\n",
        "    html_model = create_html_model(node_size, feature_dim, gcn_units)\n",
        "\n",
        "    # Inputs\n",
        "    url_inputs = keras.Input(shape=(word_size,), dtype=tf.int32)\n",
        "    adj_inputs = keras.Input(shape=(node_size, node_size), dtype=tf.float32)\n",
        "    feat_inputs = keras.Input(shape=(node_size, feature_dim), dtype=tf.float32)\n",
        "\n",
        "    # Outputs from both models\n",
        "    url_output = url_model(url_inputs)  # (None, embed_dim)\n",
        "    html_output = html_model([adj_inputs, feat_inputs])  # (None, gcn_units)\n",
        "\n",
        "    # Concatenate the outputs (both are 2D now)\n",
        "    combined = layers.Concatenate()([url_output, html_output])  # (None, embed_dim + gcn_units)\n",
        "\n",
        "    # MHA Model\n",
        "    mha_output = layers.Dense(mha_units)(combined)  # (None, mha_units)\n",
        "\n",
        "    # Final layers\n",
        "    x = layers.Dense(128, activation='relu')(mha_output)\n",
        "    x = layers.Dropout(0.1)(x)\n",
        "    outputs = layers.Dense(1, activation='sigmoid')(x)\n",
        "\n",
        "    full_model = keras.Model(inputs=[url_inputs, adj_inputs, feat_inputs], outputs=outputs)\n",
        "    return full_model"
      ],
      "metadata": {
        "id": "i0R3UZVa5OEF"
      },
      "execution_count": 27,
      "outputs": []
    },
    {
      "cell_type": "markdown",
      "source": [
        "## **Train model**"
      ],
      "metadata": {
        "id": "GBMOCOvAae_w"
      }
    },
    {
      "cell_type": "code",
      "source": [
        "label_train = np.array(label_train)\n",
        "label_val = np.array(label_val)\n",
        "label_test = np.array(label_test)\n",
        "\n",
        "model = create_full_model(vocab_size=vocab_size,\n",
        "                          word_size=word_size,\n",
        "                          embed_dim=64,\n",
        "                          num_heads=4,\n",
        "                          ff_dim=128,\n",
        "                          num_transformer_layers=2,\n",
        "                          node_size=node_size,\n",
        "                          feature_dim=3,\n",
        "                          gcn_units=64,\n",
        "                          mha_units=64)\n",
        "\n",
        "model.summary()\n",
        "\n",
        "model.compile(optimizer='adam', loss='binary_crossentropy', metrics=['accuracy'])\n",
        "\n",
        "checkpoint_filepath = 'models/best_model.keras'\n",
        "\n",
        "checkpoint_callback = tf.keras.callbacks.ModelCheckpoint(\n",
        "    filepath=checkpoint_filepath,\n",
        "    save_weights_only=False,\n",
        "    monitor='val_loss',\n",
        "    mode='min',\n",
        "    save_best_only=True,\n",
        "    verbose=1\n",
        ")\n",
        "\n",
        "history = model.fit([url_train, ga_train, gf_train], label_train,\n",
        "          validation_data=([url_val, ga_val, gf_val], label_val),\n",
        "          epochs=10, batch_size=128,\n",
        "          callbacks=[checkpoint_callback])"
      ],
      "metadata": {
        "id": "jT0yrsGh0RZU",
        "colab": {
          "base_uri": "https://localhost:8080/"
        },
        "outputId": "ea34e644-0028-45bd-b661-95dbb02186d7"
      },
      "execution_count": 28,
      "outputs": [
        {
          "output_type": "stream",
          "name": "stdout",
          "text": [
            "Model: \"model_5\"\n",
            "__________________________________________________________________________________________________\n",
            " Layer (type)                Output Shape                 Param #   Connected to                  \n",
            "==================================================================================================\n",
            " input_10 (InputLayer)       [(None, 50)]                 0         []                            \n",
            "                                                                                                  \n",
            " input_11 (InputLayer)       [(None, 300, 300)]           0         []                            \n",
            "                                                                                                  \n",
            " input_12 (InputLayer)       [(None, 300, 3)]             0         []                            \n",
            "                                                                                                  \n",
            " model_3 (Functional)        (None, 64)                   809600    ['input_10[0][0]']            \n",
            "                                                                                                  \n",
            " model_4 (Functional)        (None, 64)                   256       ['input_11[0][0]',            \n",
            "                                                                     'input_12[0][0]']            \n",
            "                                                                                                  \n",
            " concatenate_1 (Concatenate  (None, 128)                  0         ['model_3[0][0]',             \n",
            " )                                                                   'model_4[0][0]']             \n",
            "                                                                                                  \n",
            " dense_15 (Dense)            (None, 64)                   8256      ['concatenate_1[0][0]']       \n",
            "                                                                                                  \n",
            " dense_16 (Dense)            (None, 128)                  8320      ['dense_15[0][0]']            \n",
            "                                                                                                  \n",
            " dropout_13 (Dropout)        (None, 128)                  0         ['dense_16[0][0]']            \n",
            "                                                                                                  \n",
            " dense_17 (Dense)            (None, 1)                    129       ['dropout_13[0][0]']          \n",
            "                                                                                                  \n",
            "==================================================================================================\n",
            "Total params: 826561 (3.15 MB)\n",
            "Trainable params: 826561 (3.15 MB)\n",
            "Non-trainable params: 0 (0.00 Byte)\n",
            "__________________________________________________________________________________________________\n",
            "Epoch 1/10\n",
            "625/625 [==============================] - ETA: 0s - loss: 0.7214 - accuracy: 0.4950\n",
            "Epoch 1: val_loss improved from inf to 0.69403, saving model to models/best_model.keras\n",
            "625/625 [==============================] - 86s 131ms/step - loss: 0.7214 - accuracy: 0.4950 - val_loss: 0.6940 - val_accuracy: 0.5000\n",
            "Epoch 2/10\n",
            "625/625 [==============================] - ETA: 0s - loss: 0.6934 - accuracy: 0.4997\n",
            "Epoch 2: val_loss improved from 0.69403 to 0.69323, saving model to models/best_model.keras\n",
            "625/625 [==============================] - 74s 119ms/step - loss: 0.6934 - accuracy: 0.4997 - val_loss: 0.6932 - val_accuracy: 0.5000\n",
            "Epoch 3/10\n",
            "625/625 [==============================] - ETA: 0s - loss: 0.6932 - accuracy: 0.4995\n",
            "Epoch 3: val_loss improved from 0.69323 to 0.69316, saving model to models/best_model.keras\n",
            "625/625 [==============================] - 74s 119ms/step - loss: 0.6932 - accuracy: 0.4995 - val_loss: 0.6932 - val_accuracy: 0.5000\n",
            "Epoch 4/10\n",
            "625/625 [==============================] - ETA: 0s - loss: 0.6932 - accuracy: 0.5013\n",
            "Epoch 4: val_loss did not improve from 0.69316\n",
            "625/625 [==============================] - 74s 118ms/step - loss: 0.6932 - accuracy: 0.5013 - val_loss: 0.6932 - val_accuracy: 0.5000\n",
            "Epoch 5/10\n",
            "625/625 [==============================] - ETA: 0s - loss: 0.6932 - accuracy: 0.5005\n",
            "Epoch 5: val_loss improved from 0.69316 to 0.69316, saving model to models/best_model.keras\n",
            "625/625 [==============================] - 74s 119ms/step - loss: 0.6932 - accuracy: 0.5005 - val_loss: 0.6932 - val_accuracy: 0.5000\n",
            "Epoch 6/10\n",
            "625/625 [==============================] - ETA: 0s - loss: 0.6932 - accuracy: 0.4989\n",
            "Epoch 6: val_loss improved from 0.69316 to 0.69315, saving model to models/best_model.keras\n",
            "625/625 [==============================] - 74s 119ms/step - loss: 0.6932 - accuracy: 0.4989 - val_loss: 0.6931 - val_accuracy: 0.5000\n",
            "Epoch 7/10\n",
            "625/625 [==============================] - ETA: 0s - loss: 0.6932 - accuracy: 0.4980\n",
            "Epoch 7: val_loss did not improve from 0.69315\n",
            "625/625 [==============================] - 74s 118ms/step - loss: 0.6932 - accuracy: 0.4980 - val_loss: 0.6932 - val_accuracy: 0.5000\n",
            "Epoch 8/10\n",
            "625/625 [==============================] - ETA: 0s - loss: 0.6932 - accuracy: 0.4965\n",
            "Epoch 8: val_loss improved from 0.69315 to 0.69315, saving model to models/best_model.keras\n",
            "625/625 [==============================] - 74s 119ms/step - loss: 0.6932 - accuracy: 0.4965 - val_loss: 0.6931 - val_accuracy: 0.5000\n",
            "Epoch 9/10\n",
            "625/625 [==============================] - ETA: 0s - loss: 0.6932 - accuracy: 0.4979\n",
            "Epoch 9: val_loss did not improve from 0.69315\n",
            "625/625 [==============================] - 74s 119ms/step - loss: 0.6932 - accuracy: 0.4979 - val_loss: 0.6932 - val_accuracy: 0.5000\n",
            "Epoch 10/10\n",
            "625/625 [==============================] - ETA: 0s - loss: 0.6932 - accuracy: 0.4971\n",
            "Epoch 10: val_loss improved from 0.69315 to 0.69315, saving model to models/best_model.keras\n",
            "625/625 [==============================] - 74s 119ms/step - loss: 0.6932 - accuracy: 0.4971 - val_loss: 0.6931 - val_accuracy: 0.5000\n"
          ]
        }
      ]
    },
    {
      "cell_type": "code",
      "source": [
        "# Plot history loss\n",
        "plt.figure(figsize=(10, 6))\n",
        "plt.plot(history.history['loss'], label='train loss')\n",
        "plt.plot(history.history['val_loss'], label='val loss')\n",
        "plt.xlabel(\"epoch\")\n",
        "plt.ylabel(\"Cross-entropy loss\")\n",
        "plt.legend()\n",
        "plt.show()\n",
        "\n",
        "# Plot history accuracy\n",
        "plt.figure(figsize=(10, 6))\n",
        "plt.plot(history.history['accuracy'], label='train accuracy')\n",
        "plt.plot(history.history['val_accuracy'], label='val accuracy')\n",
        "plt.xlabel(\"epoch\")\n",
        "plt.ylabel(\"accuracy\")\n",
        "plt.legend()\n",
        "plt.show()"
      ],
      "metadata": {
        "id": "5WB8DRQcijms",
        "colab": {
          "base_uri": "https://localhost:8080/",
          "height": 908
        },
        "outputId": "42819f06-3ed9-4993-a4fa-8077d386734c"
      },
      "execution_count": 29,
      "outputs": [
        {
          "output_type": "display_data",
          "data": {
            "text/plain": [
              "<Figure size 1000x600 with 1 Axes>"
            ],
            "image/png": "[encoded data removed]"
          },
          "metadata": {}
        },
        {
          "output_type": "display_data",
          "data": {
            "text/plain": [
              "<Figure size 1000x600 with 1 Axes>"
            ],
            "image/png": "[encoded data removed]"
          },
          "metadata": {}
        }
      ]
    }
  ]
}